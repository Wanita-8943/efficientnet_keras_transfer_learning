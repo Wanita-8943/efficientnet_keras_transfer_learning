{
  "nbformat": 4,
  "nbformat_minor": 0,
  "metadata": {
    "colab": {
      "provenance": [],
      "include_colab_link": true
    },
    "kernelspec": {
      "name": "python3",
      "display_name": "Python 3"
    },
    "language_info": {
      "name": "python"
    }
  },
  "cells": [
    {
      "cell_type": "markdown",
      "metadata": {
        "id": "view-in-github",
        "colab_type": "text"
      },
      "source": [
        "<a href=\"https://colab.research.google.com/github/Wanita-8943/efficientnet_keras_transfer_learning/blob/master/3_3_%E0%B8%A3%E0%B8%AD%E0%B8%9A%E0%B8%97%E0%B8%B5%E0%B9%883_Gender_100.ipynb\" target=\"_parent\"><img src=\"https://colab.research.google.com/assets/colab-badge.svg\" alt=\"Open In Colab\"/></a>"
      ]
    },
    {
      "cell_type": "code",
      "execution_count": 1,
      "metadata": {
        "id": "KKSs7cyoPHcD"
      },
      "outputs": [],
      "source": [
        "import pandas as pd\n",
        "import shutil"
      ]
    },
    {
      "cell_type": "code",
      "source": [
        "from google.colab import drive\n",
        "drive.mount('/content/drive')"
      ],
      "metadata": {
        "colab": {
          "base_uri": "https://localhost:8080/"
        },
        "id": "Klm1B91QlvKd",
        "outputId": "47ed748b-2580-40a8-db46-4d776f10f2ee"
      },
      "execution_count": 2,
      "outputs": [
        {
          "output_type": "stream",
          "name": "stdout",
          "text": [
            "Drive already mounted at /content/drive; to attempt to forcibly remount, call drive.mount(\"/content/drive\", force_remount=True).\n"
          ]
        }
      ]
    },
    {
      "cell_type": "code",
      "source": [
        "from tensorflow.keras import models\n",
        "from tensorflow.keras import layers\n",
        "from tensorflow.keras import optimizers\n",
        "import os\n",
        "import glob\n",
        "import shutil\n",
        "import sys\n",
        "import numpy as np\n",
        "from skimage.io import imread\n",
        "import matplotlib.pyplot as plt\n",
        "from IPython.display import Image\n",
        "%matplotlib inline"
      ],
      "metadata": {
        "id": "1pX9g1HxPM2f"
      },
      "execution_count": 3,
      "outputs": []
    },
    {
      "cell_type": "code",
      "source": [
        "batch_size = 16\n",
        "width = 150\n",
        "height = 150\n",
        "epochs = 100\n",
        "NUM_TRAIN = 2850\n",
        "NUM_TEST = 950\n",
        "dropout_rate = 0.2\n",
        "input_shape = (height, width, 3)"
      ],
      "metadata": {
        "id": "eSFtvGyvPM6O"
      },
      "execution_count": 4,
      "outputs": []
    },
    {
      "cell_type": "code",
      "source": [
        "#ดึงข้อมูลใน Github มาใช้\n",
        "import os\n",
        "%cd /content\n",
        "if not os.path.isdir(\"efficientnet_keras_transfer_learning\"):\n",
        " !git clone https://github.com/Wanita-8943/efficientnet_keras_transfer_learning\n",
        "%cd efficientnet_keras_transfer_learning/"
      ],
      "metadata": {
        "colab": {
          "base_uri": "https://localhost:8080/"
        },
        "id": "lb4K4CsMPNAW",
        "outputId": "f6e55e7d-1e72-462b-ec1e-22cba468adb9"
      },
      "execution_count": 5,
      "outputs": [
        {
          "output_type": "stream",
          "name": "stdout",
          "text": [
            "/content\n",
            "/content/efficientnet_keras_transfer_learning\n"
          ]
        }
      ]
    },
    {
      "cell_type": "code",
      "source": [
        "# Options: EfficientNetB0, EfficientNetB1, EfficientNetB2, EfficientNetB3\n",
        "# Higher the number, the more complex the model is.\n",
        "from efficientnet import EfficientNetB0 as Net\n",
        "from efficientnet import center_crop_and_resize, preprocess_input"
      ],
      "metadata": {
        "id": "eyBg0dLKPND3"
      },
      "execution_count": 6,
      "outputs": []
    },
    {
      "cell_type": "code",
      "source": [
        "base_dir = '/content/drive/MyDrive/TVT_Gender'\n",
        "os.makedirs(base_dir, exist_ok=True)\n",
        "\n",
        "# Directories for our training,\n",
        "# validation and test splits\n",
        "train_dir = os.path.join(base_dir, 'train')\n",
        "os.makedirs(train_dir, exist_ok=True)\n",
        "validation_dir = os.path.join(base_dir, 'validation')\n",
        "os.makedirs(validation_dir, exist_ok=True)\n",
        "test_dir = os.path.join(base_dir, 'test')\n",
        "os.makedirs(test_dir, exist_ok=True)"
      ],
      "metadata": {
        "id": "Jwpq_-KvPef8"
      },
      "execution_count": 7,
      "outputs": []
    },
    {
      "cell_type": "markdown",
      "source": [
        "#load model"
      ],
      "metadata": {
        "id": "od-ZSNm5PoGy"
      }
    },
    {
      "cell_type": "code",
      "source": [
        "import sys\n",
        "sys.path.append('/content/drive/MyDrive/cut_panoramic/Model/2.2_รอบที่2_Gender_100.h5')\n",
        "\n",
        "from efficientnet.layers import Swish, DropConnect\n",
        "from efficientnet.model import ConvKernalInitializer\n",
        "from tensorflow.keras.utils import get_custom_objects\n",
        "\n",
        "get_custom_objects().update({\n",
        "    'ConvKernalInitializer': ConvKernalInitializer,\n",
        "    'Swish': Swish,\n",
        "    'DropConnect':DropConnect\n",
        "})"
      ],
      "metadata": {
        "id": "n5iPL5MNPkhE"
      },
      "execution_count": 8,
      "outputs": []
    },
    {
      "cell_type": "code",
      "source": [
        "#load model \n",
        "from tensorflow.keras.models import load_model\n",
        "model = load_model('/content/drive/MyDrive/cut_panoramic/Model/2.2_รอบที่2_Gender_100.h5')\n",
        "height = width = model.input_shape[1]"
      ],
      "metadata": {
        "id": "plYz49xMPkly"
      },
      "execution_count": 9,
      "outputs": []
    },
    {
      "cell_type": "code",
      "source": [
        "model.summary()"
      ],
      "metadata": {
        "colab": {
          "base_uri": "https://localhost:8080/"
        },
        "id": "z6IOPBflFbvc",
        "outputId": "4ecee846-2971-43b9-8609-eea7042d0fef"
      },
      "execution_count": 10,
      "outputs": [
        {
          "output_type": "stream",
          "name": "stdout",
          "text": [
            "Model: \"sequential\"\n",
            "_________________________________________________________________\n",
            " Layer (type)                Output Shape              Param #   \n",
            "=================================================================\n",
            " efficientnet-b0 (Functional  (None, 5, 5, 1280)       4049564   \n",
            " )                                                               \n",
            "                                                                 \n",
            " gap (GlobalMaxPooling2D)    (None, 1280)              0         \n",
            "                                                                 \n",
            " dropout_out (Dropout)       (None, 1280)              0         \n",
            "                                                                 \n",
            " fc_out (Dense)              (None, 2)                 2562      \n",
            "                                                                 \n",
            "=================================================================\n",
            "Total params: 4,052,126\n",
            "Trainable params: 2,562\n",
            "Non-trainable params: 4,049,564\n",
            "_________________________________________________________________\n"
          ]
        }
      ]
    },
    {
      "cell_type": "code",
      "source": [
        "# Train ด้วย ImageDataGenerator ของ Keras ซึ่งจะเพิ่มข้อมูลเสริมระหว่างการฝึกเพื่อลดโอกาสเกิด overfitting\n",
        "#overfitting เกิดจากข้อมูลที่ซับซ้อนกันเกินไป\n",
        "from tensorflow.keras.preprocessing.image import ImageDataGenerator\n",
        "\n",
        "train_datagen = ImageDataGenerator(\n",
        "      rescale=1./255, #โมเดลส่วนใหญ่ต้องใช้ RGB ในช่วง 0–1\n",
        "      rotation_range=40,\n",
        "      width_shift_range=0.2,\n",
        "      height_shift_range=0.2,\n",
        "      shear_range=0.2,\n",
        "      zoom_range=0.2,\n",
        "      horizontal_flip=True,\n",
        "      fill_mode='nearest')\n",
        "\n",
        "# Note that the validation data should not be augmented!\n",
        "test_datagen = ImageDataGenerator(rescale=1./255)\n",
        "\n",
        "train_generator = train_datagen.flow_from_directory(\n",
        "        # This is the target directory #ไดเรกเป้าหมาย\n",
        "        train_dir,\n",
        "        # รูปภาพทั้งหมดจะถูกปรับขนาดตามความสูงและความกว้างของเป้าหมาย\n",
        "        target_size=(height, width),\n",
        "        batch_size=batch_size,\n",
        "        # Since we use categorical_crossentropy loss, we need categorical labels\n",
        "        #เนื่องจากเราใช้ categorical_crossentropy loss เราจึงต้องมีป้ายกำกับตามหมวดหมู่\n",
        "        class_mode='categorical')\n",
        "\n",
        "validation_generator = test_datagen.flow_from_directory( #การดึงภาพจาก Directory มาเข้าโมเดล \n",
        "        validation_dir,\n",
        "        target_size=(height, width),\n",
        "        batch_size=batch_size,\n",
        "        class_mode='categorical')"
      ],
      "metadata": {
        "colab": {
          "base_uri": "https://localhost:8080/"
        },
        "id": "KBMZbdr2Pgw4",
        "outputId": "b75ba563-02eb-41a4-e533-7df561409fe1"
      },
      "execution_count": 11,
      "outputs": [
        {
          "output_type": "stream",
          "name": "stdout",
          "text": [
            "Found 2850 images belonging to 2 classes.\n",
            "Found 950 images belonging to 2 classes.\n"
          ]
        }
      ]
    },
    {
      "cell_type": "code",
      "source": [
        "history = model.fit_generator(\n",
        "      train_generator,\n",
        "      steps_per_epoch= NUM_TRAIN //batch_size,\n",
        "      epochs=epochs,\n",
        "      validation_data=validation_generator,\n",
        "      validation_steps= NUM_TEST //batch_size,\n",
        "      verbose=1,\n",
        "      use_multiprocessing=True,\n",
        "      workers=4)"
      ],
      "metadata": {
        "colab": {
          "base_uri": "https://localhost:8080/"
        },
        "id": "C9Cf1dwyP1PD",
        "outputId": "b3fa1f76-a2ac-470f-e383-e5f626e7e4f8"
      },
      "execution_count": 12,
      "outputs": [
        {
          "output_type": "stream",
          "name": "stderr",
          "text": [
            "<ipython-input-12-caa7b37242a8>:1: UserWarning: `Model.fit_generator` is deprecated and will be removed in a future version. Please use `Model.fit`, which supports generators.\n",
            "  history = model.fit_generator(\n"
          ]
        },
        {
          "output_type": "stream",
          "name": "stdout",
          "text": [
            "Epoch 1/100\n",
            "178/178 [==============================] - 121s 652ms/step - loss: 0.6384 - acc: 0.6493 - val_loss: 0.5760 - val_acc: 0.6949\n",
            "Epoch 2/100\n",
            "178/178 [==============================] - 86s 475ms/step - loss: 0.6303 - acc: 0.6574 - val_loss: 0.5910 - val_acc: 0.6801\n",
            "Epoch 3/100\n",
            "178/178 [==============================] - 85s 474ms/step - loss: 0.6149 - acc: 0.6718 - val_loss: 0.5597 - val_acc: 0.7172\n",
            "Epoch 4/100\n",
            "178/178 [==============================] - 85s 474ms/step - loss: 0.6332 - acc: 0.6521 - val_loss: 0.5685 - val_acc: 0.7076\n",
            "Epoch 5/100\n",
            "178/178 [==============================] - 87s 485ms/step - loss: 0.6295 - acc: 0.6468 - val_loss: 0.5654 - val_acc: 0.7076\n",
            "Epoch 6/100\n",
            "178/178 [==============================] - 88s 490ms/step - loss: 0.6202 - acc: 0.6563 - val_loss: 0.5534 - val_acc: 0.7214\n",
            "Epoch 7/100\n",
            "178/178 [==============================] - 88s 487ms/step - loss: 0.6176 - acc: 0.6623 - val_loss: 0.5757 - val_acc: 0.7013\n",
            "Epoch 8/100\n",
            "178/178 [==============================] - 88s 489ms/step - loss: 0.6295 - acc: 0.6581 - val_loss: 0.5699 - val_acc: 0.7013\n",
            "Epoch 9/100\n",
            "178/178 [==============================] - 88s 490ms/step - loss: 0.6251 - acc: 0.6535 - val_loss: 0.5639 - val_acc: 0.7076\n",
            "Epoch 10/100\n",
            "178/178 [==============================] - 92s 509ms/step - loss: 0.6282 - acc: 0.6591 - val_loss: 0.5749 - val_acc: 0.7002\n",
            "Epoch 11/100\n",
            "178/178 [==============================] - 90s 499ms/step - loss: 0.6222 - acc: 0.6609 - val_loss: 0.5679 - val_acc: 0.7076\n",
            "Epoch 12/100\n",
            "178/178 [==============================] - 88s 490ms/step - loss: 0.6341 - acc: 0.6524 - val_loss: 0.5779 - val_acc: 0.6949\n",
            "Epoch 13/100\n",
            "178/178 [==============================] - 89s 492ms/step - loss: 0.6137 - acc: 0.6577 - val_loss: 0.5916 - val_acc: 0.6780\n",
            "Epoch 14/100\n",
            "178/178 [==============================] - 88s 491ms/step - loss: 0.6143 - acc: 0.6662 - val_loss: 0.5762 - val_acc: 0.6939\n",
            "Epoch 15/100\n",
            "178/178 [==============================] - 89s 492ms/step - loss: 0.5994 - acc: 0.6824 - val_loss: 0.5709 - val_acc: 0.7034\n",
            "Epoch 16/100\n",
            "178/178 [==============================] - 87s 486ms/step - loss: 0.6160 - acc: 0.6687 - val_loss: 0.5821 - val_acc: 0.6811\n",
            "Epoch 17/100\n",
            "178/178 [==============================] - 88s 488ms/step - loss: 0.6129 - acc: 0.6673 - val_loss: 0.5997 - val_acc: 0.6727\n",
            "Epoch 18/100\n",
            "178/178 [==============================] - 88s 491ms/step - loss: 0.6190 - acc: 0.6662 - val_loss: 0.5741 - val_acc: 0.7013\n",
            "Epoch 19/100\n",
            "178/178 [==============================] - 88s 489ms/step - loss: 0.6176 - acc: 0.6630 - val_loss: 0.5548 - val_acc: 0.7203\n",
            "Epoch 20/100\n",
            "178/178 [==============================] - 89s 492ms/step - loss: 0.6377 - acc: 0.6553 - val_loss: 0.5771 - val_acc: 0.6939\n",
            "Epoch 21/100\n",
            "178/178 [==============================] - 88s 491ms/step - loss: 0.6241 - acc: 0.6637 - val_loss: 0.6125 - val_acc: 0.6653\n",
            "Epoch 22/100\n",
            "178/178 [==============================] - 88s 491ms/step - loss: 0.6173 - acc: 0.6648 - val_loss: 0.5918 - val_acc: 0.6758\n",
            "Epoch 23/100\n",
            "178/178 [==============================] - 88s 489ms/step - loss: 0.6359 - acc: 0.6486 - val_loss: 0.5728 - val_acc: 0.7066\n",
            "Epoch 24/100\n",
            "178/178 [==============================] - 88s 488ms/step - loss: 0.6279 - acc: 0.6687 - val_loss: 0.5814 - val_acc: 0.6843\n",
            "Epoch 25/100\n",
            "178/178 [==============================] - 88s 489ms/step - loss: 0.6144 - acc: 0.6602 - val_loss: 0.5761 - val_acc: 0.6970\n",
            "Epoch 26/100\n",
            "178/178 [==============================] - 88s 491ms/step - loss: 0.6174 - acc: 0.6630 - val_loss: 0.5649 - val_acc: 0.7097\n",
            "Epoch 27/100\n",
            "178/178 [==============================] - 88s 490ms/step - loss: 0.6089 - acc: 0.6718 - val_loss: 0.5725 - val_acc: 0.7013\n",
            "Epoch 28/100\n",
            "178/178 [==============================] - 88s 489ms/step - loss: 0.6177 - acc: 0.6704 - val_loss: 0.5876 - val_acc: 0.6822\n",
            "Epoch 29/100\n",
            "178/178 [==============================] - 89s 494ms/step - loss: 0.6118 - acc: 0.6637 - val_loss: 0.5697 - val_acc: 0.7023\n",
            "Epoch 30/100\n",
            "178/178 [==============================] - 88s 490ms/step - loss: 0.6268 - acc: 0.6482 - val_loss: 0.5743 - val_acc: 0.6992\n",
            "Epoch 31/100\n",
            "178/178 [==============================] - 88s 489ms/step - loss: 0.6245 - acc: 0.6482 - val_loss: 0.6138 - val_acc: 0.6621\n",
            "Epoch 32/100\n",
            "178/178 [==============================] - 88s 489ms/step - loss: 0.6135 - acc: 0.6620 - val_loss: 0.5577 - val_acc: 0.7108\n",
            "Epoch 33/100\n",
            "178/178 [==============================] - 89s 491ms/step - loss: 0.6027 - acc: 0.6807 - val_loss: 0.6098 - val_acc: 0.6642\n",
            "Epoch 34/100\n",
            "178/178 [==============================] - 88s 490ms/step - loss: 0.5976 - acc: 0.6768 - val_loss: 0.5729 - val_acc: 0.7013\n",
            "Epoch 35/100\n",
            "178/178 [==============================] - 88s 488ms/step - loss: 0.6207 - acc: 0.6588 - val_loss: 0.5884 - val_acc: 0.6811\n",
            "Epoch 36/100\n",
            "178/178 [==============================] - 88s 488ms/step - loss: 0.6098 - acc: 0.6793 - val_loss: 0.5810 - val_acc: 0.6843\n",
            "Epoch 37/100\n",
            "178/178 [==============================] - 88s 486ms/step - loss: 0.6250 - acc: 0.6531 - val_loss: 0.5750 - val_acc: 0.6949\n",
            "Epoch 38/100\n",
            "178/178 [==============================] - 89s 493ms/step - loss: 0.6311 - acc: 0.6563 - val_loss: 0.5645 - val_acc: 0.7161\n",
            "Epoch 39/100\n",
            "178/178 [==============================] - 90s 497ms/step - loss: 0.6104 - acc: 0.6648 - val_loss: 0.5680 - val_acc: 0.7108\n",
            "Epoch 40/100\n",
            "178/178 [==============================] - 89s 494ms/step - loss: 0.6189 - acc: 0.6644 - val_loss: 0.5870 - val_acc: 0.6790\n",
            "Epoch 41/100\n",
            "178/178 [==============================] - 89s 496ms/step - loss: 0.6151 - acc: 0.6665 - val_loss: 0.5592 - val_acc: 0.7172\n",
            "Epoch 42/100\n",
            "178/178 [==============================] - 88s 490ms/step - loss: 0.6225 - acc: 0.6574 - val_loss: 0.5718 - val_acc: 0.7044\n",
            "Epoch 43/100\n",
            "178/178 [==============================] - 90s 498ms/step - loss: 0.6188 - acc: 0.6697 - val_loss: 0.5684 - val_acc: 0.7161\n",
            "Epoch 44/100\n",
            "178/178 [==============================] - 89s 496ms/step - loss: 0.6321 - acc: 0.6482 - val_loss: 0.5675 - val_acc: 0.7097\n",
            "Epoch 45/100\n",
            "178/178 [==============================] - 89s 493ms/step - loss: 0.6165 - acc: 0.6606 - val_loss: 0.5948 - val_acc: 0.6790\n",
            "Epoch 46/100\n",
            "178/178 [==============================] - 90s 498ms/step - loss: 0.6108 - acc: 0.6750 - val_loss: 0.5615 - val_acc: 0.7161\n",
            "Epoch 47/100\n",
            "178/178 [==============================] - 89s 494ms/step - loss: 0.6119 - acc: 0.6655 - val_loss: 0.5596 - val_acc: 0.7119\n",
            "Epoch 48/100\n",
            "178/178 [==============================] - 90s 499ms/step - loss: 0.6154 - acc: 0.6771 - val_loss: 0.5708 - val_acc: 0.7108\n",
            "Epoch 49/100\n",
            "178/178 [==============================] - 89s 494ms/step - loss: 0.6260 - acc: 0.6553 - val_loss: 0.5637 - val_acc: 0.7119\n",
            "Epoch 50/100\n",
            "178/178 [==============================] - 89s 495ms/step - loss: 0.6120 - acc: 0.6634 - val_loss: 0.5863 - val_acc: 0.6833\n",
            "Epoch 51/100\n",
            "178/178 [==============================] - 89s 495ms/step - loss: 0.6245 - acc: 0.6620 - val_loss: 0.5831 - val_acc: 0.6854\n",
            "Epoch 52/100\n",
            "178/178 [==============================] - 90s 498ms/step - loss: 0.6017 - acc: 0.6715 - val_loss: 0.5755 - val_acc: 0.7023\n",
            "Epoch 53/100\n",
            "178/178 [==============================] - 90s 498ms/step - loss: 0.6190 - acc: 0.6616 - val_loss: 0.5640 - val_acc: 0.7161\n",
            "Epoch 54/100\n",
            "178/178 [==============================] - 89s 495ms/step - loss: 0.6070 - acc: 0.6665 - val_loss: 0.5718 - val_acc: 0.7023\n",
            "Epoch 55/100\n",
            "178/178 [==============================] - 89s 496ms/step - loss: 0.6054 - acc: 0.6835 - val_loss: 0.5692 - val_acc: 0.7076\n",
            "Epoch 56/100\n",
            "178/178 [==============================] - 89s 497ms/step - loss: 0.6166 - acc: 0.6616 - val_loss: 0.5678 - val_acc: 0.7055\n",
            "Epoch 57/100\n",
            "178/178 [==============================] - 89s 497ms/step - loss: 0.6203 - acc: 0.6581 - val_loss: 0.5507 - val_acc: 0.7150\n",
            "Epoch 58/100\n",
            "178/178 [==============================] - 89s 495ms/step - loss: 0.6074 - acc: 0.6725 - val_loss: 0.5936 - val_acc: 0.6769\n",
            "Epoch 59/100\n",
            "178/178 [==============================] - 89s 496ms/step - loss: 0.6203 - acc: 0.6591 - val_loss: 0.5649 - val_acc: 0.7108\n",
            "Epoch 60/100\n",
            "178/178 [==============================] - 89s 492ms/step - loss: 0.6135 - acc: 0.6662 - val_loss: 0.5597 - val_acc: 0.7161\n",
            "Epoch 61/100\n",
            "178/178 [==============================] - 89s 496ms/step - loss: 0.6116 - acc: 0.6658 - val_loss: 0.5656 - val_acc: 0.7119\n",
            "Epoch 62/100\n",
            "178/178 [==============================] - 90s 498ms/step - loss: 0.6038 - acc: 0.6757 - val_loss: 0.5763 - val_acc: 0.6960\n",
            "Epoch 63/100\n",
            "178/178 [==============================] - 89s 493ms/step - loss: 0.6042 - acc: 0.6680 - val_loss: 0.5706 - val_acc: 0.7076\n",
            "Epoch 64/100\n",
            "178/178 [==============================] - 89s 493ms/step - loss: 0.6043 - acc: 0.6771 - val_loss: 0.5773 - val_acc: 0.6981\n",
            "Epoch 65/100\n",
            "178/178 [==============================] - 89s 497ms/step - loss: 0.5978 - acc: 0.6835 - val_loss: 0.5703 - val_acc: 0.7066\n",
            "Epoch 66/100\n",
            "178/178 [==============================] - 90s 499ms/step - loss: 0.6174 - acc: 0.6553 - val_loss: 0.5824 - val_acc: 0.6928\n",
            "Epoch 67/100\n",
            "178/178 [==============================] - 90s 502ms/step - loss: 0.6101 - acc: 0.6715 - val_loss: 0.5640 - val_acc: 0.7076\n",
            "Epoch 68/100\n",
            "178/178 [==============================] - 90s 498ms/step - loss: 0.6133 - acc: 0.6694 - val_loss: 0.5863 - val_acc: 0.6864\n",
            "Epoch 69/100\n",
            "178/178 [==============================] - 90s 501ms/step - loss: 0.6192 - acc: 0.6567 - val_loss: 0.5589 - val_acc: 0.7108\n",
            "Epoch 70/100\n",
            "178/178 [==============================] - 89s 496ms/step - loss: 0.6078 - acc: 0.6733 - val_loss: 0.5568 - val_acc: 0.7076\n",
            "Epoch 71/100\n",
            "178/178 [==============================] - 91s 506ms/step - loss: 0.6035 - acc: 0.6676 - val_loss: 0.5715 - val_acc: 0.7002\n",
            "Epoch 72/100\n",
            "178/178 [==============================] - 91s 506ms/step - loss: 0.6184 - acc: 0.6609 - val_loss: 0.5736 - val_acc: 0.6981\n",
            "Epoch 73/100\n",
            "178/178 [==============================] - 90s 502ms/step - loss: 0.6127 - acc: 0.6687 - val_loss: 0.5831 - val_acc: 0.6917\n",
            "Epoch 74/100\n",
            "178/178 [==============================] - 90s 502ms/step - loss: 0.6085 - acc: 0.6740 - val_loss: 0.6035 - val_acc: 0.6716\n",
            "Epoch 75/100\n",
            "178/178 [==============================] - 91s 503ms/step - loss: 0.6097 - acc: 0.6609 - val_loss: 0.5764 - val_acc: 0.7023\n",
            "Epoch 76/100\n",
            "178/178 [==============================] - 91s 508ms/step - loss: 0.6043 - acc: 0.6740 - val_loss: 0.5814 - val_acc: 0.6949\n",
            "Epoch 77/100\n",
            "178/178 [==============================] - 91s 505ms/step - loss: 0.6082 - acc: 0.6651 - val_loss: 0.5710 - val_acc: 0.7097\n",
            "Epoch 78/100\n",
            "178/178 [==============================] - 90s 502ms/step - loss: 0.6050 - acc: 0.6764 - val_loss: 0.5902 - val_acc: 0.6780\n",
            "Epoch 79/100\n",
            "178/178 [==============================] - 90s 501ms/step - loss: 0.6071 - acc: 0.6704 - val_loss: 0.5658 - val_acc: 0.7108\n",
            "Epoch 80/100\n",
            "178/178 [==============================] - 90s 498ms/step - loss: 0.6097 - acc: 0.6729 - val_loss: 0.5763 - val_acc: 0.7002\n",
            "Epoch 81/100\n",
            "178/178 [==============================] - 90s 501ms/step - loss: 0.6030 - acc: 0.6718 - val_loss: 0.5754 - val_acc: 0.6981\n",
            "Epoch 82/100\n",
            "178/178 [==============================] - 91s 504ms/step - loss: 0.6097 - acc: 0.6630 - val_loss: 0.5745 - val_acc: 0.7013\n",
            "Epoch 83/100\n",
            "178/178 [==============================] - 90s 503ms/step - loss: 0.5943 - acc: 0.6881 - val_loss: 0.5730 - val_acc: 0.6992\n",
            "Epoch 84/100\n",
            "178/178 [==============================] - 90s 501ms/step - loss: 0.6117 - acc: 0.6673 - val_loss: 0.5785 - val_acc: 0.6992\n",
            "Epoch 85/100\n",
            "178/178 [==============================] - 91s 503ms/step - loss: 0.6084 - acc: 0.6725 - val_loss: 0.5634 - val_acc: 0.7076\n",
            "Epoch 86/100\n",
            "178/178 [==============================] - 91s 506ms/step - loss: 0.6119 - acc: 0.6680 - val_loss: 0.5941 - val_acc: 0.6801\n",
            "Epoch 87/100\n",
            "178/178 [==============================] - 91s 505ms/step - loss: 0.6134 - acc: 0.6581 - val_loss: 0.5585 - val_acc: 0.7097\n",
            "Epoch 88/100\n",
            "178/178 [==============================] - 90s 502ms/step - loss: 0.6078 - acc: 0.6676 - val_loss: 0.5588 - val_acc: 0.7119\n",
            "Epoch 89/100\n",
            "178/178 [==============================] - 90s 499ms/step - loss: 0.6109 - acc: 0.6648 - val_loss: 0.5624 - val_acc: 0.7087\n",
            "Epoch 90/100\n",
            "178/178 [==============================] - 90s 502ms/step - loss: 0.6200 - acc: 0.6560 - val_loss: 0.5743 - val_acc: 0.7013\n",
            "Epoch 91/100\n",
            "178/178 [==============================] - 91s 504ms/step - loss: 0.5898 - acc: 0.6923 - val_loss: 0.5812 - val_acc: 0.6917\n",
            "Epoch 92/100\n",
            "178/178 [==============================] - 91s 503ms/step - loss: 0.6069 - acc: 0.6606 - val_loss: 0.5948 - val_acc: 0.6822\n",
            "Epoch 93/100\n",
            "178/178 [==============================] - 90s 501ms/step - loss: 0.6199 - acc: 0.6658 - val_loss: 0.5747 - val_acc: 0.6992\n",
            "Epoch 94/100\n",
            "178/178 [==============================] - 90s 500ms/step - loss: 0.6144 - acc: 0.6630 - val_loss: 0.5776 - val_acc: 0.6970\n",
            "Epoch 95/100\n",
            "178/178 [==============================] - 90s 500ms/step - loss: 0.6045 - acc: 0.6669 - val_loss: 0.5533 - val_acc: 0.7172\n",
            "Epoch 96/100\n",
            "178/178 [==============================] - 90s 497ms/step - loss: 0.6016 - acc: 0.6740 - val_loss: 0.5693 - val_acc: 0.7076\n",
            "Epoch 97/100\n",
            "178/178 [==============================] - 90s 499ms/step - loss: 0.6098 - acc: 0.6665 - val_loss: 0.5928 - val_acc: 0.6811\n",
            "Epoch 98/100\n",
            "178/178 [==============================] - 90s 501ms/step - loss: 0.6123 - acc: 0.6722 - val_loss: 0.5950 - val_acc: 0.6780\n",
            "Epoch 99/100\n",
            "178/178 [==============================] - 91s 505ms/step - loss: 0.6036 - acc: 0.6750 - val_loss: 0.5583 - val_acc: 0.7140\n",
            "Epoch 100/100\n",
            "178/178 [==============================] - 90s 502ms/step - loss: 0.6074 - acc: 0.6775 - val_loss: 0.5908 - val_acc: 0.6854\n"
          ]
        }
      ]
    },
    {
      "cell_type": "code",
      "source": [
        "acc = history.history['acc']\n",
        "val_acc = history.history['val_acc']\n",
        "loss = history.history['loss']\n",
        "val_loss = history.history['val_loss']\n",
        "\n",
        "epochs_x = range(len(acc))\n",
        "\n",
        "plt.plot(epochs_x, acc, 'go', label='Training acc')\n",
        "plt.plot(epochs_x, val_acc, 'k', label='Validation acc')\n",
        "plt.title('Training and validation accuracy')\n",
        "plt.legend()\n",
        "\n",
        "plt.figure()\n",
        "\n",
        "plt.plot(epochs_x, loss, 'go', label='Training loss')\n",
        "plt.plot(epochs_x, val_loss, 'k', label='Validation loss')\n",
        "plt.title('Training and validation loss')\n",
        "plt.legend()\n",
        "\n",
        "plt.show()"
      ],
      "metadata": {
        "id": "kwylTJpTP5XI",
        "colab": {
          "base_uri": "https://localhost:8080/",
          "height": 545
        },
        "outputId": "e09306ad-3d01-43d4-9b34-24c0ba8242cc"
      },
      "execution_count": 13,
      "outputs": [
        {
          "output_type": "display_data",
          "data": {
            "text/plain": [
              "<Figure size 432x288 with 1 Axes>"
            ],
            "image/png": "[encoded data removed]"
          },
          "metadata": {
            "needs_background": "light"
          }
        },
        {
          "output_type": "display_data",
          "data": {
            "text/plain": [
              "<Figure size 432x288 with 1 Axes>"
            ],
            "image/png": "[encoded data removed]"
          },
          "metadata": {
            "needs_background": "light"
          }
        }
      ]
    },
    {
      "cell_type": "markdown",
      "source": [
        "#Download the model"
      ],
      "metadata": {
        "id": "lD-vKaoHQAFd"
      }
    },
    {
      "cell_type": "code",
      "source": [
        "os.makedirs('/content/drive/My Drive/cut_panoramic/Model', exist_ok=True)\n",
        "model.save('/content/drive/My Drive/cut_panoramic/Model/3.3_รอบที่3_Gender_100.h5')"
      ],
      "metadata": {
        "id": "74dL7-HLP_Sh"
      },
      "execution_count": 14,
      "outputs": []
    },
    {
      "cell_type": "code",
      "source": [
        "from google.colab import files\n",
        "files.download('/content/drive/My Drive/cut_panoramic/Model/3.3_รอบที่3_Gender_100.h5')"
      ],
      "metadata": {
        "id": "qcPW-brHQDpc",
        "colab": {
          "base_uri": "https://localhost:8080/",
          "height": 17
        },
        "outputId": "921f2c5b-0430-49e4-8492-81991b6f0c02"
      },
      "execution_count": 15,
      "outputs": [
        {
          "output_type": "display_data",
          "data": {
            "text/plain": [
              "<IPython.core.display.Javascript object>"
            ],
            "application/javascript": [
              "\n",
              "    async function download(id, filename, size) {\n",
              "      if (!google.colab.kernel.accessAllowed) {\n",
              "        return;\n",
              "      }\n",
              "      const div = document.createElement('div');\n",
              "      const label = document.createElement('label');\n",
              "      label.textContent = `Downloading \"${filename}\": `;\n",
              "      div.appendChild(label);\n",
              "      const progress = document.createElement('progress');\n",
              "      progress.max = size;\n",
              "      div.appendChild(progress);\n",
              "      document.body.appendChild(div);\n",
              "\n",
              "      const buffers = [];\n",
              "      let downloaded = 0;\n",
              "\n",
              "      const channel = await google.colab.kernel.comms.open(id);\n",
              "      // Send a message to notify the kernel that we're ready.\n",
              "      channel.send({})\n",
              "\n",
              "      for await (const message of channel.messages) {\n",
              "        // Send a message to notify the kernel that we're ready.\n",
              "        channel.send({})\n",
              "        if (message.buffers) {\n",
              "          for (const buffer of message.buffers) {\n",
              "            buffers.push(buffer);\n",
              "            downloaded += buffer.byteLength;\n",
              "            progress.value = downloaded;\n",
              "          }\n",
              "        }\n",
              "      }\n",
              "      const blob = new Blob(buffers, {type: 'application/binary'});\n",
              "      const a = document.createElement('a');\n",
              "      a.href = window.URL.createObjectURL(blob);\n",
              "      a.download = filename;\n",
              "      div.appendChild(a);\n",
              "      a.click();\n",
              "      div.remove();\n",
              "    }\n",
              "  "
            ]
          },
          "metadata": {}
        },
        {
          "output_type": "display_data",
          "data": {
            "text/plain": [
              "<IPython.core.display.Javascript object>"
            ],
            "application/javascript": [
              "download(\"download_e1801573-9672-47ac-abc1-acfd43493fc8\", \"3.3_\\u0e23\\u0e2d\\u0e1a\\u0e17\\u0e35\\u0e483_Gender_100.h5\", 16604304)"
            ]
          },
          "metadata": {}
        }
      ]
    },
    {
      "cell_type": "code",
      "source": [],
      "metadata": {
        "id": "r5WoXVo8mVpF"
      },
      "execution_count": 15,
      "outputs": []
    }
  ]
}