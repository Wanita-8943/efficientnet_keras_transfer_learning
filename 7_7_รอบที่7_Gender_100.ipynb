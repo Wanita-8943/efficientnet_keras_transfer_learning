{
  "nbformat": 4,
  "nbformat_minor": 0,
  "metadata": {
    "colab": {
      "provenance": [],
      "include_colab_link": true
    },
    "kernelspec": {
      "name": "python3",
      "display_name": "Python 3"
    },
    "language_info": {
      "name": "python"
    }
  },
  "cells": [
    {
      "cell_type": "markdown",
      "metadata": {
        "id": "view-in-github",
        "colab_type": "text"
      },
      "source": [
        "<a href=\"https://colab.research.google.com/github/Wanita-8943/efficientnet_keras_transfer_learning/blob/master/7_7_%E0%B8%A3%E0%B8%AD%E0%B8%9A%E0%B8%97%E0%B8%B5%E0%B9%887_Gender_100.ipynb\" target=\"_parent\"><img src=\"https://colab.research.google.com/assets/colab-badge.svg\" alt=\"Open In Colab\"/></a>"
      ]
    },
    {
      "cell_type": "code",
      "execution_count": 1,
      "metadata": {
        "id": "KKSs7cyoPHcD"
      },
      "outputs": [],
      "source": [
        "import pandas as pd\n",
        "import shutil"
      ]
    },
    {
      "cell_type": "code",
      "source": [
        "from google.colab import drive\n",
        "drive.mount('/content/drive')"
      ],
      "metadata": {
        "colab": {
          "base_uri": "https://localhost:8080/"
        },
        "id": "Klm1B91QlvKd",
        "outputId": "baaaa8e8-a370-42f5-890a-400e29611a5c"
      },
      "execution_count": 2,
      "outputs": [
        {
          "output_type": "stream",
          "name": "stdout",
          "text": [
            "Mounted at /content/drive\n"
          ]
        }
      ]
    },
    {
      "cell_type": "code",
      "source": [
        "from tensorflow.keras import models\n",
        "from tensorflow.keras import layers\n",
        "from tensorflow.keras import optimizers\n",
        "import os\n",
        "import glob\n",
        "import shutil\n",
        "import sys\n",
        "import numpy as np\n",
        "from skimage.io import imread\n",
        "import matplotlib.pyplot as plt\n",
        "from IPython.display import Image\n",
        "%matplotlib inline"
      ],
      "metadata": {
        "id": "1pX9g1HxPM2f"
      },
      "execution_count": 3,
      "outputs": []
    },
    {
      "cell_type": "code",
      "source": [
        "batch_size = 16\n",
        "width = 150\n",
        "height = 150\n",
        "epochs = 100\n",
        "NUM_TRAIN = 2850\n",
        "NUM_TEST = 950\n",
        "dropout_rate = 0.2\n",
        "input_shape = (height, width, 3)"
      ],
      "metadata": {
        "id": "eSFtvGyvPM6O"
      },
      "execution_count": 4,
      "outputs": []
    },
    {
      "cell_type": "code",
      "source": [
        "#ดึงข้อมูลใน Github มาใช้\n",
        "import os\n",
        "%cd /content\n",
        "if not os.path.isdir(\"efficientnet_keras_transfer_learning\"):\n",
        " !git clone https://github.com/Wanita-8943/efficientnet_keras_transfer_learning\n",
        "%cd efficientnet_keras_transfer_learning/"
      ],
      "metadata": {
        "colab": {
          "base_uri": "https://localhost:8080/"
        },
        "id": "lb4K4CsMPNAW",
        "outputId": "bdb6aa3e-76d7-46d9-acef-0bde18a94ff3"
      },
      "execution_count": 5,
      "outputs": [
        {
          "output_type": "stream",
          "name": "stdout",
          "text": [
            "/content\n",
            "Cloning into 'efficientnet_keras_transfer_learning'...\n",
            "remote: Enumerating objects: 606, done.\u001b[K\n",
            "remote: Counting objects: 100% (128/128), done.\u001b[K\n",
            "remote: Compressing objects: 100% (25/25), done.\u001b[K\n",
            "remote: Total 606 (delta 115), reused 103 (delta 103), pack-reused 478\u001b[K\n",
            "Receiving objects: 100% (606/606), 11.37 MiB | 15.88 MiB/s, done.\n",
            "Resolving deltas: 100% (355/355), done.\n",
            "/content/efficientnet_keras_transfer_learning\n"
          ]
        }
      ]
    },
    {
      "cell_type": "code",
      "source": [
        "# Options: EfficientNetB0, EfficientNetB1, EfficientNetB2, EfficientNetB3\n",
        "# Higher the number, the more complex the model is.\n",
        "from efficientnet import EfficientNetB0 as Net\n",
        "from efficientnet import center_crop_and_resize, preprocess_input"
      ],
      "metadata": {
        "id": "eyBg0dLKPND3"
      },
      "execution_count": 6,
      "outputs": []
    },
    {
      "cell_type": "code",
      "source": [
        "base_dir = '/content/drive/MyDrive/TVT_Gender'\n",
        "os.makedirs(base_dir, exist_ok=True)\n",
        "\n",
        "# Directories for our training,\n",
        "# validation and test splits\n",
        "train_dir = os.path.join(base_dir, 'train')\n",
        "os.makedirs(train_dir, exist_ok=True)\n",
        "validation_dir = os.path.join(base_dir, 'validation')\n",
        "os.makedirs(validation_dir, exist_ok=True)\n",
        "test_dir = os.path.join(base_dir, 'test')\n",
        "os.makedirs(test_dir, exist_ok=True)"
      ],
      "metadata": {
        "id": "Jwpq_-KvPef8"
      },
      "execution_count": 7,
      "outputs": []
    },
    {
      "cell_type": "markdown",
      "source": [
        "#load model"
      ],
      "metadata": {
        "id": "od-ZSNm5PoGy"
      }
    },
    {
      "cell_type": "code",
      "source": [
        "import sys\n",
        "sys.path.append('/content/drive/MyDrive/cut_panoramic/Model/6.6_รอบที่6_Gender_100.h5')\n",
        "\n",
        "from efficientnet.layers import Swish, DropConnect\n",
        "from efficientnet.model import ConvKernalInitializer\n",
        "from tensorflow.keras.utils import get_custom_objects\n",
        "\n",
        "get_custom_objects().update({\n",
        "    'ConvKernalInitializer': ConvKernalInitializer,\n",
        "    'Swish': Swish,\n",
        "    'DropConnect':DropConnect\n",
        "})"
      ],
      "metadata": {
        "id": "n5iPL5MNPkhE"
      },
      "execution_count": 8,
      "outputs": []
    },
    {
      "cell_type": "code",
      "source": [
        "#load model \n",
        "from tensorflow.keras.models import load_model\n",
        "model = load_model('/content/drive/MyDrive/cut_panoramic/Model/6.6_รอบที่6_Gender_100.h5')\n",
        "height = width = model.input_shape[1]"
      ],
      "metadata": {
        "id": "plYz49xMPkly"
      },
      "execution_count": 9,
      "outputs": []
    },
    {
      "cell_type": "code",
      "source": [
        "model.summary()"
      ],
      "metadata": {
        "colab": {
          "base_uri": "https://localhost:8080/"
        },
        "id": "z6IOPBflFbvc",
        "outputId": "4b61d703-e393-466d-bc68-05bb718c7ad1"
      },
      "execution_count": 10,
      "outputs": [
        {
          "output_type": "stream",
          "name": "stdout",
          "text": [
            "Model: \"sequential\"\n",
            "_________________________________________________________________\n",
            " Layer (type)                Output Shape              Param #   \n",
            "=================================================================\n",
            " efficientnet-b0 (Functional  (None, 5, 5, 1280)       4049564   \n",
            " )                                                               \n",
            "                                                                 \n",
            " gap (GlobalMaxPooling2D)    (None, 1280)              0         \n",
            "                                                                 \n",
            " dropout_out (Dropout)       (None, 1280)              0         \n",
            "                                                                 \n",
            " fc_out (Dense)              (None, 2)                 2562      \n",
            "                                                                 \n",
            "=================================================================\n",
            "Total params: 4,052,126\n",
            "Trainable params: 2,562\n",
            "Non-trainable params: 4,049,564\n",
            "_________________________________________________________________\n"
          ]
        }
      ]
    },
    {
      "cell_type": "code",
      "source": [
        "# Train ด้วย ImageDataGenerator ของ Keras ซึ่งจะเพิ่มข้อมูลเสริมระหว่างการฝึกเพื่อลดโอกาสเกิด overfitting\n",
        "#overfitting เกิดจากข้อมูลที่ซับซ้อนกันเกินไป\n",
        "from tensorflow.keras.preprocessing.image import ImageDataGenerator\n",
        "\n",
        "train_datagen = ImageDataGenerator(\n",
        "      rescale=1./255, #โมเดลส่วนใหญ่ต้องใช้ RGB ในช่วง 0–1\n",
        "      rotation_range=40,\n",
        "      width_shift_range=0.2,\n",
        "      height_shift_range=0.2,\n",
        "      shear_range=0.2,\n",
        "      zoom_range=0.2,\n",
        "      horizontal_flip=True,\n",
        "      fill_mode='nearest')\n",
        "\n",
        "# Note that the validation data should not be augmented!\n",
        "test_datagen = ImageDataGenerator(rescale=1./255)\n",
        "\n",
        "train_generator = train_datagen.flow_from_directory(\n",
        "        # This is the target directory #ไดเรกเป้าหมาย\n",
        "        train_dir,\n",
        "        # รูปภาพทั้งหมดจะถูกปรับขนาดตามความสูงและความกว้างของเป้าหมาย\n",
        "        target_size=(height, width),\n",
        "        batch_size=batch_size,\n",
        "        # Since we use categorical_crossentropy loss, we need categorical labels\n",
        "        #เนื่องจากเราใช้ categorical_crossentropy loss เราจึงต้องมีป้ายกำกับตามหมวดหมู่\n",
        "        class_mode='categorical')\n",
        "\n",
        "validation_generator = test_datagen.flow_from_directory( #การดึงภาพจาก Directory มาเข้าโมเดล \n",
        "        validation_dir,\n",
        "        target_size=(height, width),\n",
        "        batch_size=batch_size,\n",
        "        class_mode='categorical')"
      ],
      "metadata": {
        "colab": {
          "base_uri": "https://localhost:8080/"
        },
        "id": "KBMZbdr2Pgw4",
        "outputId": "8532e6b8-2974-4be2-d4da-7cb68d839ef5"
      },
      "execution_count": 11,
      "outputs": [
        {
          "output_type": "stream",
          "name": "stdout",
          "text": [
            "Found 2850 images belonging to 2 classes.\n",
            "Found 950 images belonging to 2 classes.\n"
          ]
        }
      ]
    },
    {
      "cell_type": "code",
      "source": [
        "history = model.fit_generator(\n",
        "      train_generator,\n",
        "      steps_per_epoch= NUM_TRAIN //batch_size,\n",
        "      epochs=epochs,\n",
        "      validation_data=validation_generator,\n",
        "      validation_steps= NUM_TEST //batch_size,\n",
        "      verbose=1,\n",
        "      use_multiprocessing=True,\n",
        "      workers=4)"
      ],
      "metadata": {
        "colab": {
          "base_uri": "https://localhost:8080/"
        },
        "id": "C9Cf1dwyP1PD",
        "outputId": "8c15bdb7-d15d-4ad6-83d1-6fb0a4f3dfb4"
      },
      "execution_count": 12,
      "outputs": [
        {
          "output_type": "stream",
          "name": "stderr",
          "text": [
            "<ipython-input-12-caa7b37242a8>:1: UserWarning: `Model.fit_generator` is deprecated and will be removed in a future version. Please use `Model.fit`, which supports generators.\n",
            "  history = model.fit_generator(\n"
          ]
        },
        {
          "output_type": "stream",
          "name": "stdout",
          "text": [
            "Epoch 1/100\n",
            "178/178 [==============================] - 252s 1s/step - loss: 0.5886 - acc: 0.6874 - val_loss: 0.5429 - val_acc: 0.7214\n",
            "Epoch 2/100\n",
            "178/178 [==============================] - 144s 799ms/step - loss: 0.5872 - acc: 0.6927 - val_loss: 0.5553 - val_acc: 0.7034\n",
            "Epoch 3/100\n",
            "178/178 [==============================] - 151s 824ms/step - loss: 0.5919 - acc: 0.6927 - val_loss: 0.5524 - val_acc: 0.7076\n",
            "Epoch 4/100\n",
            "178/178 [==============================] - 149s 826ms/step - loss: 0.5837 - acc: 0.6888 - val_loss: 0.5797 - val_acc: 0.7023\n",
            "Epoch 5/100\n",
            "178/178 [==============================] - 149s 824ms/step - loss: 0.5986 - acc: 0.6817 - val_loss: 0.5617 - val_acc: 0.7076\n",
            "Epoch 6/100\n",
            "178/178 [==============================] - 161s 897ms/step - loss: 0.5950 - acc: 0.6828 - val_loss: 0.5552 - val_acc: 0.7087\n",
            "Epoch 7/100\n",
            "178/178 [==============================] - 148s 822ms/step - loss: 0.6018 - acc: 0.6708 - val_loss: 0.5813 - val_acc: 0.7034\n",
            "Epoch 8/100\n",
            "178/178 [==============================] - 150s 833ms/step - loss: 0.6031 - acc: 0.6648 - val_loss: 0.5494 - val_acc: 0.7129\n",
            "Epoch 9/100\n",
            "178/178 [==============================] - 149s 827ms/step - loss: 0.6023 - acc: 0.6778 - val_loss: 0.5601 - val_acc: 0.7066\n",
            "Epoch 10/100\n",
            "178/178 [==============================] - 147s 816ms/step - loss: 0.5926 - acc: 0.6831 - val_loss: 0.5459 - val_acc: 0.7161\n",
            "Epoch 11/100\n",
            "178/178 [==============================] - 147s 813ms/step - loss: 0.5936 - acc: 0.6803 - val_loss: 0.5446 - val_acc: 0.7150\n",
            "Epoch 12/100\n",
            "178/178 [==============================] - 147s 814ms/step - loss: 0.6024 - acc: 0.6747 - val_loss: 0.5669 - val_acc: 0.7044\n",
            "Epoch 13/100\n",
            "178/178 [==============================] - 150s 834ms/step - loss: 0.5925 - acc: 0.6828 - val_loss: 0.5497 - val_acc: 0.7087\n",
            "Epoch 14/100\n",
            "178/178 [==============================] - 145s 803ms/step - loss: 0.5924 - acc: 0.6948 - val_loss: 0.5478 - val_acc: 0.7108\n",
            "Epoch 15/100\n",
            "178/178 [==============================] - 147s 815ms/step - loss: 0.5925 - acc: 0.6810 - val_loss: 0.5634 - val_acc: 0.7066\n",
            "Epoch 16/100\n",
            "178/178 [==============================] - 146s 812ms/step - loss: 0.5840 - acc: 0.6905 - val_loss: 0.5437 - val_acc: 0.7172\n",
            "Epoch 17/100\n",
            "178/178 [==============================] - 148s 819ms/step - loss: 0.5984 - acc: 0.6860 - val_loss: 0.5712 - val_acc: 0.7034\n",
            "Epoch 18/100\n",
            "178/178 [==============================] - 150s 831ms/step - loss: 0.5971 - acc: 0.6842 - val_loss: 0.5826 - val_acc: 0.7013\n",
            "Epoch 19/100\n",
            "178/178 [==============================] - 146s 808ms/step - loss: 0.5933 - acc: 0.6782 - val_loss: 0.5649 - val_acc: 0.7087\n",
            "Epoch 20/100\n",
            "178/178 [==============================] - 147s 816ms/step - loss: 0.5920 - acc: 0.6941 - val_loss: 0.5486 - val_acc: 0.7140\n",
            "Epoch 21/100\n",
            "178/178 [==============================] - 148s 822ms/step - loss: 0.5976 - acc: 0.6853 - val_loss: 0.5632 - val_acc: 0.7055\n",
            "Epoch 22/100\n",
            "178/178 [==============================] - 146s 809ms/step - loss: 0.5907 - acc: 0.6920 - val_loss: 0.5602 - val_acc: 0.7097\n",
            "Epoch 23/100\n",
            "178/178 [==============================] - 146s 807ms/step - loss: 0.5931 - acc: 0.6877 - val_loss: 0.5686 - val_acc: 0.7055\n",
            "Epoch 24/100\n",
            "178/178 [==============================] - 146s 810ms/step - loss: 0.6052 - acc: 0.6764 - val_loss: 0.5682 - val_acc: 0.7044\n",
            "Epoch 25/100\n",
            "178/178 [==============================] - 147s 814ms/step - loss: 0.5863 - acc: 0.6898 - val_loss: 0.5584 - val_acc: 0.7129\n",
            "Epoch 26/100\n",
            "178/178 [==============================] - 146s 807ms/step - loss: 0.5921 - acc: 0.6965 - val_loss: 0.5540 - val_acc: 0.7140\n",
            "Epoch 27/100\n",
            "178/178 [==============================] - 145s 807ms/step - loss: 0.5894 - acc: 0.6856 - val_loss: 0.5764 - val_acc: 0.7013\n",
            "Epoch 28/100\n",
            "178/178 [==============================] - 148s 820ms/step - loss: 0.6008 - acc: 0.6821 - val_loss: 0.5669 - val_acc: 0.7066\n",
            "Epoch 29/100\n",
            "178/178 [==============================] - 144s 799ms/step - loss: 0.5831 - acc: 0.6934 - val_loss: 0.5433 - val_acc: 0.7203\n",
            "Epoch 30/100\n",
            "178/178 [==============================] - 145s 804ms/step - loss: 0.5855 - acc: 0.6934 - val_loss: 0.5390 - val_acc: 0.7193\n",
            "Epoch 31/100\n",
            "178/178 [==============================] - 145s 804ms/step - loss: 0.5973 - acc: 0.6842 - val_loss: 0.5443 - val_acc: 0.7150\n",
            "Epoch 32/100\n",
            "178/178 [==============================] - 144s 800ms/step - loss: 0.6018 - acc: 0.6916 - val_loss: 0.5392 - val_acc: 0.7225\n",
            "Epoch 33/100\n",
            "178/178 [==============================] - 145s 804ms/step - loss: 0.5923 - acc: 0.6863 - val_loss: 0.5418 - val_acc: 0.7172\n",
            "Epoch 34/100\n",
            "178/178 [==============================] - 148s 824ms/step - loss: 0.5985 - acc: 0.6902 - val_loss: 0.5524 - val_acc: 0.7066\n",
            "Epoch 35/100\n",
            "178/178 [==============================] - 145s 805ms/step - loss: 0.5987 - acc: 0.6761 - val_loss: 0.5487 - val_acc: 0.7108\n",
            "Epoch 36/100\n",
            "178/178 [==============================] - 147s 814ms/step - loss: 0.5995 - acc: 0.6722 - val_loss: 0.5680 - val_acc: 0.7044\n",
            "Epoch 37/100\n",
            "178/178 [==============================] - 146s 807ms/step - loss: 0.5895 - acc: 0.6902 - val_loss: 0.5508 - val_acc: 0.7108\n",
            "Epoch 38/100\n",
            "178/178 [==============================] - 146s 811ms/step - loss: 0.5987 - acc: 0.6761 - val_loss: 0.5606 - val_acc: 0.7119\n",
            "Epoch 39/100\n",
            "178/178 [==============================] - 150s 833ms/step - loss: 0.5934 - acc: 0.6800 - val_loss: 0.5860 - val_acc: 0.7013\n",
            "Epoch 40/100\n",
            "178/178 [==============================] - 151s 837ms/step - loss: 0.5887 - acc: 0.6870 - val_loss: 0.6104 - val_acc: 0.6674\n",
            "Epoch 41/100\n",
            "178/178 [==============================] - 149s 829ms/step - loss: 0.6006 - acc: 0.6863 - val_loss: 0.5748 - val_acc: 0.7044\n",
            "Epoch 42/100\n",
            "178/178 [==============================] - 148s 823ms/step - loss: 0.5867 - acc: 0.6990 - val_loss: 0.5720 - val_acc: 0.7055\n",
            "Epoch 43/100\n",
            "178/178 [==============================] - 146s 811ms/step - loss: 0.5919 - acc: 0.6701 - val_loss: 0.5889 - val_acc: 0.6949\n",
            "Epoch 44/100\n",
            "178/178 [==============================] - 147s 817ms/step - loss: 0.6063 - acc: 0.6778 - val_loss: 0.5695 - val_acc: 0.7044\n",
            "Epoch 45/100\n",
            "178/178 [==============================] - 148s 820ms/step - loss: 0.5989 - acc: 0.6785 - val_loss: 0.5564 - val_acc: 0.7119\n",
            "Epoch 46/100\n",
            "178/178 [==============================] - 149s 824ms/step - loss: 0.5894 - acc: 0.6845 - val_loss: 0.5582 - val_acc: 0.7119\n",
            "Epoch 47/100\n",
            "178/178 [==============================] - 149s 824ms/step - loss: 0.6043 - acc: 0.6658 - val_loss: 0.5506 - val_acc: 0.7129\n",
            "Epoch 48/100\n",
            "178/178 [==============================] - 145s 805ms/step - loss: 0.6077 - acc: 0.6708 - val_loss: 0.5399 - val_acc: 0.7161\n",
            "Epoch 49/100\n",
            "178/178 [==============================] - 148s 818ms/step - loss: 0.6014 - acc: 0.6800 - val_loss: 0.5423 - val_acc: 0.7140\n",
            "Epoch 50/100\n",
            "178/178 [==============================] - 149s 830ms/step - loss: 0.5817 - acc: 0.6941 - val_loss: 0.5456 - val_acc: 0.7097\n",
            "Epoch 51/100\n",
            "178/178 [==============================] - 150s 835ms/step - loss: 0.5978 - acc: 0.6715 - val_loss: 0.5377 - val_acc: 0.7288\n",
            "Epoch 52/100\n",
            "178/178 [==============================] - 150s 832ms/step - loss: 0.5920 - acc: 0.6842 - val_loss: 0.5606 - val_acc: 0.7129\n",
            "Epoch 53/100\n",
            "178/178 [==============================] - 149s 831ms/step - loss: 0.5993 - acc: 0.6740 - val_loss: 0.5569 - val_acc: 0.7140\n",
            "Epoch 54/100\n",
            "178/178 [==============================] - 148s 821ms/step - loss: 0.5959 - acc: 0.6845 - val_loss: 0.5340 - val_acc: 0.7299\n",
            "Epoch 55/100\n",
            "178/178 [==============================] - 149s 828ms/step - loss: 0.5935 - acc: 0.6920 - val_loss: 0.5359 - val_acc: 0.7288\n",
            "Epoch 56/100\n",
            "178/178 [==============================] - 150s 830ms/step - loss: 0.5969 - acc: 0.6888 - val_loss: 0.5481 - val_acc: 0.7097\n",
            "Epoch 57/100\n",
            "178/178 [==============================] - 149s 827ms/step - loss: 0.5993 - acc: 0.6821 - val_loss: 0.5623 - val_acc: 0.7097\n",
            "Epoch 58/100\n",
            "178/178 [==============================] - 148s 823ms/step - loss: 0.5957 - acc: 0.6796 - val_loss: 0.5468 - val_acc: 0.7097\n",
            "Epoch 59/100\n",
            "178/178 [==============================] - 146s 810ms/step - loss: 0.5922 - acc: 0.6870 - val_loss: 0.5393 - val_acc: 0.7193\n",
            "Epoch 60/100\n",
            "178/178 [==============================] - 149s 824ms/step - loss: 0.5940 - acc: 0.6782 - val_loss: 0.5531 - val_acc: 0.7108\n",
            "Epoch 61/100\n",
            "178/178 [==============================] - 150s 831ms/step - loss: 0.5940 - acc: 0.6835 - val_loss: 0.5487 - val_acc: 0.7119\n",
            "Epoch 62/100\n",
            "178/178 [==============================] - 149s 828ms/step - loss: 0.5929 - acc: 0.6958 - val_loss: 0.5406 - val_acc: 0.7161\n",
            "Epoch 63/100\n",
            "178/178 [==============================] - 152s 843ms/step - loss: 0.5980 - acc: 0.6824 - val_loss: 0.5755 - val_acc: 0.7055\n",
            "Epoch 64/100\n",
            "178/178 [==============================] - 152s 842ms/step - loss: 0.5843 - acc: 0.6810 - val_loss: 0.5617 - val_acc: 0.7119\n",
            "Epoch 65/100\n",
            "178/178 [==============================] - 153s 849ms/step - loss: 0.5860 - acc: 0.6888 - val_loss: 0.5553 - val_acc: 0.7087\n",
            "Epoch 66/100\n",
            "178/178 [==============================] - 152s 842ms/step - loss: 0.6021 - acc: 0.6782 - val_loss: 0.5481 - val_acc: 0.7140\n",
            "Epoch 67/100\n",
            "178/178 [==============================] - 160s 889ms/step - loss: 0.5915 - acc: 0.6849 - val_loss: 0.5467 - val_acc: 0.7182\n",
            "Epoch 68/100\n",
            "178/178 [==============================] - 154s 855ms/step - loss: 0.5886 - acc: 0.6838 - val_loss: 0.5522 - val_acc: 0.7108\n",
            "Epoch 69/100\n",
            "178/178 [==============================] - 157s 868ms/step - loss: 0.5916 - acc: 0.6822 - val_loss: 0.5631 - val_acc: 0.7087\n",
            "Epoch 70/100\n",
            "178/178 [==============================] - 153s 853ms/step - loss: 0.6102 - acc: 0.6648 - val_loss: 0.5710 - val_acc: 0.7129\n",
            "Epoch 71/100\n",
            "178/178 [==============================] - 151s 838ms/step - loss: 0.6012 - acc: 0.6863 - val_loss: 0.5904 - val_acc: 0.6917\n",
            "Epoch 72/100\n",
            "178/178 [==============================] - 152s 840ms/step - loss: 0.5888 - acc: 0.6821 - val_loss: 0.5414 - val_acc: 0.7129\n",
            "Epoch 73/100\n",
            "178/178 [==============================] - 152s 842ms/step - loss: 0.5919 - acc: 0.6821 - val_loss: 0.5393 - val_acc: 0.7214\n",
            "Epoch 74/100\n",
            "178/178 [==============================] - 154s 856ms/step - loss: 0.5754 - acc: 0.6962 - val_loss: 0.5438 - val_acc: 0.7150\n",
            "Epoch 75/100\n",
            "178/178 [==============================] - 162s 899ms/step - loss: 0.5995 - acc: 0.6824 - val_loss: 0.5413 - val_acc: 0.7161\n",
            "Epoch 76/100\n",
            "178/178 [==============================] - 156s 867ms/step - loss: 0.5884 - acc: 0.6920 - val_loss: 0.5463 - val_acc: 0.7203\n",
            "Epoch 77/100\n",
            "178/178 [==============================] - 158s 876ms/step - loss: 0.5956 - acc: 0.6821 - val_loss: 0.5429 - val_acc: 0.7203\n",
            "Epoch 78/100\n",
            "178/178 [==============================] - 165s 916ms/step - loss: 0.5851 - acc: 0.6920 - val_loss: 0.5427 - val_acc: 0.7182\n",
            "Epoch 79/100\n",
            "178/178 [==============================] - 162s 900ms/step - loss: 0.5900 - acc: 0.6948 - val_loss: 0.5458 - val_acc: 0.7193\n",
            "Epoch 80/100\n",
            "178/178 [==============================] - 158s 879ms/step - loss: 0.6050 - acc: 0.6743 - val_loss: 0.5384 - val_acc: 0.7203\n",
            "Epoch 81/100\n",
            "178/178 [==============================] - 157s 870ms/step - loss: 0.5945 - acc: 0.6835 - val_loss: 0.5454 - val_acc: 0.7161\n",
            "Epoch 82/100\n",
            "178/178 [==============================] - 154s 855ms/step - loss: 0.5945 - acc: 0.6863 - val_loss: 0.5335 - val_acc: 0.7362\n",
            "Epoch 83/100\n",
            "178/178 [==============================] - 154s 855ms/step - loss: 0.5895 - acc: 0.6863 - val_loss: 0.5489 - val_acc: 0.7161\n",
            "Epoch 84/100\n",
            "178/178 [==============================] - 155s 861ms/step - loss: 0.5998 - acc: 0.6740 - val_loss: 0.5551 - val_acc: 0.7097\n",
            "Epoch 85/100\n",
            "178/178 [==============================] - 154s 852ms/step - loss: 0.5872 - acc: 0.6898 - val_loss: 0.5332 - val_acc: 0.7288\n",
            "Epoch 86/100\n",
            "178/178 [==============================] - 157s 869ms/step - loss: 0.5919 - acc: 0.6771 - val_loss: 0.5314 - val_acc: 0.7341\n",
            "Epoch 87/100\n",
            "178/178 [==============================] - 157s 871ms/step - loss: 0.6097 - acc: 0.6722 - val_loss: 0.5304 - val_acc: 0.7320\n",
            "Epoch 88/100\n",
            "178/178 [==============================] - 156s 865ms/step - loss: 0.5849 - acc: 0.6951 - val_loss: 0.5478 - val_acc: 0.7161\n",
            "Epoch 89/100\n",
            "178/178 [==============================] - 155s 859ms/step - loss: 0.6093 - acc: 0.6687 - val_loss: 0.5353 - val_acc: 0.7256\n",
            "Epoch 90/100\n",
            "178/178 [==============================] - 155s 858ms/step - loss: 0.5809 - acc: 0.7029 - val_loss: 0.5374 - val_acc: 0.7225\n",
            "Epoch 91/100\n",
            "178/178 [==============================] - 154s 854ms/step - loss: 0.5887 - acc: 0.6874 - val_loss: 0.5312 - val_acc: 0.7288\n",
            "Epoch 92/100\n",
            "178/178 [==============================] - 153s 849ms/step - loss: 0.5952 - acc: 0.6860 - val_loss: 0.5380 - val_acc: 0.7214\n",
            "Epoch 93/100\n",
            "178/178 [==============================] - 156s 864ms/step - loss: 0.5947 - acc: 0.6912 - val_loss: 0.5280 - val_acc: 0.7373\n",
            "Epoch 94/100\n",
            "178/178 [==============================] - 157s 869ms/step - loss: 0.5944 - acc: 0.6814 - val_loss: 0.5318 - val_acc: 0.7320\n",
            "Epoch 95/100\n",
            "178/178 [==============================] - 159s 880ms/step - loss: 0.6017 - acc: 0.6715 - val_loss: 0.5333 - val_acc: 0.7320\n",
            "Epoch 96/100\n",
            "178/178 [==============================] - 156s 865ms/step - loss: 0.5892 - acc: 0.6856 - val_loss: 0.5511 - val_acc: 0.7108\n",
            "Epoch 97/100\n",
            "178/178 [==============================] - 159s 879ms/step - loss: 0.6070 - acc: 0.6718 - val_loss: 0.5379 - val_acc: 0.7225\n",
            "Epoch 98/100\n",
            "178/178 [==============================] - 156s 869ms/step - loss: 0.5942 - acc: 0.6884 - val_loss: 0.5376 - val_acc: 0.7246\n",
            "Epoch 99/100\n",
            "178/178 [==============================] - 154s 857ms/step - loss: 0.5963 - acc: 0.6853 - val_loss: 0.5419 - val_acc: 0.7203\n",
            "Epoch 100/100\n",
            "178/178 [==============================] - 154s 855ms/step - loss: 0.5962 - acc: 0.6838 - val_loss: 0.5395 - val_acc: 0.7225\n"
          ]
        }
      ]
    },
    {
      "cell_type": "code",
      "source": [
        "acc = history.history['acc']\n",
        "val_acc = history.history['val_acc']\n",
        "loss = history.history['loss']\n",
        "val_loss = history.history['val_loss']\n",
        "\n",
        "epochs_x = range(len(acc))\n",
        "\n",
        "plt.plot(epochs_x, acc, 'go', label='Training acc')\n",
        "plt.plot(epochs_x, val_acc, 'k', label='Validation acc')\n",
        "plt.title('Training and validation accuracy')\n",
        "plt.legend()\n",
        "\n",
        "plt.figure()\n",
        "\n",
        "plt.plot(epochs_x, loss, 'go', label='Training loss')\n",
        "plt.plot(epochs_x, val_loss, 'k', label='Validation loss')\n",
        "plt.title('Training and validation loss')\n",
        "plt.legend()\n",
        "\n",
        "plt.show()"
      ],
      "metadata": {
        "id": "kwylTJpTP5XI",
        "colab": {
          "base_uri": "https://localhost:8080/",
          "height": 545
        },
        "outputId": "5432fb4f-e399-4b49-c096-9f6d65860e21"
      },
      "execution_count": 13,
      "outputs": [
        {
          "output_type": "display_data",
          "data": {
            "text/plain": [
              "<Figure size 432x288 with 1 Axes>"
            ],
            "image/png": "[encoded data removed]"
          },
          "metadata": {
            "needs_background": "light"
          }
        },
        {
          "output_type": "display_data",
          "data": {
            "text/plain": [
              "<Figure size 432x288 with 1 Axes>"
            ],
            "image/png": "[encoded data removed]"
          },
          "metadata": {
            "needs_background": "light"
          }
        }
      ]
    },
    {
      "cell_type": "markdown",
      "source": [
        "#Download the model"
      ],
      "metadata": {
        "id": "lD-vKaoHQAFd"
      }
    },
    {
      "cell_type": "code",
      "source": [
        "os.makedirs('/content/drive/My Drive/cut_panoramic/Model', exist_ok=True)\n",
        "model.save('/content/drive/My Drive/cut_panoramic/Model/7.7_รอบที่7_Gender_100.h5')"
      ],
      "metadata": {
        "id": "74dL7-HLP_Sh"
      },
      "execution_count": 14,
      "outputs": []
    },
    {
      "cell_type": "code",
      "source": [
        "from google.colab import files\n",
        "files.download('/content/drive/My Drive/cut_panoramic/Model/7.7_รอบที่7_Gender_100.h5')"
      ],
      "metadata": {
        "id": "qcPW-brHQDpc",
        "colab": {
          "base_uri": "https://localhost:8080/",
          "height": 17
        },
        "outputId": "1f1de1d0-6bbc-44ec-8e42-fc919dcc9849"
      },
      "execution_count": 15,
      "outputs": [
        {
          "output_type": "display_data",
          "data": {
            "text/plain": [
              "<IPython.core.display.Javascript object>"
            ],
            "application/javascript": [
              "\n",
              "    async function download(id, filename, size) {\n",
              "      if (!google.colab.kernel.accessAllowed) {\n",
              "        return;\n",
              "      }\n",
              "      const div = document.createElement('div');\n",
              "      const label = document.createElement('label');\n",
              "      label.textContent = `Downloading \"${filename}\": `;\n",
              "      div.appendChild(label);\n",
              "      const progress = document.createElement('progress');\n",
              "      progress.max = size;\n",
              "      div.appendChild(progress);\n",
              "      document.body.appendChild(div);\n",
              "\n",
              "      const buffers = [];\n",
              "      let downloaded = 0;\n",
              "\n",
              "      const channel = await google.colab.kernel.comms.open(id);\n",
              "      // Send a message to notify the kernel that we're ready.\n",
              "      channel.send({})\n",
              "\n",
              "      for await (const message of channel.messages) {\n",
              "        // Send a message to notify the kernel that we're ready.\n",
              "        channel.send({})\n",
              "        if (message.buffers) {\n",
              "          for (const buffer of message.buffers) {\n",
              "            buffers.push(buffer);\n",
              "            downloaded += buffer.byteLength;\n",
              "            progress.value = downloaded;\n",
              "          }\n",
              "        }\n",
              "      }\n",
              "      const blob = new Blob(buffers, {type: 'application/binary'});\n",
              "      const a = document.createElement('a');\n",
              "      a.href = window.URL.createObjectURL(blob);\n",
              "      a.download = filename;\n",
              "      div.appendChild(a);\n",
              "      a.click();\n",
              "      div.remove();\n",
              "    }\n",
              "  "
            ]
          },
          "metadata": {}
        },
        {
          "output_type": "display_data",
          "data": {
            "text/plain": [
              "<IPython.core.display.Javascript object>"
            ],
            "application/javascript": [
              "download(\"download_847f99d9-9294-4b56-9031-0ec62503339e\", \"7.7_\\u0e23\\u0e2d\\u0e1a\\u0e17\\u0e35\\u0e487_Gender_100.h5\", 16604304)"
            ]
          },
          "metadata": {}
        }
      ]
    },
    {
      "cell_type": "code",
      "source": [],
      "metadata": {
        "id": "r5WoXVo8mVpF"
      },
      "execution_count": 15,
      "outputs": []
    }
  ]
}