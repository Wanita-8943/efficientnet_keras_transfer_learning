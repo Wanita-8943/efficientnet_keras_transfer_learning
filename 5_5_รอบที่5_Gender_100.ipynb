{
  "nbformat": 4,
  "nbformat_minor": 0,
  "metadata": {
    "colab": {
      "provenance": [],
      "include_colab_link": true
    },
    "kernelspec": {
      "name": "python3",
      "display_name": "Python 3"
    },
    "language_info": {
      "name": "python"
    }
  },
  "cells": [
    {
      "cell_type": "markdown",
      "metadata": {
        "id": "view-in-github",
        "colab_type": "text"
      },
      "source": [
        "<a href=\"https://colab.research.google.com/github/Wanita-8943/efficientnet_keras_transfer_learning/blob/master/5_5_%E0%B8%A3%E0%B8%AD%E0%B8%9A%E0%B8%97%E0%B8%B5%E0%B9%885_Gender_100.ipynb\" target=\"_parent\"><img src=\"https://colab.research.google.com/assets/colab-badge.svg\" alt=\"Open In Colab\"/></a>"
      ]
    },
    {
      "cell_type": "code",
      "execution_count": null,
      "metadata": {
        "id": "KKSs7cyoPHcD"
      },
      "outputs": [],
      "source": [
        "import pandas as pd\n",
        "import shutil"
      ]
    },
    {
      "cell_type": "code",
      "source": [
        "from google.colab import drive\n",
        "drive.mount('/content/drive')"
      ],
      "metadata": {
        "colab": {
          "base_uri": "https://localhost:8080/"
        },
        "id": "Klm1B91QlvKd",
        "outputId": "e423e86b-5893-4cd6-f3b8-0362dcaeb1ad"
      },
      "execution_count": null,
      "outputs": [
        {
          "output_type": "stream",
          "name": "stdout",
          "text": [
            "Mounted at /content/drive\n"
          ]
        }
      ]
    },
    {
      "cell_type": "code",
      "source": [
        "from tensorflow.keras import models\n",
        "from tensorflow.keras import layers\n",
        "from tensorflow.keras import optimizers\n",
        "import os\n",
        "import glob\n",
        "import shutil\n",
        "import sys\n",
        "import numpy as np\n",
        "from skimage.io import imread\n",
        "import matplotlib.pyplot as plt\n",
        "from IPython.display import Image\n",
        "%matplotlib inline"
      ],
      "metadata": {
        "id": "1pX9g1HxPM2f"
      },
      "execution_count": null,
      "outputs": []
    },
    {
      "cell_type": "code",
      "source": [
        "batch_size = 16\n",
        "width = 150\n",
        "height = 150\n",
        "epochs = 100\n",
        "NUM_TRAIN = 2850\n",
        "NUM_TEST = 950\n",
        "dropout_rate = 0.2\n",
        "input_shape = (height, width, 3)"
      ],
      "metadata": {
        "id": "eSFtvGyvPM6O"
      },
      "execution_count": null,
      "outputs": []
    },
    {
      "cell_type": "code",
      "source": [
        "#ดึงข้อมูลใน Github มาใช้\n",
        "import os\n",
        "%cd /content\n",
        "if not os.path.isdir(\"efficientnet_keras_transfer_learning\"):\n",
        " !git clone https://github.com/Wanita-8943/efficientnet_keras_transfer_learning\n",
        "%cd efficientnet_keras_transfer_learning/"
      ],
      "metadata": {
        "colab": {
          "base_uri": "https://localhost:8080/"
        },
        "id": "lb4K4CsMPNAW",
        "outputId": "ebc10dd7-6da5-472d-99a4-afbea6f0e7e1"
      },
      "execution_count": null,
      "outputs": [
        {
          "output_type": "stream",
          "name": "stdout",
          "text": [
            "/content\n",
            "Cloning into 'efficientnet_keras_transfer_learning'...\n",
            "remote: Enumerating objects: 603, done.\u001b[K\n",
            "remote: Counting objects: 100% (125/125), done.\u001b[K\n",
            "remote: Compressing objects: 100% (22/22), done.\u001b[K\n",
            "remote: Total 603 (delta 114), reused 103 (delta 103), pack-reused 478\u001b[K\n",
            "Receiving objects: 100% (603/603), 11.31 MiB | 15.95 MiB/s, done.\n",
            "Resolving deltas: 100% (354/354), done.\n",
            "/content/efficientnet_keras_transfer_learning\n"
          ]
        }
      ]
    },
    {
      "cell_type": "code",
      "source": [
        "# Options: EfficientNetB0, EfficientNetB1, EfficientNetB2, EfficientNetB3\n",
        "# Higher the number, the more complex the model is.\n",
        "from efficientnet import EfficientNetB0 as Net\n",
        "from efficientnet import center_crop_and_resize, preprocess_input"
      ],
      "metadata": {
        "id": "eyBg0dLKPND3"
      },
      "execution_count": null,
      "outputs": []
    },
    {
      "cell_type": "code",
      "source": [
        "base_dir = '/content/drive/MyDrive/TVT_Gender'\n",
        "os.makedirs(base_dir, exist_ok=True)\n",
        "\n",
        "# Directories for our training,\n",
        "# validation and test splits\n",
        "train_dir = os.path.join(base_dir, 'train')\n",
        "os.makedirs(train_dir, exist_ok=True)\n",
        "validation_dir = os.path.join(base_dir, 'validation')\n",
        "os.makedirs(validation_dir, exist_ok=True)\n",
        "test_dir = os.path.join(base_dir, 'test')\n",
        "os.makedirs(test_dir, exist_ok=True)"
      ],
      "metadata": {
        "id": "Jwpq_-KvPef8"
      },
      "execution_count": null,
      "outputs": []
    },
    {
      "cell_type": "markdown",
      "source": [
        "#load model"
      ],
      "metadata": {
        "id": "od-ZSNm5PoGy"
      }
    },
    {
      "cell_type": "code",
      "source": [
        "import sys\n",
        "sys.path.append('/content/drive/MyDrive/cut_panoramic/Model/4.4_รอบที่4_Gender_100.h5')\n",
        "\n",
        "from efficientnet.layers import Swish, DropConnect\n",
        "from efficientnet.model import ConvKernalInitializer\n",
        "from tensorflow.keras.utils import get_custom_objects\n",
        "\n",
        "get_custom_objects().update({\n",
        "    'ConvKernalInitializer': ConvKernalInitializer,\n",
        "    'Swish': Swish,\n",
        "    'DropConnect':DropConnect\n",
        "})"
      ],
      "metadata": {
        "id": "n5iPL5MNPkhE"
      },
      "execution_count": null,
      "outputs": []
    },
    {
      "cell_type": "code",
      "source": [
        "#load model \n",
        "from tensorflow.keras.models import load_model\n",
        "model = load_model('/content/drive/MyDrive/cut_panoramic/Model/4.4_รอบที่4_Gender_100.h5')\n",
        "height = width = model.input_shape[1]"
      ],
      "metadata": {
        "id": "plYz49xMPkly"
      },
      "execution_count": null,
      "outputs": []
    },
    {
      "cell_type": "code",
      "source": [
        "model.summary()"
      ],
      "metadata": {
        "colab": {
          "base_uri": "https://localhost:8080/"
        },
        "id": "z6IOPBflFbvc",
        "outputId": "74f8b850-9799-4867-dee4-5191b8fd881b"
      },
      "execution_count": null,
      "outputs": [
        {
          "output_type": "stream",
          "name": "stdout",
          "text": [
            "Model: \"sequential\"\n",
            "_________________________________________________________________\n",
            " Layer (type)                Output Shape              Param #   \n",
            "=================================================================\n",
            " efficientnet-b0 (Functional  (None, 5, 5, 1280)       4049564   \n",
            " )                                                               \n",
            "                                                                 \n",
            " gap (GlobalMaxPooling2D)    (None, 1280)              0         \n",
            "                                                                 \n",
            " dropout_out (Dropout)       (None, 1280)              0         \n",
            "                                                                 \n",
            " fc_out (Dense)              (None, 2)                 2562      \n",
            "                                                                 \n",
            "=================================================================\n",
            "Total params: 4,052,126\n",
            "Trainable params: 2,562\n",
            "Non-trainable params: 4,049,564\n",
            "_________________________________________________________________\n"
          ]
        }
      ]
    },
    {
      "cell_type": "code",
      "source": [
        "# Train ด้วย ImageDataGenerator ของ Keras ซึ่งจะเพิ่มข้อมูลเสริมระหว่างการฝึกเพื่อลดโอกาสเกิด overfitting\n",
        "#overfitting เกิดจากข้อมูลที่ซับซ้อนกันเกินไป\n",
        "from tensorflow.keras.preprocessing.image import ImageDataGenerator\n",
        "\n",
        "train_datagen = ImageDataGenerator(\n",
        "      rescale=1./255, #โมเดลส่วนใหญ่ต้องใช้ RGB ในช่วง 0–1\n",
        "      rotation_range=40,\n",
        "      width_shift_range=0.2,\n",
        "      height_shift_range=0.2,\n",
        "      shear_range=0.2,\n",
        "      zoom_range=0.2,\n",
        "      horizontal_flip=True,\n",
        "      fill_mode='nearest')\n",
        "\n",
        "# Note that the validation data should not be augmented!\n",
        "test_datagen = ImageDataGenerator(rescale=1./255)\n",
        "\n",
        "train_generator = train_datagen.flow_from_directory(\n",
        "        # This is the target directory #ไดเรกเป้าหมาย\n",
        "        train_dir,\n",
        "        # รูปภาพทั้งหมดจะถูกปรับขนาดตามความสูงและความกว้างของเป้าหมาย\n",
        "        target_size=(height, width),\n",
        "        batch_size=batch_size,\n",
        "        # Since we use categorical_crossentropy loss, we need categorical labels\n",
        "        #เนื่องจากเราใช้ categorical_crossentropy loss เราจึงต้องมีป้ายกำกับตามหมวดหมู่\n",
        "        class_mode='categorical')\n",
        "\n",
        "validation_generator = test_datagen.flow_from_directory( #การดึงภาพจาก Directory มาเข้าโมเดล \n",
        "        validation_dir,\n",
        "        target_size=(height, width),\n",
        "        batch_size=batch_size,\n",
        "        class_mode='categorical')"
      ],
      "metadata": {
        "colab": {
          "base_uri": "https://localhost:8080/"
        },
        "id": "KBMZbdr2Pgw4",
        "outputId": "4aea8703-fea6-499a-a48a-731e109926f8"
      },
      "execution_count": null,
      "outputs": [
        {
          "output_type": "stream",
          "name": "stdout",
          "text": [
            "Found 2850 images belonging to 2 classes.\n",
            "Found 950 images belonging to 2 classes.\n"
          ]
        }
      ]
    },
    {
      "cell_type": "code",
      "source": [
        "history = model.fit_generator(\n",
        "      train_generator,\n",
        "      steps_per_epoch= NUM_TRAIN //batch_size,\n",
        "      epochs=epochs,\n",
        "      validation_data=validation_generator,\n",
        "      validation_steps= NUM_TEST //batch_size,\n",
        "      verbose=1,\n",
        "      use_multiprocessing=True,\n",
        "      workers=4)"
      ],
      "metadata": {
        "colab": {
          "base_uri": "https://localhost:8080/"
        },
        "id": "C9Cf1dwyP1PD",
        "outputId": "b096358f-3fb4-4aca-fcec-e4e7f113bebc"
      },
      "execution_count": null,
      "outputs": [
        {
          "output_type": "stream",
          "name": "stderr",
          "text": [
            "<ipython-input-12-caa7b37242a8>:1: UserWarning: `Model.fit_generator` is deprecated and will be removed in a future version. Please use `Model.fit`, which supports generators.\n",
            "  history = model.fit_generator(\n"
          ]
        },
        {
          "output_type": "stream",
          "name": "stdout",
          "text": [
            "Epoch 1/100\n",
            "178/178 [==============================] - 256s 1s/step - loss: 0.6147 - acc: 0.6687 - val_loss: 0.5491 - val_acc: 0.7182\n",
            "Epoch 2/100\n",
            "178/178 [==============================] - 129s 717ms/step - loss: 0.6065 - acc: 0.6793 - val_loss: 0.5751 - val_acc: 0.6981\n",
            "Epoch 3/100\n",
            "178/178 [==============================] - 132s 732ms/step - loss: 0.6074 - acc: 0.6711 - val_loss: 0.5698 - val_acc: 0.7034\n",
            "Epoch 4/100\n",
            "178/178 [==============================] - 132s 732ms/step - loss: 0.5923 - acc: 0.6891 - val_loss: 0.5540 - val_acc: 0.7076\n",
            "Epoch 5/100\n",
            "178/178 [==============================] - 132s 732ms/step - loss: 0.6139 - acc: 0.6613 - val_loss: 0.5649 - val_acc: 0.7013\n",
            "Epoch 6/100\n",
            "178/178 [==============================] - 132s 735ms/step - loss: 0.6061 - acc: 0.6725 - val_loss: 0.5527 - val_acc: 0.7119\n",
            "Epoch 7/100\n",
            "178/178 [==============================] - 135s 747ms/step - loss: 0.6007 - acc: 0.6817 - val_loss: 0.5556 - val_acc: 0.7055\n",
            "Epoch 8/100\n",
            "178/178 [==============================] - 134s 742ms/step - loss: 0.5922 - acc: 0.6909 - val_loss: 0.5658 - val_acc: 0.7066\n",
            "Epoch 9/100\n",
            "178/178 [==============================] - 133s 737ms/step - loss: 0.6018 - acc: 0.6736 - val_loss: 0.5555 - val_acc: 0.7044\n",
            "Epoch 10/100\n",
            "178/178 [==============================] - 133s 737ms/step - loss: 0.5937 - acc: 0.6842 - val_loss: 0.5625 - val_acc: 0.7108\n",
            "Epoch 11/100\n",
            "178/178 [==============================] - 133s 736ms/step - loss: 0.6053 - acc: 0.6729 - val_loss: 0.5685 - val_acc: 0.7066\n",
            "Epoch 12/100\n",
            "178/178 [==============================] - 134s 741ms/step - loss: 0.5890 - acc: 0.6857 - val_loss: 0.5566 - val_acc: 0.7055\n",
            "Epoch 13/100\n",
            "178/178 [==============================] - 133s 738ms/step - loss: 0.5971 - acc: 0.6814 - val_loss: 0.5804 - val_acc: 0.6949\n",
            "Epoch 14/100\n",
            "178/178 [==============================] - 135s 742ms/step - loss: 0.5967 - acc: 0.6814 - val_loss: 0.5629 - val_acc: 0.7034\n",
            "Epoch 15/100\n",
            "178/178 [==============================] - 134s 742ms/step - loss: 0.5929 - acc: 0.6909 - val_loss: 0.5757 - val_acc: 0.6949\n",
            "Epoch 16/100\n",
            "178/178 [==============================] - 134s 743ms/step - loss: 0.6020 - acc: 0.6754 - val_loss: 0.6123 - val_acc: 0.6748\n",
            "Epoch 17/100\n",
            "178/178 [==============================] - 134s 743ms/step - loss: 0.6082 - acc: 0.6598 - val_loss: 0.5979 - val_acc: 0.6864\n",
            "Epoch 18/100\n",
            "178/178 [==============================] - 134s 741ms/step - loss: 0.6005 - acc: 0.6853 - val_loss: 0.5475 - val_acc: 0.7172\n",
            "Epoch 19/100\n",
            "178/178 [==============================] - 133s 740ms/step - loss: 0.5887 - acc: 0.6937 - val_loss: 0.5513 - val_acc: 0.7182\n",
            "Epoch 20/100\n",
            "178/178 [==============================] - 134s 742ms/step - loss: 0.5911 - acc: 0.6905 - val_loss: 0.5524 - val_acc: 0.7150\n",
            "Epoch 21/100\n",
            "178/178 [==============================] - 133s 737ms/step - loss: 0.6064 - acc: 0.6701 - val_loss: 0.5734 - val_acc: 0.7002\n",
            "Epoch 22/100\n",
            "178/178 [==============================] - 133s 738ms/step - loss: 0.5881 - acc: 0.6860 - val_loss: 0.5678 - val_acc: 0.7044\n",
            "Epoch 23/100\n",
            "178/178 [==============================] - 133s 738ms/step - loss: 0.6011 - acc: 0.6796 - val_loss: 0.5432 - val_acc: 0.7235\n",
            "Epoch 24/100\n",
            "178/178 [==============================] - 133s 739ms/step - loss: 0.5915 - acc: 0.6888 - val_loss: 0.5574 - val_acc: 0.7076\n",
            "Epoch 25/100\n",
            "178/178 [==============================] - 133s 737ms/step - loss: 0.6010 - acc: 0.6747 - val_loss: 0.5525 - val_acc: 0.7129\n",
            "Epoch 26/100\n",
            "178/178 [==============================] - 133s 737ms/step - loss: 0.6002 - acc: 0.6768 - val_loss: 0.5569 - val_acc: 0.7087\n",
            "Epoch 27/100\n",
            "178/178 [==============================] - 133s 736ms/step - loss: 0.6013 - acc: 0.6757 - val_loss: 0.5853 - val_acc: 0.6939\n",
            "Epoch 28/100\n",
            "178/178 [==============================] - 132s 734ms/step - loss: 0.5955 - acc: 0.6796 - val_loss: 0.5541 - val_acc: 0.7119\n",
            "Epoch 29/100\n",
            "178/178 [==============================] - 132s 733ms/step - loss: 0.6062 - acc: 0.6715 - val_loss: 0.5791 - val_acc: 0.6970\n",
            "Epoch 30/100\n",
            "178/178 [==============================] - 133s 736ms/step - loss: 0.5929 - acc: 0.6853 - val_loss: 0.5513 - val_acc: 0.7150\n",
            "Epoch 31/100\n",
            "178/178 [==============================] - 133s 737ms/step - loss: 0.5979 - acc: 0.6775 - val_loss: 0.5526 - val_acc: 0.7140\n",
            "Epoch 32/100\n",
            "178/178 [==============================] - 133s 736ms/step - loss: 0.6014 - acc: 0.6750 - val_loss: 0.5672 - val_acc: 0.7044\n",
            "Epoch 33/100\n",
            "178/178 [==============================] - 133s 737ms/step - loss: 0.5926 - acc: 0.6796 - val_loss: 0.5765 - val_acc: 0.6981\n",
            "Epoch 34/100\n",
            "178/178 [==============================] - 133s 735ms/step - loss: 0.5912 - acc: 0.6877 - val_loss: 0.5461 - val_acc: 0.7182\n",
            "Epoch 35/100\n",
            "178/178 [==============================] - 134s 743ms/step - loss: 0.5972 - acc: 0.6905 - val_loss: 0.5646 - val_acc: 0.7055\n",
            "Epoch 36/100\n",
            "178/178 [==============================] - 133s 737ms/step - loss: 0.5978 - acc: 0.6824 - val_loss: 0.5511 - val_acc: 0.7119\n",
            "Epoch 37/100\n",
            "178/178 [==============================] - 133s 737ms/step - loss: 0.6010 - acc: 0.6771 - val_loss: 0.5414 - val_acc: 0.7203\n",
            "Epoch 38/100\n",
            "178/178 [==============================] - 133s 736ms/step - loss: 0.5943 - acc: 0.6824 - val_loss: 0.5586 - val_acc: 0.7097\n",
            "Epoch 39/100\n",
            "178/178 [==============================] - 133s 738ms/step - loss: 0.6006 - acc: 0.6863 - val_loss: 0.5573 - val_acc: 0.7087\n",
            "Epoch 40/100\n",
            "178/178 [==============================] - 132s 733ms/step - loss: 0.5968 - acc: 0.6817 - val_loss: 0.5418 - val_acc: 0.7193\n",
            "Epoch 41/100\n",
            "178/178 [==============================] - 132s 734ms/step - loss: 0.5827 - acc: 0.6884 - val_loss: 0.5599 - val_acc: 0.7055\n",
            "Epoch 42/100\n",
            "178/178 [==============================] - 132s 733ms/step - loss: 0.5942 - acc: 0.6824 - val_loss: 0.5626 - val_acc: 0.7023\n",
            "Epoch 43/100\n",
            "178/178 [==============================] - 133s 735ms/step - loss: 0.5977 - acc: 0.6824 - val_loss: 0.5521 - val_acc: 0.7108\n",
            "Epoch 44/100\n",
            "178/178 [==============================] - 132s 735ms/step - loss: 0.5958 - acc: 0.6761 - val_loss: 0.5447 - val_acc: 0.7182\n",
            "Epoch 45/100\n",
            "178/178 [==============================] - 133s 736ms/step - loss: 0.6014 - acc: 0.6778 - val_loss: 0.5541 - val_acc: 0.7076\n",
            "Epoch 46/100\n",
            "178/178 [==============================] - 132s 731ms/step - loss: 0.5839 - acc: 0.6828 - val_loss: 0.5726 - val_acc: 0.7034\n",
            "Epoch 47/100\n",
            "178/178 [==============================] - 132s 731ms/step - loss: 0.5961 - acc: 0.6845 - val_loss: 0.5446 - val_acc: 0.7129\n",
            "Epoch 48/100\n",
            "178/178 [==============================] - 133s 735ms/step - loss: 0.5922 - acc: 0.6849 - val_loss: 0.5560 - val_acc: 0.7066\n",
            "Epoch 49/100\n",
            "178/178 [==============================] - 132s 732ms/step - loss: 0.6062 - acc: 0.6796 - val_loss: 0.5465 - val_acc: 0.7108\n",
            "Epoch 50/100\n",
            "178/178 [==============================] - 132s 734ms/step - loss: 0.5900 - acc: 0.6895 - val_loss: 0.5414 - val_acc: 0.7246\n",
            "Epoch 51/100\n",
            "178/178 [==============================] - 132s 734ms/step - loss: 0.5883 - acc: 0.7032 - val_loss: 0.5448 - val_acc: 0.7161\n",
            "Epoch 52/100\n",
            "178/178 [==============================] - 133s 738ms/step - loss: 0.5883 - acc: 0.6814 - val_loss: 0.5645 - val_acc: 0.7076\n",
            "Epoch 53/100\n",
            "178/178 [==============================] - 132s 735ms/step - loss: 0.6057 - acc: 0.6800 - val_loss: 0.5659 - val_acc: 0.7055\n",
            "Epoch 54/100\n",
            "178/178 [==============================] - 133s 737ms/step - loss: 0.5939 - acc: 0.6704 - val_loss: 0.5537 - val_acc: 0.7044\n",
            "Epoch 55/100\n",
            "178/178 [==============================] - 133s 734ms/step - loss: 0.5983 - acc: 0.6803 - val_loss: 0.5599 - val_acc: 0.7066\n",
            "Epoch 56/100\n",
            "178/178 [==============================] - 133s 738ms/step - loss: 0.5985 - acc: 0.6898 - val_loss: 0.5505 - val_acc: 0.7023\n",
            "Epoch 57/100\n",
            "178/178 [==============================] - 133s 739ms/step - loss: 0.5959 - acc: 0.6793 - val_loss: 0.5570 - val_acc: 0.7087\n",
            "Epoch 58/100\n",
            "178/178 [==============================] - 133s 737ms/step - loss: 0.6002 - acc: 0.6768 - val_loss: 0.5567 - val_acc: 0.7087\n",
            "Epoch 59/100\n",
            "178/178 [==============================] - 132s 730ms/step - loss: 0.5907 - acc: 0.6884 - val_loss: 0.5535 - val_acc: 0.7087\n",
            "Epoch 60/100\n",
            "178/178 [==============================] - 135s 750ms/step - loss: 0.6024 - acc: 0.6725 - val_loss: 0.5688 - val_acc: 0.7034\n",
            "Epoch 61/100\n",
            "178/178 [==============================] - 134s 740ms/step - loss: 0.5945 - acc: 0.6937 - val_loss: 0.5568 - val_acc: 0.7023\n",
            "Epoch 62/100\n",
            "178/178 [==============================] - 133s 738ms/step - loss: 0.5993 - acc: 0.6768 - val_loss: 0.5500 - val_acc: 0.7066\n",
            "Epoch 63/100\n",
            "178/178 [==============================] - 133s 735ms/step - loss: 0.6050 - acc: 0.6821 - val_loss: 0.5555 - val_acc: 0.7055\n",
            "Epoch 64/100\n",
            "178/178 [==============================] - 133s 735ms/step - loss: 0.5912 - acc: 0.6905 - val_loss: 0.5540 - val_acc: 0.7066\n",
            "Epoch 65/100\n",
            "178/178 [==============================] - 133s 737ms/step - loss: 0.5956 - acc: 0.6831 - val_loss: 0.5426 - val_acc: 0.7225\n",
            "Epoch 66/100\n",
            "178/178 [==============================] - 133s 737ms/step - loss: 0.6021 - acc: 0.6683 - val_loss: 0.5653 - val_acc: 0.7044\n",
            "Epoch 67/100\n",
            "178/178 [==============================] - 133s 735ms/step - loss: 0.6075 - acc: 0.6736 - val_loss: 0.5486 - val_acc: 0.7076\n",
            "Epoch 68/100\n",
            "178/178 [==============================] - 133s 736ms/step - loss: 0.5889 - acc: 0.6874 - val_loss: 0.5428 - val_acc: 0.7214\n",
            "Epoch 69/100\n",
            "178/178 [==============================] - 133s 736ms/step - loss: 0.5963 - acc: 0.6853 - val_loss: 0.5576 - val_acc: 0.7023\n",
            "Epoch 70/100\n",
            "178/178 [==============================] - 133s 738ms/step - loss: 0.6021 - acc: 0.6800 - val_loss: 0.5526 - val_acc: 0.7108\n",
            "Epoch 71/100\n",
            "178/178 [==============================] - 133s 740ms/step - loss: 0.5890 - acc: 0.6750 - val_loss: 0.5623 - val_acc: 0.7108\n",
            "Epoch 72/100\n",
            "178/178 [==============================] - 134s 742ms/step - loss: 0.5897 - acc: 0.6923 - val_loss: 0.5611 - val_acc: 0.7097\n",
            "Epoch 73/100\n",
            "178/178 [==============================] - 134s 744ms/step - loss: 0.5793 - acc: 0.6994 - val_loss: 0.5851 - val_acc: 0.6960\n",
            "Epoch 74/100\n",
            "178/178 [==============================] - 133s 740ms/step - loss: 0.5979 - acc: 0.6796 - val_loss: 0.5492 - val_acc: 0.7087\n",
            "Epoch 75/100\n",
            "178/178 [==============================] - 133s 740ms/step - loss: 0.6038 - acc: 0.6754 - val_loss: 0.5780 - val_acc: 0.6981\n",
            "Epoch 76/100\n",
            "178/178 [==============================] - 134s 744ms/step - loss: 0.5877 - acc: 0.6842 - val_loss: 0.5637 - val_acc: 0.7013\n",
            "Epoch 77/100\n",
            "178/178 [==============================] - 134s 742ms/step - loss: 0.6038 - acc: 0.6775 - val_loss: 0.5453 - val_acc: 0.7076\n",
            "Epoch 78/100\n",
            "178/178 [==============================] - 134s 744ms/step - loss: 0.5940 - acc: 0.6771 - val_loss: 0.5487 - val_acc: 0.7119\n",
            "Epoch 79/100\n",
            "178/178 [==============================] - 134s 745ms/step - loss: 0.6011 - acc: 0.6796 - val_loss: 0.5439 - val_acc: 0.7076\n",
            "Epoch 80/100\n",
            "178/178 [==============================] - 134s 745ms/step - loss: 0.5977 - acc: 0.6771 - val_loss: 0.5526 - val_acc: 0.7055\n",
            "Epoch 81/100\n",
            "178/178 [==============================] - 135s 747ms/step - loss: 0.5954 - acc: 0.6831 - val_loss: 0.5562 - val_acc: 0.7119\n",
            "Epoch 82/100\n",
            "178/178 [==============================] - 135s 747ms/step - loss: 0.5989 - acc: 0.6853 - val_loss: 0.5604 - val_acc: 0.7066\n",
            "Epoch 83/100\n",
            "178/178 [==============================] - 134s 746ms/step - loss: 0.5882 - acc: 0.6944 - val_loss: 0.5660 - val_acc: 0.6981\n",
            "Epoch 84/100\n",
            "178/178 [==============================] - 134s 743ms/step - loss: 0.5969 - acc: 0.6718 - val_loss: 0.5423 - val_acc: 0.7193\n",
            "Epoch 85/100\n",
            "178/178 [==============================] - 134s 744ms/step - loss: 0.6011 - acc: 0.6743 - val_loss: 0.5511 - val_acc: 0.7044\n",
            "Epoch 86/100\n",
            "178/178 [==============================] - 134s 742ms/step - loss: 0.6019 - acc: 0.6740 - val_loss: 0.5498 - val_acc: 0.7066\n",
            "Epoch 87/100\n",
            "178/178 [==============================] - 134s 743ms/step - loss: 0.5984 - acc: 0.6729 - val_loss: 0.5408 - val_acc: 0.7225\n",
            "Epoch 88/100\n",
            "178/178 [==============================] - 134s 742ms/step - loss: 0.5945 - acc: 0.6831 - val_loss: 0.5484 - val_acc: 0.7034\n",
            "Epoch 89/100\n",
            "178/178 [==============================] - 134s 745ms/step - loss: 0.6089 - acc: 0.6718 - val_loss: 0.5464 - val_acc: 0.7076\n",
            "Epoch 90/100\n",
            "178/178 [==============================] - 134s 745ms/step - loss: 0.5894 - acc: 0.6800 - val_loss: 0.5674 - val_acc: 0.7044\n",
            "Epoch 91/100\n",
            "178/178 [==============================] - 135s 747ms/step - loss: 0.5973 - acc: 0.6778 - val_loss: 0.5591 - val_acc: 0.7066\n",
            "Epoch 92/100\n",
            "178/178 [==============================] - 134s 746ms/step - loss: 0.6143 - acc: 0.6634 - val_loss: 0.5529 - val_acc: 0.7097\n",
            "Epoch 93/100\n",
            "178/178 [==============================] - 135s 747ms/step - loss: 0.6024 - acc: 0.6778 - val_loss: 0.5605 - val_acc: 0.7066\n",
            "Epoch 94/100\n",
            "178/178 [==============================] - 136s 755ms/step - loss: 0.6051 - acc: 0.6771 - val_loss: 0.5466 - val_acc: 0.7119\n",
            "Epoch 95/100\n",
            "178/178 [==============================] - 134s 746ms/step - loss: 0.5945 - acc: 0.6920 - val_loss: 0.5509 - val_acc: 0.7066\n",
            "Epoch 96/100\n",
            "178/178 [==============================] - 135s 748ms/step - loss: 0.5968 - acc: 0.6768 - val_loss: 0.5498 - val_acc: 0.7087\n",
            "Epoch 97/100\n",
            "178/178 [==============================] - 134s 745ms/step - loss: 0.5887 - acc: 0.6803 - val_loss: 0.5506 - val_acc: 0.7076\n",
            "Epoch 98/100\n",
            "178/178 [==============================] - 134s 746ms/step - loss: 0.5956 - acc: 0.6817 - val_loss: 0.5671 - val_acc: 0.7087\n",
            "Epoch 99/100\n",
            "178/178 [==============================] - 134s 744ms/step - loss: 0.5982 - acc: 0.6697 - val_loss: 0.5721 - val_acc: 0.7066\n",
            "Epoch 100/100\n",
            "178/178 [==============================] - 136s 753ms/step - loss: 0.6044 - acc: 0.6821 - val_loss: 0.5578 - val_acc: 0.7119\n"
          ]
        }
      ]
    },
    {
      "cell_type": "code",
      "source": [
        "acc = history.history['acc']\n",
        "val_acc = history.history['val_acc']\n",
        "loss = history.history['loss']\n",
        "val_loss = history.history['val_loss']\n",
        "\n",
        "epochs_x = range(len(acc))\n",
        "\n",
        "plt.plot(epochs_x, acc, 'go', label='Training acc')\n",
        "plt.plot(epochs_x, val_acc, 'k', label='Validation acc')\n",
        "plt.title('Training and validation accuracy')\n",
        "plt.legend()\n",
        "\n",
        "plt.figure()\n",
        "\n",
        "plt.plot(epochs_x, loss, 'go', label='Training loss')\n",
        "plt.plot(epochs_x, val_loss, 'k', label='Validation loss')\n",
        "plt.title('Training and validation loss')\n",
        "plt.legend()\n",
        "\n",
        "plt.show()"
      ],
      "metadata": {
        "id": "kwylTJpTP5XI",
        "colab": {
          "base_uri": "https://localhost:8080/",
          "height": 545
        },
        "outputId": "8228cb2d-714d-419e-fbce-d51ee5f473c7"
      },
      "execution_count": null,
      "outputs": [
        {
          "output_type": "display_data",
          "data": {
            "text/plain": [
              "<Figure size 432x288 with 1 Axes>"
            ],
            "image/png": "[encoded data removed]"
          },
          "metadata": {
            "needs_background": "light"
          }
        },
        {
          "output_type": "display_data",
          "data": {
            "text/plain": [
              "<Figure size 432x288 with 1 Axes>"
            ],
            "image/png": "[encoded data removed]"
          },
          "metadata": {
            "needs_background": "light"
          }
        }
      ]
    },
    {
      "cell_type": "markdown",
      "source": [
        "#Download the model"
      ],
      "metadata": {
        "id": "lD-vKaoHQAFd"
      }
    },
    {
      "cell_type": "code",
      "source": [
        "os.makedirs('/content/drive/My Drive/cut_panoramic/Model', exist_ok=True)\n",
        "model.save('/content/drive/My Drive/cut_panoramic/Model/5.5_รอบที่5_Gender_100.h5')"
      ],
      "metadata": {
        "id": "74dL7-HLP_Sh"
      },
      "execution_count": null,
      "outputs": []
    },
    {
      "cell_type": "code",
      "source": [
        "from google.colab import files\n",
        "files.download('/content/drive/My Drive/cut_panoramic/Model/5.5_รอบที่5_Gender_100.h5')"
      ],
      "metadata": {
        "id": "qcPW-brHQDpc",
        "colab": {
          "base_uri": "https://localhost:8080/",
          "height": 17
        },
        "outputId": "b3cee5a7-dd91-4ce8-d094-ff1c1c6a9d28"
      },
      "execution_count": null,
      "outputs": [
        {
          "output_type": "display_data",
          "data": {
            "text/plain": [
              "<IPython.core.display.Javascript object>"
            ],
            "application/javascript": [
              "\n",
              "    async function download(id, filename, size) {\n",
              "      if (!google.colab.kernel.accessAllowed) {\n",
              "        return;\n",
              "      }\n",
              "      const div = document.createElement('div');\n",
              "      const label = document.createElement('label');\n",
              "      label.textContent = `Downloading \"${filename}\": `;\n",
              "      div.appendChild(label);\n",
              "      const progress = document.createElement('progress');\n",
              "      progress.max = size;\n",
              "      div.appendChild(progress);\n",
              "      document.body.appendChild(div);\n",
              "\n",
              "      const buffers = [];\n",
              "      let downloaded = 0;\n",
              "\n",
              "      const channel = await google.colab.kernel.comms.open(id);\n",
              "      // Send a message to notify the kernel that we're ready.\n",
              "      channel.send({})\n",
              "\n",
              "      for await (const message of channel.messages) {\n",
              "        // Send a message to notify the kernel that we're ready.\n",
              "        channel.send({})\n",
              "        if (message.buffers) {\n",
              "          for (const buffer of message.buffers) {\n",
              "            buffers.push(buffer);\n",
              "            downloaded += buffer.byteLength;\n",
              "            progress.value = downloaded;\n",
              "          }\n",
              "        }\n",
              "      }\n",
              "      const blob = new Blob(buffers, {type: 'application/binary'});\n",
              "      const a = document.createElement('a');\n",
              "      a.href = window.URL.createObjectURL(blob);\n",
              "      a.download = filename;\n",
              "      div.appendChild(a);\n",
              "      a.click();\n",
              "      div.remove();\n",
              "    }\n",
              "  "
            ]
          },
          "metadata": {}
        },
        {
          "output_type": "display_data",
          "data": {
            "text/plain": [
              "<IPython.core.display.Javascript object>"
            ],
            "application/javascript": [
              "download(\"download_396b4111-efa7-4079-a564-96ebb23f4fcf\", \"5.5_\\u0e23\\u0e2d\\u0e1a\\u0e17\\u0e35\\u0e485_Gender_100.h5\", 16604304)"
            ]
          },
          "metadata": {}
        }
      ]
    },
    {
      "cell_type": "code",
      "source": [],
      "metadata": {
        "id": "r5WoXVo8mVpF"
      },
      "execution_count": null,
      "outputs": []
    }
  ]
}