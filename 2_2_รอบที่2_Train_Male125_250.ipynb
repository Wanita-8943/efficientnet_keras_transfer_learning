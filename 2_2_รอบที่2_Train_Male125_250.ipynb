{
  "nbformat": 4,
  "nbformat_minor": 0,
  "metadata": {
    "colab": {
      "provenance": [],
      "include_colab_link": true
    },
    "kernelspec": {
      "name": "python3",
      "display_name": "Python 3"
    },
    "language_info": {
      "name": "python"
    }
  },
  "cells": [
    {
      "cell_type": "markdown",
      "metadata": {
        "id": "view-in-github",
        "colab_type": "text"
      },
      "source": [
        "<a href=\"https://colab.research.google.com/github/Wanita-8943/efficientnet_keras_transfer_learning/blob/master/2_2_%E0%B8%A3%E0%B8%AD%E0%B8%9A%E0%B8%97%E0%B8%B5%E0%B9%882_Train_Male125_250.ipynb\" target=\"_parent\"><img src=\"https://colab.research.google.com/assets/colab-badge.svg\" alt=\"Open In Colab\"/></a>"
      ]
    },
    {
      "cell_type": "code",
      "execution_count": 1,
      "metadata": {
        "id": "KKSs7cyoPHcD"
      },
      "outputs": [],
      "source": [
        "import pandas as pd\n",
        "import shutil"
      ]
    },
    {
      "cell_type": "code",
      "source": [
        "from google.colab import drive\n",
        "drive.mount('/content/drive')"
      ],
      "metadata": {
        "colab": {
          "base_uri": "https://localhost:8080/"
        },
        "id": "7LoeZxmVPMxp",
        "outputId": "d9e45337-1a7a-40b9-e860-a9e1d712b69f"
      },
      "execution_count": 2,
      "outputs": [
        {
          "output_type": "stream",
          "name": "stdout",
          "text": [
            "Mounted at /content/drive\n"
          ]
        }
      ]
    },
    {
      "cell_type": "code",
      "source": [
        "from tensorflow.keras import models\n",
        "from tensorflow.keras import layers\n",
        "from tensorflow.keras import optimizers\n",
        "import os\n",
        "import glob\n",
        "import shutil\n",
        "import sys\n",
        "import numpy as np\n",
        "from skimage.io import imread\n",
        "import matplotlib.pyplot as plt\n",
        "from IPython.display import Image\n",
        "%matplotlib inline"
      ],
      "metadata": {
        "id": "1pX9g1HxPM2f"
      },
      "execution_count": 3,
      "outputs": []
    },
    {
      "cell_type": "code",
      "source": [
        "batch_size = 16\n",
        "width = 150\n",
        "height = 150\n",
        "epochs = 250\n",
        "NUM_TRAIN = 1425\n",
        "NUM_TEST = 473\n",
        "dropout_rate = 0.2\n",
        "input_shape = (height, width, 3)"
      ],
      "metadata": {
        "id": "eSFtvGyvPM6O"
      },
      "execution_count": 4,
      "outputs": []
    },
    {
      "cell_type": "code",
      "source": [
        "#ดึงข้อมูลใน Github มาใช้\n",
        "import os\n",
        "%cd /content\n",
        "if not os.path.isdir(\"efficientnet_keras_transfer_learning\"):\n",
        " !git clone https://github.com/Wanita-8943/efficientnet_keras_transfer_learning\n",
        "%cd efficientnet_keras_transfer_learning/"
      ],
      "metadata": {
        "colab": {
          "base_uri": "https://localhost:8080/"
        },
        "id": "lb4K4CsMPNAW",
        "outputId": "74af2a27-1989-4740-ff5a-72d072c0e234"
      },
      "execution_count": 5,
      "outputs": [
        {
          "output_type": "stream",
          "name": "stdout",
          "text": [
            "/content\n",
            "Cloning into 'efficientnet_keras_transfer_learning'...\n",
            "remote: Enumerating objects: 575, done.\u001b[K\n",
            "remote: Counting objects: 100% (391/391), done.\u001b[K\n",
            "remote: Compressing objects: 100% (192/192), done.\u001b[K\n",
            "remote: Total 575 (delta 273), reused 266 (delta 199), pack-reused 184\u001b[K\n",
            "Receiving objects: 100% (575/575), 10.64 MiB | 17.33 MiB/s, done.\n",
            "Resolving deltas: 100% (346/346), done.\n",
            "/content/efficientnet_keras_transfer_learning\n"
          ]
        }
      ]
    },
    {
      "cell_type": "code",
      "source": [
        "# Options: EfficientNetB0, EfficientNetB1, EfficientNetB2, EfficientNetB3\n",
        "# Higher the number, the more complex the model is.\n",
        "from efficientnet import EfficientNetB0 as Net\n",
        "from efficientnet import center_crop_and_resize, preprocess_input"
      ],
      "metadata": {
        "id": "eyBg0dLKPND3"
      },
      "execution_count": 6,
      "outputs": []
    },
    {
      "cell_type": "code",
      "source": [
        "base_dir = '/content/drive/MyDrive/TVT_Male125'\n",
        "os.makedirs(base_dir, exist_ok=True)\n",
        "\n",
        "# Directories for our training,\n",
        "# validation and test splits\n",
        "train_dir = os.path.join(base_dir, 'train')\n",
        "os.makedirs(train_dir, exist_ok=True)\n",
        "validation_dir = os.path.join(base_dir, 'validation')\n",
        "os.makedirs(validation_dir, exist_ok=True)\n",
        "test_dir = os.path.join(base_dir, 'test')\n",
        "os.makedirs(test_dir, exist_ok=True)"
      ],
      "metadata": {
        "id": "Jwpq_-KvPef8"
      },
      "execution_count": 7,
      "outputs": []
    },
    {
      "cell_type": "markdown",
      "source": [
        "#load model"
      ],
      "metadata": {
        "id": "od-ZSNm5PoGy"
      }
    },
    {
      "cell_type": "code",
      "source": [
        "import sys\n",
        "sys.path.append('/content/drive/MyDrive/cut_panoramic/Model/1.1_รอบแรก_Flimpano_Male125_250.h5')\n",
        "\n",
        "from efficientnet.layers import Swish, DropConnect\n",
        "from efficientnet.model import ConvKernalInitializer\n",
        "from tensorflow.keras.utils import get_custom_objects\n",
        "\n",
        "get_custom_objects().update({\n",
        "    'ConvKernalInitializer': ConvKernalInitializer,\n",
        "    'Swish': Swish,\n",
        "    'DropConnect':DropConnect\n",
        "})"
      ],
      "metadata": {
        "id": "n5iPL5MNPkhE"
      },
      "execution_count": 8,
      "outputs": []
    },
    {
      "cell_type": "code",
      "source": [
        "#load model \n",
        "from tensorflow.keras.models import load_model\n",
        "model = load_model('/content/drive/MyDrive/cut_panoramic/Model/1.1_รอบแรก_Flimpano_Male125_250.h5')\n",
        "height = width = model.input_shape[1]"
      ],
      "metadata": {
        "id": "plYz49xMPkly"
      },
      "execution_count": 9,
      "outputs": []
    },
    {
      "cell_type": "code",
      "source": [
        "model.summary()"
      ],
      "metadata": {
        "colab": {
          "base_uri": "https://localhost:8080/"
        },
        "id": "z6IOPBflFbvc",
        "outputId": "5749585b-141e-454a-a5b0-b9b28c277f4b"
      },
      "execution_count": 10,
      "outputs": [
        {
          "output_type": "stream",
          "name": "stdout",
          "text": [
            "Model: \"sequential\"\n",
            "_________________________________________________________________\n",
            " Layer (type)                Output Shape              Param #   \n",
            "=================================================================\n",
            " efficientnet-b0 (Functional  (None, 5, 5, 1280)       4049564   \n",
            " )                                                               \n",
            "                                                                 \n",
            " gap (GlobalMaxPooling2D)    (None, 1280)              0         \n",
            "                                                                 \n",
            " dropout_out (Dropout)       (None, 1280)              0         \n",
            "                                                                 \n",
            " fc_out (Dense)              (None, 19)                24339     \n",
            "                                                                 \n",
            "=================================================================\n",
            "Total params: 4,073,903\n",
            "Trainable params: 24,339\n",
            "Non-trainable params: 4,049,564\n",
            "_________________________________________________________________\n"
          ]
        }
      ]
    },
    {
      "cell_type": "code",
      "source": [
        "# Train ด้วย ImageDataGenerator ของ Keras ซึ่งจะเพิ่มข้อมูลเสริมระหว่างการฝึกเพื่อลดโอกาสเกิด overfitting\n",
        "#overfitting เกิดจากข้อมูลที่ซับซ้อนกันเกินไป\n",
        "from tensorflow.keras.preprocessing.image import ImageDataGenerator\n",
        "\n",
        "train_datagen = ImageDataGenerator(\n",
        "      rescale=1./255, #โมเดลส่วนใหญ่ต้องใช้ RGB ในช่วง 0–1\n",
        "      rotation_range=40,\n",
        "      width_shift_range=0.2,\n",
        "      height_shift_range=0.2,\n",
        "      shear_range=0.2,\n",
        "      zoom_range=0.2,\n",
        "      horizontal_flip=True,\n",
        "      fill_mode='nearest')\n",
        "\n",
        "# Note that the validation data should not be augmented!\n",
        "test_datagen = ImageDataGenerator(rescale=1./255)\n",
        "\n",
        "train_generator = train_datagen.flow_from_directory(\n",
        "        # This is the target directory #ไดเรกเป้าหมาย\n",
        "        train_dir,\n",
        "        # รูปภาพทั้งหมดจะถูกปรับขนาดตามความสูงและความกว้างของเป้าหมาย\n",
        "        target_size=(height, width),\n",
        "        batch_size=batch_size,\n",
        "        # Since we use categorical_crossentropy loss, we need categorical labels\n",
        "        #เนื่องจากเราใช้ categorical_crossentropy loss เราจึงต้องมีป้ายกำกับตามหมวดหมู่\n",
        "        class_mode='categorical')\n",
        "\n",
        "validation_generator = test_datagen.flow_from_directory( #การดึงภาพจาก Directory มาเข้าโมเดล \n",
        "        validation_dir,\n",
        "        target_size=(height, width),\n",
        "        batch_size=batch_size,\n",
        "        class_mode='categorical')"
      ],
      "metadata": {
        "colab": {
          "base_uri": "https://localhost:8080/"
        },
        "id": "KBMZbdr2Pgw4",
        "outputId": "fa286353-732e-4274-c41b-3b4227a54ea9"
      },
      "execution_count": 11,
      "outputs": [
        {
          "output_type": "stream",
          "name": "stdout",
          "text": [
            "Found 1425 images belonging to 19 classes.\n",
            "Found 475 images belonging to 19 classes.\n"
          ]
        }
      ]
    },
    {
      "cell_type": "code",
      "source": [
        "history = model.fit_generator(\n",
        "      train_generator,\n",
        "      steps_per_epoch= NUM_TRAIN //batch_size,\n",
        "      epochs=epochs,\n",
        "      validation_data=validation_generator,\n",
        "      validation_steps= NUM_TEST //batch_size,\n",
        "      verbose=1,\n",
        "      use_multiprocessing=True,\n",
        "      workers=4)"
      ],
      "metadata": {
        "colab": {
          "base_uri": "https://localhost:8080/"
        },
        "id": "C9Cf1dwyP1PD",
        "outputId": "4f50d343-54e7-4ec4-8798-c1b3b2717e38"
      },
      "execution_count": 12,
      "outputs": [
        {
          "output_type": "stream",
          "name": "stderr",
          "text": [
            "<ipython-input-12-caa7b37242a8>:1: UserWarning: `Model.fit_generator` is deprecated and will be removed in a future version. Please use `Model.fit`, which supports generators.\n",
            "  history = model.fit_generator(\n"
          ]
        },
        {
          "output_type": "stream",
          "name": "stdout",
          "text": [
            "Epoch 1/250\n",
            "89/89 [==============================] - 233s 3s/step - loss: 2.5985 - acc: 0.1902 - val_loss: 2.7515 - val_acc: 0.1207\n",
            "Epoch 2/250\n",
            "89/89 [==============================] - 48s 526ms/step - loss: 2.5613 - acc: 0.1881 - val_loss: 2.7439 - val_acc: 0.1272\n",
            "Epoch 3/250\n",
            "89/89 [==============================] - 48s 531ms/step - loss: 2.6227 - acc: 0.1781 - val_loss: 2.7191 - val_acc: 0.1315\n",
            "Epoch 4/250\n",
            "89/89 [==============================] - 49s 534ms/step - loss: 2.6248 - acc: 0.1718 - val_loss: 2.7166 - val_acc: 0.1336\n",
            "Epoch 5/250\n",
            "89/89 [==============================] - 59s 655ms/step - loss: 2.6096 - acc: 0.1817 - val_loss: 2.7311 - val_acc: 0.1250\n",
            "Epoch 6/250\n",
            "89/89 [==============================] - 53s 571ms/step - loss: 2.6383 - acc: 0.1760 - val_loss: 2.7354 - val_acc: 0.1250\n",
            "Epoch 7/250\n",
            "89/89 [==============================] - 52s 572ms/step - loss: 2.6411 - acc: 0.1732 - val_loss: 2.7073 - val_acc: 0.1293\n",
            "Epoch 8/250\n",
            "89/89 [==============================] - 51s 565ms/step - loss: 2.6037 - acc: 0.1852 - val_loss: 2.7330 - val_acc: 0.1228\n",
            "Epoch 9/250\n",
            "89/89 [==============================] - 51s 566ms/step - loss: 2.6257 - acc: 0.1803 - val_loss: 2.7108 - val_acc: 0.1315\n",
            "Epoch 10/250\n",
            "89/89 [==============================] - 53s 584ms/step - loss: 2.5926 - acc: 0.1767 - val_loss: 2.7228 - val_acc: 0.1185\n",
            "Epoch 11/250\n",
            "89/89 [==============================] - 53s 585ms/step - loss: 2.6077 - acc: 0.1852 - val_loss: 2.7231 - val_acc: 0.1250\n",
            "Epoch 12/250\n",
            "89/89 [==============================] - 55s 603ms/step - loss: 2.5545 - acc: 0.1824 - val_loss: 2.7268 - val_acc: 0.1272\n",
            "Epoch 13/250\n",
            "89/89 [==============================] - 54s 592ms/step - loss: 2.5774 - acc: 0.1831 - val_loss: 2.7173 - val_acc: 0.1185\n",
            "Epoch 14/250\n",
            "89/89 [==============================] - 54s 588ms/step - loss: 2.5988 - acc: 0.1881 - val_loss: 2.7210 - val_acc: 0.1315\n",
            "Epoch 15/250\n",
            "89/89 [==============================] - 55s 604ms/step - loss: 2.6039 - acc: 0.1916 - val_loss: 2.7477 - val_acc: 0.1250\n",
            "Epoch 16/250\n",
            "89/89 [==============================] - 54s 589ms/step - loss: 2.5803 - acc: 0.1774 - val_loss: 2.7586 - val_acc: 0.1272\n",
            "Epoch 17/250\n",
            "89/89 [==============================] - 53s 587ms/step - loss: 2.6283 - acc: 0.1909 - val_loss: 2.7392 - val_acc: 0.1293\n",
            "Epoch 18/250\n",
            "89/89 [==============================] - 53s 588ms/step - loss: 2.5990 - acc: 0.1895 - val_loss: 2.7283 - val_acc: 0.1401\n",
            "Epoch 19/250\n",
            "89/89 [==============================] - 54s 594ms/step - loss: 2.6080 - acc: 0.1796 - val_loss: 2.7487 - val_acc: 0.1207\n",
            "Epoch 20/250\n",
            "89/89 [==============================] - 53s 587ms/step - loss: 2.5861 - acc: 0.1959 - val_loss: 2.7337 - val_acc: 0.1228\n",
            "Epoch 21/250\n",
            "89/89 [==============================] - 53s 584ms/step - loss: 2.5847 - acc: 0.1902 - val_loss: 2.7530 - val_acc: 0.1207\n",
            "Epoch 22/250\n",
            "89/89 [==============================] - 52s 576ms/step - loss: 2.6358 - acc: 0.1739 - val_loss: 2.7307 - val_acc: 0.1207\n",
            "Epoch 23/250\n",
            "89/89 [==============================] - 54s 593ms/step - loss: 2.5769 - acc: 0.1824 - val_loss: 2.7192 - val_acc: 0.1293\n",
            "Epoch 24/250\n",
            "89/89 [==============================] - 53s 584ms/step - loss: 2.6043 - acc: 0.1760 - val_loss: 2.7211 - val_acc: 0.1336\n",
            "Epoch 25/250\n",
            "89/89 [==============================] - 53s 583ms/step - loss: 2.5909 - acc: 0.1881 - val_loss: 2.7425 - val_acc: 0.1250\n",
            "Epoch 26/250\n",
            "89/89 [==============================] - 54s 595ms/step - loss: 2.5965 - acc: 0.1824 - val_loss: 2.7646 - val_acc: 0.1207\n",
            "Epoch 27/250\n",
            "89/89 [==============================] - 54s 583ms/step - loss: 2.5887 - acc: 0.1845 - val_loss: 2.7426 - val_acc: 0.1336\n",
            "Epoch 28/250\n",
            "89/89 [==============================] - 53s 586ms/step - loss: 2.5876 - acc: 0.1888 - val_loss: 2.7371 - val_acc: 0.1293\n",
            "Epoch 29/250\n",
            "89/89 [==============================] - 53s 583ms/step - loss: 2.6049 - acc: 0.1753 - val_loss: 2.7248 - val_acc: 0.1272\n",
            "Epoch 30/250\n",
            "89/89 [==============================] - 54s 592ms/step - loss: 2.5659 - acc: 0.1789 - val_loss: 2.7294 - val_acc: 0.1358\n",
            "Epoch 31/250\n",
            "89/89 [==============================] - 52s 574ms/step - loss: 2.5496 - acc: 0.2087 - val_loss: 2.7454 - val_acc: 0.1293\n",
            "Epoch 32/250\n",
            "89/89 [==============================] - 52s 574ms/step - loss: 2.6007 - acc: 0.1774 - val_loss: 2.7482 - val_acc: 0.1315\n",
            "Epoch 33/250\n",
            "89/89 [==============================] - 52s 575ms/step - loss: 2.6045 - acc: 0.1831 - val_loss: 2.7579 - val_acc: 0.1250\n",
            "Epoch 34/250\n",
            "89/89 [==============================] - 52s 568ms/step - loss: 2.6194 - acc: 0.1831 - val_loss: 2.7387 - val_acc: 0.1336\n",
            "Epoch 35/250\n",
            "89/89 [==============================] - 52s 571ms/step - loss: 2.5943 - acc: 0.1810 - val_loss: 2.7457 - val_acc: 0.1228\n",
            "Epoch 36/250\n",
            "89/89 [==============================] - 52s 568ms/step - loss: 2.5658 - acc: 0.1881 - val_loss: 2.7366 - val_acc: 0.1293\n",
            "Epoch 37/250\n",
            "89/89 [==============================] - 51s 565ms/step - loss: 2.5110 - acc: 0.1973 - val_loss: 2.7243 - val_acc: 0.1358\n",
            "Epoch 38/250\n",
            "89/89 [==============================] - 51s 564ms/step - loss: 2.5677 - acc: 0.1959 - val_loss: 2.7599 - val_acc: 0.1228\n",
            "Epoch 39/250\n",
            "89/89 [==============================] - 52s 568ms/step - loss: 2.5558 - acc: 0.1959 - val_loss: 2.7440 - val_acc: 0.1207\n",
            "Epoch 40/250\n",
            "89/89 [==============================] - 52s 570ms/step - loss: 2.5429 - acc: 0.1952 - val_loss: 2.7332 - val_acc: 0.1272\n",
            "Epoch 41/250\n",
            "89/89 [==============================] - 52s 576ms/step - loss: 2.5633 - acc: 0.1909 - val_loss: 2.7445 - val_acc: 0.1336\n",
            "Epoch 42/250\n",
            "89/89 [==============================] - 51s 561ms/step - loss: 2.5542 - acc: 0.1838 - val_loss: 2.7215 - val_acc: 0.1358\n",
            "Epoch 43/250\n",
            "89/89 [==============================] - 52s 585ms/step - loss: 2.5756 - acc: 0.1867 - val_loss: 2.7450 - val_acc: 0.1315\n",
            "Epoch 44/250\n",
            "89/89 [==============================] - 52s 571ms/step - loss: 2.5564 - acc: 0.1767 - val_loss: 2.7497 - val_acc: 0.1336\n",
            "Epoch 45/250\n",
            "89/89 [==============================] - 54s 593ms/step - loss: 2.5463 - acc: 0.1803 - val_loss: 2.7229 - val_acc: 0.1272\n",
            "Epoch 46/250\n",
            "89/89 [==============================] - 53s 582ms/step - loss: 2.5790 - acc: 0.1838 - val_loss: 2.7201 - val_acc: 0.1293\n",
            "Epoch 47/250\n",
            "89/89 [==============================] - 53s 577ms/step - loss: 2.5463 - acc: 0.1881 - val_loss: 2.7090 - val_acc: 0.1315\n",
            "Epoch 48/250\n",
            "89/89 [==============================] - 52s 575ms/step - loss: 2.5046 - acc: 0.1973 - val_loss: 2.7302 - val_acc: 0.1272\n",
            "Epoch 49/250\n",
            "89/89 [==============================] - 53s 584ms/step - loss: 2.5375 - acc: 0.2009 - val_loss: 2.7462 - val_acc: 0.1336\n",
            "Epoch 50/250\n",
            "89/89 [==============================] - 52s 571ms/step - loss: 2.6092 - acc: 0.1923 - val_loss: 2.7089 - val_acc: 0.1336\n",
            "Epoch 51/250\n",
            "89/89 [==============================] - 52s 574ms/step - loss: 2.5779 - acc: 0.1810 - val_loss: 2.7324 - val_acc: 0.1272\n",
            "Epoch 52/250\n",
            "89/89 [==============================] - 53s 583ms/step - loss: 2.5041 - acc: 0.2023 - val_loss: 2.7560 - val_acc: 0.1293\n",
            "Epoch 53/250\n",
            "89/89 [==============================] - 53s 584ms/step - loss: 2.5589 - acc: 0.1909 - val_loss: 2.7646 - val_acc: 0.1228\n",
            "Epoch 54/250\n",
            "89/89 [==============================] - 52s 571ms/step - loss: 2.5082 - acc: 0.1916 - val_loss: 2.7524 - val_acc: 0.1293\n",
            "Epoch 55/250\n",
            "89/89 [==============================] - 52s 575ms/step - loss: 2.5906 - acc: 0.1881 - val_loss: 2.7463 - val_acc: 0.1228\n",
            "Epoch 56/250\n",
            "89/89 [==============================] - 54s 594ms/step - loss: 2.5249 - acc: 0.1817 - val_loss: 2.7354 - val_acc: 0.1272\n",
            "Epoch 57/250\n",
            "89/89 [==============================] - 53s 578ms/step - loss: 2.5156 - acc: 0.2051 - val_loss: 2.7362 - val_acc: 0.1336\n",
            "Epoch 58/250\n",
            "89/89 [==============================] - 53s 597ms/step - loss: 2.5273 - acc: 0.1852 - val_loss: 2.7300 - val_acc: 0.1293\n",
            "Epoch 59/250\n",
            "89/89 [==============================] - 52s 574ms/step - loss: 2.5269 - acc: 0.1852 - val_loss: 2.7172 - val_acc: 0.1379\n",
            "Epoch 60/250\n",
            "89/89 [==============================] - 53s 579ms/step - loss: 2.5529 - acc: 0.1796 - val_loss: 2.7299 - val_acc: 0.1444\n",
            "Epoch 61/250\n",
            "89/89 [==============================] - 53s 577ms/step - loss: 2.5116 - acc: 0.1980 - val_loss: 2.7340 - val_acc: 0.1315\n",
            "Epoch 62/250\n",
            "89/89 [==============================] - 52s 571ms/step - loss: 2.5232 - acc: 0.2030 - val_loss: 2.7214 - val_acc: 0.1444\n",
            "Epoch 63/250\n",
            "89/89 [==============================] - 53s 588ms/step - loss: 2.5377 - acc: 0.2044 - val_loss: 2.7284 - val_acc: 0.1358\n",
            "Epoch 64/250\n",
            "89/89 [==============================] - 52s 574ms/step - loss: 2.5390 - acc: 0.1867 - val_loss: 2.7135 - val_acc: 0.1250\n",
            "Epoch 65/250\n",
            "89/89 [==============================] - 52s 567ms/step - loss: 2.5284 - acc: 0.2001 - val_loss: 2.7508 - val_acc: 0.1293\n",
            "Epoch 66/250\n",
            "89/89 [==============================] - 52s 570ms/step - loss: 2.5036 - acc: 0.1966 - val_loss: 2.7336 - val_acc: 0.1228\n",
            "Epoch 67/250\n",
            "89/89 [==============================] - 52s 575ms/step - loss: 2.5425 - acc: 0.1930 - val_loss: 2.7568 - val_acc: 0.1185\n",
            "Epoch 68/250\n",
            "89/89 [==============================] - 52s 571ms/step - loss: 2.5132 - acc: 0.1973 - val_loss: 2.7449 - val_acc: 0.1293\n",
            "Epoch 69/250\n",
            "89/89 [==============================] - 52s 568ms/step - loss: 2.4928 - acc: 0.2087 - val_loss: 2.7704 - val_acc: 0.1336\n",
            "Epoch 70/250\n",
            "89/89 [==============================] - 53s 581ms/step - loss: 2.4952 - acc: 0.1874 - val_loss: 2.7176 - val_acc: 0.1401\n",
            "Epoch 71/250\n",
            "89/89 [==============================] - 52s 571ms/step - loss: 2.5113 - acc: 0.2001 - val_loss: 2.7359 - val_acc: 0.1336\n",
            "Epoch 72/250\n",
            "89/89 [==============================] - 52s 569ms/step - loss: 2.4763 - acc: 0.2094 - val_loss: 2.7199 - val_acc: 0.1336\n",
            "Epoch 73/250\n",
            "89/89 [==============================] - 54s 593ms/step - loss: 2.5330 - acc: 0.1902 - val_loss: 2.7218 - val_acc: 0.1336\n",
            "Epoch 74/250\n",
            "89/89 [==============================] - 53s 588ms/step - loss: 2.4699 - acc: 0.2094 - val_loss: 2.7222 - val_acc: 0.1358\n",
            "Epoch 75/250\n",
            "89/89 [==============================] - 53s 582ms/step - loss: 2.5258 - acc: 0.1881 - val_loss: 2.7024 - val_acc: 0.1379\n",
            "Epoch 76/250\n",
            "89/89 [==============================] - 53s 588ms/step - loss: 2.4461 - acc: 0.2108 - val_loss: 2.7301 - val_acc: 0.1164\n",
            "Epoch 77/250\n",
            "89/89 [==============================] - 52s 573ms/step - loss: 2.5342 - acc: 0.1938 - val_loss: 2.7098 - val_acc: 0.1336\n",
            "Epoch 78/250\n",
            "89/89 [==============================] - 52s 577ms/step - loss: 2.5444 - acc: 0.1895 - val_loss: 2.7247 - val_acc: 0.1250\n",
            "Epoch 79/250\n",
            "89/89 [==============================] - 53s 580ms/step - loss: 2.5405 - acc: 0.1902 - val_loss: 2.7030 - val_acc: 0.1272\n",
            "Epoch 80/250\n",
            "89/89 [==============================] - 52s 575ms/step - loss: 2.5251 - acc: 0.1916 - val_loss: 2.6924 - val_acc: 0.1315\n",
            "Epoch 81/250\n",
            "89/89 [==============================] - 52s 571ms/step - loss: 2.4450 - acc: 0.2179 - val_loss: 2.7021 - val_acc: 0.1401\n",
            "Epoch 82/250\n",
            "89/89 [==============================] - 53s 577ms/step - loss: 2.4764 - acc: 0.1895 - val_loss: 2.6995 - val_acc: 0.1358\n",
            "Epoch 83/250\n",
            "89/89 [==============================] - 54s 590ms/step - loss: 2.4855 - acc: 0.2136 - val_loss: 2.7248 - val_acc: 0.1444\n",
            "Epoch 84/250\n",
            "89/89 [==============================] - 52s 569ms/step - loss: 2.5239 - acc: 0.1980 - val_loss: 2.7277 - val_acc: 0.1401\n",
            "Epoch 85/250\n",
            "89/89 [==============================] - 52s 573ms/step - loss: 2.4639 - acc: 0.2051 - val_loss: 2.7224 - val_acc: 0.1401\n",
            "Epoch 86/250\n",
            "89/89 [==============================] - 54s 588ms/step - loss: 2.4954 - acc: 0.2072 - val_loss: 2.7346 - val_acc: 0.1358\n",
            "Epoch 87/250\n",
            "89/89 [==============================] - 52s 567ms/step - loss: 2.4638 - acc: 0.1994 - val_loss: 2.7321 - val_acc: 0.1358\n",
            "Epoch 88/250\n",
            "89/89 [==============================] - 52s 571ms/step - loss: 2.5148 - acc: 0.2037 - val_loss: 2.7268 - val_acc: 0.1379\n",
            "Epoch 89/250\n",
            "89/89 [==============================] - 53s 585ms/step - loss: 2.4674 - acc: 0.2143 - val_loss: 2.7246 - val_acc: 0.1379\n",
            "Epoch 90/250\n",
            "89/89 [==============================] - 53s 588ms/step - loss: 2.4790 - acc: 0.2051 - val_loss: 2.7335 - val_acc: 0.1358\n",
            "Epoch 91/250\n",
            "89/89 [==============================] - 54s 589ms/step - loss: 2.4521 - acc: 0.1994 - val_loss: 2.7061 - val_acc: 0.1401\n",
            "Epoch 92/250\n",
            "89/89 [==============================] - 54s 597ms/step - loss: 2.4610 - acc: 0.2129 - val_loss: 2.7185 - val_acc: 0.1379\n",
            "Epoch 93/250\n",
            "89/89 [==============================] - 54s 590ms/step - loss: 2.4739 - acc: 0.1959 - val_loss: 2.7007 - val_acc: 0.1401\n",
            "Epoch 94/250\n",
            "89/89 [==============================] - 53s 577ms/step - loss: 2.4749 - acc: 0.1980 - val_loss: 2.7309 - val_acc: 0.1358\n",
            "Epoch 95/250\n",
            "89/89 [==============================] - 54s 600ms/step - loss: 2.4865 - acc: 0.2044 - val_loss: 2.7165 - val_acc: 0.1336\n",
            "Epoch 96/250\n",
            "89/89 [==============================] - 52s 573ms/step - loss: 2.4751 - acc: 0.1916 - val_loss: 2.7053 - val_acc: 0.1422\n",
            "Epoch 97/250\n",
            "89/89 [==============================] - 53s 579ms/step - loss: 2.4784 - acc: 0.1930 - val_loss: 2.7002 - val_acc: 0.1379\n",
            "Epoch 98/250\n",
            "89/89 [==============================] - 54s 594ms/step - loss: 2.4664 - acc: 0.2115 - val_loss: 2.7114 - val_acc: 0.1358\n",
            "Epoch 99/250\n",
            "89/89 [==============================] - 53s 584ms/step - loss: 2.4795 - acc: 0.1987 - val_loss: 2.7112 - val_acc: 0.1422\n",
            "Epoch 100/250\n",
            "89/89 [==============================] - 53s 583ms/step - loss: 2.4866 - acc: 0.1923 - val_loss: 2.7037 - val_acc: 0.1315\n",
            "Epoch 101/250\n",
            "89/89 [==============================] - 54s 595ms/step - loss: 2.4828 - acc: 0.2087 - val_loss: 2.7294 - val_acc: 0.1422\n",
            "Epoch 102/250\n",
            "89/89 [==============================] - 52s 575ms/step - loss: 2.4826 - acc: 0.2058 - val_loss: 2.7311 - val_acc: 0.1358\n",
            "Epoch 103/250\n",
            "89/89 [==============================] - 53s 585ms/step - loss: 2.4821 - acc: 0.2001 - val_loss: 2.7308 - val_acc: 0.1379\n",
            "Epoch 104/250\n",
            "89/89 [==============================] - 54s 591ms/step - loss: 2.4515 - acc: 0.1994 - val_loss: 2.7302 - val_acc: 0.1336\n",
            "Epoch 105/250\n",
            "89/89 [==============================] - 52s 572ms/step - loss: 2.4424 - acc: 0.1895 - val_loss: 2.7446 - val_acc: 0.1401\n",
            "Epoch 106/250\n",
            "89/89 [==============================] - 52s 571ms/step - loss: 2.5045 - acc: 0.1994 - val_loss: 2.7332 - val_acc: 0.1422\n",
            "Epoch 107/250\n",
            "89/89 [==============================] - 53s 575ms/step - loss: 2.4711 - acc: 0.2200 - val_loss: 2.7252 - val_acc: 0.1379\n",
            "Epoch 108/250\n",
            "89/89 [==============================] - 51s 564ms/step - loss: 2.4497 - acc: 0.2030 - val_loss: 2.7234 - val_acc: 0.1336\n",
            "Epoch 109/250\n",
            "89/89 [==============================] - 51s 561ms/step - loss: 2.4440 - acc: 0.2087 - val_loss: 2.7281 - val_acc: 0.1379\n",
            "Epoch 110/250\n",
            "89/89 [==============================] - 51s 565ms/step - loss: 2.4716 - acc: 0.2129 - val_loss: 2.7315 - val_acc: 0.1358\n",
            "Epoch 111/250\n",
            "89/89 [==============================] - 52s 576ms/step - loss: 2.4592 - acc: 0.2101 - val_loss: 2.7223 - val_acc: 0.1401\n",
            "Epoch 112/250\n",
            "89/89 [==============================] - 52s 579ms/step - loss: 2.5186 - acc: 0.2009 - val_loss: 2.6987 - val_acc: 0.1401\n",
            "Epoch 113/250\n",
            "89/89 [==============================] - 52s 574ms/step - loss: 2.4978 - acc: 0.1980 - val_loss: 2.7242 - val_acc: 0.1466\n",
            "Epoch 114/250\n",
            "89/89 [==============================] - 53s 579ms/step - loss: 2.4825 - acc: 0.1973 - val_loss: 2.7448 - val_acc: 0.1358\n",
            "Epoch 115/250\n",
            "89/89 [==============================] - 53s 581ms/step - loss: 2.4741 - acc: 0.2101 - val_loss: 2.7402 - val_acc: 0.1336\n",
            "Epoch 116/250\n",
            "89/89 [==============================] - 53s 580ms/step - loss: 2.4799 - acc: 0.1994 - val_loss: 2.7201 - val_acc: 0.1358\n",
            "Epoch 117/250\n",
            "89/89 [==============================] - 52s 566ms/step - loss: 2.4840 - acc: 0.1909 - val_loss: 2.7116 - val_acc: 0.1379\n",
            "Epoch 118/250\n",
            "89/89 [==============================] - 54s 589ms/step - loss: 2.4893 - acc: 0.1959 - val_loss: 2.7264 - val_acc: 0.1336\n",
            "Epoch 119/250\n",
            "89/89 [==============================] - 52s 574ms/step - loss: 2.4666 - acc: 0.1867 - val_loss: 2.7125 - val_acc: 0.1422\n",
            "Epoch 120/250\n",
            "89/89 [==============================] - 53s 579ms/step - loss: 2.5125 - acc: 0.2165 - val_loss: 2.7009 - val_acc: 0.1422\n",
            "Epoch 121/250\n",
            "89/89 [==============================] - 52s 569ms/step - loss: 2.5079 - acc: 0.2030 - val_loss: 2.7163 - val_acc: 0.1358\n",
            "Epoch 122/250\n",
            "89/89 [==============================] - 52s 569ms/step - loss: 2.4657 - acc: 0.1987 - val_loss: 2.6931 - val_acc: 0.1444\n",
            "Epoch 123/250\n",
            "89/89 [==============================] - 53s 577ms/step - loss: 2.4808 - acc: 0.2079 - val_loss: 2.7165 - val_acc: 0.1336\n",
            "Epoch 124/250\n",
            "89/89 [==============================] - 51s 559ms/step - loss: 2.4517 - acc: 0.1980 - val_loss: 2.7132 - val_acc: 0.1422\n",
            "Epoch 125/250\n",
            "89/89 [==============================] - 52s 574ms/step - loss: 2.4201 - acc: 0.2158 - val_loss: 2.7165 - val_acc: 0.1422\n",
            "Epoch 126/250\n",
            "89/89 [==============================] - 51s 562ms/step - loss: 2.4809 - acc: 0.1767 - val_loss: 2.7329 - val_acc: 0.1422\n",
            "Epoch 127/250\n",
            "89/89 [==============================] - 52s 570ms/step - loss: 2.4808 - acc: 0.1945 - val_loss: 2.7387 - val_acc: 0.1379\n",
            "Epoch 128/250\n",
            "89/89 [==============================] - 52s 572ms/step - loss: 2.5198 - acc: 0.1867 - val_loss: 2.7328 - val_acc: 0.1422\n",
            "Epoch 129/250\n",
            "89/89 [==============================] - 52s 573ms/step - loss: 2.4474 - acc: 0.2108 - val_loss: 2.7167 - val_acc: 0.1422\n",
            "Epoch 130/250\n",
            "89/89 [==============================] - 53s 585ms/step - loss: 2.4360 - acc: 0.2122 - val_loss: 2.7143 - val_acc: 0.1401\n",
            "Epoch 131/250\n",
            "89/89 [==============================] - 51s 564ms/step - loss: 2.4573 - acc: 0.2016 - val_loss: 2.6861 - val_acc: 0.1358\n",
            "Epoch 132/250\n",
            "89/89 [==============================] - 53s 580ms/step - loss: 2.4717 - acc: 0.2030 - val_loss: 2.6836 - val_acc: 0.1379\n",
            "Epoch 133/250\n",
            "89/89 [==============================] - 52s 566ms/step - loss: 2.4249 - acc: 0.2221 - val_loss: 2.7202 - val_acc: 0.1293\n",
            "Epoch 134/250\n",
            "89/89 [==============================] - 52s 571ms/step - loss: 2.4578 - acc: 0.2009 - val_loss: 2.6937 - val_acc: 0.1444\n",
            "Epoch 135/250\n",
            "89/89 [==============================] - 52s 572ms/step - loss: 2.4215 - acc: 0.2172 - val_loss: 2.7019 - val_acc: 0.1379\n",
            "Epoch 136/250\n",
            "89/89 [==============================] - 51s 562ms/step - loss: 2.3873 - acc: 0.2200 - val_loss: 2.6931 - val_acc: 0.1422\n",
            "Epoch 137/250\n",
            "89/89 [==============================] - 54s 592ms/step - loss: 2.4623 - acc: 0.2001 - val_loss: 2.7175 - val_acc: 0.1336\n",
            "Epoch 138/250\n",
            "89/89 [==============================] - 53s 581ms/step - loss: 2.4238 - acc: 0.1945 - val_loss: 2.7233 - val_acc: 0.1336\n",
            "Epoch 139/250\n",
            "89/89 [==============================] - 55s 598ms/step - loss: 2.4433 - acc: 0.2129 - val_loss: 2.7068 - val_acc: 0.1293\n",
            "Epoch 140/250\n",
            "89/89 [==============================] - 52s 574ms/step - loss: 2.4588 - acc: 0.2051 - val_loss: 2.7018 - val_acc: 0.1336\n",
            "Epoch 141/250\n",
            "89/89 [==============================] - 51s 560ms/step - loss: 2.4293 - acc: 0.2009 - val_loss: 2.7046 - val_acc: 0.1293\n",
            "Epoch 142/250\n",
            "89/89 [==============================] - 52s 574ms/step - loss: 2.3962 - acc: 0.2115 - val_loss: 2.7075 - val_acc: 0.1358\n",
            "Epoch 143/250\n",
            "89/89 [==============================] - 51s 556ms/step - loss: 2.4223 - acc: 0.2030 - val_loss: 2.7134 - val_acc: 0.1422\n",
            "Epoch 144/250\n",
            "89/89 [==============================] - 51s 556ms/step - loss: 2.4757 - acc: 0.1902 - val_loss: 2.7321 - val_acc: 0.1379\n",
            "Epoch 145/250\n",
            "89/89 [==============================] - 52s 567ms/step - loss: 2.4507 - acc: 0.2065 - val_loss: 2.7099 - val_acc: 0.1422\n",
            "Epoch 146/250\n",
            "89/89 [==============================] - 51s 555ms/step - loss: 2.3758 - acc: 0.2129 - val_loss: 2.7245 - val_acc: 0.1401\n",
            "Epoch 147/250\n",
            "89/89 [==============================] - 51s 560ms/step - loss: 2.3928 - acc: 0.2236 - val_loss: 2.6988 - val_acc: 0.1401\n",
            "Epoch 148/250\n",
            "89/89 [==============================] - 54s 590ms/step - loss: 2.3892 - acc: 0.2236 - val_loss: 2.7030 - val_acc: 0.1379\n",
            "Epoch 149/250\n",
            "89/89 [==============================] - 52s 565ms/step - loss: 2.3999 - acc: 0.2221 - val_loss: 2.7118 - val_acc: 0.1293\n",
            "Epoch 150/250\n",
            "89/89 [==============================] - 51s 564ms/step - loss: 2.4641 - acc: 0.2037 - val_loss: 2.6985 - val_acc: 0.1379\n",
            "Epoch 151/250\n",
            "89/89 [==============================] - 52s 570ms/step - loss: 2.4210 - acc: 0.2136 - val_loss: 2.6992 - val_acc: 0.1379\n",
            "Epoch 152/250\n",
            "89/89 [==============================] - 53s 578ms/step - loss: 2.4188 - acc: 0.2094 - val_loss: 2.6860 - val_acc: 0.1379\n",
            "Epoch 153/250\n",
            "89/89 [==============================] - 52s 569ms/step - loss: 2.4149 - acc: 0.2079 - val_loss: 2.6947 - val_acc: 0.1315\n",
            "Epoch 154/250\n",
            "89/89 [==============================] - 52s 570ms/step - loss: 2.4197 - acc: 0.1987 - val_loss: 2.7016 - val_acc: 0.1444\n",
            "Epoch 155/250\n",
            "89/89 [==============================] - 51s 561ms/step - loss: 2.4062 - acc: 0.2058 - val_loss: 2.7141 - val_acc: 0.1358\n",
            "Epoch 156/250\n",
            "89/89 [==============================] - 51s 581ms/step - loss: 2.3682 - acc: 0.2200 - val_loss: 2.7111 - val_acc: 0.1422\n",
            "Epoch 157/250\n",
            "89/89 [==============================] - 51s 560ms/step - loss: 2.4539 - acc: 0.1952 - val_loss: 2.7079 - val_acc: 0.1444\n",
            "Epoch 158/250\n",
            "89/89 [==============================] - 52s 577ms/step - loss: 2.4566 - acc: 0.2143 - val_loss: 2.6962 - val_acc: 0.1401\n",
            "Epoch 159/250\n",
            "89/89 [==============================] - 54s 595ms/step - loss: 2.4711 - acc: 0.1881 - val_loss: 2.7332 - val_acc: 0.1379\n",
            "Epoch 160/250\n",
            "89/89 [==============================] - 54s 589ms/step - loss: 2.4603 - acc: 0.2115 - val_loss: 2.7128 - val_acc: 0.1422\n",
            "Epoch 161/250\n",
            "89/89 [==============================] - 53s 584ms/step - loss: 2.4673 - acc: 0.2023 - val_loss: 2.7043 - val_acc: 0.1466\n",
            "Epoch 162/250\n",
            "89/89 [==============================] - 54s 591ms/step - loss: 2.4669 - acc: 0.1923 - val_loss: 2.7025 - val_acc: 0.1444\n",
            "Epoch 163/250\n",
            "89/89 [==============================] - 55s 607ms/step - loss: 2.4444 - acc: 0.1881 - val_loss: 2.6964 - val_acc: 0.1444\n",
            "Epoch 164/250\n",
            "89/89 [==============================] - 54s 597ms/step - loss: 2.4312 - acc: 0.2087 - val_loss: 2.7086 - val_acc: 0.1466\n",
            "Epoch 165/250\n",
            "89/89 [==============================] - 55s 608ms/step - loss: 2.4420 - acc: 0.2072 - val_loss: 2.6970 - val_acc: 0.1444\n",
            "Epoch 166/250\n",
            "89/89 [==============================] - 54s 598ms/step - loss: 2.4306 - acc: 0.2236 - val_loss: 2.6892 - val_acc: 0.1358\n",
            "Epoch 167/250\n",
            "89/89 [==============================] - 54s 594ms/step - loss: 2.3876 - acc: 0.2087 - val_loss: 2.6852 - val_acc: 0.1466\n",
            "Epoch 168/250\n",
            "89/89 [==============================] - 63s 697ms/step - loss: 2.3647 - acc: 0.2236 - val_loss: 2.6908 - val_acc: 0.1444\n",
            "Epoch 169/250\n",
            "89/89 [==============================] - 52s 574ms/step - loss: 2.4420 - acc: 0.2150 - val_loss: 2.7367 - val_acc: 0.1379\n",
            "Epoch 170/250\n",
            "89/89 [==============================] - 53s 604ms/step - loss: 2.4331 - acc: 0.2186 - val_loss: 2.7208 - val_acc: 0.1358\n",
            "Epoch 171/250\n",
            "89/89 [==============================] - 53s 582ms/step - loss: 2.4681 - acc: 0.2016 - val_loss: 2.7263 - val_acc: 0.1401\n",
            "Epoch 172/250\n",
            "89/89 [==============================] - 54s 594ms/step - loss: 2.4524 - acc: 0.2023 - val_loss: 2.7119 - val_acc: 0.1466\n",
            "Epoch 173/250\n",
            "89/89 [==============================] - 52s 573ms/step - loss: 2.4351 - acc: 0.2065 - val_loss: 2.7083 - val_acc: 0.1487\n",
            "Epoch 174/250\n",
            "89/89 [==============================] - 54s 593ms/step - loss: 2.4020 - acc: 0.2221 - val_loss: 2.7135 - val_acc: 0.1444\n",
            "Epoch 175/250\n",
            "89/89 [==============================] - 53s 578ms/step - loss: 2.4347 - acc: 0.2016 - val_loss: 2.7208 - val_acc: 0.1444\n",
            "Epoch 176/250\n",
            "89/89 [==============================] - 53s 586ms/step - loss: 2.4039 - acc: 0.2193 - val_loss: 2.7318 - val_acc: 0.1401\n",
            "Epoch 177/250\n",
            "89/89 [==============================] - 54s 591ms/step - loss: 2.3778 - acc: 0.2115 - val_loss: 2.7425 - val_acc: 0.1401\n",
            "Epoch 178/250\n",
            "89/89 [==============================] - 53s 583ms/step - loss: 2.4404 - acc: 0.2001 - val_loss: 2.7254 - val_acc: 0.1444\n",
            "Epoch 179/250\n",
            "89/89 [==============================] - 53s 581ms/step - loss: 2.4319 - acc: 0.2129 - val_loss: 2.7140 - val_acc: 0.1422\n",
            "Epoch 180/250\n",
            "89/89 [==============================] - 53s 579ms/step - loss: 2.4239 - acc: 0.2115 - val_loss: 2.7206 - val_acc: 0.1315\n",
            "Epoch 181/250\n",
            "89/89 [==============================] - 54s 590ms/step - loss: 2.4353 - acc: 0.2129 - val_loss: 2.7036 - val_acc: 0.1466\n",
            "Epoch 182/250\n",
            "89/89 [==============================] - 53s 579ms/step - loss: 2.3971 - acc: 0.2009 - val_loss: 2.7432 - val_acc: 0.1379\n",
            "Epoch 183/250\n",
            "89/89 [==============================] - 54s 592ms/step - loss: 2.4416 - acc: 0.2058 - val_loss: 2.7238 - val_acc: 0.1444\n",
            "Epoch 184/250\n",
            "89/89 [==============================] - 53s 581ms/step - loss: 2.3971 - acc: 0.2030 - val_loss: 2.7311 - val_acc: 0.1315\n",
            "Epoch 185/250\n",
            "89/89 [==============================] - 54s 593ms/step - loss: 2.3508 - acc: 0.2321 - val_loss: 2.7113 - val_acc: 0.1379\n",
            "Epoch 186/250\n",
            "89/89 [==============================] - 53s 582ms/step - loss: 2.3971 - acc: 0.2115 - val_loss: 2.7285 - val_acc: 0.1422\n",
            "Epoch 187/250\n",
            "89/89 [==============================] - 53s 585ms/step - loss: 2.3640 - acc: 0.2101 - val_loss: 2.7137 - val_acc: 0.1401\n",
            "Epoch 188/250\n",
            "89/89 [==============================] - 53s 586ms/step - loss: 2.3940 - acc: 0.2158 - val_loss: 2.7471 - val_acc: 0.1358\n",
            "Epoch 189/250\n",
            "89/89 [==============================] - 53s 586ms/step - loss: 2.4006 - acc: 0.2243 - val_loss: 2.7497 - val_acc: 0.1379\n",
            "Epoch 190/250\n",
            "89/89 [==============================] - 54s 588ms/step - loss: 2.3991 - acc: 0.2200 - val_loss: 2.7454 - val_acc: 0.1401\n",
            "Epoch 191/250\n",
            "89/89 [==============================] - 53s 578ms/step - loss: 2.3905 - acc: 0.2122 - val_loss: 2.7234 - val_acc: 0.1315\n",
            "Epoch 192/250\n",
            "89/89 [==============================] - 54s 616ms/step - loss: 2.4001 - acc: 0.2122 - val_loss: 2.7160 - val_acc: 0.1315\n",
            "Epoch 193/250\n",
            "89/89 [==============================] - 53s 584ms/step - loss: 2.3756 - acc: 0.2342 - val_loss: 2.7268 - val_acc: 0.1293\n",
            "Epoch 194/250\n",
            "89/89 [==============================] - 53s 585ms/step - loss: 2.4641 - acc: 0.2079 - val_loss: 2.7499 - val_acc: 0.1315\n",
            "Epoch 195/250\n",
            "89/89 [==============================] - 54s 590ms/step - loss: 2.4141 - acc: 0.2179 - val_loss: 2.7343 - val_acc: 0.1422\n",
            "Epoch 196/250\n",
            "89/89 [==============================] - 53s 584ms/step - loss: 2.3624 - acc: 0.2207 - val_loss: 2.7465 - val_acc: 0.1358\n",
            "Epoch 197/250\n",
            "89/89 [==============================] - 52s 578ms/step - loss: 2.3815 - acc: 0.2221 - val_loss: 2.7430 - val_acc: 0.1272\n",
            "Epoch 198/250\n",
            "89/89 [==============================] - 53s 578ms/step - loss: 2.3962 - acc: 0.2129 - val_loss: 2.7191 - val_acc: 0.1401\n",
            "Epoch 199/250\n",
            "89/89 [==============================] - 54s 593ms/step - loss: 2.3504 - acc: 0.2229 - val_loss: 2.7173 - val_acc: 0.1336\n",
            "Epoch 200/250\n",
            "89/89 [==============================] - 53s 579ms/step - loss: 2.4027 - acc: 0.2108 - val_loss: 2.7391 - val_acc: 0.1336\n",
            "Epoch 201/250\n",
            "89/89 [==============================] - 54s 592ms/step - loss: 2.3925 - acc: 0.2165 - val_loss: 2.7201 - val_acc: 0.1466\n",
            "Epoch 202/250\n",
            "89/89 [==============================] - 53s 578ms/step - loss: 2.4536 - acc: 0.2009 - val_loss: 2.7416 - val_acc: 0.1358\n",
            "Epoch 203/250\n",
            "89/89 [==============================] - 52s 577ms/step - loss: 2.4263 - acc: 0.2158 - val_loss: 2.7319 - val_acc: 0.1379\n",
            "Epoch 204/250\n",
            "89/89 [==============================] - 54s 581ms/step - loss: 2.4036 - acc: 0.2129 - val_loss: 2.7466 - val_acc: 0.1336\n",
            "Epoch 205/250\n",
            "89/89 [==============================] - 53s 579ms/step - loss: 2.3536 - acc: 0.2363 - val_loss: 2.7308 - val_acc: 0.1358\n",
            "Epoch 206/250\n",
            "89/89 [==============================] - 54s 592ms/step - loss: 2.3381 - acc: 0.2172 - val_loss: 2.7395 - val_acc: 0.1315\n",
            "Epoch 207/250\n",
            "89/89 [==============================] - 52s 576ms/step - loss: 2.3819 - acc: 0.2115 - val_loss: 2.7454 - val_acc: 0.1315\n",
            "Epoch 208/250\n",
            "89/89 [==============================] - 54s 595ms/step - loss: 2.3855 - acc: 0.2214 - val_loss: 2.6984 - val_acc: 0.1444\n",
            "Epoch 209/250\n",
            "89/89 [==============================] - 53s 583ms/step - loss: 2.3821 - acc: 0.2136 - val_loss: 2.7118 - val_acc: 0.1315\n",
            "Epoch 210/250\n",
            "89/89 [==============================] - 53s 582ms/step - loss: 2.3830 - acc: 0.2165 - val_loss: 2.7188 - val_acc: 0.1315\n",
            "Epoch 211/250\n",
            "89/89 [==============================] - 54s 591ms/step - loss: 2.3941 - acc: 0.2079 - val_loss: 2.7687 - val_acc: 0.1293\n",
            "Epoch 212/250\n",
            "89/89 [==============================] - 53s 580ms/step - loss: 2.4142 - acc: 0.2165 - val_loss: 2.7493 - val_acc: 0.1315\n",
            "Epoch 213/250\n",
            "89/89 [==============================] - 53s 588ms/step - loss: 2.3793 - acc: 0.2172 - val_loss: 2.7341 - val_acc: 0.1336\n",
            "Epoch 214/250\n",
            "89/89 [==============================] - 53s 581ms/step - loss: 2.4149 - acc: 0.2328 - val_loss: 2.7331 - val_acc: 0.1379\n",
            "Epoch 215/250\n",
            "89/89 [==============================] - 53s 582ms/step - loss: 2.3217 - acc: 0.2335 - val_loss: 2.7193 - val_acc: 0.1401\n",
            "Epoch 216/250\n",
            "89/89 [==============================] - 53s 587ms/step - loss: 2.3738 - acc: 0.2278 - val_loss: 2.7250 - val_acc: 0.1293\n",
            "Epoch 217/250\n",
            "89/89 [==============================] - 53s 587ms/step - loss: 2.3934 - acc: 0.2158 - val_loss: 2.7174 - val_acc: 0.1444\n",
            "Epoch 218/250\n",
            "89/89 [==============================] - 53s 585ms/step - loss: 2.3440 - acc: 0.2370 - val_loss: 2.7364 - val_acc: 0.1444\n",
            "Epoch 219/250\n",
            "89/89 [==============================] - 53s 581ms/step - loss: 2.3941 - acc: 0.2101 - val_loss: 2.7242 - val_acc: 0.1444\n",
            "Epoch 220/250\n",
            "89/89 [==============================] - 53s 584ms/step - loss: 2.3751 - acc: 0.2165 - val_loss: 2.7181 - val_acc: 0.1401\n",
            "Epoch 221/250\n",
            "89/89 [==============================] - 53s 578ms/step - loss: 2.3510 - acc: 0.2129 - val_loss: 2.7150 - val_acc: 0.1422\n",
            "Epoch 222/250\n",
            "89/89 [==============================] - 53s 578ms/step - loss: 2.3334 - acc: 0.2413 - val_loss: 2.7362 - val_acc: 0.1315\n",
            "Epoch 223/250\n",
            "89/89 [==============================] - 53s 578ms/step - loss: 2.4033 - acc: 0.2165 - val_loss: 2.7218 - val_acc: 0.1401\n",
            "Epoch 224/250\n",
            "89/89 [==============================] - 54s 598ms/step - loss: 2.3724 - acc: 0.2108 - val_loss: 2.7432 - val_acc: 0.1293\n",
            "Epoch 225/250\n",
            "89/89 [==============================] - 55s 608ms/step - loss: 2.3299 - acc: 0.2356 - val_loss: 2.7211 - val_acc: 0.1358\n",
            "Epoch 226/250\n",
            "89/89 [==============================] - 53s 585ms/step - loss: 2.3835 - acc: 0.2243 - val_loss: 2.7124 - val_acc: 0.1358\n",
            "Epoch 227/250\n",
            "89/89 [==============================] - 53s 577ms/step - loss: 2.3059 - acc: 0.2285 - val_loss: 2.7086 - val_acc: 0.1379\n",
            "Epoch 228/250\n",
            "89/89 [==============================] - 52s 575ms/step - loss: 2.3688 - acc: 0.2165 - val_loss: 2.7320 - val_acc: 0.1358\n",
            "Epoch 229/250\n",
            "89/89 [==============================] - 52s 568ms/step - loss: 2.3684 - acc: 0.2236 - val_loss: 2.7272 - val_acc: 0.1379\n",
            "Epoch 230/250\n",
            "89/89 [==============================] - 52s 575ms/step - loss: 2.3596 - acc: 0.2285 - val_loss: 2.7181 - val_acc: 0.1336\n",
            "Epoch 231/250\n",
            "89/89 [==============================] - 54s 584ms/step - loss: 2.3970 - acc: 0.2158 - val_loss: 2.7228 - val_acc: 0.1379\n",
            "Epoch 232/250\n",
            "89/89 [==============================] - 53s 582ms/step - loss: 2.3238 - acc: 0.2207 - val_loss: 2.7325 - val_acc: 0.1336\n",
            "Epoch 233/250\n",
            "89/89 [==============================] - 54s 591ms/step - loss: 2.3736 - acc: 0.2250 - val_loss: 2.7217 - val_acc: 0.1336\n",
            "Epoch 234/250\n",
            "89/89 [==============================] - 53s 581ms/step - loss: 2.3504 - acc: 0.2143 - val_loss: 2.7019 - val_acc: 0.1379\n",
            "Epoch 235/250\n",
            "89/89 [==============================] - 53s 582ms/step - loss: 2.3397 - acc: 0.2399 - val_loss: 2.7103 - val_acc: 0.1358\n",
            "Epoch 236/250\n",
            "89/89 [==============================] - 54s 598ms/step - loss: 2.3764 - acc: 0.2136 - val_loss: 2.7072 - val_acc: 0.1444\n",
            "Epoch 237/250\n",
            "89/89 [==============================] - 53s 577ms/step - loss: 2.3773 - acc: 0.2023 - val_loss: 2.7193 - val_acc: 0.1422\n",
            "Epoch 238/250\n",
            "89/89 [==============================] - 54s 593ms/step - loss: 2.3530 - acc: 0.2363 - val_loss: 2.7125 - val_acc: 0.1379\n",
            "Epoch 239/250\n",
            "89/89 [==============================] - 52s 572ms/step - loss: 2.3254 - acc: 0.2420 - val_loss: 2.7136 - val_acc: 0.1422\n",
            "Epoch 240/250\n",
            "89/89 [==============================] - 54s 591ms/step - loss: 2.3458 - acc: 0.2236 - val_loss: 2.7360 - val_acc: 0.1422\n",
            "Epoch 241/250\n",
            "89/89 [==============================] - 52s 576ms/step - loss: 2.3585 - acc: 0.2292 - val_loss: 2.7390 - val_acc: 0.1358\n",
            "Epoch 242/250\n",
            "89/89 [==============================] - 53s 580ms/step - loss: 2.3326 - acc: 0.2385 - val_loss: 2.7375 - val_acc: 0.1422\n",
            "Epoch 243/250\n",
            "89/89 [==============================] - 54s 601ms/step - loss: 2.3784 - acc: 0.2186 - val_loss: 2.7378 - val_acc: 0.1466\n",
            "Epoch 244/250\n",
            "89/89 [==============================] - 53s 584ms/step - loss: 2.3687 - acc: 0.2285 - val_loss: 2.7132 - val_acc: 0.1336\n",
            "Epoch 245/250\n",
            "89/89 [==============================] - 54s 590ms/step - loss: 2.3490 - acc: 0.2186 - val_loss: 2.7326 - val_acc: 0.1358\n",
            "Epoch 246/250\n",
            "89/89 [==============================] - 52s 574ms/step - loss: 2.3561 - acc: 0.2243 - val_loss: 2.7408 - val_acc: 0.1379\n",
            "Epoch 247/250\n",
            "89/89 [==============================] - 54s 594ms/step - loss: 2.3451 - acc: 0.2257 - val_loss: 2.7552 - val_acc: 0.1422\n",
            "Epoch 248/250\n",
            "89/89 [==============================] - 52s 572ms/step - loss: 2.3579 - acc: 0.2378 - val_loss: 2.7234 - val_acc: 0.1422\n",
            "Epoch 249/250\n",
            "89/89 [==============================] - 54s 599ms/step - loss: 2.3309 - acc: 0.2292 - val_loss: 2.7323 - val_acc: 0.1466\n",
            "Epoch 250/250\n",
            "89/89 [==============================] - 53s 582ms/step - loss: 2.3733 - acc: 0.2257 - val_loss: 2.7624 - val_acc: 0.1401\n"
          ]
        }
      ]
    },
    {
      "cell_type": "code",
      "source": [
        "acc = history.history['acc']\n",
        "val_acc = history.history['val_acc']\n",
        "loss = history.history['loss']\n",
        "val_loss = history.history['val_loss']\n",
        "\n",
        "epochs_x = range(len(acc))\n",
        "\n",
        "plt.plot(epochs_x, acc, 'co', label='Training acc')\n",
        "plt.plot(epochs_x, val_acc, 'k', label='Validation acc')\n",
        "plt.title('Training and validation accuracy')\n",
        "plt.legend()\n",
        "\n",
        "plt.figure()\n",
        "\n",
        "plt.plot(epochs_x, loss, 'co', label='Training loss')\n",
        "plt.plot(epochs_x, val_loss, 'k', label='Validation loss')\n",
        "plt.title('Training and validation loss')\n",
        "plt.legend()\n",
        "\n",
        "plt.show()"
      ],
      "metadata": {
        "id": "kwylTJpTP5XI",
        "colab": {
          "base_uri": "https://localhost:8080/",
          "height": 545
        },
        "outputId": "cfb7ee5b-3b0f-4dea-98dd-f9d5d8e27fb3"
      },
      "execution_count": 13,
      "outputs": [
        {
          "output_type": "display_data",
          "data": {
            "text/plain": [
              "<Figure size 432x288 with 1 Axes>"
            ],
            "image/png": "[encoded data removed]"
          },
          "metadata": {
            "needs_background": "light"
          }
        },
        {
          "output_type": "display_data",
          "data": {
            "text/plain": [
              "<Figure size 432x288 with 1 Axes>"
            ],
            "image/png": "[encoded data removed]"
          },
          "metadata": {
            "needs_background": "light"
          }
        }
      ]
    },
    {
      "cell_type": "markdown",
      "source": [
        "#Download the model"
      ],
      "metadata": {
        "id": "lD-vKaoHQAFd"
      }
    },
    {
      "cell_type": "code",
      "source": [
        "os.makedirs('/content/drive/My Drive/cut_panoramic/Model', exist_ok=True)\n",
        "model.save('/content/drive/My Drive/cut_panoramic/Model/2.2_รอบที่2_Flimpano_Male125_250.h5')"
      ],
      "metadata": {
        "id": "74dL7-HLP_Sh"
      },
      "execution_count": 14,
      "outputs": []
    },
    {
      "cell_type": "code",
      "source": [
        "from google.colab import files\n",
        "files.download('/content/drive/My Drive/cut_panoramic/Model/2.2_รอบที่2_Flimpano_Male125_250.h5')"
      ],
      "metadata": {
        "id": "qcPW-brHQDpc",
        "colab": {
          "base_uri": "https://localhost:8080/",
          "height": 17
        },
        "outputId": "6b3fd75c-2e61-4741-a452-8db534fc50c5"
      },
      "execution_count": 15,
      "outputs": [
        {
          "output_type": "display_data",
          "data": {
            "text/plain": [
              "<IPython.core.display.Javascript object>"
            ],
            "application/javascript": [
              "\n",
              "    async function download(id, filename, size) {\n",
              "      if (!google.colab.kernel.accessAllowed) {\n",
              "        return;\n",
              "      }\n",
              "      const div = document.createElement('div');\n",
              "      const label = document.createElement('label');\n",
              "      label.textContent = `Downloading \"${filename}\": `;\n",
              "      div.appendChild(label);\n",
              "      const progress = document.createElement('progress');\n",
              "      progress.max = size;\n",
              "      div.appendChild(progress);\n",
              "      document.body.appendChild(div);\n",
              "\n",
              "      const buffers = [];\n",
              "      let downloaded = 0;\n",
              "\n",
              "      const channel = await google.colab.kernel.comms.open(id);\n",
              "      // Send a message to notify the kernel that we're ready.\n",
              "      channel.send({})\n",
              "\n",
              "      for await (const message of channel.messages) {\n",
              "        // Send a message to notify the kernel that we're ready.\n",
              "        channel.send({})\n",
              "        if (message.buffers) {\n",
              "          for (const buffer of message.buffers) {\n",
              "            buffers.push(buffer);\n",
              "            downloaded += buffer.byteLength;\n",
              "            progress.value = downloaded;\n",
              "          }\n",
              "        }\n",
              "      }\n",
              "      const blob = new Blob(buffers, {type: 'application/binary'});\n",
              "      const a = document.createElement('a');\n",
              "      a.href = window.URL.createObjectURL(blob);\n",
              "      a.download = filename;\n",
              "      div.appendChild(a);\n",
              "      a.click();\n",
              "      div.remove();\n",
              "    }\n",
              "  "
            ]
          },
          "metadata": {}
        },
        {
          "output_type": "display_data",
          "data": {
            "text/plain": [
              "<IPython.core.display.Javascript object>"
            ],
            "application/javascript": [
              "download(\"download_0acac997-7549-4b63-8c46-8b48d08ab24d\", \"2.2_\\u0e23\\u0e2d\\u0e1a\\u0e17\\u0e35\\u0e482_Flimpano_Male125_250.h5\", 16778384)"
            ]
          },
          "metadata": {}
        }
      ]
    }
  ]
}