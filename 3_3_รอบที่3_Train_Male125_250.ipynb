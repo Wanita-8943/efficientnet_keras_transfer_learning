{
  "nbformat": 4,
  "nbformat_minor": 0,
  "metadata": {
    "colab": {
      "provenance": [],
      "include_colab_link": true
    },
    "kernelspec": {
      "name": "python3",
      "display_name": "Python 3"
    },
    "language_info": {
      "name": "python"
    }
  },
  "cells": [
    {
      "cell_type": "markdown",
      "metadata": {
        "id": "view-in-github",
        "colab_type": "text"
      },
      "source": [
        "<a href=\"https://colab.research.google.com/github/Wanita-8943/efficientnet_keras_transfer_learning/blob/master/3_3_%E0%B8%A3%E0%B8%AD%E0%B8%9A%E0%B8%97%E0%B8%B5%E0%B9%883_Train_Male125_250.ipynb\" target=\"_parent\"><img src=\"https://colab.research.google.com/assets/colab-badge.svg\" alt=\"Open In Colab\"/></a>"
      ]
    },
    {
      "cell_type": "code",
      "execution_count": 1,
      "metadata": {
        "id": "KKSs7cyoPHcD"
      },
      "outputs": [],
      "source": [
        "import pandas as pd\n",
        "import shutil"
      ]
    },
    {
      "cell_type": "code",
      "source": [
        "from google.colab import drive\n",
        "drive.mount('/content/drive')"
      ],
      "metadata": {
        "colab": {
          "base_uri": "https://localhost:8080/"
        },
        "id": "7LoeZxmVPMxp",
        "outputId": "fd8a2f64-b7ab-488c-b615-084319c0d989"
      },
      "execution_count": 2,
      "outputs": [
        {
          "output_type": "stream",
          "name": "stdout",
          "text": [
            "Mounted at /content/drive\n"
          ]
        }
      ]
    },
    {
      "cell_type": "code",
      "source": [
        "from tensorflow.keras import models\n",
        "from tensorflow.keras import layers\n",
        "from tensorflow.keras import optimizers\n",
        "import os\n",
        "import glob\n",
        "import shutil\n",
        "import sys\n",
        "import numpy as np\n",
        "from skimage.io import imread\n",
        "import matplotlib.pyplot as plt\n",
        "from IPython.display import Image\n",
        "%matplotlib inline"
      ],
      "metadata": {
        "id": "1pX9g1HxPM2f"
      },
      "execution_count": 3,
      "outputs": []
    },
    {
      "cell_type": "code",
      "source": [
        "batch_size = 16\n",
        "width = 150\n",
        "height = 150\n",
        "epochs = 250\n",
        "NUM_TRAIN = 1425\n",
        "NUM_TEST = 473\n",
        "dropout_rate = 0.2\n",
        "input_shape = (height, width, 3)"
      ],
      "metadata": {
        "id": "eSFtvGyvPM6O"
      },
      "execution_count": 4,
      "outputs": []
    },
    {
      "cell_type": "code",
      "source": [
        "#ดึงข้อมูลใน Github มาใช้\n",
        "import os\n",
        "%cd /content\n",
        "if not os.path.isdir(\"efficientnet_keras_transfer_learning\"):\n",
        " !git clone https://github.com/Wanita-8943/efficientnet_keras_transfer_learning\n",
        "%cd efficientnet_keras_transfer_learning/"
      ],
      "metadata": {
        "colab": {
          "base_uri": "https://localhost:8080/"
        },
        "id": "lb4K4CsMPNAW",
        "outputId": "7bfa0a48-9ae4-4093-8bda-95298fc84fba"
      },
      "execution_count": 5,
      "outputs": [
        {
          "output_type": "stream",
          "name": "stdout",
          "text": [
            "/content\n",
            "Cloning into 'efficientnet_keras_transfer_learning'...\n",
            "remote: Enumerating objects: 581, done.\u001b[K\n",
            "remote: Counting objects: 100% (397/397), done.\u001b[K\n",
            "remote: Compressing objects: 100% (198/198), done.\u001b[K\n",
            "remote: Total 581 (delta 275), reused 266 (delta 199), pack-reused 184\u001b[K\n",
            "Receiving objects: 100% (581/581), 10.76 MiB | 20.55 MiB/s, done.\n",
            "Resolving deltas: 100% (348/348), done.\n",
            "/content/efficientnet_keras_transfer_learning\n"
          ]
        }
      ]
    },
    {
      "cell_type": "code",
      "source": [
        "# Options: EfficientNetB0, EfficientNetB1, EfficientNetB2, EfficientNetB3\n",
        "# Higher the number, the more complex the model is.\n",
        "from efficientnet import EfficientNetB0 as Net\n",
        "from efficientnet import center_crop_and_resize, preprocess_input"
      ],
      "metadata": {
        "id": "eyBg0dLKPND3"
      },
      "execution_count": 6,
      "outputs": []
    },
    {
      "cell_type": "code",
      "source": [
        "base_dir = '/content/drive/MyDrive/TVT_Male125'\n",
        "os.makedirs(base_dir, exist_ok=True)\n",
        "\n",
        "# Directories for our training,\n",
        "# validation and test splits\n",
        "train_dir = os.path.join(base_dir, 'train')\n",
        "os.makedirs(train_dir, exist_ok=True)\n",
        "validation_dir = os.path.join(base_dir, 'validation')\n",
        "os.makedirs(validation_dir, exist_ok=True)\n",
        "test_dir = os.path.join(base_dir, 'test')\n",
        "os.makedirs(test_dir, exist_ok=True)"
      ],
      "metadata": {
        "id": "Jwpq_-KvPef8"
      },
      "execution_count": 7,
      "outputs": []
    },
    {
      "cell_type": "markdown",
      "source": [
        "#load model"
      ],
      "metadata": {
        "id": "od-ZSNm5PoGy"
      }
    },
    {
      "cell_type": "code",
      "source": [
        "import sys\n",
        "sys.path.append('/content/drive/MyDrive/cut_panoramic/Model/2.2_รอบที่2_Flimpano_Male125_250.h5')\n",
        "\n",
        "from efficientnet.layers import Swish, DropConnect\n",
        "from efficientnet.model import ConvKernalInitializer\n",
        "from tensorflow.keras.utils import get_custom_objects\n",
        "\n",
        "get_custom_objects().update({\n",
        "    'ConvKernalInitializer': ConvKernalInitializer,\n",
        "    'Swish': Swish,\n",
        "    'DropConnect':DropConnect\n",
        "})"
      ],
      "metadata": {
        "id": "n5iPL5MNPkhE"
      },
      "execution_count": 8,
      "outputs": []
    },
    {
      "cell_type": "code",
      "source": [
        "#load model \n",
        "from tensorflow.keras.models import load_model\n",
        "model = load_model('/content/drive/MyDrive/cut_panoramic/Model/2.2_รอบที่2_Flimpano_Male125_250.h5')\n",
        "height = width = model.input_shape[1]"
      ],
      "metadata": {
        "id": "plYz49xMPkly"
      },
      "execution_count": 9,
      "outputs": []
    },
    {
      "cell_type": "code",
      "source": [
        "model.summary()"
      ],
      "metadata": {
        "colab": {
          "base_uri": "https://localhost:8080/"
        },
        "id": "z6IOPBflFbvc",
        "outputId": "26ddccbf-bd83-4d6a-9383-bc2b20abbb28"
      },
      "execution_count": 10,
      "outputs": [
        {
          "output_type": "stream",
          "name": "stdout",
          "text": [
            "Model: \"sequential\"\n",
            "_________________________________________________________________\n",
            " Layer (type)                Output Shape              Param #   \n",
            "=================================================================\n",
            " efficientnet-b0 (Functional  (None, 5, 5, 1280)       4049564   \n",
            " )                                                               \n",
            "                                                                 \n",
            " gap (GlobalMaxPooling2D)    (None, 1280)              0         \n",
            "                                                                 \n",
            " dropout_out (Dropout)       (None, 1280)              0         \n",
            "                                                                 \n",
            " fc_out (Dense)              (None, 19)                24339     \n",
            "                                                                 \n",
            "=================================================================\n",
            "Total params: 4,073,903\n",
            "Trainable params: 24,339\n",
            "Non-trainable params: 4,049,564\n",
            "_________________________________________________________________\n"
          ]
        }
      ]
    },
    {
      "cell_type": "code",
      "source": [
        "# Train ด้วย ImageDataGenerator ของ Keras ซึ่งจะเพิ่มข้อมูลเสริมระหว่างการฝึกเพื่อลดโอกาสเกิด overfitting\n",
        "#overfitting เกิดจากข้อมูลที่ซับซ้อนกันเกินไป\n",
        "from tensorflow.keras.preprocessing.image import ImageDataGenerator\n",
        "\n",
        "train_datagen = ImageDataGenerator(\n",
        "      rescale=1./255, #โมเดลส่วนใหญ่ต้องใช้ RGB ในช่วง 0–1\n",
        "      rotation_range=40,\n",
        "      width_shift_range=0.2,\n",
        "      height_shift_range=0.2,\n",
        "      shear_range=0.2,\n",
        "      zoom_range=0.2,\n",
        "      horizontal_flip=True,\n",
        "      fill_mode='nearest')\n",
        "\n",
        "# Note that the validation data should not be augmented!\n",
        "test_datagen = ImageDataGenerator(rescale=1./255)\n",
        "\n",
        "train_generator = train_datagen.flow_from_directory(\n",
        "        # This is the target directory #ไดเรกเป้าหมาย\n",
        "        train_dir,\n",
        "        # รูปภาพทั้งหมดจะถูกปรับขนาดตามความสูงและความกว้างของเป้าหมาย\n",
        "        target_size=(height, width),\n",
        "        batch_size=batch_size,\n",
        "        # Since we use categorical_crossentropy loss, we need categorical labels\n",
        "        #เนื่องจากเราใช้ categorical_crossentropy loss เราจึงต้องมีป้ายกำกับตามหมวดหมู่\n",
        "        class_mode='categorical')\n",
        "\n",
        "validation_generator = test_datagen.flow_from_directory( #การดึงภาพจาก Directory มาเข้าโมเดล \n",
        "        validation_dir,\n",
        "        target_size=(height, width),\n",
        "        batch_size=batch_size,\n",
        "        class_mode='categorical')"
      ],
      "metadata": {
        "colab": {
          "base_uri": "https://localhost:8080/"
        },
        "id": "KBMZbdr2Pgw4",
        "outputId": "c26664d3-54e9-41a0-d461-0ace43dfaafc"
      },
      "execution_count": 11,
      "outputs": [
        {
          "output_type": "stream",
          "name": "stdout",
          "text": [
            "Found 1425 images belonging to 19 classes.\n",
            "Found 475 images belonging to 19 classes.\n"
          ]
        }
      ]
    },
    {
      "cell_type": "code",
      "source": [
        "history = model.fit_generator(\n",
        "      train_generator,\n",
        "      steps_per_epoch= NUM_TRAIN //batch_size,\n",
        "      epochs=epochs,\n",
        "      validation_data=validation_generator,\n",
        "      validation_steps= NUM_TEST //batch_size,\n",
        "      verbose=1,\n",
        "      use_multiprocessing=True,\n",
        "      workers=4)"
      ],
      "metadata": {
        "colab": {
          "base_uri": "https://localhost:8080/"
        },
        "id": "C9Cf1dwyP1PD",
        "outputId": "25bfe391-6be3-4d84-9ab4-5c806ddcb58d"
      },
      "execution_count": 12,
      "outputs": [
        {
          "output_type": "stream",
          "name": "stderr",
          "text": [
            "<ipython-input-12-caa7b37242a8>:1: UserWarning: `Model.fit_generator` is deprecated and will be removed in a future version. Please use `Model.fit`, which supports generators.\n",
            "  history = model.fit_generator(\n"
          ]
        },
        {
          "output_type": "stream",
          "name": "stdout",
          "text": [
            "Epoch 1/250\n",
            "89/89 [==============================] - 91s 967ms/step - loss: 2.3738 - acc: 0.2136 - val_loss: 2.7366 - val_acc: 0.1422\n",
            "Epoch 2/250\n",
            "89/89 [==============================] - 42s 465ms/step - loss: 2.3593 - acc: 0.2065 - val_loss: 2.6999 - val_acc: 0.1401\n",
            "Epoch 3/250\n",
            "89/89 [==============================] - 41s 452ms/step - loss: 2.3549 - acc: 0.2214 - val_loss: 2.7222 - val_acc: 0.1379\n",
            "Epoch 4/250\n",
            "89/89 [==============================] - 42s 466ms/step - loss: 2.3642 - acc: 0.2285 - val_loss: 2.7101 - val_acc: 0.1358\n",
            "Epoch 5/250\n",
            "89/89 [==============================] - 42s 458ms/step - loss: 2.3573 - acc: 0.2463 - val_loss: 2.7215 - val_acc: 0.1401\n",
            "Epoch 6/250\n",
            "89/89 [==============================] - 46s 504ms/step - loss: 2.3531 - acc: 0.2179 - val_loss: 2.7373 - val_acc: 0.1315\n",
            "Epoch 7/250\n",
            "89/89 [==============================] - 45s 489ms/step - loss: 2.3225 - acc: 0.2328 - val_loss: 2.7174 - val_acc: 0.1422\n",
            "Epoch 8/250\n",
            "89/89 [==============================] - 44s 482ms/step - loss: 2.3549 - acc: 0.2165 - val_loss: 2.7127 - val_acc: 0.1422\n",
            "Epoch 9/250\n",
            "89/89 [==============================] - 43s 478ms/step - loss: 2.3055 - acc: 0.2399 - val_loss: 2.7091 - val_acc: 0.1358\n",
            "Epoch 10/250\n",
            "89/89 [==============================] - 44s 486ms/step - loss: 2.3420 - acc: 0.2292 - val_loss: 2.7117 - val_acc: 0.1401\n",
            "Epoch 11/250\n",
            "89/89 [==============================] - 44s 485ms/step - loss: 2.3325 - acc: 0.2370 - val_loss: 2.7125 - val_acc: 0.1336\n",
            "Epoch 12/250\n",
            "89/89 [==============================] - 44s 484ms/step - loss: 2.3590 - acc: 0.2335 - val_loss: 2.7262 - val_acc: 0.1336\n",
            "Epoch 13/250\n",
            "89/89 [==============================] - 44s 483ms/step - loss: 2.3758 - acc: 0.2321 - val_loss: 2.7042 - val_acc: 0.1422\n",
            "Epoch 14/250\n",
            "89/89 [==============================] - 46s 509ms/step - loss: 2.2829 - acc: 0.2385 - val_loss: 2.7156 - val_acc: 0.1358\n",
            "Epoch 15/250\n",
            "89/89 [==============================] - 44s 484ms/step - loss: 2.3536 - acc: 0.2165 - val_loss: 2.7104 - val_acc: 0.1315\n",
            "Epoch 16/250\n",
            "89/89 [==============================] - 44s 488ms/step - loss: 2.3670 - acc: 0.2285 - val_loss: 2.7507 - val_acc: 0.1358\n",
            "Epoch 17/250\n",
            "89/89 [==============================] - 44s 488ms/step - loss: 2.3639 - acc: 0.2044 - val_loss: 2.7311 - val_acc: 0.1379\n",
            "Epoch 18/250\n",
            "89/89 [==============================] - 44s 486ms/step - loss: 2.3286 - acc: 0.2278 - val_loss: 2.7421 - val_acc: 0.1358\n",
            "Epoch 19/250\n",
            "89/89 [==============================] - 45s 491ms/step - loss: 2.3709 - acc: 0.2307 - val_loss: 2.7317 - val_acc: 0.1401\n",
            "Epoch 20/250\n",
            "89/89 [==============================] - 44s 489ms/step - loss: 2.3526 - acc: 0.2236 - val_loss: 2.7214 - val_acc: 0.1358\n",
            "Epoch 21/250\n",
            "89/89 [==============================] - 44s 486ms/step - loss: 2.3819 - acc: 0.2136 - val_loss: 2.7214 - val_acc: 0.1401\n",
            "Epoch 22/250\n",
            "89/89 [==============================] - 45s 489ms/step - loss: 2.3218 - acc: 0.2193 - val_loss: 2.7369 - val_acc: 0.1336\n",
            "Epoch 23/250\n",
            "89/89 [==============================] - 46s 504ms/step - loss: 2.3704 - acc: 0.2285 - val_loss: 2.7320 - val_acc: 0.1336\n",
            "Epoch 24/250\n",
            "89/89 [==============================] - 45s 490ms/step - loss: 2.3005 - acc: 0.2328 - val_loss: 2.7353 - val_acc: 0.1401\n",
            "Epoch 25/250\n",
            "89/89 [==============================] - 46s 506ms/step - loss: 2.3316 - acc: 0.2207 - val_loss: 2.7303 - val_acc: 0.1401\n",
            "Epoch 26/250\n",
            "89/89 [==============================] - 45s 495ms/step - loss: 2.3358 - acc: 0.2030 - val_loss: 2.7409 - val_acc: 0.1487\n",
            "Epoch 27/250\n",
            "89/89 [==============================] - 45s 498ms/step - loss: 2.3474 - acc: 0.2370 - val_loss: 2.7346 - val_acc: 0.1401\n",
            "Epoch 28/250\n",
            "89/89 [==============================] - 45s 489ms/step - loss: 2.3522 - acc: 0.2179 - val_loss: 2.7435 - val_acc: 0.1358\n",
            "Epoch 29/250\n",
            "89/89 [==============================] - 45s 494ms/step - loss: 2.2973 - acc: 0.2321 - val_loss: 2.7213 - val_acc: 0.1336\n",
            "Epoch 30/250\n",
            "89/89 [==============================] - 45s 492ms/step - loss: 2.3444 - acc: 0.2165 - val_loss: 2.7366 - val_acc: 0.1466\n",
            "Epoch 31/250\n",
            "89/89 [==============================] - 45s 494ms/step - loss: 2.3587 - acc: 0.2285 - val_loss: 2.7103 - val_acc: 0.1422\n",
            "Epoch 32/250\n",
            "89/89 [==============================] - 45s 498ms/step - loss: 2.3389 - acc: 0.2300 - val_loss: 2.7060 - val_acc: 0.1379\n",
            "Epoch 33/250\n",
            "89/89 [==============================] - 45s 494ms/step - loss: 2.3329 - acc: 0.2356 - val_loss: 2.7406 - val_acc: 0.1422\n",
            "Epoch 34/250\n",
            "89/89 [==============================] - 46s 502ms/step - loss: 2.2769 - acc: 0.2349 - val_loss: 2.7288 - val_acc: 0.1379\n",
            "Epoch 35/250\n",
            "89/89 [==============================] - 45s 497ms/step - loss: 2.2680 - acc: 0.2484 - val_loss: 2.7502 - val_acc: 0.1358\n",
            "Epoch 36/250\n",
            "89/89 [==============================] - 46s 501ms/step - loss: 2.3405 - acc: 0.2158 - val_loss: 2.7050 - val_acc: 0.1379\n",
            "Epoch 37/250\n",
            "89/89 [==============================] - 45s 492ms/step - loss: 2.3770 - acc: 0.2229 - val_loss: 2.7301 - val_acc: 0.1358\n",
            "Epoch 38/250\n",
            "89/89 [==============================] - 46s 505ms/step - loss: 2.2761 - acc: 0.2307 - val_loss: 2.7419 - val_acc: 0.1422\n",
            "Epoch 39/250\n",
            "89/89 [==============================] - 44s 488ms/step - loss: 2.3395 - acc: 0.2356 - val_loss: 2.7239 - val_acc: 0.1379\n",
            "Epoch 40/250\n",
            "89/89 [==============================] - 44s 483ms/step - loss: 2.3401 - acc: 0.2179 - val_loss: 2.7622 - val_acc: 0.1293\n",
            "Epoch 41/250\n",
            "89/89 [==============================] - 45s 488ms/step - loss: 2.3510 - acc: 0.2200 - val_loss: 2.7175 - val_acc: 0.1444\n",
            "Epoch 42/250\n",
            "89/89 [==============================] - 45s 488ms/step - loss: 2.2930 - acc: 0.2342 - val_loss: 2.7335 - val_acc: 0.1401\n",
            "Epoch 43/250\n",
            "89/89 [==============================] - 45s 489ms/step - loss: 2.3019 - acc: 0.2378 - val_loss: 2.7133 - val_acc: 0.1422\n",
            "Epoch 44/250\n",
            "89/89 [==============================] - 45s 495ms/step - loss: 2.3537 - acc: 0.2207 - val_loss: 2.7302 - val_acc: 0.1401\n",
            "Epoch 45/250\n",
            "89/89 [==============================] - 45s 497ms/step - loss: 2.3686 - acc: 0.2221 - val_loss: 2.7339 - val_acc: 0.1401\n",
            "Epoch 46/250\n",
            "89/89 [==============================] - 45s 492ms/step - loss: 2.3097 - acc: 0.2250 - val_loss: 2.7361 - val_acc: 0.1379\n",
            "Epoch 47/250\n",
            "89/89 [==============================] - 46s 503ms/step - loss: 2.2915 - acc: 0.2456 - val_loss: 2.7128 - val_acc: 0.1487\n",
            "Epoch 48/250\n",
            "89/89 [==============================] - 45s 491ms/step - loss: 2.2986 - acc: 0.2150 - val_loss: 2.7374 - val_acc: 0.1444\n",
            "Epoch 49/250\n",
            "89/89 [==============================] - 45s 496ms/step - loss: 2.3517 - acc: 0.2243 - val_loss: 2.7378 - val_acc: 0.1422\n",
            "Epoch 50/250\n",
            "89/89 [==============================] - 44s 488ms/step - loss: 2.3078 - acc: 0.2335 - val_loss: 2.7331 - val_acc: 0.1422\n",
            "Epoch 51/250\n",
            "89/89 [==============================] - 45s 500ms/step - loss: 2.2856 - acc: 0.2250 - val_loss: 2.7392 - val_acc: 0.1401\n",
            "Epoch 52/250\n",
            "89/89 [==============================] - 45s 490ms/step - loss: 2.3743 - acc: 0.2129 - val_loss: 2.7049 - val_acc: 0.1466\n",
            "Epoch 53/250\n",
            "89/89 [==============================] - 44s 485ms/step - loss: 2.3631 - acc: 0.2278 - val_loss: 2.7402 - val_acc: 0.1379\n",
            "Epoch 54/250\n",
            "89/89 [==============================] - 45s 490ms/step - loss: 2.3175 - acc: 0.2413 - val_loss: 2.7054 - val_acc: 0.1422\n",
            "Epoch 55/250\n",
            "89/89 [==============================] - 46s 508ms/step - loss: 2.3147 - acc: 0.2307 - val_loss: 2.7002 - val_acc: 0.1466\n",
            "Epoch 56/250\n",
            "89/89 [==============================] - 45s 489ms/step - loss: 2.2982 - acc: 0.2399 - val_loss: 2.7197 - val_acc: 0.1336\n",
            "Epoch 57/250\n",
            "89/89 [==============================] - 46s 506ms/step - loss: 2.3262 - acc: 0.2314 - val_loss: 2.7336 - val_acc: 0.1379\n",
            "Epoch 58/250\n",
            "89/89 [==============================] - 44s 489ms/step - loss: 2.2786 - acc: 0.2378 - val_loss: 2.7642 - val_acc: 0.1336\n",
            "Epoch 59/250\n",
            "89/89 [==============================] - 46s 503ms/step - loss: 2.3369 - acc: 0.2278 - val_loss: 2.7494 - val_acc: 0.1401\n",
            "Epoch 60/250\n",
            "89/89 [==============================] - 45s 492ms/step - loss: 2.3644 - acc: 0.1930 - val_loss: 2.7405 - val_acc: 0.1293\n",
            "Epoch 61/250\n",
            "89/89 [==============================] - 45s 492ms/step - loss: 2.2752 - acc: 0.2399 - val_loss: 2.7418 - val_acc: 0.1336\n",
            "Epoch 62/250\n",
            "89/89 [==============================] - 44s 485ms/step - loss: 2.2708 - acc: 0.2406 - val_loss: 2.7369 - val_acc: 0.1358\n",
            "Epoch 63/250\n",
            "89/89 [==============================] - 45s 493ms/step - loss: 2.2908 - acc: 0.2179 - val_loss: 2.7321 - val_acc: 0.1379\n",
            "Epoch 64/250\n",
            "89/89 [==============================] - 46s 509ms/step - loss: 2.2654 - acc: 0.2292 - val_loss: 2.7368 - val_acc: 0.1401\n",
            "Epoch 65/250\n",
            "89/89 [==============================] - 44s 487ms/step - loss: 2.2496 - acc: 0.2541 - val_loss: 2.7413 - val_acc: 0.1401\n",
            "Epoch 66/250\n",
            "89/89 [==============================] - 46s 500ms/step - loss: 2.2795 - acc: 0.2300 - val_loss: 2.7388 - val_acc: 0.1422\n",
            "Epoch 67/250\n",
            "89/89 [==============================] - 45s 491ms/step - loss: 2.3187 - acc: 0.2278 - val_loss: 2.7533 - val_acc: 0.1358\n",
            "Epoch 68/250\n",
            "89/89 [==============================] - 45s 497ms/step - loss: 2.2934 - acc: 0.2385 - val_loss: 2.7423 - val_acc: 0.1358\n",
            "Epoch 69/250\n",
            "89/89 [==============================] - 45s 490ms/step - loss: 2.2956 - acc: 0.2385 - val_loss: 2.7461 - val_acc: 0.1444\n",
            "Epoch 70/250\n",
            "89/89 [==============================] - 46s 509ms/step - loss: 2.3234 - acc: 0.2250 - val_loss: 2.7420 - val_acc: 0.1379\n",
            "Epoch 71/250\n",
            "89/89 [==============================] - 45s 498ms/step - loss: 2.2968 - acc: 0.2548 - val_loss: 2.7367 - val_acc: 0.1401\n",
            "Epoch 72/250\n",
            "89/89 [==============================] - 44s 487ms/step - loss: 2.3141 - acc: 0.2264 - val_loss: 2.7467 - val_acc: 0.1336\n",
            "Epoch 73/250\n",
            "89/89 [==============================] - 44s 489ms/step - loss: 2.2848 - acc: 0.2328 - val_loss: 2.7358 - val_acc: 0.1379\n",
            "Epoch 74/250\n",
            "89/89 [==============================] - 45s 491ms/step - loss: 2.3259 - acc: 0.2363 - val_loss: 2.7337 - val_acc: 0.1358\n",
            "Epoch 75/250\n",
            "89/89 [==============================] - 45s 496ms/step - loss: 2.3024 - acc: 0.2470 - val_loss: 2.7329 - val_acc: 0.1422\n",
            "Epoch 76/250\n",
            "89/89 [==============================] - 45s 488ms/step - loss: 2.3041 - acc: 0.2385 - val_loss: 2.7442 - val_acc: 0.1358\n",
            "Epoch 77/250\n",
            "89/89 [==============================] - 45s 489ms/step - loss: 2.3216 - acc: 0.2264 - val_loss: 2.7221 - val_acc: 0.1422\n",
            "Epoch 78/250\n",
            "89/89 [==============================] - 44s 487ms/step - loss: 2.3087 - acc: 0.2165 - val_loss: 2.7270 - val_acc: 0.1401\n",
            "Epoch 79/250\n",
            "89/89 [==============================] - 45s 497ms/step - loss: 2.2788 - acc: 0.2356 - val_loss: 2.7223 - val_acc: 0.1379\n",
            "Epoch 80/250\n",
            "89/89 [==============================] - 45s 498ms/step - loss: 2.2943 - acc: 0.2392 - val_loss: 2.7535 - val_acc: 0.1401\n",
            "Epoch 81/250\n",
            "89/89 [==============================] - 46s 504ms/step - loss: 2.3048 - acc: 0.2349 - val_loss: 2.7305 - val_acc: 0.1358\n",
            "Epoch 82/250\n",
            "89/89 [==============================] - 46s 505ms/step - loss: 2.3310 - acc: 0.2292 - val_loss: 2.7643 - val_acc: 0.1272\n",
            "Epoch 83/250\n",
            "89/89 [==============================] - 45s 496ms/step - loss: 2.3390 - acc: 0.2271 - val_loss: 2.7593 - val_acc: 0.1336\n",
            "Epoch 84/250\n",
            "89/89 [==============================] - 45s 490ms/step - loss: 2.3465 - acc: 0.2264 - val_loss: 2.7533 - val_acc: 0.1379\n",
            "Epoch 85/250\n",
            "89/89 [==============================] - 45s 496ms/step - loss: 2.3374 - acc: 0.2271 - val_loss: 2.7149 - val_acc: 0.1444\n",
            "Epoch 86/250\n",
            "89/89 [==============================] - 46s 506ms/step - loss: 2.2776 - acc: 0.2342 - val_loss: 2.7360 - val_acc: 0.1487\n",
            "Epoch 87/250\n",
            "89/89 [==============================] - 45s 495ms/step - loss: 2.2920 - acc: 0.2321 - val_loss: 2.7555 - val_acc: 0.1358\n",
            "Epoch 88/250\n",
            "89/89 [==============================] - 45s 492ms/step - loss: 2.3018 - acc: 0.2427 - val_loss: 2.7171 - val_acc: 0.1487\n",
            "Epoch 89/250\n",
            "89/89 [==============================] - 45s 491ms/step - loss: 2.2738 - acc: 0.2498 - val_loss: 2.7299 - val_acc: 0.1358\n",
            "Epoch 90/250\n",
            "89/89 [==============================] - 45s 494ms/step - loss: 2.2850 - acc: 0.2321 - val_loss: 2.7304 - val_acc: 0.1444\n",
            "Epoch 91/250\n",
            "89/89 [==============================] - 46s 501ms/step - loss: 2.3445 - acc: 0.2307 - val_loss: 2.7432 - val_acc: 0.1336\n",
            "Epoch 92/250\n",
            "89/89 [==============================] - 45s 494ms/step - loss: 2.2818 - acc: 0.2562 - val_loss: 2.7316 - val_acc: 0.1379\n",
            "Epoch 93/250\n",
            "89/89 [==============================] - 46s 509ms/step - loss: 2.2938 - acc: 0.2271 - val_loss: 2.7493 - val_acc: 0.1336\n",
            "Epoch 94/250\n",
            "89/89 [==============================] - 45s 493ms/step - loss: 2.3121 - acc: 0.2307 - val_loss: 2.7238 - val_acc: 0.1379\n",
            "Epoch 95/250\n",
            "89/89 [==============================] - 45s 492ms/step - loss: 2.3543 - acc: 0.2271 - val_loss: 2.7195 - val_acc: 0.1401\n",
            "Epoch 96/250\n",
            "89/89 [==============================] - 45s 495ms/step - loss: 2.2887 - acc: 0.2463 - val_loss: 2.7122 - val_acc: 0.1487\n",
            "Epoch 97/250\n",
            "89/89 [==============================] - 45s 492ms/step - loss: 2.2897 - acc: 0.2314 - val_loss: 2.7197 - val_acc: 0.1466\n",
            "Epoch 98/250\n",
            "89/89 [==============================] - 45s 489ms/step - loss: 2.2636 - acc: 0.2434 - val_loss: 2.7326 - val_acc: 0.1379\n",
            "Epoch 99/250\n",
            "89/89 [==============================] - 45s 491ms/step - loss: 2.2896 - acc: 0.2406 - val_loss: 2.7404 - val_acc: 0.1315\n",
            "Epoch 100/250\n",
            "89/89 [==============================] - 46s 500ms/step - loss: 2.3091 - acc: 0.2356 - val_loss: 2.7324 - val_acc: 0.1358\n",
            "Epoch 101/250\n",
            "89/89 [==============================] - 46s 503ms/step - loss: 2.2674 - acc: 0.2236 - val_loss: 2.7005 - val_acc: 0.1401\n",
            "Epoch 102/250\n",
            "89/89 [==============================] - 46s 507ms/step - loss: 2.3046 - acc: 0.2321 - val_loss: 2.7342 - val_acc: 0.1466\n",
            "Epoch 103/250\n",
            "89/89 [==============================] - 45s 492ms/step - loss: 2.3217 - acc: 0.2413 - val_loss: 2.7483 - val_acc: 0.1379\n",
            "Epoch 104/250\n",
            "89/89 [==============================] - 46s 508ms/step - loss: 2.3001 - acc: 0.2335 - val_loss: 2.7383 - val_acc: 0.1422\n",
            "Epoch 105/250\n",
            "89/89 [==============================] - 46s 508ms/step - loss: 2.2979 - acc: 0.2285 - val_loss: 2.7460 - val_acc: 0.1379\n",
            "Epoch 106/250\n",
            "89/89 [==============================] - 46s 506ms/step - loss: 2.2836 - acc: 0.2314 - val_loss: 2.7344 - val_acc: 0.1401\n",
            "Epoch 107/250\n",
            "89/89 [==============================] - 45s 491ms/step - loss: 2.2910 - acc: 0.2392 - val_loss: 2.7526 - val_acc: 0.1422\n",
            "Epoch 108/250\n",
            "89/89 [==============================] - 45s 493ms/step - loss: 2.2897 - acc: 0.2335 - val_loss: 2.7439 - val_acc: 0.1358\n",
            "Epoch 109/250\n",
            "89/89 [==============================] - 46s 506ms/step - loss: 2.2886 - acc: 0.2292 - val_loss: 2.7463 - val_acc: 0.1401\n",
            "Epoch 110/250\n",
            "89/89 [==============================] - 46s 509ms/step - loss: 2.2576 - acc: 0.2463 - val_loss: 2.7248 - val_acc: 0.1422\n",
            "Epoch 111/250\n",
            "89/89 [==============================] - 46s 510ms/step - loss: 2.2693 - acc: 0.2534 - val_loss: 2.7259 - val_acc: 0.1401\n",
            "Epoch 112/250\n",
            "89/89 [==============================] - 45s 494ms/step - loss: 2.2874 - acc: 0.2363 - val_loss: 2.7363 - val_acc: 0.1444\n",
            "Epoch 113/250\n",
            "89/89 [==============================] - 46s 506ms/step - loss: 2.2821 - acc: 0.2321 - val_loss: 2.7217 - val_acc: 0.1466\n",
            "Epoch 114/250\n",
            "89/89 [==============================] - 46s 507ms/step - loss: 2.2919 - acc: 0.2370 - val_loss: 2.7211 - val_acc: 0.1444\n",
            "Epoch 115/250\n",
            "89/89 [==============================] - 46s 499ms/step - loss: 2.3011 - acc: 0.2456 - val_loss: 2.6945 - val_acc: 0.1444\n",
            "Epoch 116/250\n",
            "89/89 [==============================] - 45s 494ms/step - loss: 2.2713 - acc: 0.2342 - val_loss: 2.7244 - val_acc: 0.1444\n",
            "Epoch 117/250\n",
            "89/89 [==============================] - 46s 509ms/step - loss: 2.2902 - acc: 0.2378 - val_loss: 2.7405 - val_acc: 0.1401\n",
            "Epoch 118/250\n",
            "89/89 [==============================] - 46s 508ms/step - loss: 2.2500 - acc: 0.2484 - val_loss: 2.7537 - val_acc: 0.1401\n",
            "Epoch 119/250\n",
            "89/89 [==============================] - 46s 508ms/step - loss: 2.2796 - acc: 0.2491 - val_loss: 2.7174 - val_acc: 0.1422\n",
            "Epoch 120/250\n",
            "89/89 [==============================] - 45s 494ms/step - loss: 2.2911 - acc: 0.2470 - val_loss: 2.7455 - val_acc: 0.1422\n",
            "Epoch 121/250\n",
            "89/89 [==============================] - 46s 505ms/step - loss: 2.2813 - acc: 0.2420 - val_loss: 2.7449 - val_acc: 0.1422\n",
            "Epoch 122/250\n",
            "89/89 [==============================] - 46s 506ms/step - loss: 2.2540 - acc: 0.2512 - val_loss: 2.7588 - val_acc: 0.1422\n",
            "Epoch 123/250\n",
            "89/89 [==============================] - 45s 488ms/step - loss: 2.2968 - acc: 0.2314 - val_loss: 2.7446 - val_acc: 0.1379\n",
            "Epoch 124/250\n",
            "89/89 [==============================] - 46s 503ms/step - loss: 2.2961 - acc: 0.2300 - val_loss: 2.7427 - val_acc: 0.1422\n",
            "Epoch 125/250\n",
            "89/89 [==============================] - 46s 505ms/step - loss: 2.2947 - acc: 0.2399 - val_loss: 2.7559 - val_acc: 0.1379\n",
            "Epoch 126/250\n",
            "89/89 [==============================] - 46s 503ms/step - loss: 2.2547 - acc: 0.2427 - val_loss: 2.7364 - val_acc: 0.1379\n",
            "Epoch 127/250\n",
            "89/89 [==============================] - 46s 506ms/step - loss: 2.2934 - acc: 0.2363 - val_loss: 2.7695 - val_acc: 0.1444\n",
            "Epoch 128/250\n",
            "89/89 [==============================] - 44s 499ms/step - loss: 2.2669 - acc: 0.2463 - val_loss: 2.7575 - val_acc: 0.1358\n",
            "Epoch 129/250\n",
            "89/89 [==============================] - 45s 498ms/step - loss: 2.2596 - acc: 0.2576 - val_loss: 2.7440 - val_acc: 0.1401\n",
            "Epoch 130/250\n",
            "89/89 [==============================] - 45s 492ms/step - loss: 2.3097 - acc: 0.2321 - val_loss: 2.7337 - val_acc: 0.1401\n",
            "Epoch 131/250\n",
            "89/89 [==============================] - 46s 505ms/step - loss: 2.2902 - acc: 0.2363 - val_loss: 2.7227 - val_acc: 0.1444\n",
            "Epoch 132/250\n",
            "89/89 [==============================] - 46s 502ms/step - loss: 2.2731 - acc: 0.2434 - val_loss: 2.7269 - val_acc: 0.1444\n",
            "Epoch 133/250\n",
            "89/89 [==============================] - 45s 490ms/step - loss: 2.2130 - acc: 0.2498 - val_loss: 2.7205 - val_acc: 0.1466\n",
            "Epoch 134/250\n",
            "89/89 [==============================] - 46s 509ms/step - loss: 2.3000 - acc: 0.2324 - val_loss: 2.7264 - val_acc: 0.1422\n",
            "Epoch 135/250\n",
            "89/89 [==============================] - 45s 508ms/step - loss: 2.2307 - acc: 0.2491 - val_loss: 2.7133 - val_acc: 0.1379\n",
            "Epoch 136/250\n",
            "89/89 [==============================] - 46s 507ms/step - loss: 2.2475 - acc: 0.2456 - val_loss: 2.7167 - val_acc: 0.1422\n",
            "Epoch 137/250\n",
            "89/89 [==============================] - 46s 505ms/step - loss: 2.2858 - acc: 0.2399 - val_loss: 2.7498 - val_acc: 0.1336\n",
            "Epoch 138/250\n",
            "89/89 [==============================] - 45s 494ms/step - loss: 2.2105 - acc: 0.2598 - val_loss: 2.7158 - val_acc: 0.1444\n",
            "Epoch 139/250\n",
            "89/89 [==============================] - 46s 509ms/step - loss: 2.2593 - acc: 0.2300 - val_loss: 2.7504 - val_acc: 0.1336\n",
            "Epoch 140/250\n",
            "89/89 [==============================] - 46s 510ms/step - loss: 2.2516 - acc: 0.2477 - val_loss: 2.7559 - val_acc: 0.1358\n",
            "Epoch 141/250\n",
            "89/89 [==============================] - 45s 493ms/step - loss: 2.2682 - acc: 0.2427 - val_loss: 2.7531 - val_acc: 0.1466\n",
            "Epoch 142/250\n",
            "89/89 [==============================] - 47s 512ms/step - loss: 2.2832 - acc: 0.2378 - val_loss: 2.7408 - val_acc: 0.1466\n",
            "Epoch 143/250\n",
            "89/89 [==============================] - 45s 495ms/step - loss: 2.2810 - acc: 0.2349 - val_loss: 2.7413 - val_acc: 0.1422\n",
            "Epoch 144/250\n",
            "89/89 [==============================] - 46s 509ms/step - loss: 2.2367 - acc: 0.2505 - val_loss: 2.7595 - val_acc: 0.1401\n",
            "Epoch 145/250\n",
            "89/89 [==============================] - 46s 509ms/step - loss: 2.2394 - acc: 0.2470 - val_loss: 2.7471 - val_acc: 0.1444\n",
            "Epoch 146/250\n",
            "89/89 [==============================] - 45s 493ms/step - loss: 2.2560 - acc: 0.2470 - val_loss: 2.7362 - val_acc: 0.1444\n",
            "Epoch 147/250\n",
            "89/89 [==============================] - 46s 505ms/step - loss: 2.2337 - acc: 0.2498 - val_loss: 2.7519 - val_acc: 0.1444\n",
            "Epoch 148/250\n",
            "89/89 [==============================] - 46s 509ms/step - loss: 2.2709 - acc: 0.2491 - val_loss: 2.7260 - val_acc: 0.1422\n",
            "Epoch 149/250\n",
            "89/89 [==============================] - 45s 491ms/step - loss: 2.2686 - acc: 0.2491 - val_loss: 2.7500 - val_acc: 0.1401\n",
            "Epoch 150/250\n",
            "89/89 [==============================] - 46s 508ms/step - loss: 2.2833 - acc: 0.2470 - val_loss: 2.7554 - val_acc: 0.1422\n",
            "Epoch 151/250\n",
            "89/89 [==============================] - 46s 503ms/step - loss: 2.2584 - acc: 0.2399 - val_loss: 2.7602 - val_acc: 0.1422\n",
            "Epoch 152/250\n",
            "89/89 [==============================] - 45s 488ms/step - loss: 2.2907 - acc: 0.2399 - val_loss: 2.7463 - val_acc: 0.1444\n",
            "Epoch 153/250\n",
            "89/89 [==============================] - 46s 502ms/step - loss: 2.2542 - acc: 0.2392 - val_loss: 2.7479 - val_acc: 0.1379\n",
            "Epoch 154/250\n",
            "89/89 [==============================] - 45s 493ms/step - loss: 2.2685 - acc: 0.2463 - val_loss: 2.7845 - val_acc: 0.1379\n",
            "Epoch 155/250\n",
            "89/89 [==============================] - 46s 505ms/step - loss: 2.2609 - acc: 0.2427 - val_loss: 2.7495 - val_acc: 0.1444\n",
            "Epoch 156/250\n",
            "89/89 [==============================] - 46s 507ms/step - loss: 2.2719 - acc: 0.2534 - val_loss: 2.7520 - val_acc: 0.1401\n",
            "Epoch 157/250\n",
            "89/89 [==============================] - 46s 502ms/step - loss: 2.2848 - acc: 0.2505 - val_loss: 2.7184 - val_acc: 0.1444\n",
            "Epoch 158/250\n",
            "89/89 [==============================] - 46s 522ms/step - loss: 2.2684 - acc: 0.2434 - val_loss: 2.7440 - val_acc: 0.1358\n",
            "Epoch 159/250\n",
            "89/89 [==============================] - 44s 488ms/step - loss: 2.2436 - acc: 0.2449 - val_loss: 2.7657 - val_acc: 0.1401\n",
            "Epoch 160/250\n",
            "89/89 [==============================] - 46s 502ms/step - loss: 2.2397 - acc: 0.2583 - val_loss: 2.7613 - val_acc: 0.1401\n",
            "Epoch 161/250\n",
            "89/89 [==============================] - 46s 504ms/step - loss: 2.2647 - acc: 0.2406 - val_loss: 2.7709 - val_acc: 0.1379\n",
            "Epoch 162/250\n",
            "89/89 [==============================] - 45s 493ms/step - loss: 2.2230 - acc: 0.2520 - val_loss: 2.7494 - val_acc: 0.1401\n",
            "Epoch 163/250\n",
            "89/89 [==============================] - 46s 508ms/step - loss: 2.2411 - acc: 0.2512 - val_loss: 2.7572 - val_acc: 0.1379\n",
            "Epoch 164/250\n",
            "89/89 [==============================] - 46s 508ms/step - loss: 2.2840 - acc: 0.2456 - val_loss: 2.7377 - val_acc: 0.1422\n",
            "Epoch 165/250\n",
            "89/89 [==============================] - 45s 493ms/step - loss: 2.2513 - acc: 0.2406 - val_loss: 2.7210 - val_acc: 0.1466\n",
            "Epoch 166/250\n",
            "89/89 [==============================] - 47s 521ms/step - loss: 2.2414 - acc: 0.2590 - val_loss: 2.7591 - val_acc: 0.1444\n",
            "Epoch 167/250\n",
            "89/89 [==============================] - 45s 496ms/step - loss: 2.2717 - acc: 0.2434 - val_loss: 2.7424 - val_acc: 0.1422\n",
            "Epoch 168/250\n",
            "89/89 [==============================] - 46s 501ms/step - loss: 2.2634 - acc: 0.2520 - val_loss: 2.7527 - val_acc: 0.1466\n",
            "Epoch 169/250\n",
            "89/89 [==============================] - 47s 517ms/step - loss: 2.2068 - acc: 0.2349 - val_loss: 2.7394 - val_acc: 0.1444\n",
            "Epoch 170/250\n",
            "89/89 [==============================] - 45s 494ms/step - loss: 2.2492 - acc: 0.2498 - val_loss: 2.7647 - val_acc: 0.1379\n",
            "Epoch 171/250\n",
            "89/89 [==============================] - 45s 496ms/step - loss: 2.2034 - acc: 0.2647 - val_loss: 2.7595 - val_acc: 0.1401\n",
            "Epoch 172/250\n",
            "89/89 [==============================] - 46s 505ms/step - loss: 2.2288 - acc: 0.2512 - val_loss: 2.7468 - val_acc: 0.1422\n",
            "Epoch 173/250\n",
            "89/89 [==============================] - 48s 525ms/step - loss: 2.2889 - acc: 0.2363 - val_loss: 2.7623 - val_acc: 0.1401\n",
            "Epoch 174/250\n",
            "89/89 [==============================] - 47s 521ms/step - loss: 2.2516 - acc: 0.2399 - val_loss: 2.7358 - val_acc: 0.1379\n",
            "Epoch 175/250\n",
            "89/89 [==============================] - 45s 491ms/step - loss: 2.2441 - acc: 0.2420 - val_loss: 2.7247 - val_acc: 0.1466\n",
            "Epoch 176/250\n",
            "89/89 [==============================] - 45s 490ms/step - loss: 2.1993 - acc: 0.2427 - val_loss: 2.7371 - val_acc: 0.1336\n",
            "Epoch 177/250\n",
            "89/89 [==============================] - 45s 493ms/step - loss: 2.2471 - acc: 0.2456 - val_loss: 2.7424 - val_acc: 0.1358\n",
            "Epoch 178/250\n",
            "89/89 [==============================] - 45s 494ms/step - loss: 2.2195 - acc: 0.2789 - val_loss: 2.7294 - val_acc: 0.1358\n",
            "Epoch 179/250\n",
            "89/89 [==============================] - 45s 498ms/step - loss: 2.2752 - acc: 0.2292 - val_loss: 2.7290 - val_acc: 0.1422\n",
            "Epoch 180/250\n",
            "89/89 [==============================] - 46s 504ms/step - loss: 2.2728 - acc: 0.2378 - val_loss: 2.7281 - val_acc: 0.1336\n",
            "Epoch 181/250\n",
            "89/89 [==============================] - 45s 492ms/step - loss: 2.2650 - acc: 0.2385 - val_loss: 2.7323 - val_acc: 0.1379\n",
            "Epoch 182/250\n",
            "89/89 [==============================] - 45s 497ms/step - loss: 2.3144 - acc: 0.2512 - val_loss: 2.7422 - val_acc: 0.1422\n",
            "Epoch 183/250\n",
            "89/89 [==============================] - 45s 497ms/step - loss: 2.2259 - acc: 0.2314 - val_loss: 2.7605 - val_acc: 0.1358\n",
            "Epoch 184/250\n",
            "89/89 [==============================] - 48s 531ms/step - loss: 2.1790 - acc: 0.2583 - val_loss: 2.7521 - val_acc: 0.1358\n",
            "Epoch 185/250\n",
            "89/89 [==============================] - 45s 498ms/step - loss: 2.2872 - acc: 0.2363 - val_loss: 2.7337 - val_acc: 0.1444\n",
            "Epoch 186/250\n",
            "89/89 [==============================] - 47s 522ms/step - loss: 2.2181 - acc: 0.2420 - val_loss: 2.7368 - val_acc: 0.1422\n",
            "Epoch 187/250\n",
            "89/89 [==============================] - 45s 499ms/step - loss: 2.2011 - acc: 0.2562 - val_loss: 2.7636 - val_acc: 0.1358\n",
            "Epoch 188/250\n",
            "89/89 [==============================] - 46s 508ms/step - loss: 2.2642 - acc: 0.2406 - val_loss: 2.7489 - val_acc: 0.1315\n",
            "Epoch 189/250\n",
            "89/89 [==============================] - 45s 500ms/step - loss: 2.2416 - acc: 0.2534 - val_loss: 2.7530 - val_acc: 0.1358\n",
            "Epoch 190/250\n",
            "89/89 [==============================] - 45s 494ms/step - loss: 2.2131 - acc: 0.2527 - val_loss: 2.7544 - val_acc: 0.1358\n",
            "Epoch 191/250\n",
            "89/89 [==============================] - 46s 501ms/step - loss: 2.2156 - acc: 0.2732 - val_loss: 2.7547 - val_acc: 0.1422\n",
            "Epoch 192/250\n",
            "89/89 [==============================] - 46s 502ms/step - loss: 2.2426 - acc: 0.2520 - val_loss: 2.7644 - val_acc: 0.1379\n",
            "Epoch 193/250\n",
            "89/89 [==============================] - 49s 536ms/step - loss: 2.2149 - acc: 0.2583 - val_loss: 2.7432 - val_acc: 0.1401\n",
            "Epoch 194/250\n",
            "89/89 [==============================] - 46s 500ms/step - loss: 2.1874 - acc: 0.2676 - val_loss: 2.7688 - val_acc: 0.1422\n",
            "Epoch 195/250\n",
            "89/89 [==============================] - 48s 525ms/step - loss: 2.2342 - acc: 0.2378 - val_loss: 2.8008 - val_acc: 0.1272\n",
            "Epoch 196/250\n",
            "89/89 [==============================] - 46s 500ms/step - loss: 2.2533 - acc: 0.2406 - val_loss: 2.7584 - val_acc: 0.1336\n",
            "Epoch 197/250\n",
            "89/89 [==============================] - 45s 501ms/step - loss: 2.2302 - acc: 0.2555 - val_loss: 2.7426 - val_acc: 0.1444\n",
            "Epoch 198/250\n",
            "89/89 [==============================] - 48s 526ms/step - loss: 2.2572 - acc: 0.2534 - val_loss: 2.7563 - val_acc: 0.1444\n",
            "Epoch 199/250\n",
            "89/89 [==============================] - 45s 498ms/step - loss: 2.2255 - acc: 0.2598 - val_loss: 2.7678 - val_acc: 0.1466\n",
            "Epoch 200/250\n",
            "89/89 [==============================] - 48s 525ms/step - loss: 2.2262 - acc: 0.2470 - val_loss: 2.7616 - val_acc: 0.1422\n",
            "Epoch 201/250\n",
            "89/89 [==============================] - 46s 501ms/step - loss: 2.3025 - acc: 0.2463 - val_loss: 2.7445 - val_acc: 0.1401\n",
            "Epoch 202/250\n",
            "89/89 [==============================] - 48s 527ms/step - loss: 2.2462 - acc: 0.2406 - val_loss: 2.7487 - val_acc: 0.1379\n",
            "Epoch 203/250\n",
            "89/89 [==============================] - 45s 498ms/step - loss: 2.2397 - acc: 0.2335 - val_loss: 2.7710 - val_acc: 0.1401\n",
            "Epoch 204/250\n",
            "89/89 [==============================] - 48s 528ms/step - loss: 2.2680 - acc: 0.2413 - val_loss: 2.7629 - val_acc: 0.1466\n",
            "Epoch 205/250\n",
            "89/89 [==============================] - 46s 499ms/step - loss: 2.2447 - acc: 0.2378 - val_loss: 2.7830 - val_acc: 0.1444\n",
            "Epoch 206/250\n",
            "89/89 [==============================] - 45s 496ms/step - loss: 2.2732 - acc: 0.2420 - val_loss: 2.7681 - val_acc: 0.1444\n",
            "Epoch 207/250\n",
            "89/89 [==============================] - 48s 523ms/step - loss: 2.1811 - acc: 0.2654 - val_loss: 2.7422 - val_acc: 0.1444\n",
            "Epoch 208/250\n",
            "89/89 [==============================] - 45s 495ms/step - loss: 2.2256 - acc: 0.2619 - val_loss: 2.7400 - val_acc: 0.1401\n",
            "Epoch 209/250\n",
            "89/89 [==============================] - 45s 493ms/step - loss: 2.2807 - acc: 0.2399 - val_loss: 2.7583 - val_acc: 0.1422\n",
            "Epoch 210/250\n",
            "89/89 [==============================] - 48s 532ms/step - loss: 2.2719 - acc: 0.2562 - val_loss: 2.7346 - val_acc: 0.1487\n",
            "Epoch 211/250\n",
            "89/89 [==============================] - 45s 496ms/step - loss: 2.2221 - acc: 0.2725 - val_loss: 2.7400 - val_acc: 0.1422\n",
            "Epoch 212/250\n",
            "89/89 [==============================] - 47s 522ms/step - loss: 2.2238 - acc: 0.2683 - val_loss: 2.7540 - val_acc: 0.1444\n",
            "Epoch 213/250\n",
            "89/89 [==============================] - 45s 497ms/step - loss: 2.2555 - acc: 0.2363 - val_loss: 2.7684 - val_acc: 0.1401\n",
            "Epoch 214/250\n",
            "89/89 [==============================] - 46s 504ms/step - loss: 2.2592 - acc: 0.2363 - val_loss: 2.7405 - val_acc: 0.1422\n",
            "Epoch 215/250\n",
            "89/89 [==============================] - 46s 501ms/step - loss: 2.2225 - acc: 0.2527 - val_loss: 2.7349 - val_acc: 0.1509\n",
            "Epoch 216/250\n",
            "89/89 [==============================] - 46s 505ms/step - loss: 2.2441 - acc: 0.2484 - val_loss: 2.7772 - val_acc: 0.1487\n",
            "Epoch 217/250\n",
            "89/89 [==============================] - 46s 504ms/step - loss: 2.2562 - acc: 0.2392 - val_loss: 2.7916 - val_acc: 0.1466\n",
            "Epoch 218/250\n",
            "89/89 [==============================] - 46s 505ms/step - loss: 2.2176 - acc: 0.2640 - val_loss: 2.7448 - val_acc: 0.1487\n",
            "Epoch 219/250\n",
            "89/89 [==============================] - 47s 521ms/step - loss: 2.2160 - acc: 0.2541 - val_loss: 2.7561 - val_acc: 0.1466\n",
            "Epoch 220/250\n",
            "89/89 [==============================] - 47s 505ms/step - loss: 2.2733 - acc: 0.2392 - val_loss: 2.7603 - val_acc: 0.1444\n",
            "Epoch 221/250\n",
            "89/89 [==============================] - 46s 501ms/step - loss: 2.2626 - acc: 0.2456 - val_loss: 2.7684 - val_acc: 0.1422\n",
            "Epoch 222/250\n",
            "89/89 [==============================] - 48s 527ms/step - loss: 2.2327 - acc: 0.2612 - val_loss: 2.7527 - val_acc: 0.1401\n",
            "Epoch 223/250\n",
            "89/89 [==============================] - 45s 494ms/step - loss: 2.2418 - acc: 0.2271 - val_loss: 2.7713 - val_acc: 0.1358\n",
            "Epoch 224/250\n",
            "89/89 [==============================] - 48s 527ms/step - loss: 2.2672 - acc: 0.2491 - val_loss: 2.7496 - val_acc: 0.1401\n",
            "Epoch 225/250\n",
            "89/89 [==============================] - 45s 495ms/step - loss: 2.2387 - acc: 0.2349 - val_loss: 2.7578 - val_acc: 0.1379\n",
            "Epoch 226/250\n",
            "89/89 [==============================] - 45s 495ms/step - loss: 2.2647 - acc: 0.2356 - val_loss: 2.7435 - val_acc: 0.1444\n",
            "Epoch 227/250\n",
            "89/89 [==============================] - 45s 494ms/step - loss: 2.2388 - acc: 0.2605 - val_loss: 2.7611 - val_acc: 0.1379\n",
            "Epoch 228/250\n",
            "89/89 [==============================] - 45s 500ms/step - loss: 2.2084 - acc: 0.2541 - val_loss: 2.7646 - val_acc: 0.1358\n",
            "Epoch 229/250\n",
            "89/89 [==============================] - 48s 525ms/step - loss: 2.2218 - acc: 0.2505 - val_loss: 2.7653 - val_acc: 0.1466\n",
            "Epoch 230/250\n",
            "89/89 [==============================] - 46s 506ms/step - loss: 2.2085 - acc: 0.2569 - val_loss: 2.7788 - val_acc: 0.1401\n",
            "Epoch 231/250\n",
            "89/89 [==============================] - 45s 497ms/step - loss: 2.2287 - acc: 0.2640 - val_loss: 2.7909 - val_acc: 0.1379\n",
            "Epoch 232/250\n",
            "89/89 [==============================] - 45s 495ms/step - loss: 2.2236 - acc: 0.2520 - val_loss: 2.7668 - val_acc: 0.1401\n",
            "Epoch 233/250\n",
            "89/89 [==============================] - 46s 504ms/step - loss: 2.2285 - acc: 0.2690 - val_loss: 2.7634 - val_acc: 0.1401\n",
            "Epoch 234/250\n",
            "89/89 [==============================] - 46s 501ms/step - loss: 2.2148 - acc: 0.2555 - val_loss: 2.7702 - val_acc: 0.1401\n",
            "Epoch 235/250\n",
            "89/89 [==============================] - 45s 495ms/step - loss: 2.2364 - acc: 0.2413 - val_loss: 2.7699 - val_acc: 0.1379\n",
            "Epoch 236/250\n",
            "89/89 [==============================] - 46s 503ms/step - loss: 2.2353 - acc: 0.2548 - val_loss: 2.7710 - val_acc: 0.1444\n",
            "Epoch 237/250\n",
            "89/89 [==============================] - 46s 502ms/step - loss: 2.1762 - acc: 0.2697 - val_loss: 2.7745 - val_acc: 0.1358\n",
            "Epoch 238/250\n",
            "89/89 [==============================] - 48s 524ms/step - loss: 2.2032 - acc: 0.2463 - val_loss: 2.7708 - val_acc: 0.1379\n",
            "Epoch 239/250\n",
            "89/89 [==============================] - 46s 504ms/step - loss: 2.2069 - acc: 0.2683 - val_loss: 2.7728 - val_acc: 0.1422\n",
            "Epoch 240/250\n",
            "89/89 [==============================] - 48s 523ms/step - loss: 2.2048 - acc: 0.2640 - val_loss: 2.7830 - val_acc: 0.1401\n",
            "Epoch 241/250\n",
            "89/89 [==============================] - 45s 499ms/step - loss: 2.2278 - acc: 0.2491 - val_loss: 2.7659 - val_acc: 0.1444\n",
            "Epoch 242/250\n",
            "89/89 [==============================] - 45s 495ms/step - loss: 2.2241 - acc: 0.2527 - val_loss: 2.7894 - val_acc: 0.1401\n",
            "Epoch 243/250\n",
            "89/89 [==============================] - 45s 498ms/step - loss: 2.2187 - acc: 0.2520 - val_loss: 2.7486 - val_acc: 0.1509\n",
            "Epoch 244/250\n",
            "89/89 [==============================] - 46s 503ms/step - loss: 2.2312 - acc: 0.2598 - val_loss: 2.7608 - val_acc: 0.1401\n",
            "Epoch 245/250\n",
            "89/89 [==============================] - 48s 533ms/step - loss: 2.1728 - acc: 0.2669 - val_loss: 2.7529 - val_acc: 0.1422\n",
            "Epoch 246/250\n",
            "89/89 [==============================] - 45s 496ms/step - loss: 2.2460 - acc: 0.2470 - val_loss: 2.7443 - val_acc: 0.1466\n",
            "Epoch 247/250\n",
            "89/89 [==============================] - 48s 530ms/step - loss: 2.2106 - acc: 0.2307 - val_loss: 2.7655 - val_acc: 0.1358\n",
            "Epoch 248/250\n",
            "89/89 [==============================] - 45s 499ms/step - loss: 2.2066 - acc: 0.2534 - val_loss: 2.7569 - val_acc: 0.1422\n",
            "Epoch 249/250\n",
            "89/89 [==============================] - 45s 500ms/step - loss: 2.2172 - acc: 0.2548 - val_loss: 2.7838 - val_acc: 0.1422\n",
            "Epoch 250/250\n",
            "89/89 [==============================] - 45s 499ms/step - loss: 2.2211 - acc: 0.2590 - val_loss: 2.7736 - val_acc: 0.1422\n"
          ]
        }
      ]
    },
    {
      "cell_type": "code",
      "source": [
        "acc = history.history['acc']\n",
        "val_acc = history.history['val_acc']\n",
        "loss = history.history['loss']\n",
        "val_loss = history.history['val_loss']\n",
        "\n",
        "epochs_x = range(len(acc))\n",
        "\n",
        "plt.plot(epochs_x, acc, 'co', label='Training acc')\n",
        "plt.plot(epochs_x, val_acc, 'k', label='Validation acc')\n",
        "plt.title('Training and validation accuracy')\n",
        "plt.legend()\n",
        "\n",
        "plt.figure()\n",
        "\n",
        "plt.plot(epochs_x, loss, 'co', label='Training loss')\n",
        "plt.plot(epochs_x, val_loss, 'k', label='Validation loss')\n",
        "plt.title('Training and validation loss')\n",
        "plt.legend()\n",
        "\n",
        "plt.show()"
      ],
      "metadata": {
        "id": "kwylTJpTP5XI",
        "colab": {
          "base_uri": "https://localhost:8080/",
          "height": 545
        },
        "outputId": "b0432cfc-9296-4774-d491-a89c70fdb4e3"
      },
      "execution_count": 13,
      "outputs": [
        {
          "output_type": "display_data",
          "data": {
            "text/plain": [
              "<Figure size 432x288 with 1 Axes>"
            ],
            "image/png": "[encoded data removed]"
          },
          "metadata": {
            "needs_background": "light"
          }
        },
        {
          "output_type": "display_data",
          "data": {
            "text/plain": [
              "<Figure size 432x288 with 1 Axes>"
            ],
            "image/png": "[encoded data removed]"
          },
          "metadata": {
            "needs_background": "light"
          }
        }
      ]
    },
    {
      "cell_type": "markdown",
      "source": [
        "#Download the model"
      ],
      "metadata": {
        "id": "lD-vKaoHQAFd"
      }
    },
    {
      "cell_type": "code",
      "source": [
        "os.makedirs('/content/drive/My Drive/cut_panoramic/Model', exist_ok=True)\n",
        "model.save('/content/drive/My Drive/cut_panoramic/Model/3.3_รอบที่3_Flimpano_Male125_250.h5')"
      ],
      "metadata": {
        "id": "74dL7-HLP_Sh"
      },
      "execution_count": 14,
      "outputs": []
    },
    {
      "cell_type": "code",
      "source": [
        "from google.colab import files\n",
        "files.download('/content/drive/My Drive/cut_panoramic/Model/3.3_รอบที่3_Flimpano_Male125_250.h5')"
      ],
      "metadata": {
        "id": "qcPW-brHQDpc",
        "colab": {
          "base_uri": "https://localhost:8080/",
          "height": 17
        },
        "outputId": "1d76a8a0-fadb-48ea-d5f1-51a9d64e6358"
      },
      "execution_count": 15,
      "outputs": [
        {
          "output_type": "display_data",
          "data": {
            "text/plain": [
              "<IPython.core.display.Javascript object>"
            ],
            "application/javascript": [
              "\n",
              "    async function download(id, filename, size) {\n",
              "      if (!google.colab.kernel.accessAllowed) {\n",
              "        return;\n",
              "      }\n",
              "      const div = document.createElement('div');\n",
              "      const label = document.createElement('label');\n",
              "      label.textContent = `Downloading \"${filename}\": `;\n",
              "      div.appendChild(label);\n",
              "      const progress = document.createElement('progress');\n",
              "      progress.max = size;\n",
              "      div.appendChild(progress);\n",
              "      document.body.appendChild(div);\n",
              "\n",
              "      const buffers = [];\n",
              "      let downloaded = 0;\n",
              "\n",
              "      const channel = await google.colab.kernel.comms.open(id);\n",
              "      // Send a message to notify the kernel that we're ready.\n",
              "      channel.send({})\n",
              "\n",
              "      for await (const message of channel.messages) {\n",
              "        // Send a message to notify the kernel that we're ready.\n",
              "        channel.send({})\n",
              "        if (message.buffers) {\n",
              "          for (const buffer of message.buffers) {\n",
              "            buffers.push(buffer);\n",
              "            downloaded += buffer.byteLength;\n",
              "            progress.value = downloaded;\n",
              "          }\n",
              "        }\n",
              "      }\n",
              "      const blob = new Blob(buffers, {type: 'application/binary'});\n",
              "      const a = document.createElement('a');\n",
              "      a.href = window.URL.createObjectURL(blob);\n",
              "      a.download = filename;\n",
              "      div.appendChild(a);\n",
              "      a.click();\n",
              "      div.remove();\n",
              "    }\n",
              "  "
            ]
          },
          "metadata": {}
        },
        {
          "output_type": "display_data",
          "data": {
            "text/plain": [
              "<IPython.core.display.Javascript object>"
            ],
            "application/javascript": [
              "download(\"download_0840797a-7c6a-46b8-bf8b-dba598b4ec0a\", \"3.3_\\u0e23\\u0e2d\\u0e1a\\u0e17\\u0e35\\u0e483_Flimpano_Male125_250.h5\", 16778384)"
            ]
          },
          "metadata": {}
        }
      ]
    }
  ]
}