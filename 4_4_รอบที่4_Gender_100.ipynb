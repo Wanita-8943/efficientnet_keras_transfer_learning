{
  "nbformat": 4,
  "nbformat_minor": 0,
  "metadata": {
    "colab": {
      "provenance": [],
      "include_colab_link": true
    },
    "kernelspec": {
      "name": "python3",
      "display_name": "Python 3"
    },
    "language_info": {
      "name": "python"
    }
  },
  "cells": [
    {
      "cell_type": "markdown",
      "metadata": {
        "id": "view-in-github",
        "colab_type": "text"
      },
      "source": [
        "<a href=\"https://colab.research.google.com/github/Wanita-8943/efficientnet_keras_transfer_learning/blob/master/4_4_%E0%B8%A3%E0%B8%AD%E0%B8%9A%E0%B8%97%E0%B8%B5%E0%B9%884_Gender_100.ipynb\" target=\"_parent\"><img src=\"https://colab.research.google.com/assets/colab-badge.svg\" alt=\"Open In Colab\"/></a>"
      ]
    },
    {
      "cell_type": "code",
      "execution_count": 1,
      "metadata": {
        "id": "KKSs7cyoPHcD"
      },
      "outputs": [],
      "source": [
        "import pandas as pd\n",
        "import shutil"
      ]
    },
    {
      "cell_type": "code",
      "source": [
        "from google.colab import drive\n",
        "drive.mount('/content/drive')"
      ],
      "metadata": {
        "colab": {
          "base_uri": "https://localhost:8080/"
        },
        "id": "Klm1B91QlvKd",
        "outputId": "f0655f52-2d93-4640-c1a5-6cf723003fd6"
      },
      "execution_count": 2,
      "outputs": [
        {
          "output_type": "stream",
          "name": "stdout",
          "text": [
            "Drive already mounted at /content/drive; to attempt to forcibly remount, call drive.mount(\"/content/drive\", force_remount=True).\n"
          ]
        }
      ]
    },
    {
      "cell_type": "code",
      "source": [
        "from tensorflow.keras import models\n",
        "from tensorflow.keras import layers\n",
        "from tensorflow.keras import optimizers\n",
        "import os\n",
        "import glob\n",
        "import shutil\n",
        "import sys\n",
        "import numpy as np\n",
        "from skimage.io import imread\n",
        "import matplotlib.pyplot as plt\n",
        "from IPython.display import Image\n",
        "%matplotlib inline"
      ],
      "metadata": {
        "id": "1pX9g1HxPM2f"
      },
      "execution_count": 3,
      "outputs": []
    },
    {
      "cell_type": "code",
      "source": [
        "batch_size = 16\n",
        "width = 150\n",
        "height = 150\n",
        "epochs = 100\n",
        "NUM_TRAIN = 2850\n",
        "NUM_TEST = 950\n",
        "dropout_rate = 0.2\n",
        "input_shape = (height, width, 3)"
      ],
      "metadata": {
        "id": "eSFtvGyvPM6O"
      },
      "execution_count": 4,
      "outputs": []
    },
    {
      "cell_type": "code",
      "source": [
        "#ดึงข้อมูลใน Github มาใช้\n",
        "import os\n",
        "%cd /content\n",
        "if not os.path.isdir(\"efficientnet_keras_transfer_learning\"):\n",
        " !git clone https://github.com/Wanita-8943/efficientnet_keras_transfer_learning\n",
        "%cd efficientnet_keras_transfer_learning/"
      ],
      "metadata": {
        "colab": {
          "base_uri": "https://localhost:8080/"
        },
        "id": "lb4K4CsMPNAW",
        "outputId": "e50f6f93-7d60-470f-9a64-3ac8f4895ab5"
      },
      "execution_count": 5,
      "outputs": [
        {
          "output_type": "stream",
          "name": "stdout",
          "text": [
            "/content\n",
            "/content/efficientnet_keras_transfer_learning\n"
          ]
        }
      ]
    },
    {
      "cell_type": "code",
      "source": [
        "# Options: EfficientNetB0, EfficientNetB1, EfficientNetB2, EfficientNetB3\n",
        "# Higher the number, the more complex the model is.\n",
        "from efficientnet import EfficientNetB0 as Net\n",
        "from efficientnet import center_crop_and_resize, preprocess_input"
      ],
      "metadata": {
        "id": "eyBg0dLKPND3"
      },
      "execution_count": 6,
      "outputs": []
    },
    {
      "cell_type": "code",
      "source": [
        "base_dir = '/content/drive/MyDrive/TVT_Gender'\n",
        "os.makedirs(base_dir, exist_ok=True)\n",
        "\n",
        "# Directories for our training,\n",
        "# validation and test splits\n",
        "train_dir = os.path.join(base_dir, 'train')\n",
        "os.makedirs(train_dir, exist_ok=True)\n",
        "validation_dir = os.path.join(base_dir, 'validation')\n",
        "os.makedirs(validation_dir, exist_ok=True)\n",
        "test_dir = os.path.join(base_dir, 'test')\n",
        "os.makedirs(test_dir, exist_ok=True)"
      ],
      "metadata": {
        "id": "Jwpq_-KvPef8"
      },
      "execution_count": 7,
      "outputs": []
    },
    {
      "cell_type": "markdown",
      "source": [
        "#load model"
      ],
      "metadata": {
        "id": "od-ZSNm5PoGy"
      }
    },
    {
      "cell_type": "code",
      "source": [
        "import sys\n",
        "sys.path.append('/content/drive/MyDrive/cut_panoramic/Model/3.3_รอบที่3_Gender_100.h5')\n",
        "\n",
        "from efficientnet.layers import Swish, DropConnect\n",
        "from efficientnet.model import ConvKernalInitializer\n",
        "from tensorflow.keras.utils import get_custom_objects\n",
        "\n",
        "get_custom_objects().update({\n",
        "    'ConvKernalInitializer': ConvKernalInitializer,\n",
        "    'Swish': Swish,\n",
        "    'DropConnect':DropConnect\n",
        "})"
      ],
      "metadata": {
        "id": "n5iPL5MNPkhE"
      },
      "execution_count": 8,
      "outputs": []
    },
    {
      "cell_type": "code",
      "source": [
        "#load model \n",
        "from tensorflow.keras.models import load_model\n",
        "model = load_model('/content/drive/MyDrive/cut_panoramic/Model/3.3_รอบที่3_Gender_100.h5')\n",
        "height = width = model.input_shape[1]"
      ],
      "metadata": {
        "id": "plYz49xMPkly"
      },
      "execution_count": 9,
      "outputs": []
    },
    {
      "cell_type": "code",
      "source": [
        "model.summary()"
      ],
      "metadata": {
        "colab": {
          "base_uri": "https://localhost:8080/"
        },
        "id": "z6IOPBflFbvc",
        "outputId": "ddd528ad-4fd2-40e5-e746-97d1d03d829e"
      },
      "execution_count": 10,
      "outputs": [
        {
          "output_type": "stream",
          "name": "stdout",
          "text": [
            "Model: \"sequential\"\n",
            "_________________________________________________________________\n",
            " Layer (type)                Output Shape              Param #   \n",
            "=================================================================\n",
            " efficientnet-b0 (Functional  (None, 5, 5, 1280)       4049564   \n",
            " )                                                               \n",
            "                                                                 \n",
            " gap (GlobalMaxPooling2D)    (None, 1280)              0         \n",
            "                                                                 \n",
            " dropout_out (Dropout)       (None, 1280)              0         \n",
            "                                                                 \n",
            " fc_out (Dense)              (None, 2)                 2562      \n",
            "                                                                 \n",
            "=================================================================\n",
            "Total params: 4,052,126\n",
            "Trainable params: 2,562\n",
            "Non-trainable params: 4,049,564\n",
            "_________________________________________________________________\n"
          ]
        }
      ]
    },
    {
      "cell_type": "code",
      "source": [
        "# Train ด้วย ImageDataGenerator ของ Keras ซึ่งจะเพิ่มข้อมูลเสริมระหว่างการฝึกเพื่อลดโอกาสเกิด overfitting\n",
        "#overfitting เกิดจากข้อมูลที่ซับซ้อนกันเกินไป\n",
        "from tensorflow.keras.preprocessing.image import ImageDataGenerator\n",
        "\n",
        "train_datagen = ImageDataGenerator(\n",
        "      rescale=1./255, #โมเดลส่วนใหญ่ต้องใช้ RGB ในช่วง 0–1\n",
        "      rotation_range=40,\n",
        "      width_shift_range=0.2,\n",
        "      height_shift_range=0.2,\n",
        "      shear_range=0.2,\n",
        "      zoom_range=0.2,\n",
        "      horizontal_flip=True,\n",
        "      fill_mode='nearest')\n",
        "\n",
        "# Note that the validation data should not be augmented!\n",
        "test_datagen = ImageDataGenerator(rescale=1./255)\n",
        "\n",
        "train_generator = train_datagen.flow_from_directory(\n",
        "        # This is the target directory #ไดเรกเป้าหมาย\n",
        "        train_dir,\n",
        "        # รูปภาพทั้งหมดจะถูกปรับขนาดตามความสูงและความกว้างของเป้าหมาย\n",
        "        target_size=(height, width),\n",
        "        batch_size=batch_size,\n",
        "        # Since we use categorical_crossentropy loss, we need categorical labels\n",
        "        #เนื่องจากเราใช้ categorical_crossentropy loss เราจึงต้องมีป้ายกำกับตามหมวดหมู่\n",
        "        class_mode='categorical')\n",
        "\n",
        "validation_generator = test_datagen.flow_from_directory( #การดึงภาพจาก Directory มาเข้าโมเดล \n",
        "        validation_dir,\n",
        "        target_size=(height, width),\n",
        "        batch_size=batch_size,\n",
        "        class_mode='categorical')"
      ],
      "metadata": {
        "colab": {
          "base_uri": "https://localhost:8080/"
        },
        "id": "KBMZbdr2Pgw4",
        "outputId": "9bdb369e-da2c-44b8-bdf2-9c140a1df2f7"
      },
      "execution_count": 11,
      "outputs": [
        {
          "output_type": "stream",
          "name": "stdout",
          "text": [
            "Found 2850 images belonging to 2 classes.\n",
            "Found 950 images belonging to 2 classes.\n"
          ]
        }
      ]
    },
    {
      "cell_type": "code",
      "source": [
        "history = model.fit_generator(\n",
        "      train_generator,\n",
        "      steps_per_epoch= NUM_TRAIN //batch_size,\n",
        "      epochs=epochs,\n",
        "      validation_data=validation_generator,\n",
        "      validation_steps= NUM_TEST //batch_size,\n",
        "      verbose=1,\n",
        "      use_multiprocessing=True,\n",
        "      workers=4)"
      ],
      "metadata": {
        "colab": {
          "base_uri": "https://localhost:8080/"
        },
        "id": "C9Cf1dwyP1PD",
        "outputId": "847527b0-1cd3-4d68-b3ac-614ce014b4a8"
      },
      "execution_count": 12,
      "outputs": [
        {
          "output_type": "stream",
          "name": "stderr",
          "text": [
            "<ipython-input-12-caa7b37242a8>:1: UserWarning: `Model.fit_generator` is deprecated and will be removed in a future version. Please use `Model.fit`, which supports generators.\n",
            "  history = model.fit_generator(\n"
          ]
        },
        {
          "output_type": "stream",
          "name": "stdout",
          "text": [
            "Epoch 1/100\n",
            "178/178 [==============================] - 186s 1s/step - loss: 0.5922 - acc: 0.6828 - val_loss: 0.5749 - val_acc: 0.6970\n",
            "Epoch 2/100\n",
            "178/178 [==============================] - 144s 799ms/step - loss: 0.6018 - acc: 0.6750 - val_loss: 0.5404 - val_acc: 0.7288\n",
            "Epoch 3/100\n",
            "178/178 [==============================] - 146s 804ms/step - loss: 0.6082 - acc: 0.6715 - val_loss: 0.5708 - val_acc: 0.7066\n",
            "Epoch 4/100\n",
            "178/178 [==============================] - 145s 802ms/step - loss: 0.6056 - acc: 0.6838 - val_loss: 0.5595 - val_acc: 0.7140\n",
            "Epoch 5/100\n",
            "178/178 [==============================] - 146s 809ms/step - loss: 0.6037 - acc: 0.6750 - val_loss: 0.5722 - val_acc: 0.7044\n",
            "Epoch 6/100\n",
            "178/178 [==============================] - 149s 830ms/step - loss: 0.6046 - acc: 0.6725 - val_loss: 0.5876 - val_acc: 0.6886\n",
            "Epoch 7/100\n",
            "178/178 [==============================] - 147s 813ms/step - loss: 0.6195 - acc: 0.6694 - val_loss: 0.5648 - val_acc: 0.7150\n",
            "Epoch 8/100\n",
            "178/178 [==============================] - 147s 815ms/step - loss: 0.6003 - acc: 0.6845 - val_loss: 0.5847 - val_acc: 0.6875\n",
            "Epoch 9/100\n",
            "178/178 [==============================] - 146s 811ms/step - loss: 0.5980 - acc: 0.6708 - val_loss: 0.5620 - val_acc: 0.7108\n",
            "Epoch 10/100\n",
            "178/178 [==============================] - 150s 828ms/step - loss: 0.6104 - acc: 0.6648 - val_loss: 0.5785 - val_acc: 0.6928\n",
            "Epoch 11/100\n",
            "178/178 [==============================] - 147s 816ms/step - loss: 0.6169 - acc: 0.6665 - val_loss: 0.5591 - val_acc: 0.7129\n",
            "Epoch 12/100\n",
            "178/178 [==============================] - 147s 817ms/step - loss: 0.6033 - acc: 0.6620 - val_loss: 0.5804 - val_acc: 0.6949\n",
            "Epoch 13/100\n",
            "178/178 [==============================] - 147s 819ms/step - loss: 0.6104 - acc: 0.6620 - val_loss: 0.5869 - val_acc: 0.6854\n",
            "Epoch 14/100\n",
            "178/178 [==============================] - 147s 817ms/step - loss: 0.6131 - acc: 0.6683 - val_loss: 0.5637 - val_acc: 0.7119\n",
            "Epoch 15/100\n",
            "178/178 [==============================] - 147s 815ms/step - loss: 0.6149 - acc: 0.6708 - val_loss: 0.5697 - val_acc: 0.7055\n",
            "Epoch 16/100\n",
            "178/178 [==============================] - 146s 813ms/step - loss: 0.6065 - acc: 0.6665 - val_loss: 0.5666 - val_acc: 0.7097\n",
            "Epoch 17/100\n",
            "178/178 [==============================] - 147s 817ms/step - loss: 0.6064 - acc: 0.6743 - val_loss: 0.5455 - val_acc: 0.7235\n",
            "Epoch 18/100\n",
            "178/178 [==============================] - 147s 816ms/step - loss: 0.6066 - acc: 0.6715 - val_loss: 0.5569 - val_acc: 0.7119\n",
            "Epoch 19/100\n",
            "178/178 [==============================] - 146s 810ms/step - loss: 0.6061 - acc: 0.6740 - val_loss: 0.5579 - val_acc: 0.7172\n",
            "Epoch 20/100\n",
            "178/178 [==============================] - 146s 812ms/step - loss: 0.6030 - acc: 0.6701 - val_loss: 0.5505 - val_acc: 0.7129\n",
            "Epoch 21/100\n",
            "178/178 [==============================] - 146s 808ms/step - loss: 0.6017 - acc: 0.6754 - val_loss: 0.5548 - val_acc: 0.7129\n",
            "Epoch 22/100\n",
            "178/178 [==============================] - 146s 811ms/step - loss: 0.6143 - acc: 0.6796 - val_loss: 0.5678 - val_acc: 0.7087\n",
            "Epoch 23/100\n",
            "178/178 [==============================] - 145s 807ms/step - loss: 0.6134 - acc: 0.6644 - val_loss: 0.5545 - val_acc: 0.7119\n",
            "Epoch 24/100\n",
            "178/178 [==============================] - 147s 813ms/step - loss: 0.6011 - acc: 0.6835 - val_loss: 0.5832 - val_acc: 0.6949\n",
            "Epoch 25/100\n",
            "178/178 [==============================] - 146s 809ms/step - loss: 0.6062 - acc: 0.6831 - val_loss: 0.5876 - val_acc: 0.6854\n",
            "Epoch 26/100\n",
            "178/178 [==============================] - 146s 812ms/step - loss: 0.6146 - acc: 0.6623 - val_loss: 0.5766 - val_acc: 0.6928\n",
            "Epoch 27/100\n",
            "178/178 [==============================] - 147s 815ms/step - loss: 0.6113 - acc: 0.6662 - val_loss: 0.5637 - val_acc: 0.7087\n",
            "Epoch 28/100\n",
            "178/178 [==============================] - 146s 810ms/step - loss: 0.6090 - acc: 0.6697 - val_loss: 0.5578 - val_acc: 0.7119\n",
            "Epoch 29/100\n",
            "178/178 [==============================] - 146s 813ms/step - loss: 0.5970 - acc: 0.6764 - val_loss: 0.5525 - val_acc: 0.7140\n",
            "Epoch 30/100\n",
            "178/178 [==============================] - 147s 814ms/step - loss: 0.6120 - acc: 0.6680 - val_loss: 0.5520 - val_acc: 0.7108\n",
            "Epoch 31/100\n",
            "178/178 [==============================] - 147s 815ms/step - loss: 0.6231 - acc: 0.6570 - val_loss: 0.5742 - val_acc: 0.6992\n",
            "Epoch 32/100\n",
            "178/178 [==============================] - 147s 818ms/step - loss: 0.6090 - acc: 0.6747 - val_loss: 0.5846 - val_acc: 0.6917\n",
            "Epoch 33/100\n",
            "178/178 [==============================] - 146s 814ms/step - loss: 0.6074 - acc: 0.6800 - val_loss: 0.5653 - val_acc: 0.7066\n",
            "Epoch 34/100\n",
            "178/178 [==============================] - 146s 812ms/step - loss: 0.6073 - acc: 0.6757 - val_loss: 0.5626 - val_acc: 0.7076\n",
            "Epoch 35/100\n",
            "178/178 [==============================] - 146s 813ms/step - loss: 0.6074 - acc: 0.6754 - val_loss: 0.5664 - val_acc: 0.7044\n",
            "Epoch 36/100\n",
            "178/178 [==============================] - 147s 814ms/step - loss: 0.6014 - acc: 0.6824 - val_loss: 0.5957 - val_acc: 0.6822\n",
            "Epoch 37/100\n",
            "178/178 [==============================] - 147s 813ms/step - loss: 0.5850 - acc: 0.6835 - val_loss: 0.5764 - val_acc: 0.6949\n",
            "Epoch 38/100\n",
            "178/178 [==============================] - 146s 813ms/step - loss: 0.6070 - acc: 0.6733 - val_loss: 0.5614 - val_acc: 0.7097\n",
            "Epoch 39/100\n",
            "178/178 [==============================] - 147s 815ms/step - loss: 0.5872 - acc: 0.6898 - val_loss: 0.5621 - val_acc: 0.7119\n",
            "Epoch 40/100\n",
            "178/178 [==============================] - 146s 812ms/step - loss: 0.5918 - acc: 0.6828 - val_loss: 0.5854 - val_acc: 0.6907\n",
            "Epoch 41/100\n",
            "178/178 [==============================] - 147s 818ms/step - loss: 0.6044 - acc: 0.6778 - val_loss: 0.5487 - val_acc: 0.7214\n",
            "Epoch 42/100\n",
            "178/178 [==============================] - 147s 813ms/step - loss: 0.6045 - acc: 0.6736 - val_loss: 0.5491 - val_acc: 0.7182\n",
            "Epoch 43/100\n",
            "178/178 [==============================] - 147s 815ms/step - loss: 0.6051 - acc: 0.6718 - val_loss: 0.5952 - val_acc: 0.6811\n",
            "Epoch 44/100\n",
            "178/178 [==============================] - 147s 818ms/step - loss: 0.5923 - acc: 0.6891 - val_loss: 0.5596 - val_acc: 0.7066\n",
            "Epoch 45/100\n",
            "178/178 [==============================] - 147s 817ms/step - loss: 0.5965 - acc: 0.6912 - val_loss: 0.5542 - val_acc: 0.7119\n",
            "Epoch 46/100\n",
            "178/178 [==============================] - 147s 815ms/step - loss: 0.5947 - acc: 0.6937 - val_loss: 0.5746 - val_acc: 0.6960\n",
            "Epoch 47/100\n",
            "178/178 [==============================] - 147s 817ms/step - loss: 0.5909 - acc: 0.6838 - val_loss: 0.5665 - val_acc: 0.7066\n",
            "Epoch 48/100\n",
            "178/178 [==============================] - 147s 814ms/step - loss: 0.5939 - acc: 0.6814 - val_loss: 0.5980 - val_acc: 0.6790\n",
            "Epoch 49/100\n",
            "178/178 [==============================] - 153s 849ms/step - loss: 0.6050 - acc: 0.6740 - val_loss: 0.5950 - val_acc: 0.6843\n",
            "Epoch 50/100\n",
            "178/178 [==============================] - 147s 813ms/step - loss: 0.5917 - acc: 0.6835 - val_loss: 0.5689 - val_acc: 0.7013\n",
            "Epoch 51/100\n",
            "178/178 [==============================] - 147s 814ms/step - loss: 0.6062 - acc: 0.6697 - val_loss: 0.5960 - val_acc: 0.6790\n",
            "Epoch 52/100\n",
            "178/178 [==============================] - 147s 815ms/step - loss: 0.5965 - acc: 0.6814 - val_loss: 0.5735 - val_acc: 0.6949\n",
            "Epoch 53/100\n",
            "178/178 [==============================] - 146s 808ms/step - loss: 0.5944 - acc: 0.6867 - val_loss: 0.5678 - val_acc: 0.7023\n",
            "Epoch 54/100\n",
            "178/178 [==============================] - 145s 804ms/step - loss: 0.5973 - acc: 0.6796 - val_loss: 0.5680 - val_acc: 0.7034\n",
            "Epoch 55/100\n",
            "178/178 [==============================] - 145s 807ms/step - loss: 0.6119 - acc: 0.6676 - val_loss: 0.5649 - val_acc: 0.7055\n",
            "Epoch 56/100\n",
            "178/178 [==============================] - 145s 805ms/step - loss: 0.5955 - acc: 0.6838 - val_loss: 0.5617 - val_acc: 0.7097\n",
            "Epoch 57/100\n",
            "178/178 [==============================] - 145s 805ms/step - loss: 0.6024 - acc: 0.6729 - val_loss: 0.5580 - val_acc: 0.7066\n",
            "Epoch 58/100\n",
            "178/178 [==============================] - 146s 809ms/step - loss: 0.6037 - acc: 0.6740 - val_loss: 0.5753 - val_acc: 0.6970\n",
            "Epoch 59/100\n",
            "178/178 [==============================] - 144s 802ms/step - loss: 0.6051 - acc: 0.6778 - val_loss: 0.5677 - val_acc: 0.7023\n",
            "Epoch 60/100\n",
            "178/178 [==============================] - 145s 806ms/step - loss: 0.5895 - acc: 0.6884 - val_loss: 0.5695 - val_acc: 0.7002\n",
            "Epoch 61/100\n",
            "178/178 [==============================] - 145s 806ms/step - loss: 0.6209 - acc: 0.6687 - val_loss: 0.5749 - val_acc: 0.6970\n",
            "Epoch 62/100\n",
            "178/178 [==============================] - 145s 803ms/step - loss: 0.6003 - acc: 0.6711 - val_loss: 0.5673 - val_acc: 0.7023\n",
            "Epoch 63/100\n",
            "178/178 [==============================] - 145s 808ms/step - loss: 0.6122 - acc: 0.6771 - val_loss: 0.5664 - val_acc: 0.7023\n",
            "Epoch 64/100\n",
            "178/178 [==============================] - 146s 807ms/step - loss: 0.5910 - acc: 0.6909 - val_loss: 0.5674 - val_acc: 0.6992\n",
            "Epoch 65/100\n",
            "178/178 [==============================] - 146s 810ms/step - loss: 0.5986 - acc: 0.6856 - val_loss: 0.5597 - val_acc: 0.7087\n",
            "Epoch 66/100\n",
            "178/178 [==============================] - 145s 804ms/step - loss: 0.5946 - acc: 0.6881 - val_loss: 0.5677 - val_acc: 0.7002\n",
            "Epoch 67/100\n",
            "178/178 [==============================] - 145s 805ms/step - loss: 0.6123 - acc: 0.6750 - val_loss: 0.5676 - val_acc: 0.7023\n",
            "Epoch 68/100\n",
            "178/178 [==============================] - 145s 806ms/step - loss: 0.6053 - acc: 0.6715 - val_loss: 0.5753 - val_acc: 0.6917\n",
            "Epoch 69/100\n",
            "178/178 [==============================] - 145s 805ms/step - loss: 0.5907 - acc: 0.6881 - val_loss: 0.5619 - val_acc: 0.7087\n",
            "Epoch 70/100\n",
            "178/178 [==============================] - 144s 802ms/step - loss: 0.5999 - acc: 0.6828 - val_loss: 0.5696 - val_acc: 0.7002\n",
            "Epoch 71/100\n",
            "178/178 [==============================] - 145s 806ms/step - loss: 0.5890 - acc: 0.6909 - val_loss: 0.5431 - val_acc: 0.7256\n",
            "Epoch 72/100\n",
            "178/178 [==============================] - 145s 806ms/step - loss: 0.6052 - acc: 0.6740 - val_loss: 0.5790 - val_acc: 0.6928\n",
            "Epoch 73/100\n",
            "178/178 [==============================] - 145s 804ms/step - loss: 0.6030 - acc: 0.6814 - val_loss: 0.5888 - val_acc: 0.6896\n",
            "Epoch 74/100\n",
            "178/178 [==============================] - 145s 806ms/step - loss: 0.6136 - acc: 0.6634 - val_loss: 0.5564 - val_acc: 0.7076\n",
            "Epoch 75/100\n",
            "178/178 [==============================] - 146s 810ms/step - loss: 0.6102 - acc: 0.6764 - val_loss: 0.5473 - val_acc: 0.7225\n",
            "Epoch 76/100\n",
            "178/178 [==============================] - 146s 811ms/step - loss: 0.5905 - acc: 0.6916 - val_loss: 0.5796 - val_acc: 0.6949\n",
            "Epoch 77/100\n",
            "178/178 [==============================] - 145s 803ms/step - loss: 0.6051 - acc: 0.6694 - val_loss: 0.5629 - val_acc: 0.7055\n",
            "Epoch 78/100\n",
            "178/178 [==============================] - 145s 804ms/step - loss: 0.5923 - acc: 0.6831 - val_loss: 0.5453 - val_acc: 0.7193\n",
            "Epoch 79/100\n",
            "178/178 [==============================] - 145s 805ms/step - loss: 0.6041 - acc: 0.6789 - val_loss: 0.5435 - val_acc: 0.7278\n",
            "Epoch 80/100\n",
            "178/178 [==============================] - 145s 804ms/step - loss: 0.6012 - acc: 0.6701 - val_loss: 0.5527 - val_acc: 0.7119\n",
            "Epoch 81/100\n",
            "178/178 [==============================] - 146s 809ms/step - loss: 0.6036 - acc: 0.6708 - val_loss: 0.5712 - val_acc: 0.6970\n",
            "Epoch 82/100\n",
            "178/178 [==============================] - 146s 811ms/step - loss: 0.6078 - acc: 0.6740 - val_loss: 0.5747 - val_acc: 0.6939\n",
            "Epoch 83/100\n",
            "178/178 [==============================] - 146s 811ms/step - loss: 0.6077 - acc: 0.6761 - val_loss: 0.5559 - val_acc: 0.7066\n",
            "Epoch 84/100\n",
            "178/178 [==============================] - 146s 808ms/step - loss: 0.6034 - acc: 0.6856 - val_loss: 0.5495 - val_acc: 0.7172\n",
            "Epoch 85/100\n",
            "178/178 [==============================] - 146s 812ms/step - loss: 0.6076 - acc: 0.6743 - val_loss: 0.5617 - val_acc: 0.7044\n",
            "Epoch 86/100\n",
            "178/178 [==============================] - 146s 808ms/step - loss: 0.5930 - acc: 0.6803 - val_loss: 0.5526 - val_acc: 0.7150\n",
            "Epoch 87/100\n",
            "178/178 [==============================] - 145s 806ms/step - loss: 0.5985 - acc: 0.6743 - val_loss: 0.5580 - val_acc: 0.7013\n",
            "Epoch 88/100\n",
            "178/178 [==============================] - 145s 806ms/step - loss: 0.6102 - acc: 0.6736 - val_loss: 0.5587 - val_acc: 0.7034\n",
            "Epoch 89/100\n",
            "178/178 [==============================] - 146s 810ms/step - loss: 0.6158 - acc: 0.6669 - val_loss: 0.5610 - val_acc: 0.6981\n",
            "Epoch 90/100\n",
            "178/178 [==============================] - 146s 808ms/step - loss: 0.6005 - acc: 0.6814 - val_loss: 0.5561 - val_acc: 0.7013\n",
            "Epoch 91/100\n",
            "178/178 [==============================] - 145s 804ms/step - loss: 0.6008 - acc: 0.6722 - val_loss: 0.5703 - val_acc: 0.6981\n",
            "Epoch 92/100\n",
            "178/178 [==============================] - 145s 806ms/step - loss: 0.6094 - acc: 0.6704 - val_loss: 0.5609 - val_acc: 0.7002\n",
            "Epoch 93/100\n",
            "178/178 [==============================] - 145s 803ms/step - loss: 0.5982 - acc: 0.6831 - val_loss: 0.5467 - val_acc: 0.7193\n",
            "Epoch 94/100\n",
            "178/178 [==============================] - 145s 807ms/step - loss: 0.6093 - acc: 0.6704 - val_loss: 0.5644 - val_acc: 0.6960\n",
            "Epoch 95/100\n",
            "178/178 [==============================] - 145s 805ms/step - loss: 0.6005 - acc: 0.6743 - val_loss: 0.5507 - val_acc: 0.7193\n",
            "Epoch 96/100\n",
            "178/178 [==============================] - 145s 806ms/step - loss: 0.5987 - acc: 0.6881 - val_loss: 0.5549 - val_acc: 0.7087\n",
            "Epoch 97/100\n",
            "178/178 [==============================] - 145s 807ms/step - loss: 0.5899 - acc: 0.6895 - val_loss: 0.5441 - val_acc: 0.7246\n",
            "Epoch 98/100\n",
            "178/178 [==============================] - 145s 804ms/step - loss: 0.6065 - acc: 0.6725 - val_loss: 0.5783 - val_acc: 0.6960\n",
            "Epoch 99/100\n",
            "178/178 [==============================] - 146s 811ms/step - loss: 0.6017 - acc: 0.6747 - val_loss: 0.5580 - val_acc: 0.7044\n",
            "Epoch 100/100\n",
            "178/178 [==============================] - 145s 803ms/step - loss: 0.5903 - acc: 0.6920 - val_loss: 0.5579 - val_acc: 0.7023\n"
          ]
        }
      ]
    },
    {
      "cell_type": "code",
      "source": [
        "acc = history.history['acc']\n",
        "val_acc = history.history['val_acc']\n",
        "loss = history.history['loss']\n",
        "val_loss = history.history['val_loss']\n",
        "\n",
        "epochs_x = range(len(acc))\n",
        "\n",
        "plt.plot(epochs_x, acc, 'go', label='Training acc')\n",
        "plt.plot(epochs_x, val_acc, 'k', label='Validation acc')\n",
        "plt.title('Training and validation accuracy')\n",
        "plt.legend()\n",
        "\n",
        "plt.figure()\n",
        "\n",
        "plt.plot(epochs_x, loss, 'go', label='Training loss')\n",
        "plt.plot(epochs_x, val_loss, 'k', label='Validation loss')\n",
        "plt.title('Training and validation loss')\n",
        "plt.legend()\n",
        "\n",
        "plt.show()"
      ],
      "metadata": {
        "id": "kwylTJpTP5XI",
        "colab": {
          "base_uri": "https://localhost:8080/",
          "height": 545
        },
        "outputId": "9b482fd9-cfe3-4c1e-f3c1-c4dc6cf6e186"
      },
      "execution_count": 13,
      "outputs": [
        {
          "output_type": "display_data",
          "data": {
            "text/plain": [
              "<Figure size 432x288 with 1 Axes>"
            ],
            "image/png": "[encoded data removed]"
          },
          "metadata": {
            "needs_background": "light"
          }
        },
        {
          "output_type": "display_data",
          "data": {
            "text/plain": [
              "<Figure size 432x288 with 1 Axes>"
            ],
            "image/png": "[encoded data removed]"
          },
          "metadata": {
            "needs_background": "light"
          }
        }
      ]
    },
    {
      "cell_type": "markdown",
      "source": [
        "#Download the model"
      ],
      "metadata": {
        "id": "lD-vKaoHQAFd"
      }
    },
    {
      "cell_type": "code",
      "source": [
        "os.makedirs('/content/drive/My Drive/cut_panoramic/Model', exist_ok=True)\n",
        "model.save('/content/drive/My Drive/cut_panoramic/Model/4.4_รอบที่4_Gender_100.h5')"
      ],
      "metadata": {
        "id": "74dL7-HLP_Sh"
      },
      "execution_count": 14,
      "outputs": []
    },
    {
      "cell_type": "code",
      "source": [
        "from google.colab import files\n",
        "files.download('/content/drive/My Drive/cut_panoramic/Model/4.4_รอบที่4_Gender_100.h5')"
      ],
      "metadata": {
        "id": "qcPW-brHQDpc",
        "colab": {
          "base_uri": "https://localhost:8080/",
          "height": 17
        },
        "outputId": "16eb2f82-6e5d-4964-80d0-6a45a4204364"
      },
      "execution_count": 15,
      "outputs": [
        {
          "output_type": "display_data",
          "data": {
            "text/plain": [
              "<IPython.core.display.Javascript object>"
            ],
            "application/javascript": [
              "\n",
              "    async function download(id, filename, size) {\n",
              "      if (!google.colab.kernel.accessAllowed) {\n",
              "        return;\n",
              "      }\n",
              "      const div = document.createElement('div');\n",
              "      const label = document.createElement('label');\n",
              "      label.textContent = `Downloading \"${filename}\": `;\n",
              "      div.appendChild(label);\n",
              "      const progress = document.createElement('progress');\n",
              "      progress.max = size;\n",
              "      div.appendChild(progress);\n",
              "      document.body.appendChild(div);\n",
              "\n",
              "      const buffers = [];\n",
              "      let downloaded = 0;\n",
              "\n",
              "      const channel = await google.colab.kernel.comms.open(id);\n",
              "      // Send a message to notify the kernel that we're ready.\n",
              "      channel.send({})\n",
              "\n",
              "      for await (const message of channel.messages) {\n",
              "        // Send a message to notify the kernel that we're ready.\n",
              "        channel.send({})\n",
              "        if (message.buffers) {\n",
              "          for (const buffer of message.buffers) {\n",
              "            buffers.push(buffer);\n",
              "            downloaded += buffer.byteLength;\n",
              "            progress.value = downloaded;\n",
              "          }\n",
              "        }\n",
              "      }\n",
              "      const blob = new Blob(buffers, {type: 'application/binary'});\n",
              "      const a = document.createElement('a');\n",
              "      a.href = window.URL.createObjectURL(blob);\n",
              "      a.download = filename;\n",
              "      div.appendChild(a);\n",
              "      a.click();\n",
              "      div.remove();\n",
              "    }\n",
              "  "
            ]
          },
          "metadata": {}
        },
        {
          "output_type": "display_data",
          "data": {
            "text/plain": [
              "<IPython.core.display.Javascript object>"
            ],
            "application/javascript": [
              "download(\"download_3d221348-5eb4-4e41-b22e-23219fb4aa2d\", \"4.4_\\u0e23\\u0e2d\\u0e1a\\u0e17\\u0e35\\u0e484_Gender_100.h5\", 16604304)"
            ]
          },
          "metadata": {}
        }
      ]
    },
    {
      "cell_type": "code",
      "source": [],
      "metadata": {
        "id": "r5WoXVo8mVpF"
      },
      "execution_count": 15,
      "outputs": []
    }
  ]
}