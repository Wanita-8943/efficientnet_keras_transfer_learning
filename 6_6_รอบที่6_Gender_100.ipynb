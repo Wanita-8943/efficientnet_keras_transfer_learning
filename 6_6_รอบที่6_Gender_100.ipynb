{
  "nbformat": 4,
  "nbformat_minor": 0,
  "metadata": {
    "colab": {
      "provenance": [],
      "include_colab_link": true
    },
    "kernelspec": {
      "name": "python3",
      "display_name": "Python 3"
    },
    "language_info": {
      "name": "python"
    }
  },
  "cells": [
    {
      "cell_type": "markdown",
      "metadata": {
        "id": "view-in-github",
        "colab_type": "text"
      },
      "source": [
        "<a href=\"https://colab.research.google.com/github/Wanita-8943/efficientnet_keras_transfer_learning/blob/master/6_6_%E0%B8%A3%E0%B8%AD%E0%B8%9A%E0%B8%97%E0%B8%B5%E0%B9%886_Gender_100.ipynb\" target=\"_parent\"><img src=\"https://colab.research.google.com/assets/colab-badge.svg\" alt=\"Open In Colab\"/></a>"
      ]
    },
    {
      "cell_type": "code",
      "execution_count": null,
      "metadata": {
        "id": "KKSs7cyoPHcD"
      },
      "outputs": [],
      "source": [
        "import pandas as pd\n",
        "import shutil"
      ]
    },
    {
      "cell_type": "code",
      "source": [
        "from google.colab import drive\n",
        "drive.mount('/content/drive')"
      ],
      "metadata": {
        "colab": {
          "base_uri": "https://localhost:8080/"
        },
        "id": "Klm1B91QlvKd",
        "outputId": "44a32819-d492-4c55-fddf-4a0502e9bbd0"
      },
      "execution_count": null,
      "outputs": [
        {
          "output_type": "stream",
          "name": "stdout",
          "text": [
            "Drive already mounted at /content/drive; to attempt to forcibly remount, call drive.mount(\"/content/drive\", force_remount=True).\n"
          ]
        }
      ]
    },
    {
      "cell_type": "code",
      "source": [
        "from tensorflow.keras import models\n",
        "from tensorflow.keras import layers\n",
        "from tensorflow.keras import optimizers\n",
        "import os\n",
        "import glob\n",
        "import shutil\n",
        "import sys\n",
        "import numpy as np\n",
        "from skimage.io import imread\n",
        "import matplotlib.pyplot as plt\n",
        "from IPython.display import Image\n",
        "%matplotlib inline"
      ],
      "metadata": {
        "id": "1pX9g1HxPM2f"
      },
      "execution_count": null,
      "outputs": []
    },
    {
      "cell_type": "code",
      "source": [
        "batch_size = 16\n",
        "width = 150\n",
        "height = 150\n",
        "epochs = 100\n",
        "NUM_TRAIN = 2850\n",
        "NUM_TEST = 950\n",
        "dropout_rate = 0.2\n",
        "input_shape = (height, width, 3)"
      ],
      "metadata": {
        "id": "eSFtvGyvPM6O"
      },
      "execution_count": null,
      "outputs": []
    },
    {
      "cell_type": "code",
      "source": [
        "#ดึงข้อมูลใน Github มาใช้\n",
        "import os\n",
        "%cd /content\n",
        "if not os.path.isdir(\"efficientnet_keras_transfer_learning\"):\n",
        " !git clone https://github.com/Wanita-8943/efficientnet_keras_transfer_learning\n",
        "%cd efficientnet_keras_transfer_learning/"
      ],
      "metadata": {
        "colab": {
          "base_uri": "https://localhost:8080/"
        },
        "id": "lb4K4CsMPNAW",
        "outputId": "b180e924-ab9f-44d4-e926-25db85a8153e"
      },
      "execution_count": null,
      "outputs": [
        {
          "output_type": "stream",
          "name": "stdout",
          "text": [
            "/content\n",
            "/content/efficientnet_keras_transfer_learning\n"
          ]
        }
      ]
    },
    {
      "cell_type": "code",
      "source": [
        "# Options: EfficientNetB0, EfficientNetB1, EfficientNetB2, EfficientNetB3\n",
        "# Higher the number, the more complex the model is.\n",
        "from efficientnet import EfficientNetB0 as Net\n",
        "from efficientnet import center_crop_and_resize, preprocess_input"
      ],
      "metadata": {
        "id": "eyBg0dLKPND3"
      },
      "execution_count": null,
      "outputs": []
    },
    {
      "cell_type": "code",
      "source": [
        "base_dir = '/content/drive/MyDrive/TVT_Gender'\n",
        "os.makedirs(base_dir, exist_ok=True)\n",
        "\n",
        "# Directories for our training,\n",
        "# validation and test splits\n",
        "train_dir = os.path.join(base_dir, 'train')\n",
        "os.makedirs(train_dir, exist_ok=True)\n",
        "validation_dir = os.path.join(base_dir, 'validation')\n",
        "os.makedirs(validation_dir, exist_ok=True)\n",
        "test_dir = os.path.join(base_dir, 'test')\n",
        "os.makedirs(test_dir, exist_ok=True)"
      ],
      "metadata": {
        "id": "Jwpq_-KvPef8"
      },
      "execution_count": null,
      "outputs": []
    },
    {
      "cell_type": "markdown",
      "source": [
        "#load model"
      ],
      "metadata": {
        "id": "od-ZSNm5PoGy"
      }
    },
    {
      "cell_type": "code",
      "source": [
        "import sys\n",
        "sys.path.append('/content/drive/MyDrive/cut_panoramic/Model/5.5_รอบที่5_Gender_100.h5')\n",
        "\n",
        "from efficientnet.layers import Swish, DropConnect\n",
        "from efficientnet.model import ConvKernalInitializer\n",
        "from tensorflow.keras.utils import get_custom_objects\n",
        "\n",
        "get_custom_objects().update({\n",
        "    'ConvKernalInitializer': ConvKernalInitializer,\n",
        "    'Swish': Swish,\n",
        "    'DropConnect':DropConnect\n",
        "})"
      ],
      "metadata": {
        "id": "n5iPL5MNPkhE"
      },
      "execution_count": null,
      "outputs": []
    },
    {
      "cell_type": "code",
      "source": [
        "#load model \n",
        "from tensorflow.keras.models import load_model\n",
        "model = load_model('/content/drive/MyDrive/cut_panoramic/Model/5.5_รอบที่5_Gender_100.h5')\n",
        "height = width = model.input_shape[1]"
      ],
      "metadata": {
        "id": "plYz49xMPkly"
      },
      "execution_count": null,
      "outputs": []
    },
    {
      "cell_type": "code",
      "source": [
        "model.summary()"
      ],
      "metadata": {
        "colab": {
          "base_uri": "https://localhost:8080/"
        },
        "id": "z6IOPBflFbvc",
        "outputId": "1b6d11c5-cfaf-4721-baf9-8d28a1d3e1fb"
      },
      "execution_count": null,
      "outputs": [
        {
          "output_type": "stream",
          "name": "stdout",
          "text": [
            "Model: \"sequential\"\n",
            "_________________________________________________________________\n",
            " Layer (type)                Output Shape              Param #   \n",
            "=================================================================\n",
            " efficientnet-b0 (Functional  (None, 5, 5, 1280)       4049564   \n",
            " )                                                               \n",
            "                                                                 \n",
            " gap (GlobalMaxPooling2D)    (None, 1280)              0         \n",
            "                                                                 \n",
            " dropout_out (Dropout)       (None, 1280)              0         \n",
            "                                                                 \n",
            " fc_out (Dense)              (None, 2)                 2562      \n",
            "                                                                 \n",
            "=================================================================\n",
            "Total params: 4,052,126\n",
            "Trainable params: 2,562\n",
            "Non-trainable params: 4,049,564\n",
            "_________________________________________________________________\n"
          ]
        }
      ]
    },
    {
      "cell_type": "code",
      "source": [
        "# Train ด้วย ImageDataGenerator ของ Keras ซึ่งจะเพิ่มข้อมูลเสริมระหว่างการฝึกเพื่อลดโอกาสเกิด overfitting\n",
        "#overfitting เกิดจากข้อมูลที่ซับซ้อนกันเกินไป\n",
        "from tensorflow.keras.preprocessing.image import ImageDataGenerator\n",
        "\n",
        "train_datagen = ImageDataGenerator(\n",
        "      rescale=1./255, #โมเดลส่วนใหญ่ต้องใช้ RGB ในช่วง 0–1\n",
        "      rotation_range=40,\n",
        "      width_shift_range=0.2,\n",
        "      height_shift_range=0.2,\n",
        "      shear_range=0.2,\n",
        "      zoom_range=0.2,\n",
        "      horizontal_flip=True,\n",
        "      fill_mode='nearest')\n",
        "\n",
        "# Note that the validation data should not be augmented!\n",
        "test_datagen = ImageDataGenerator(rescale=1./255)\n",
        "\n",
        "train_generator = train_datagen.flow_from_directory(\n",
        "        # This is the target directory #ไดเรกเป้าหมาย\n",
        "        train_dir,\n",
        "        # รูปภาพทั้งหมดจะถูกปรับขนาดตามความสูงและความกว้างของเป้าหมาย\n",
        "        target_size=(height, width),\n",
        "        batch_size=batch_size,\n",
        "        # Since we use categorical_crossentropy loss, we need categorical labels\n",
        "        #เนื่องจากเราใช้ categorical_crossentropy loss เราจึงต้องมีป้ายกำกับตามหมวดหมู่\n",
        "        class_mode='categorical')\n",
        "\n",
        "validation_generator = test_datagen.flow_from_directory( #การดึงภาพจาก Directory มาเข้าโมเดล \n",
        "        validation_dir,\n",
        "        target_size=(height, width),\n",
        "        batch_size=batch_size,\n",
        "        class_mode='categorical')"
      ],
      "metadata": {
        "colab": {
          "base_uri": "https://localhost:8080/"
        },
        "id": "KBMZbdr2Pgw4",
        "outputId": "a84a112b-64a2-474a-ec24-b9b6df495bee"
      },
      "execution_count": null,
      "outputs": [
        {
          "output_type": "stream",
          "name": "stdout",
          "text": [
            "Found 2850 images belonging to 2 classes.\n",
            "Found 950 images belonging to 2 classes.\n"
          ]
        }
      ]
    },
    {
      "cell_type": "code",
      "source": [
        "history = model.fit_generator(\n",
        "      train_generator,\n",
        "      steps_per_epoch= NUM_TRAIN //batch_size,\n",
        "      epochs=epochs,\n",
        "      validation_data=validation_generator,\n",
        "      validation_steps= NUM_TEST //batch_size,\n",
        "      verbose=1,\n",
        "      use_multiprocessing=True,\n",
        "      workers=4)"
      ],
      "metadata": {
        "colab": {
          "base_uri": "https://localhost:8080/"
        },
        "id": "C9Cf1dwyP1PD",
        "outputId": "3a466fae-ff92-4847-aeb5-57863bbeeafd"
      },
      "execution_count": null,
      "outputs": [
        {
          "output_type": "stream",
          "name": "stderr",
          "text": [
            "<ipython-input-12-caa7b37242a8>:1: UserWarning: `Model.fit_generator` is deprecated and will be removed in a future version. Please use `Model.fit`, which supports generators.\n",
            "  history = model.fit_generator(\n"
          ]
        },
        {
          "output_type": "stream",
          "name": "stdout",
          "text": [
            "Epoch 1/100\n",
            "178/178 [==============================] - 306s 2s/step - loss: 0.5996 - acc: 0.6782 - val_loss: 0.5608 - val_acc: 0.7066\n",
            "Epoch 2/100\n",
            "178/178 [==============================] - 150s 830ms/step - loss: 0.6048 - acc: 0.6689 - val_loss: 0.5631 - val_acc: 0.7087\n",
            "Epoch 3/100\n",
            "178/178 [==============================] - 148s 821ms/step - loss: 0.5832 - acc: 0.6867 - val_loss: 0.5573 - val_acc: 0.7076\n",
            "Epoch 4/100\n",
            "178/178 [==============================] - 149s 823ms/step - loss: 0.5850 - acc: 0.7015 - val_loss: 0.5519 - val_acc: 0.7108\n",
            "Epoch 5/100\n",
            "178/178 [==============================] - 149s 829ms/step - loss: 0.6086 - acc: 0.6694 - val_loss: 0.5579 - val_acc: 0.7044\n",
            "Epoch 6/100\n",
            "178/178 [==============================] - 148s 821ms/step - loss: 0.6001 - acc: 0.6757 - val_loss: 0.5496 - val_acc: 0.7066\n",
            "Epoch 7/100\n",
            "178/178 [==============================] - 151s 838ms/step - loss: 0.5935 - acc: 0.6853 - val_loss: 0.5472 - val_acc: 0.7076\n",
            "Epoch 8/100\n",
            "178/178 [==============================] - 147s 818ms/step - loss: 0.5988 - acc: 0.6849 - val_loss: 0.5542 - val_acc: 0.7076\n",
            "Epoch 9/100\n",
            "178/178 [==============================] - 149s 827ms/step - loss: 0.6038 - acc: 0.6701 - val_loss: 0.5521 - val_acc: 0.7097\n",
            "Epoch 10/100\n",
            "178/178 [==============================] - 149s 826ms/step - loss: 0.5988 - acc: 0.6778 - val_loss: 0.5572 - val_acc: 0.7066\n",
            "Epoch 11/100\n",
            "178/178 [==============================] - 148s 820ms/step - loss: 0.5951 - acc: 0.6856 - val_loss: 0.5649 - val_acc: 0.7023\n",
            "Epoch 12/100\n",
            "178/178 [==============================] - 149s 829ms/step - loss: 0.6004 - acc: 0.6817 - val_loss: 0.5756 - val_acc: 0.6981\n",
            "Epoch 13/100\n",
            "178/178 [==============================] - 151s 841ms/step - loss: 0.6004 - acc: 0.6782 - val_loss: 0.5646 - val_acc: 0.7097\n",
            "Epoch 14/100\n",
            "178/178 [==============================] - 151s 838ms/step - loss: 0.5799 - acc: 0.7040 - val_loss: 0.5601 - val_acc: 0.7108\n",
            "Epoch 15/100\n",
            "178/178 [==============================] - 150s 831ms/step - loss: 0.5974 - acc: 0.6842 - val_loss: 0.5536 - val_acc: 0.7097\n",
            "Epoch 16/100\n",
            "178/178 [==============================] - 150s 835ms/step - loss: 0.6008 - acc: 0.6838 - val_loss: 0.5529 - val_acc: 0.7066\n",
            "Epoch 17/100\n",
            "178/178 [==============================] - 149s 829ms/step - loss: 0.5886 - acc: 0.6764 - val_loss: 0.5600 - val_acc: 0.7087\n",
            "Epoch 18/100\n",
            "178/178 [==============================] - 153s 848ms/step - loss: 0.5888 - acc: 0.6845 - val_loss: 0.5578 - val_acc: 0.7023\n",
            "Epoch 19/100\n",
            "178/178 [==============================] - 149s 827ms/step - loss: 0.5860 - acc: 0.6870 - val_loss: 0.5590 - val_acc: 0.7044\n",
            "Epoch 20/100\n",
            "178/178 [==============================] - 148s 822ms/step - loss: 0.6017 - acc: 0.6768 - val_loss: 0.5758 - val_acc: 0.7013\n",
            "Epoch 21/100\n",
            "178/178 [==============================] - 149s 829ms/step - loss: 0.5944 - acc: 0.6920 - val_loss: 0.5594 - val_acc: 0.7013\n",
            "Epoch 22/100\n",
            "178/178 [==============================] - 149s 829ms/step - loss: 0.5938 - acc: 0.6941 - val_loss: 0.5502 - val_acc: 0.7108\n",
            "Epoch 23/100\n",
            "178/178 [==============================] - 149s 830ms/step - loss: 0.6094 - acc: 0.6704 - val_loss: 0.5484 - val_acc: 0.7087\n",
            "Epoch 24/100\n",
            "178/178 [==============================] - 149s 828ms/step - loss: 0.5885 - acc: 0.6881 - val_loss: 0.5631 - val_acc: 0.7119\n",
            "Epoch 25/100\n",
            "178/178 [==============================] - 150s 831ms/step - loss: 0.5896 - acc: 0.6831 - val_loss: 0.5456 - val_acc: 0.7140\n",
            "Epoch 26/100\n",
            "178/178 [==============================] - 150s 831ms/step - loss: 0.5993 - acc: 0.6789 - val_loss: 0.5604 - val_acc: 0.7119\n",
            "Epoch 27/100\n",
            "178/178 [==============================] - 151s 839ms/step - loss: 0.5876 - acc: 0.6842 - val_loss: 0.5618 - val_acc: 0.7044\n",
            "Epoch 28/100\n",
            "178/178 [==============================] - 150s 831ms/step - loss: 0.6123 - acc: 0.6725 - val_loss: 0.5374 - val_acc: 0.7299\n",
            "Epoch 29/100\n",
            "178/178 [==============================] - 149s 827ms/step - loss: 0.6099 - acc: 0.6718 - val_loss: 0.5545 - val_acc: 0.7044\n",
            "Epoch 30/100\n",
            "178/178 [==============================] - 148s 821ms/step - loss: 0.5972 - acc: 0.6860 - val_loss: 0.5633 - val_acc: 0.7055\n",
            "Epoch 31/100\n",
            "178/178 [==============================] - 148s 820ms/step - loss: 0.5974 - acc: 0.6778 - val_loss: 0.5486 - val_acc: 0.7108\n",
            "Epoch 32/100\n",
            "178/178 [==============================] - 148s 821ms/step - loss: 0.5955 - acc: 0.6831 - val_loss: 0.5546 - val_acc: 0.7076\n",
            "Epoch 33/100\n",
            "178/178 [==============================] - 150s 833ms/step - loss: 0.6026 - acc: 0.6810 - val_loss: 0.5415 - val_acc: 0.7267\n",
            "Epoch 34/100\n",
            "178/178 [==============================] - 148s 823ms/step - loss: 0.6057 - acc: 0.6782 - val_loss: 0.5487 - val_acc: 0.7108\n",
            "Epoch 35/100\n",
            "178/178 [==============================] - 149s 828ms/step - loss: 0.5929 - acc: 0.6722 - val_loss: 0.5499 - val_acc: 0.7066\n",
            "Epoch 36/100\n",
            "178/178 [==============================] - 149s 829ms/step - loss: 0.5980 - acc: 0.6775 - val_loss: 0.5398 - val_acc: 0.7235\n",
            "Epoch 37/100\n",
            "178/178 [==============================] - 147s 818ms/step - loss: 0.6019 - acc: 0.6793 - val_loss: 0.5713 - val_acc: 0.7023\n",
            "Epoch 38/100\n",
            "178/178 [==============================] - 148s 824ms/step - loss: 0.5949 - acc: 0.6920 - val_loss: 0.5558 - val_acc: 0.7066\n",
            "Epoch 39/100\n",
            "178/178 [==============================] - 157s 869ms/step - loss: 0.6113 - acc: 0.6771 - val_loss: 0.5671 - val_acc: 0.7034\n",
            "Epoch 40/100\n",
            "178/178 [==============================] - 149s 825ms/step - loss: 0.5980 - acc: 0.6775 - val_loss: 0.5622 - val_acc: 0.7023\n",
            "Epoch 41/100\n",
            "178/178 [==============================] - 147s 813ms/step - loss: 0.5879 - acc: 0.6927 - val_loss: 0.5490 - val_acc: 0.7097\n",
            "Epoch 42/100\n",
            "178/178 [==============================] - 147s 818ms/step - loss: 0.6034 - acc: 0.6800 - val_loss: 0.5541 - val_acc: 0.7076\n",
            "Epoch 43/100\n",
            "178/178 [==============================] - 147s 815ms/step - loss: 0.6063 - acc: 0.6708 - val_loss: 0.5778 - val_acc: 0.6960\n",
            "Epoch 44/100\n",
            "178/178 [==============================] - 147s 818ms/step - loss: 0.5966 - acc: 0.6775 - val_loss: 0.5940 - val_acc: 0.6886\n",
            "Epoch 45/100\n",
            "178/178 [==============================] - 148s 822ms/step - loss: 0.5960 - acc: 0.6793 - val_loss: 0.5552 - val_acc: 0.7044\n",
            "Epoch 46/100\n",
            "178/178 [==============================] - 148s 823ms/step - loss: 0.5953 - acc: 0.6831 - val_loss: 0.5761 - val_acc: 0.6981\n",
            "Epoch 47/100\n",
            "178/178 [==============================] - 148s 821ms/step - loss: 0.5970 - acc: 0.6803 - val_loss: 0.5702 - val_acc: 0.7044\n",
            "Epoch 48/100\n",
            "178/178 [==============================] - 147s 815ms/step - loss: 0.5974 - acc: 0.6771 - val_loss: 0.5917 - val_acc: 0.6790\n",
            "Epoch 49/100\n",
            "178/178 [==============================] - 149s 827ms/step - loss: 0.6049 - acc: 0.6800 - val_loss: 0.5710 - val_acc: 0.7044\n",
            "Epoch 50/100\n",
            "178/178 [==============================] - 150s 834ms/step - loss: 0.5851 - acc: 0.6934 - val_loss: 0.5719 - val_acc: 0.7044\n",
            "Epoch 51/100\n",
            "178/178 [==============================] - 151s 840ms/step - loss: 0.5857 - acc: 0.6849 - val_loss: 0.6332 - val_acc: 0.6504\n",
            "Epoch 52/100\n",
            "178/178 [==============================] - 151s 835ms/step - loss: 0.5955 - acc: 0.6789 - val_loss: 0.5855 - val_acc: 0.6928\n",
            "Epoch 53/100\n",
            "178/178 [==============================] - 150s 830ms/step - loss: 0.6043 - acc: 0.6754 - val_loss: 0.5666 - val_acc: 0.7087\n",
            "Epoch 54/100\n",
            "178/178 [==============================] - 148s 823ms/step - loss: 0.5876 - acc: 0.6923 - val_loss: 0.5674 - val_acc: 0.7076\n",
            "Epoch 55/100\n",
            "178/178 [==============================] - 147s 818ms/step - loss: 0.5916 - acc: 0.6814 - val_loss: 0.5661 - val_acc: 0.7087\n",
            "Epoch 56/100\n",
            "178/178 [==============================] - 147s 813ms/step - loss: 0.5931 - acc: 0.6810 - val_loss: 0.5675 - val_acc: 0.7055\n",
            "Epoch 57/100\n",
            "178/178 [==============================] - 147s 816ms/step - loss: 0.5945 - acc: 0.6863 - val_loss: 0.5714 - val_acc: 0.7055\n",
            "Epoch 58/100\n",
            "178/178 [==============================] - 147s 816ms/step - loss: 0.5930 - acc: 0.6881 - val_loss: 0.5447 - val_acc: 0.7150\n",
            "Epoch 59/100\n",
            "178/178 [==============================] - 147s 817ms/step - loss: 0.5966 - acc: 0.6733 - val_loss: 0.5625 - val_acc: 0.7076\n",
            "Epoch 60/100\n",
            "178/178 [==============================] - 148s 821ms/step - loss: 0.6029 - acc: 0.6722 - val_loss: 0.5581 - val_acc: 0.7066\n",
            "Epoch 61/100\n",
            "178/178 [==============================] - 150s 833ms/step - loss: 0.5976 - acc: 0.6895 - val_loss: 0.5534 - val_acc: 0.7076\n",
            "Epoch 62/100\n",
            "178/178 [==============================] - 151s 837ms/step - loss: 0.6036 - acc: 0.6761 - val_loss: 0.5693 - val_acc: 0.7076\n",
            "Epoch 63/100\n",
            "178/178 [==============================] - 149s 827ms/step - loss: 0.5932 - acc: 0.6920 - val_loss: 0.5592 - val_acc: 0.7129\n",
            "Epoch 64/100\n",
            "178/178 [==============================] - 147s 814ms/step - loss: 0.5942 - acc: 0.6870 - val_loss: 0.5519 - val_acc: 0.7087\n",
            "Epoch 65/100\n",
            "178/178 [==============================] - 147s 817ms/step - loss: 0.5998 - acc: 0.7032 - val_loss: 0.5578 - val_acc: 0.7108\n",
            "Epoch 66/100\n",
            "178/178 [==============================] - 147s 817ms/step - loss: 0.5845 - acc: 0.6916 - val_loss: 0.5432 - val_acc: 0.7225\n",
            "Epoch 67/100\n",
            "178/178 [==============================] - 147s 816ms/step - loss: 0.5888 - acc: 0.6828 - val_loss: 0.5712 - val_acc: 0.7055\n",
            "Epoch 68/100\n",
            "178/178 [==============================] - 148s 824ms/step - loss: 0.5904 - acc: 0.6909 - val_loss: 0.5616 - val_acc: 0.7044\n",
            "Epoch 69/100\n",
            "178/178 [==============================] - 148s 820ms/step - loss: 0.6006 - acc: 0.6747 - val_loss: 0.5517 - val_acc: 0.7108\n",
            "Epoch 70/100\n",
            "178/178 [==============================] - 149s 828ms/step - loss: 0.5986 - acc: 0.6768 - val_loss: 0.5647 - val_acc: 0.7097\n",
            "Epoch 71/100\n",
            "178/178 [==============================] - 148s 824ms/step - loss: 0.6020 - acc: 0.6782 - val_loss: 0.5665 - val_acc: 0.7055\n",
            "Epoch 72/100\n",
            "178/178 [==============================] - 151s 838ms/step - loss: 0.5902 - acc: 0.6912 - val_loss: 0.5662 - val_acc: 0.7034\n",
            "Epoch 73/100\n",
            "178/178 [==============================] - 151s 836ms/step - loss: 0.5956 - acc: 0.6775 - val_loss: 0.5556 - val_acc: 0.7108\n",
            "Epoch 74/100\n",
            "178/178 [==============================] - 151s 840ms/step - loss: 0.6002 - acc: 0.6845 - val_loss: 0.5412 - val_acc: 0.7193\n",
            "Epoch 75/100\n",
            "178/178 [==============================] - 148s 820ms/step - loss: 0.6003 - acc: 0.6736 - val_loss: 0.5441 - val_acc: 0.7193\n",
            "Epoch 76/100\n",
            "178/178 [==============================] - 147s 816ms/step - loss: 0.5871 - acc: 0.6849 - val_loss: 0.5475 - val_acc: 0.7119\n",
            "Epoch 77/100\n",
            "178/178 [==============================] - 148s 819ms/step - loss: 0.5983 - acc: 0.6800 - val_loss: 0.5637 - val_acc: 0.7076\n",
            "Epoch 78/100\n",
            "178/178 [==============================] - 147s 817ms/step - loss: 0.5788 - acc: 0.7018 - val_loss: 0.5458 - val_acc: 0.7172\n",
            "Epoch 79/100\n",
            "178/178 [==============================] - 147s 814ms/step - loss: 0.5935 - acc: 0.6814 - val_loss: 0.5369 - val_acc: 0.7246\n",
            "Epoch 80/100\n",
            "178/178 [==============================] - 148s 821ms/step - loss: 0.5887 - acc: 0.6856 - val_loss: 0.5604 - val_acc: 0.7087\n",
            "Epoch 81/100\n",
            "178/178 [==============================] - 148s 823ms/step - loss: 0.6022 - acc: 0.6778 - val_loss: 0.5428 - val_acc: 0.7182\n",
            "Epoch 82/100\n",
            "178/178 [==============================] - 152s 843ms/step - loss: 0.6082 - acc: 0.6754 - val_loss: 0.5393 - val_acc: 0.7235\n",
            "Epoch 83/100\n",
            "178/178 [==============================] - 149s 827ms/step - loss: 0.6019 - acc: 0.6807 - val_loss: 0.5376 - val_acc: 0.7246\n",
            "Epoch 84/100\n",
            "178/178 [==============================] - 150s 831ms/step - loss: 0.6045 - acc: 0.6704 - val_loss: 0.5619 - val_acc: 0.7055\n",
            "Epoch 85/100\n",
            "178/178 [==============================] - 151s 842ms/step - loss: 0.5821 - acc: 0.7025 - val_loss: 0.5505 - val_acc: 0.7044\n",
            "Epoch 86/100\n",
            "178/178 [==============================] - 150s 833ms/step - loss: 0.5968 - acc: 0.6768 - val_loss: 0.5690 - val_acc: 0.7055\n",
            "Epoch 87/100\n",
            "178/178 [==============================] - 149s 825ms/step - loss: 0.6005 - acc: 0.6835 - val_loss: 0.5590 - val_acc: 0.7066\n",
            "Epoch 88/100\n",
            "178/178 [==============================] - 147s 814ms/step - loss: 0.5907 - acc: 0.6912 - val_loss: 0.5591 - val_acc: 0.7066\n",
            "Epoch 89/100\n",
            "178/178 [==============================] - 150s 832ms/step - loss: 0.5923 - acc: 0.6817 - val_loss: 0.5353 - val_acc: 0.7299\n",
            "Epoch 90/100\n",
            "178/178 [==============================] - 147s 818ms/step - loss: 0.5893 - acc: 0.6916 - val_loss: 0.5669 - val_acc: 0.7034\n",
            "Epoch 91/100\n",
            "178/178 [==============================] - 148s 824ms/step - loss: 0.6045 - acc: 0.6778 - val_loss: 0.5558 - val_acc: 0.7087\n",
            "Epoch 92/100\n",
            "178/178 [==============================] - 147s 817ms/step - loss: 0.5952 - acc: 0.6881 - val_loss: 0.5491 - val_acc: 0.7108\n",
            "Epoch 93/100\n",
            "178/178 [==============================] - 146s 812ms/step - loss: 0.5875 - acc: 0.6909 - val_loss: 0.5824 - val_acc: 0.6960\n",
            "Epoch 94/100\n",
            "178/178 [==============================] - 147s 813ms/step - loss: 0.5996 - acc: 0.6789 - val_loss: 0.5643 - val_acc: 0.6992\n",
            "Epoch 95/100\n",
            "178/178 [==============================] - 149s 827ms/step - loss: 0.5922 - acc: 0.6796 - val_loss: 0.5473 - val_acc: 0.7150\n",
            "Epoch 96/100\n",
            "178/178 [==============================] - 148s 820ms/step - loss: 0.5906 - acc: 0.6863 - val_loss: 0.5389 - val_acc: 0.7278\n",
            "Epoch 97/100\n",
            "178/178 [==============================] - 147s 817ms/step - loss: 0.5977 - acc: 0.6793 - val_loss: 0.5431 - val_acc: 0.7225\n",
            "Epoch 98/100\n",
            "178/178 [==============================] - 147s 816ms/step - loss: 0.5938 - acc: 0.6877 - val_loss: 0.5578 - val_acc: 0.7087\n",
            "Epoch 99/100\n",
            "178/178 [==============================] - 147s 819ms/step - loss: 0.5867 - acc: 0.6856 - val_loss: 0.5544 - val_acc: 0.7044\n",
            "Epoch 100/100\n",
            "178/178 [==============================] - 147s 817ms/step - loss: 0.5918 - acc: 0.6930 - val_loss: 0.5653 - val_acc: 0.7044\n"
          ]
        }
      ]
    },
    {
      "cell_type": "code",
      "source": [
        "acc = history.history['acc']\n",
        "val_acc = history.history['val_acc']\n",
        "loss = history.history['loss']\n",
        "val_loss = history.history['val_loss']\n",
        "\n",
        "epochs_x = range(len(acc))\n",
        "\n",
        "plt.plot(epochs_x, acc, 'go', label='Training acc')\n",
        "plt.plot(epochs_x, val_acc, 'k', label='Validation acc')\n",
        "plt.title('Training and validation accuracy')\n",
        "plt.legend()\n",
        "\n",
        "plt.figure()\n",
        "\n",
        "plt.plot(epochs_x, loss, 'go', label='Training loss')\n",
        "plt.plot(epochs_x, val_loss, 'k', label='Validation loss')\n",
        "plt.title('Training and validation loss')\n",
        "plt.legend()\n",
        "\n",
        "plt.show()"
      ],
      "metadata": {
        "id": "kwylTJpTP5XI",
        "colab": {
          "base_uri": "https://localhost:8080/",
          "height": 545
        },
        "outputId": "4aaf4af0-07ec-4d12-be2b-d860b939bdb0"
      },
      "execution_count": null,
      "outputs": [
        {
          "output_type": "display_data",
          "data": {
            "text/plain": [
              "<Figure size 432x288 with 1 Axes>"
            ],
            "image/png": "[encoded data removed]"
          },
          "metadata": {
            "needs_background": "light"
          }
        },
        {
          "output_type": "display_data",
          "data": {
            "text/plain": [
              "<Figure size 432x288 with 1 Axes>"
            ],
            "image/png": "[encoded data removed]"
          },
          "metadata": {
            "needs_background": "light"
          }
        }
      ]
    },
    {
      "cell_type": "markdown",
      "source": [
        "#Download the model"
      ],
      "metadata": {
        "id": "lD-vKaoHQAFd"
      }
    },
    {
      "cell_type": "code",
      "source": [
        "os.makedirs('/content/drive/My Drive/cut_panoramic/Model', exist_ok=True)\n",
        "model.save('/content/drive/My Drive/cut_panoramic/Model/6.6_รอบที่6_Gender_100.h5')"
      ],
      "metadata": {
        "id": "74dL7-HLP_Sh"
      },
      "execution_count": null,
      "outputs": []
    },
    {
      "cell_type": "code",
      "source": [
        "from google.colab import files\n",
        "files.download('/content/drive/My Drive/cut_panoramic/Model/6.6_รอบที่6_Gender_100.h5')"
      ],
      "metadata": {
        "id": "qcPW-brHQDpc",
        "colab": {
          "base_uri": "https://localhost:8080/",
          "height": 17
        },
        "outputId": "da0fb7e9-4920-4783-f1e9-099d40df9955"
      },
      "execution_count": null,
      "outputs": [
        {
          "output_type": "display_data",
          "data": {
            "text/plain": [
              "<IPython.core.display.Javascript object>"
            ],
            "application/javascript": [
              "\n",
              "    async function download(id, filename, size) {\n",
              "      if (!google.colab.kernel.accessAllowed) {\n",
              "        return;\n",
              "      }\n",
              "      const div = document.createElement('div');\n",
              "      const label = document.createElement('label');\n",
              "      label.textContent = `Downloading \"${filename}\": `;\n",
              "      div.appendChild(label);\n",
              "      const progress = document.createElement('progress');\n",
              "      progress.max = size;\n",
              "      div.appendChild(progress);\n",
              "      document.body.appendChild(div);\n",
              "\n",
              "      const buffers = [];\n",
              "      let downloaded = 0;\n",
              "\n",
              "      const channel = await google.colab.kernel.comms.open(id);\n",
              "      // Send a message to notify the kernel that we're ready.\n",
              "      channel.send({})\n",
              "\n",
              "      for await (const message of channel.messages) {\n",
              "        // Send a message to notify the kernel that we're ready.\n",
              "        channel.send({})\n",
              "        if (message.buffers) {\n",
              "          for (const buffer of message.buffers) {\n",
              "            buffers.push(buffer);\n",
              "            downloaded += buffer.byteLength;\n",
              "            progress.value = downloaded;\n",
              "          }\n",
              "        }\n",
              "      }\n",
              "      const blob = new Blob(buffers, {type: 'application/binary'});\n",
              "      const a = document.createElement('a');\n",
              "      a.href = window.URL.createObjectURL(blob);\n",
              "      a.download = filename;\n",
              "      div.appendChild(a);\n",
              "      a.click();\n",
              "      div.remove();\n",
              "    }\n",
              "  "
            ]
          },
          "metadata": {}
        },
        {
          "output_type": "display_data",
          "data": {
            "text/plain": [
              "<IPython.core.display.Javascript object>"
            ],
            "application/javascript": [
              "download(\"download_47e702c5-62c8-4e1c-b195-10dc37562195\", \"6.6_\\u0e23\\u0e2d\\u0e1a\\u0e17\\u0e35\\u0e486_Gender_100.h5\", 16604304)"
            ]
          },
          "metadata": {}
        }
      ]
    },
    {
      "cell_type": "code",
      "source": [],
      "metadata": {
        "id": "r5WoXVo8mVpF"
      },
      "execution_count": null,
      "outputs": []
    }
  ]
}