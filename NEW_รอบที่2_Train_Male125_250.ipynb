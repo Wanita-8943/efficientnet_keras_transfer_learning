{
  "nbformat": 4,
  "nbformat_minor": 0,
  "metadata": {
    "colab": {
      "provenance": [],
      "include_colab_link": true
    },
    "kernelspec": {
      "name": "python3",
      "display_name": "Python 3"
    },
    "language_info": {
      "name": "python"
    },
    "accelerator": "GPU",
    "gpuClass": "standard"
  },
  "cells": [
    {
      "cell_type": "markdown",
      "metadata": {
        "id": "view-in-github",
        "colab_type": "text"
      },
      "source": [
        "<a href=\"https://colab.research.google.com/github/Wanita-8943/efficientnet_keras_transfer_learning/blob/master/NEW_%E0%B8%A3%E0%B8%AD%E0%B8%9A%E0%B8%97%E0%B8%B5%E0%B9%882_Train_Male125_250.ipynb\" target=\"_parent\"><img src=\"https://colab.research.google.com/assets/colab-badge.svg\" alt=\"Open In Colab\"/></a>"
      ]
    },
    {
      "cell_type": "code",
      "execution_count": 1,
      "metadata": {
        "id": "KKSs7cyoPHcD"
      },
      "outputs": [],
      "source": [
        "import pandas as pd\n",
        "import shutil"
      ]
    },
    {
      "cell_type": "code",
      "source": [
        "from google.colab import drive\n",
        "drive.mount('/content/drive')"
      ],
      "metadata": {
        "colab": {
          "base_uri": "https://localhost:8080/"
        },
        "id": "7LoeZxmVPMxp",
        "outputId": "76620fc1-e25d-4f7f-8f0e-21bb1d878899"
      },
      "execution_count": 2,
      "outputs": [
        {
          "output_type": "stream",
          "name": "stdout",
          "text": [
            "Mounted at /content/drive\n"
          ]
        }
      ]
    },
    {
      "cell_type": "code",
      "source": [
        "from tensorflow.keras import models\n",
        "from tensorflow.keras import layers\n",
        "from tensorflow.keras import optimizers\n",
        "import os\n",
        "import glob\n",
        "import shutil\n",
        "import sys\n",
        "import numpy as np\n",
        "from skimage.io import imread\n",
        "import matplotlib.pyplot as plt\n",
        "from IPython.display import Image\n",
        "%matplotlib inline"
      ],
      "metadata": {
        "id": "1pX9g1HxPM2f"
      },
      "execution_count": 3,
      "outputs": []
    },
    {
      "cell_type": "code",
      "source": [
        "batch_size = 16\n",
        "width = 150\n",
        "height = 150\n",
        "epochs = 250\n",
        "NUM_TRAIN = 1425\n",
        "NUM_TEST = 475\n",
        "dropout_rate = 0.2\n",
        "input_shape = (height, width, 3)"
      ],
      "metadata": {
        "id": "eSFtvGyvPM6O"
      },
      "execution_count": 4,
      "outputs": []
    },
    {
      "cell_type": "code",
      "source": [
        "#ดึงข้อมูลใน Github มาใช้\n",
        "import os\n",
        "%cd /content\n",
        "if not os.path.isdir(\"efficientnet_keras_transfer_learning\"):\n",
        " !git clone https://github.com/Wanita-8943/efficientnet_keras_transfer_learning\n",
        "%cd efficientnet_keras_transfer_learning/"
      ],
      "metadata": {
        "colab": {
          "base_uri": "https://localhost:8080/"
        },
        "id": "lb4K4CsMPNAW",
        "outputId": "49ebe573-c5e9-4cac-cb77-73ddc01f7794"
      },
      "execution_count": 5,
      "outputs": [
        {
          "output_type": "stream",
          "name": "stdout",
          "text": [
            "/content\n",
            "Cloning into 'efficientnet_keras_transfer_learning'...\n",
            "remote: Enumerating objects: 717, done.\u001b[K\n",
            "remote: Counting objects: 100% (239/239), done.\u001b[K\n",
            "remote: Compressing objects: 100% (103/103), done.\u001b[K\n",
            "remote: Total 717 (delta 182), reused 161 (delta 136), pack-reused 478\u001b[K\n",
            "Receiving objects: 100% (717/717), 12.47 MiB | 1.64 MiB/s, done.\n",
            "Resolving deltas: 100% (422/422), done.\n",
            "/content/efficientnet_keras_transfer_learning\n"
          ]
        }
      ]
    },
    {
      "cell_type": "code",
      "source": [
        "# Options: EfficientNetB0, EfficientNetB1, EfficientNetB2, EfficientNetB3\n",
        "# Higher the number, the more complex the model is.\n",
        "from efficientnet import EfficientNetB0 as Net\n",
        "from efficientnet import center_crop_and_resize, preprocess_input"
      ],
      "metadata": {
        "id": "eyBg0dLKPND3"
      },
      "execution_count": 6,
      "outputs": []
    },
    {
      "cell_type": "code",
      "source": [
        "base_dir = '/content/drive/MyDrive/TVT_Male125'\n",
        "os.makedirs(base_dir, exist_ok=True)\n",
        "\n",
        "# Directories for our training,\n",
        "# validation and test splits\n",
        "train_dir = os.path.join(base_dir, 'train')\n",
        "os.makedirs(train_dir, exist_ok=True)\n",
        "validation_dir = os.path.join(base_dir, 'validation')\n",
        "os.makedirs(validation_dir, exist_ok=True)\n",
        "test_dir = os.path.join(base_dir, 'test')\n",
        "os.makedirs(test_dir, exist_ok=True)"
      ],
      "metadata": {
        "id": "Jwpq_-KvPef8"
      },
      "execution_count": 7,
      "outputs": []
    },
    {
      "cell_type": "markdown",
      "source": [
        "#load model"
      ],
      "metadata": {
        "id": "od-ZSNm5PoGy"
      }
    },
    {
      "cell_type": "code",
      "source": [
        "import sys\n",
        "sys.path.append('/content/drive/MyDrive/cut_panoramic/Model/11_รอบแรก_Flimpano_Male125_250.h5')\n",
        "\n",
        "from efficientnet.layers import Swish, DropConnect\n",
        "from efficientnet.model import ConvKernalInitializer\n",
        "from tensorflow.keras.utils import get_custom_objects\n",
        "\n",
        "get_custom_objects().update({\n",
        "    'ConvKernalInitializer': ConvKernalInitializer,\n",
        "    'Swish': Swish,\n",
        "    'DropConnect':DropConnect\n",
        "})"
      ],
      "metadata": {
        "id": "n5iPL5MNPkhE"
      },
      "execution_count": 8,
      "outputs": []
    },
    {
      "cell_type": "code",
      "source": [
        "#load model \n",
        "from tensorflow.keras.models import load_model\n",
        "model = load_model('/content/drive/MyDrive/cut_panoramic/Model/11_รอบแรก_Flimpano_Male125_250.h5')\n",
        "height = width = model.input_shape[1]"
      ],
      "metadata": {
        "id": "plYz49xMPkly"
      },
      "execution_count": 9,
      "outputs": []
    },
    {
      "cell_type": "code",
      "source": [
        "model.summary()"
      ],
      "metadata": {
        "colab": {
          "base_uri": "https://localhost:8080/"
        },
        "id": "z6IOPBflFbvc",
        "outputId": "fee5ab94-a221-4e14-91da-547e02785e36"
      },
      "execution_count": 10,
      "outputs": [
        {
          "output_type": "stream",
          "name": "stdout",
          "text": [
            "Model: \"sequential\"\n",
            "_________________________________________________________________\n",
            " Layer (type)                Output Shape              Param #   \n",
            "=================================================================\n",
            " efficientnet-b0 (Functional  (None, 5, 5, 1280)       4049564   \n",
            " )                                                               \n",
            "                                                                 \n",
            " gap (GlobalMaxPooling2D)    (None, 1280)              0         \n",
            "                                                                 \n",
            " dropout_out (Dropout)       (None, 1280)              0         \n",
            "                                                                 \n",
            " fc_out (Dense)              (None, 19)                24339     \n",
            "                                                                 \n",
            "=================================================================\n",
            "Total params: 4,073,903\n",
            "Trainable params: 24,339\n",
            "Non-trainable params: 4,049,564\n",
            "_________________________________________________________________\n"
          ]
        }
      ]
    },
    {
      "cell_type": "code",
      "source": [
        "# Train ด้วย ImageDataGenerator ของ Keras ซึ่งจะเพิ่มข้อมูลเสริมระหว่างการฝึกเพื่อลดโอกาสเกิด overfitting\n",
        "#overfitting เกิดจากข้อมูลที่ซับซ้อนกันเกินไป\n",
        "from tensorflow.keras.preprocessing.image import ImageDataGenerator\n",
        "\n",
        "train_datagen = ImageDataGenerator(\n",
        "      rescale=1./255, #โมเดลส่วนใหญ่ต้องใช้ RGB ในช่วง 0–1\n",
        "      rotation_range=40,\n",
        "      width_shift_range=0.2,\n",
        "      height_shift_range=0.2,\n",
        "      shear_range=0.2,\n",
        "      zoom_range=0.2,\n",
        "      horizontal_flip=True,\n",
        "      fill_mode='nearest')\n",
        "\n",
        "# Note that the validation data should not be augmented!\n",
        "test_datagen = ImageDataGenerator(rescale=1./255)\n",
        "\n",
        "train_generator = train_datagen.flow_from_directory(\n",
        "        # This is the target directory #ไดเรกเป้าหมาย\n",
        "        train_dir,\n",
        "        # รูปภาพทั้งหมดจะถูกปรับขนาดตามความสูงและความกว้างของเป้าหมาย\n",
        "        target_size=(height, width),\n",
        "        batch_size=batch_size,\n",
        "        # Since we use categorical_crossentropy loss, we need categorical labels\n",
        "        #เนื่องจากเราใช้ categorical_crossentropy loss เราจึงต้องมีป้ายกำกับตามหมวดหมู่\n",
        "        class_mode='categorical')\n",
        "\n",
        "validation_generator = test_datagen.flow_from_directory( #การดึงภาพจาก Directory มาเข้าโมเดล \n",
        "        validation_dir,\n",
        "        target_size=(height, width),\n",
        "        batch_size=batch_size,\n",
        "        class_mode='categorical')"
      ],
      "metadata": {
        "colab": {
          "base_uri": "https://localhost:8080/"
        },
        "id": "KBMZbdr2Pgw4",
        "outputId": "cd299104-29ca-40ea-9721-77a14a46e6a1"
      },
      "execution_count": 11,
      "outputs": [
        {
          "output_type": "stream",
          "name": "stdout",
          "text": [
            "Found 1425 images belonging to 19 classes.\n",
            "Found 475 images belonging to 19 classes.\n"
          ]
        }
      ]
    },
    {
      "cell_type": "code",
      "source": [
        "history = model.fit_generator(\n",
        "      train_generator,\n",
        "      steps_per_epoch= NUM_TRAIN //batch_size,\n",
        "      epochs=epochs,\n",
        "      validation_data=validation_generator,\n",
        "      validation_steps= NUM_TEST //batch_size,\n",
        "      verbose=1,\n",
        "      use_multiprocessing=True,\n",
        "      workers=4)"
      ],
      "metadata": {
        "colab": {
          "base_uri": "https://localhost:8080/"
        },
        "id": "C9Cf1dwyP1PD",
        "outputId": "4fc8db24-a2c0-4ab0-8d12-63a6ae7a6436"
      },
      "execution_count": 12,
      "outputs": [
        {
          "output_type": "stream",
          "name": "stderr",
          "text": [
            "<ipython-input-12-caa7b37242a8>:1: UserWarning: `Model.fit_generator` is deprecated and will be removed in a future version. Please use `Model.fit`, which supports generators.\n",
            "  history = model.fit_generator(\n"
          ]
        },
        {
          "output_type": "stream",
          "name": "stdout",
          "text": [
            "Epoch 1/250\n",
            "89/89 [==============================] - 382s 4s/step - loss: 2.5738 - acc: 0.1888 - val_loss: 2.6316 - val_acc: 0.1832\n",
            "Epoch 2/250\n",
            "89/89 [==============================] - 16s 177ms/step - loss: 2.5954 - acc: 0.2051 - val_loss: 2.6409 - val_acc: 0.1853\n",
            "Epoch 3/250\n",
            "89/89 [==============================] - 16s 175ms/step - loss: 2.6139 - acc: 0.1675 - val_loss: 2.6410 - val_acc: 0.1789\n",
            "Epoch 4/250\n",
            "89/89 [==============================] - 18s 197ms/step - loss: 2.6612 - acc: 0.1739 - val_loss: 2.6405 - val_acc: 0.1746\n",
            "Epoch 5/250\n",
            "89/89 [==============================] - 16s 174ms/step - loss: 2.5647 - acc: 0.1952 - val_loss: 2.6321 - val_acc: 0.1832\n",
            "Epoch 6/250\n",
            "89/89 [==============================] - 17s 179ms/step - loss: 2.5563 - acc: 0.2108 - val_loss: 2.6430 - val_acc: 0.1767\n",
            "Epoch 7/250\n",
            "89/89 [==============================] - 16s 177ms/step - loss: 2.5865 - acc: 0.1810 - val_loss: 2.6605 - val_acc: 0.1853\n",
            "Epoch 8/250\n",
            "89/89 [==============================] - 16s 176ms/step - loss: 2.6498 - acc: 0.1796 - val_loss: 2.6354 - val_acc: 0.1810\n",
            "Epoch 9/250\n",
            "89/89 [==============================] - 16s 175ms/step - loss: 2.6468 - acc: 0.1874 - val_loss: 2.6476 - val_acc: 0.1789\n",
            "Epoch 10/250\n",
            "89/89 [==============================] - 16s 178ms/step - loss: 2.5874 - acc: 0.1803 - val_loss: 2.6465 - val_acc: 0.1789\n",
            "Epoch 11/250\n",
            "89/89 [==============================] - 16s 176ms/step - loss: 2.5975 - acc: 0.1881 - val_loss: 2.6514 - val_acc: 0.1832\n",
            "Epoch 12/250\n",
            "89/89 [==============================] - 16s 177ms/step - loss: 2.5244 - acc: 0.1867 - val_loss: 2.6283 - val_acc: 0.1853\n",
            "Epoch 13/250\n",
            "89/89 [==============================] - 16s 178ms/step - loss: 2.5905 - acc: 0.1923 - val_loss: 2.6400 - val_acc: 0.1810\n",
            "Epoch 14/250\n",
            "89/89 [==============================] - 16s 177ms/step - loss: 2.6139 - acc: 0.1781 - val_loss: 2.6337 - val_acc: 0.1746\n",
            "Epoch 15/250\n",
            "89/89 [==============================] - 16s 175ms/step - loss: 2.5422 - acc: 0.2001 - val_loss: 2.6568 - val_acc: 0.1789\n",
            "Epoch 16/250\n",
            "89/89 [==============================] - 16s 176ms/step - loss: 2.6046 - acc: 0.2009 - val_loss: 2.6444 - val_acc: 0.1832\n",
            "Epoch 17/250\n",
            "89/89 [==============================] - 16s 174ms/step - loss: 2.6300 - acc: 0.1746 - val_loss: 2.6389 - val_acc: 0.1810\n",
            "Epoch 18/250\n",
            "89/89 [==============================] - 16s 176ms/step - loss: 2.5447 - acc: 0.2016 - val_loss: 2.6435 - val_acc: 0.1746\n",
            "Epoch 19/250\n",
            "89/89 [==============================] - 16s 177ms/step - loss: 2.6079 - acc: 0.2001 - val_loss: 2.6418 - val_acc: 0.1832\n",
            "Epoch 20/250\n",
            "89/89 [==============================] - 16s 176ms/step - loss: 2.6148 - acc: 0.1746 - val_loss: 2.6406 - val_acc: 0.1789\n",
            "Epoch 21/250\n",
            "89/89 [==============================] - 17s 179ms/step - loss: 2.5737 - acc: 0.1867 - val_loss: 2.6212 - val_acc: 0.1832\n",
            "Epoch 22/250\n",
            "89/89 [==============================] - 18s 199ms/step - loss: 2.5905 - acc: 0.1819 - val_loss: 2.6368 - val_acc: 0.1853\n",
            "Epoch 23/250\n",
            "89/89 [==============================] - 16s 176ms/step - loss: 2.5466 - acc: 0.1867 - val_loss: 2.6256 - val_acc: 0.1832\n",
            "Epoch 24/250\n",
            "89/89 [==============================] - 16s 174ms/step - loss: 2.6040 - acc: 0.1938 - val_loss: 2.6315 - val_acc: 0.1767\n",
            "Epoch 25/250\n",
            "89/89 [==============================] - 16s 176ms/step - loss: 2.5743 - acc: 0.1959 - val_loss: 2.6260 - val_acc: 0.1875\n",
            "Epoch 26/250\n",
            "89/89 [==============================] - 16s 174ms/step - loss: 2.6099 - acc: 0.1867 - val_loss: 2.6439 - val_acc: 0.1832\n",
            "Epoch 27/250\n",
            "89/89 [==============================] - 16s 174ms/step - loss: 2.5760 - acc: 0.1930 - val_loss: 2.6206 - val_acc: 0.1875\n",
            "Epoch 28/250\n",
            "89/89 [==============================] - 16s 176ms/step - loss: 2.5688 - acc: 0.1796 - val_loss: 2.6200 - val_acc: 0.1789\n",
            "Epoch 29/250\n",
            "89/89 [==============================] - 16s 175ms/step - loss: 2.5746 - acc: 0.1888 - val_loss: 2.6100 - val_acc: 0.1810\n",
            "Epoch 30/250\n",
            "89/89 [==============================] - 16s 177ms/step - loss: 2.5883 - acc: 0.1902 - val_loss: 2.6552 - val_acc: 0.1703\n",
            "Epoch 31/250\n",
            "89/89 [==============================] - 16s 172ms/step - loss: 2.5328 - acc: 0.1852 - val_loss: 2.6363 - val_acc: 0.1875\n",
            "Epoch 32/250\n",
            "89/89 [==============================] - 16s 175ms/step - loss: 2.5517 - acc: 0.1703 - val_loss: 2.6437 - val_acc: 0.1789\n",
            "Epoch 33/250\n",
            "89/89 [==============================] - 16s 174ms/step - loss: 2.5315 - acc: 0.1959 - val_loss: 2.6450 - val_acc: 0.1789\n",
            "Epoch 34/250\n",
            "89/89 [==============================] - 16s 174ms/step - loss: 2.5704 - acc: 0.1930 - val_loss: 2.6337 - val_acc: 0.1810\n",
            "Epoch 35/250\n",
            "89/89 [==============================] - 16s 174ms/step - loss: 2.5544 - acc: 0.1966 - val_loss: 2.6442 - val_acc: 0.1875\n",
            "Epoch 36/250\n",
            "89/89 [==============================] - 16s 174ms/step - loss: 2.5512 - acc: 0.1859 - val_loss: 2.6472 - val_acc: 0.1832\n",
            "Epoch 37/250\n",
            "89/89 [==============================] - 16s 173ms/step - loss: 2.5911 - acc: 0.1774 - val_loss: 2.6356 - val_acc: 0.1810\n",
            "Epoch 38/250\n",
            "89/89 [==============================] - 16s 174ms/step - loss: 2.5352 - acc: 0.1881 - val_loss: 2.6629 - val_acc: 0.1724\n",
            "Epoch 39/250\n",
            "89/89 [==============================] - 18s 194ms/step - loss: 2.5716 - acc: 0.1810 - val_loss: 2.6351 - val_acc: 0.1810\n",
            "Epoch 40/250\n",
            "89/89 [==============================] - 16s 174ms/step - loss: 2.5787 - acc: 0.1831 - val_loss: 2.6477 - val_acc: 0.1789\n",
            "Epoch 41/250\n",
            "89/89 [==============================] - 16s 173ms/step - loss: 2.5320 - acc: 0.2072 - val_loss: 2.6554 - val_acc: 0.1810\n",
            "Epoch 42/250\n",
            "89/89 [==============================] - 16s 171ms/step - loss: 2.5256 - acc: 0.1973 - val_loss: 2.6489 - val_acc: 0.1767\n",
            "Epoch 43/250\n",
            "89/89 [==============================] - 16s 172ms/step - loss: 2.5341 - acc: 0.2058 - val_loss: 2.6297 - val_acc: 0.1746\n",
            "Epoch 44/250\n",
            "89/89 [==============================] - 16s 173ms/step - loss: 2.5924 - acc: 0.1746 - val_loss: 2.6368 - val_acc: 0.1810\n",
            "Epoch 45/250\n",
            "89/89 [==============================] - 16s 175ms/step - loss: 2.5512 - acc: 0.1966 - val_loss: 2.6316 - val_acc: 0.1832\n",
            "Epoch 46/250\n",
            "89/89 [==============================] - 16s 173ms/step - loss: 2.5575 - acc: 0.1994 - val_loss: 2.6127 - val_acc: 0.1810\n",
            "Epoch 47/250\n",
            "89/89 [==============================] - 16s 176ms/step - loss: 2.5943 - acc: 0.1789 - val_loss: 2.6174 - val_acc: 0.1832\n",
            "Epoch 48/250\n",
            "89/89 [==============================] - 16s 171ms/step - loss: 2.5476 - acc: 0.1909 - val_loss: 2.6111 - val_acc: 0.1853\n",
            "Epoch 49/250\n",
            "89/89 [==============================] - 16s 173ms/step - loss: 2.5701 - acc: 0.1867 - val_loss: 2.6141 - val_acc: 0.1789\n",
            "Epoch 50/250\n",
            "89/89 [==============================] - 16s 175ms/step - loss: 2.5594 - acc: 0.1916 - val_loss: 2.6085 - val_acc: 0.1810\n",
            "Epoch 51/250\n",
            "89/89 [==============================] - 16s 173ms/step - loss: 2.5389 - acc: 0.1895 - val_loss: 2.6071 - val_acc: 0.1789\n",
            "Epoch 52/250\n",
            "89/89 [==============================] - 16s 173ms/step - loss: 2.5339 - acc: 0.1888 - val_loss: 2.6420 - val_acc: 0.1767\n",
            "Epoch 53/250\n",
            "89/89 [==============================] - 16s 174ms/step - loss: 2.5867 - acc: 0.2016 - val_loss: 2.6330 - val_acc: 0.1767\n",
            "Epoch 54/250\n",
            "89/89 [==============================] - 16s 174ms/step - loss: 2.5592 - acc: 0.1859 - val_loss: 2.6249 - val_acc: 0.1810\n",
            "Epoch 55/250\n",
            "89/89 [==============================] - 16s 174ms/step - loss: 2.5293 - acc: 0.2172 - val_loss: 2.6240 - val_acc: 0.1789\n",
            "Epoch 56/250\n",
            "89/89 [==============================] - 16s 171ms/step - loss: 2.5467 - acc: 0.1675 - val_loss: 2.6400 - val_acc: 0.1767\n",
            "Epoch 57/250\n",
            "89/89 [==============================] - 18s 194ms/step - loss: 2.5271 - acc: 0.1980 - val_loss: 2.6361 - val_acc: 0.1853\n",
            "Epoch 58/250\n",
            "89/89 [==============================] - 16s 173ms/step - loss: 2.5420 - acc: 0.2001 - val_loss: 2.6267 - val_acc: 0.1875\n",
            "Epoch 59/250\n",
            "89/89 [==============================] - 16s 172ms/step - loss: 2.5246 - acc: 0.1838 - val_loss: 2.6489 - val_acc: 0.1832\n",
            "Epoch 60/250\n",
            "89/89 [==============================] - 16s 174ms/step - loss: 2.5041 - acc: 0.1831 - val_loss: 2.6312 - val_acc: 0.1767\n",
            "Epoch 61/250\n",
            "89/89 [==============================] - 16s 172ms/step - loss: 2.5198 - acc: 0.1930 - val_loss: 2.6510 - val_acc: 0.1703\n",
            "Epoch 62/250\n",
            "89/89 [==============================] - 16s 175ms/step - loss: 2.5253 - acc: 0.1923 - val_loss: 2.6224 - val_acc: 0.1789\n",
            "Epoch 63/250\n",
            "89/89 [==============================] - 16s 174ms/step - loss: 2.5555 - acc: 0.1824 - val_loss: 2.6270 - val_acc: 0.1767\n",
            "Epoch 64/250\n",
            "89/89 [==============================] - 16s 173ms/step - loss: 2.5185 - acc: 0.1902 - val_loss: 2.6306 - val_acc: 0.1789\n",
            "Epoch 65/250\n",
            "89/89 [==============================] - 16s 173ms/step - loss: 2.5294 - acc: 0.1973 - val_loss: 2.6280 - val_acc: 0.1767\n",
            "Epoch 66/250\n",
            "89/89 [==============================] - 16s 173ms/step - loss: 2.5401 - acc: 0.2072 - val_loss: 2.6133 - val_acc: 0.1789\n",
            "Epoch 67/250\n",
            "89/89 [==============================] - 16s 171ms/step - loss: 2.4952 - acc: 0.2001 - val_loss: 2.6409 - val_acc: 0.1789\n",
            "Epoch 68/250\n",
            "89/89 [==============================] - 16s 174ms/step - loss: 2.4565 - acc: 0.1973 - val_loss: 2.6136 - val_acc: 0.1789\n",
            "Epoch 69/250\n",
            "89/89 [==============================] - 16s 174ms/step - loss: 2.5267 - acc: 0.1909 - val_loss: 2.6180 - val_acc: 0.1789\n",
            "Epoch 70/250\n",
            "89/89 [==============================] - 16s 174ms/step - loss: 2.5078 - acc: 0.2136 - val_loss: 2.6197 - val_acc: 0.1810\n",
            "Epoch 71/250\n",
            "89/89 [==============================] - 16s 173ms/step - loss: 2.4772 - acc: 0.1987 - val_loss: 2.6185 - val_acc: 0.1897\n",
            "Epoch 72/250\n",
            "89/89 [==============================] - 16s 172ms/step - loss: 2.5366 - acc: 0.1824 - val_loss: 2.6402 - val_acc: 0.1918\n",
            "Epoch 73/250\n",
            "89/89 [==============================] - 16s 173ms/step - loss: 2.5394 - acc: 0.1909 - val_loss: 2.6373 - val_acc: 0.1897\n",
            "Epoch 74/250\n",
            "89/89 [==============================] - 16s 175ms/step - loss: 2.5288 - acc: 0.2051 - val_loss: 2.6329 - val_acc: 0.1853\n",
            "Epoch 75/250\n",
            "89/89 [==============================] - 18s 195ms/step - loss: 2.4864 - acc: 0.2030 - val_loss: 2.6403 - val_acc: 0.1789\n",
            "Epoch 76/250\n",
            "89/89 [==============================] - 16s 174ms/step - loss: 2.5041 - acc: 0.1973 - val_loss: 2.6246 - val_acc: 0.1810\n",
            "Epoch 77/250\n",
            "89/89 [==============================] - 16s 173ms/step - loss: 2.5032 - acc: 0.1916 - val_loss: 2.6449 - val_acc: 0.1810\n",
            "Epoch 78/250\n",
            "89/89 [==============================] - 16s 171ms/step - loss: 2.4573 - acc: 0.2122 - val_loss: 2.6410 - val_acc: 0.1810\n",
            "Epoch 79/250\n",
            "89/89 [==============================] - 16s 172ms/step - loss: 2.5108 - acc: 0.1930 - val_loss: 2.6337 - val_acc: 0.1897\n",
            "Epoch 80/250\n",
            "89/89 [==============================] - 16s 175ms/step - loss: 2.4861 - acc: 0.2079 - val_loss: 2.6385 - val_acc: 0.1767\n",
            "Epoch 81/250\n",
            "89/89 [==============================] - 16s 174ms/step - loss: 2.4906 - acc: 0.2243 - val_loss: 2.6192 - val_acc: 0.1875\n",
            "Epoch 82/250\n",
            "89/89 [==============================] - 16s 174ms/step - loss: 2.5360 - acc: 0.1895 - val_loss: 2.6309 - val_acc: 0.1789\n",
            "Epoch 83/250\n",
            "89/89 [==============================] - 16s 174ms/step - loss: 2.4633 - acc: 0.2101 - val_loss: 2.6294 - val_acc: 0.1832\n",
            "Epoch 84/250\n",
            "89/89 [==============================] - 16s 175ms/step - loss: 2.5002 - acc: 0.2108 - val_loss: 2.6439 - val_acc: 0.1789\n",
            "Epoch 85/250\n",
            "89/89 [==============================] - 16s 174ms/step - loss: 2.4487 - acc: 0.2087 - val_loss: 2.6325 - val_acc: 0.1810\n",
            "Epoch 86/250\n",
            "89/89 [==============================] - 16s 173ms/step - loss: 2.5033 - acc: 0.1881 - val_loss: 2.6516 - val_acc: 0.1832\n",
            "Epoch 87/250\n",
            "89/89 [==============================] - 16s 172ms/step - loss: 2.5193 - acc: 0.1824 - val_loss: 2.6552 - val_acc: 0.1875\n",
            "Epoch 88/250\n",
            "89/89 [==============================] - 16s 174ms/step - loss: 2.5110 - acc: 0.1952 - val_loss: 2.6568 - val_acc: 0.1746\n",
            "Epoch 89/250\n",
            "89/89 [==============================] - 16s 172ms/step - loss: 2.5130 - acc: 0.2172 - val_loss: 2.6363 - val_acc: 0.1810\n",
            "Epoch 90/250\n",
            "89/89 [==============================] - 16s 174ms/step - loss: 2.4855 - acc: 0.2009 - val_loss: 2.6371 - val_acc: 0.1789\n",
            "Epoch 91/250\n",
            "89/89 [==============================] - 16s 173ms/step - loss: 2.5108 - acc: 0.1923 - val_loss: 2.6291 - val_acc: 0.1918\n",
            "Epoch 92/250\n",
            "89/89 [==============================] - 18s 196ms/step - loss: 2.4654 - acc: 0.2122 - val_loss: 2.6412 - val_acc: 0.1810\n",
            "Epoch 93/250\n",
            "89/89 [==============================] - 16s 172ms/step - loss: 2.5483 - acc: 0.1845 - val_loss: 2.6206 - val_acc: 0.1746\n",
            "Epoch 94/250\n",
            "89/89 [==============================] - 16s 173ms/step - loss: 2.4630 - acc: 0.2044 - val_loss: 2.6288 - val_acc: 0.1681\n",
            "Epoch 95/250\n",
            "89/89 [==============================] - 16s 174ms/step - loss: 2.5345 - acc: 0.1959 - val_loss: 2.6259 - val_acc: 0.1767\n",
            "Epoch 96/250\n",
            "89/89 [==============================] - 16s 173ms/step - loss: 2.5321 - acc: 0.1938 - val_loss: 2.6252 - val_acc: 0.1789\n",
            "Epoch 97/250\n",
            "89/89 [==============================] - 16s 172ms/step - loss: 2.5093 - acc: 0.1994 - val_loss: 2.6274 - val_acc: 0.1832\n",
            "Epoch 98/250\n",
            "89/89 [==============================] - 16s 174ms/step - loss: 2.4753 - acc: 0.2122 - val_loss: 2.6451 - val_acc: 0.1875\n",
            "Epoch 99/250\n",
            "89/89 [==============================] - 16s 172ms/step - loss: 2.4525 - acc: 0.2143 - val_loss: 2.6413 - val_acc: 0.1789\n",
            "Epoch 100/250\n",
            "89/89 [==============================] - 16s 173ms/step - loss: 2.5197 - acc: 0.2023 - val_loss: 2.6419 - val_acc: 0.1853\n",
            "Epoch 101/250\n",
            "89/89 [==============================] - 16s 173ms/step - loss: 2.4557 - acc: 0.2150 - val_loss: 2.6508 - val_acc: 0.1789\n",
            "Epoch 102/250\n",
            "89/89 [==============================] - 16s 171ms/step - loss: 2.4899 - acc: 0.2051 - val_loss: 2.6343 - val_acc: 0.1918\n",
            "Epoch 103/250\n",
            "89/89 [==============================] - 16s 173ms/step - loss: 2.5091 - acc: 0.2179 - val_loss: 2.6236 - val_acc: 0.1832\n",
            "Epoch 104/250\n",
            "89/89 [==============================] - 16s 172ms/step - loss: 2.4905 - acc: 0.1959 - val_loss: 2.6286 - val_acc: 0.1789\n",
            "Epoch 105/250\n",
            "89/89 [==============================] - 16s 173ms/step - loss: 2.4916 - acc: 0.1938 - val_loss: 2.6260 - val_acc: 0.1853\n",
            "Epoch 106/250\n",
            "89/89 [==============================] - 16s 173ms/step - loss: 2.4986 - acc: 0.1888 - val_loss: 2.6501 - val_acc: 0.1810\n",
            "Epoch 107/250\n",
            "89/89 [==============================] - 16s 173ms/step - loss: 2.4959 - acc: 0.2072 - val_loss: 2.6356 - val_acc: 0.1832\n",
            "Epoch 108/250\n",
            "89/89 [==============================] - 18s 195ms/step - loss: 2.5223 - acc: 0.2058 - val_loss: 2.6544 - val_acc: 0.1767\n",
            "Epoch 109/250\n",
            "89/89 [==============================] - 16s 176ms/step - loss: 2.4998 - acc: 0.1923 - val_loss: 2.6237 - val_acc: 0.1767\n",
            "Epoch 110/250\n",
            "89/89 [==============================] - 16s 174ms/step - loss: 2.4684 - acc: 0.1938 - val_loss: 2.6261 - val_acc: 0.1767\n",
            "Epoch 111/250\n",
            "89/89 [==============================] - 16s 172ms/step - loss: 2.5268 - acc: 0.1916 - val_loss: 2.6314 - val_acc: 0.1724\n",
            "Epoch 112/250\n",
            "89/89 [==============================] - 16s 171ms/step - loss: 2.4490 - acc: 0.2165 - val_loss: 2.6177 - val_acc: 0.1767\n",
            "Epoch 113/250\n",
            "89/89 [==============================] - 16s 170ms/step - loss: 2.4750 - acc: 0.2087 - val_loss: 2.6200 - val_acc: 0.1810\n",
            "Epoch 114/250\n",
            "89/89 [==============================] - 16s 175ms/step - loss: 2.4637 - acc: 0.2065 - val_loss: 2.6257 - val_acc: 0.1681\n",
            "Epoch 115/250\n",
            "89/89 [==============================] - 16s 171ms/step - loss: 2.4827 - acc: 0.1987 - val_loss: 2.6418 - val_acc: 0.1703\n",
            "Epoch 116/250\n",
            "89/89 [==============================] - 16s 175ms/step - loss: 2.5101 - acc: 0.2030 - val_loss: 2.6099 - val_acc: 0.1746\n",
            "Epoch 117/250\n",
            "89/89 [==============================] - 16s 172ms/step - loss: 2.4125 - acc: 0.2229 - val_loss: 2.6404 - val_acc: 0.1767\n",
            "Epoch 118/250\n",
            "89/89 [==============================] - 16s 173ms/step - loss: 2.4752 - acc: 0.2044 - val_loss: 2.6369 - val_acc: 0.1789\n",
            "Epoch 119/250\n",
            "89/89 [==============================] - 16s 173ms/step - loss: 2.4554 - acc: 0.2023 - val_loss: 2.6414 - val_acc: 0.1724\n",
            "Epoch 120/250\n",
            "89/89 [==============================] - 16s 172ms/step - loss: 2.4555 - acc: 0.2001 - val_loss: 2.6538 - val_acc: 0.1789\n",
            "Epoch 121/250\n",
            "89/89 [==============================] - 16s 174ms/step - loss: 2.3947 - acc: 0.2292 - val_loss: 2.6421 - val_acc: 0.1746\n",
            "Epoch 122/250\n",
            "89/89 [==============================] - 16s 172ms/step - loss: 2.4329 - acc: 0.2108 - val_loss: 2.6338 - val_acc: 0.1789\n",
            "Epoch 123/250\n",
            "89/89 [==============================] - 16s 173ms/step - loss: 2.5393 - acc: 0.1973 - val_loss: 2.6539 - val_acc: 0.1703\n",
            "Epoch 124/250\n",
            "89/89 [==============================] - 16s 173ms/step - loss: 2.4631 - acc: 0.2079 - val_loss: 2.6224 - val_acc: 0.1789\n",
            "Epoch 125/250\n",
            "89/89 [==============================] - 18s 196ms/step - loss: 2.4433 - acc: 0.2094 - val_loss: 2.6337 - val_acc: 0.1703\n",
            "Epoch 126/250\n",
            "89/89 [==============================] - 16s 172ms/step - loss: 2.4533 - acc: 0.1938 - val_loss: 2.6278 - val_acc: 0.1746\n",
            "Epoch 127/250\n",
            "89/89 [==============================] - 16s 171ms/step - loss: 2.4521 - acc: 0.2001 - val_loss: 2.6154 - val_acc: 0.1767\n",
            "Epoch 128/250\n",
            "89/89 [==============================] - 16s 173ms/step - loss: 2.4595 - acc: 0.2101 - val_loss: 2.6360 - val_acc: 0.1767\n",
            "Epoch 129/250\n",
            "89/89 [==============================] - 16s 175ms/step - loss: 2.4351 - acc: 0.2136 - val_loss: 2.6122 - val_acc: 0.1832\n",
            "Epoch 130/250\n",
            "89/89 [==============================] - 16s 172ms/step - loss: 2.4367 - acc: 0.2342 - val_loss: 2.6531 - val_acc: 0.1767\n",
            "Epoch 131/250\n",
            "89/89 [==============================] - 16s 172ms/step - loss: 2.4756 - acc: 0.2150 - val_loss: 2.6395 - val_acc: 0.1724\n",
            "Epoch 132/250\n",
            "89/89 [==============================] - 16s 173ms/step - loss: 2.4081 - acc: 0.2101 - val_loss: 2.6381 - val_acc: 0.1703\n",
            "Epoch 133/250\n",
            "89/89 [==============================] - 16s 174ms/step - loss: 2.4622 - acc: 0.2158 - val_loss: 2.6476 - val_acc: 0.1767\n",
            "Epoch 134/250\n",
            "89/89 [==============================] - 16s 174ms/step - loss: 2.4941 - acc: 0.1952 - val_loss: 2.6365 - val_acc: 0.1724\n",
            "Epoch 135/250\n",
            "89/89 [==============================] - 16s 174ms/step - loss: 2.4832 - acc: 0.1881 - val_loss: 2.6233 - val_acc: 0.1832\n",
            "Epoch 136/250\n",
            "89/89 [==============================] - 16s 173ms/step - loss: 2.4905 - acc: 0.2172 - val_loss: 2.6431 - val_acc: 0.1724\n",
            "Epoch 137/250\n",
            "89/89 [==============================] - 16s 171ms/step - loss: 2.4241 - acc: 0.2150 - val_loss: 2.6307 - val_acc: 0.1746\n",
            "Epoch 138/250\n",
            "89/89 [==============================] - 16s 171ms/step - loss: 2.4734 - acc: 0.1987 - val_loss: 2.6210 - val_acc: 0.1832\n",
            "Epoch 139/250\n",
            "89/89 [==============================] - 16s 174ms/step - loss: 2.4615 - acc: 0.2072 - val_loss: 2.6473 - val_acc: 0.1767\n",
            "Epoch 140/250\n",
            "89/89 [==============================] - 16s 174ms/step - loss: 2.4039 - acc: 0.2115 - val_loss: 2.6464 - val_acc: 0.1681\n",
            "Epoch 141/250\n",
            "89/89 [==============================] - 18s 193ms/step - loss: 2.4650 - acc: 0.1980 - val_loss: 2.6402 - val_acc: 0.1789\n",
            "Epoch 142/250\n",
            "89/89 [==============================] - 16s 171ms/step - loss: 2.4543 - acc: 0.2023 - val_loss: 2.6357 - val_acc: 0.1746\n",
            "Epoch 143/250\n",
            "89/89 [==============================] - 16s 174ms/step - loss: 2.4009 - acc: 0.2094 - val_loss: 2.6488 - val_acc: 0.1659\n",
            "Epoch 144/250\n",
            "89/89 [==============================] - 16s 172ms/step - loss: 2.4418 - acc: 0.2009 - val_loss: 2.6677 - val_acc: 0.1659\n",
            "Epoch 145/250\n",
            "89/89 [==============================] - 16s 172ms/step - loss: 2.4108 - acc: 0.2058 - val_loss: 2.6548 - val_acc: 0.1746\n",
            "Epoch 146/250\n",
            "89/89 [==============================] - 16s 171ms/step - loss: 2.3643 - acc: 0.2243 - val_loss: 2.6608 - val_acc: 0.1746\n",
            "Epoch 147/250\n",
            "89/89 [==============================] - 16s 171ms/step - loss: 2.3740 - acc: 0.2136 - val_loss: 2.6583 - val_acc: 0.1703\n",
            "Epoch 148/250\n",
            "89/89 [==============================] - 16s 173ms/step - loss: 2.4256 - acc: 0.2108 - val_loss: 2.6613 - val_acc: 0.1681\n",
            "Epoch 149/250\n",
            "89/89 [==============================] - 16s 173ms/step - loss: 2.4221 - acc: 0.2342 - val_loss: 2.6516 - val_acc: 0.1659\n",
            "Epoch 150/250\n",
            "89/89 [==============================] - 16s 173ms/step - loss: 2.4498 - acc: 0.2094 - val_loss: 2.6800 - val_acc: 0.1810\n",
            "Epoch 151/250\n",
            "89/89 [==============================] - 16s 174ms/step - loss: 2.4443 - acc: 0.2193 - val_loss: 2.6460 - val_acc: 0.1746\n",
            "Epoch 152/250\n",
            "89/89 [==============================] - 16s 173ms/step - loss: 2.4771 - acc: 0.2001 - val_loss: 2.6454 - val_acc: 0.1767\n",
            "Epoch 153/250\n",
            "89/89 [==============================] - 16s 172ms/step - loss: 2.4401 - acc: 0.2023 - val_loss: 2.6634 - val_acc: 0.1746\n",
            "Epoch 154/250\n",
            "89/89 [==============================] - 16s 175ms/step - loss: 2.4125 - acc: 0.2172 - val_loss: 2.6305 - val_acc: 0.1659\n",
            "Epoch 155/250\n",
            "89/89 [==============================] - 16s 172ms/step - loss: 2.4229 - acc: 0.2094 - val_loss: 2.6169 - val_acc: 0.1789\n",
            "Epoch 156/250\n",
            "89/89 [==============================] - 16s 172ms/step - loss: 2.4339 - acc: 0.2229 - val_loss: 2.6519 - val_acc: 0.1681\n",
            "Epoch 157/250\n",
            "89/89 [==============================] - 17s 186ms/step - loss: 2.3967 - acc: 0.2172 - val_loss: 2.6218 - val_acc: 0.1724\n",
            "Epoch 158/250\n",
            "89/89 [==============================] - 16s 172ms/step - loss: 2.4095 - acc: 0.2236 - val_loss: 2.6441 - val_acc: 0.1746\n",
            "Epoch 159/250\n",
            "89/89 [==============================] - 16s 174ms/step - loss: 2.4203 - acc: 0.2207 - val_loss: 2.6333 - val_acc: 0.1746\n",
            "Epoch 160/250\n",
            "89/89 [==============================] - 16s 173ms/step - loss: 2.4199 - acc: 0.2108 - val_loss: 2.6520 - val_acc: 0.1703\n",
            "Epoch 161/250\n",
            "89/89 [==============================] - 16s 171ms/step - loss: 2.4133 - acc: 0.2051 - val_loss: 2.6357 - val_acc: 0.1703\n",
            "Epoch 162/250\n",
            "89/89 [==============================] - 16s 170ms/step - loss: 2.4164 - acc: 0.2150 - val_loss: 2.6441 - val_acc: 0.1703\n",
            "Epoch 163/250\n",
            "89/89 [==============================] - 16s 172ms/step - loss: 2.4249 - acc: 0.2101 - val_loss: 2.6470 - val_acc: 0.1724\n",
            "Epoch 164/250\n",
            "89/89 [==============================] - 16s 170ms/step - loss: 2.4392 - acc: 0.2207 - val_loss: 2.6522 - val_acc: 0.1724\n",
            "Epoch 165/250\n",
            "89/89 [==============================] - 16s 172ms/step - loss: 2.3817 - acc: 0.2292 - val_loss: 2.6435 - val_acc: 0.1681\n",
            "Epoch 166/250\n",
            "89/89 [==============================] - 16s 172ms/step - loss: 2.4245 - acc: 0.2122 - val_loss: 2.6505 - val_acc: 0.1703\n",
            "Epoch 167/250\n",
            "89/89 [==============================] - 16s 174ms/step - loss: 2.4258 - acc: 0.2136 - val_loss: 2.6416 - val_acc: 0.1724\n",
            "Epoch 168/250\n",
            "89/89 [==============================] - 16s 173ms/step - loss: 2.4159 - acc: 0.2129 - val_loss: 2.6422 - val_acc: 0.1724\n",
            "Epoch 169/250\n",
            "89/89 [==============================] - 16s 172ms/step - loss: 2.4394 - acc: 0.2051 - val_loss: 2.6430 - val_acc: 0.1659\n",
            "Epoch 170/250\n",
            "89/89 [==============================] - 16s 172ms/step - loss: 2.4185 - acc: 0.2236 - val_loss: 2.6435 - val_acc: 0.1746\n",
            "Epoch 171/250\n",
            "89/89 [==============================] - 16s 171ms/step - loss: 2.3904 - acc: 0.2094 - val_loss: 2.6332 - val_acc: 0.1703\n",
            "Epoch 172/250\n",
            "89/89 [==============================] - 16s 172ms/step - loss: 2.4165 - acc: 0.2023 - val_loss: 2.6310 - val_acc: 0.1659\n",
            "Epoch 173/250\n",
            "89/89 [==============================] - 17s 181ms/step - loss: 2.3739 - acc: 0.2236 - val_loss: 2.6385 - val_acc: 0.1703\n",
            "Epoch 174/250\n",
            "89/89 [==============================] - 17s 177ms/step - loss: 2.4165 - acc: 0.2030 - val_loss: 2.6417 - val_acc: 0.1724\n",
            "Epoch 175/250\n",
            "89/89 [==============================] - 16s 172ms/step - loss: 2.4145 - acc: 0.2229 - val_loss: 2.6533 - val_acc: 0.1681\n",
            "Epoch 176/250\n",
            "89/89 [==============================] - 16s 172ms/step - loss: 2.3975 - acc: 0.2186 - val_loss: 2.6336 - val_acc: 0.1789\n",
            "Epoch 177/250\n",
            "89/89 [==============================] - 16s 172ms/step - loss: 2.3702 - acc: 0.2009 - val_loss: 2.6659 - val_acc: 0.1724\n",
            "Epoch 178/250\n",
            "89/89 [==============================] - 16s 172ms/step - loss: 2.4039 - acc: 0.2150 - val_loss: 2.6400 - val_acc: 0.1767\n",
            "Epoch 179/250\n",
            "89/89 [==============================] - 16s 174ms/step - loss: 2.4038 - acc: 0.2058 - val_loss: 2.6380 - val_acc: 0.1767\n",
            "Epoch 180/250\n",
            "89/89 [==============================] - 16s 172ms/step - loss: 2.3923 - acc: 0.2300 - val_loss: 2.6628 - val_acc: 0.1638\n",
            "Epoch 181/250\n",
            "89/89 [==============================] - 16s 173ms/step - loss: 2.3890 - acc: 0.2243 - val_loss: 2.6644 - val_acc: 0.1703\n",
            "Epoch 182/250\n",
            "89/89 [==============================] - 16s 171ms/step - loss: 2.3882 - acc: 0.2093 - val_loss: 2.6458 - val_acc: 0.1724\n",
            "Epoch 183/250\n",
            "89/89 [==============================] - 16s 173ms/step - loss: 2.3606 - acc: 0.2214 - val_loss: 2.6561 - val_acc: 0.1659\n",
            "Epoch 184/250\n",
            "89/89 [==============================] - 16s 176ms/step - loss: 2.4385 - acc: 0.2108 - val_loss: 2.6395 - val_acc: 0.1789\n",
            "Epoch 185/250\n",
            "89/89 [==============================] - 16s 170ms/step - loss: 2.4029 - acc: 0.2236 - val_loss: 2.6450 - val_acc: 0.1746\n",
            "Epoch 186/250\n",
            "89/89 [==============================] - 16s 173ms/step - loss: 2.4216 - acc: 0.2200 - val_loss: 2.6496 - val_acc: 0.1767\n",
            "Epoch 187/250\n",
            "89/89 [==============================] - 16s 174ms/step - loss: 2.3895 - acc: 0.2065 - val_loss: 2.6384 - val_acc: 0.1703\n",
            "Epoch 188/250\n",
            "89/89 [==============================] - 16s 174ms/step - loss: 2.3817 - acc: 0.2278 - val_loss: 2.6365 - val_acc: 0.1767\n",
            "Epoch 189/250\n",
            "89/89 [==============================] - 18s 194ms/step - loss: 2.4127 - acc: 0.2058 - val_loss: 2.6574 - val_acc: 0.1724\n",
            "Epoch 190/250\n",
            "89/89 [==============================] - 16s 172ms/step - loss: 2.3886 - acc: 0.2214 - val_loss: 2.6458 - val_acc: 0.1746\n",
            "Epoch 191/250\n",
            "89/89 [==============================] - 16s 172ms/step - loss: 2.3940 - acc: 0.2172 - val_loss: 2.6369 - val_acc: 0.1789\n",
            "Epoch 192/250\n",
            "89/89 [==============================] - 16s 173ms/step - loss: 2.3942 - acc: 0.2143 - val_loss: 2.6530 - val_acc: 0.1638\n",
            "Epoch 193/250\n",
            "89/89 [==============================] - 16s 175ms/step - loss: 2.4131 - acc: 0.2186 - val_loss: 2.6386 - val_acc: 0.1789\n",
            "Epoch 194/250\n",
            "89/89 [==============================] - 17s 181ms/step - loss: 2.3967 - acc: 0.2214 - val_loss: 2.6190 - val_acc: 0.1746\n",
            "Epoch 195/250\n",
            "89/89 [==============================] - 17s 182ms/step - loss: 2.4217 - acc: 0.2030 - val_loss: 2.6614 - val_acc: 0.1681\n",
            "Epoch 196/250\n",
            "89/89 [==============================] - 17s 178ms/step - loss: 2.4125 - acc: 0.2136 - val_loss: 2.6389 - val_acc: 0.1724\n",
            "Epoch 197/250\n",
            "89/89 [==============================] - 17s 180ms/step - loss: 2.3617 - acc: 0.2172 - val_loss: 2.6184 - val_acc: 0.1746\n",
            "Epoch 198/250\n",
            "89/89 [==============================] - 16s 178ms/step - loss: 2.4064 - acc: 0.2044 - val_loss: 2.6299 - val_acc: 0.1767\n",
            "Epoch 199/250\n",
            "89/89 [==============================] - 16s 177ms/step - loss: 2.3773 - acc: 0.2186 - val_loss: 2.6269 - val_acc: 0.1703\n",
            "Epoch 200/250\n",
            "89/89 [==============================] - 16s 177ms/step - loss: 2.3765 - acc: 0.2179 - val_loss: 2.6474 - val_acc: 0.1832\n",
            "Epoch 201/250\n",
            "89/89 [==============================] - 16s 178ms/step - loss: 2.4101 - acc: 0.1994 - val_loss: 2.6277 - val_acc: 0.1789\n",
            "Epoch 202/250\n",
            "89/89 [==============================] - 16s 175ms/step - loss: 2.3639 - acc: 0.2328 - val_loss: 2.6260 - val_acc: 0.1789\n",
            "Epoch 203/250\n",
            "89/89 [==============================] - 17s 179ms/step - loss: 2.3754 - acc: 0.1994 - val_loss: 2.6222 - val_acc: 0.1810\n",
            "Epoch 204/250\n",
            "89/89 [==============================] - 18s 204ms/step - loss: 2.3907 - acc: 0.2122 - val_loss: 2.6501 - val_acc: 0.1767\n",
            "Epoch 205/250\n",
            "89/89 [==============================] - 16s 178ms/step - loss: 2.4354 - acc: 0.2158 - val_loss: 2.6306 - val_acc: 0.1832\n",
            "Epoch 206/250\n",
            "89/89 [==============================] - 16s 175ms/step - loss: 2.3793 - acc: 0.2292 - val_loss: 2.6402 - val_acc: 0.1767\n",
            "Epoch 207/250\n",
            "89/89 [==============================] - 16s 175ms/step - loss: 2.3763 - acc: 0.2193 - val_loss: 2.6223 - val_acc: 0.1789\n",
            "Epoch 208/250\n",
            "89/89 [==============================] - 16s 176ms/step - loss: 2.3627 - acc: 0.2200 - val_loss: 2.6292 - val_acc: 0.1810\n",
            "Epoch 209/250\n",
            "89/89 [==============================] - 16s 176ms/step - loss: 2.3770 - acc: 0.2150 - val_loss: 2.6262 - val_acc: 0.1810\n",
            "Epoch 210/250\n",
            "89/89 [==============================] - 16s 176ms/step - loss: 2.3966 - acc: 0.2016 - val_loss: 2.6474 - val_acc: 0.1724\n",
            "Epoch 211/250\n",
            "89/89 [==============================] - 16s 175ms/step - loss: 2.4111 - acc: 0.2214 - val_loss: 2.6473 - val_acc: 0.1789\n",
            "Epoch 212/250\n",
            "89/89 [==============================] - 16s 178ms/step - loss: 2.3674 - acc: 0.1973 - val_loss: 2.6381 - val_acc: 0.1681\n",
            "Epoch 213/250\n",
            "89/89 [==============================] - 17s 180ms/step - loss: 2.3983 - acc: 0.2030 - val_loss: 2.6515 - val_acc: 0.1681\n",
            "Epoch 214/250\n",
            "89/89 [==============================] - 17s 179ms/step - loss: 2.3943 - acc: 0.2030 - val_loss: 2.6380 - val_acc: 0.1832\n",
            "Epoch 215/250\n",
            "89/89 [==============================] - 17s 178ms/step - loss: 2.3801 - acc: 0.2172 - val_loss: 2.6365 - val_acc: 0.1767\n",
            "Epoch 216/250\n",
            "89/89 [==============================] - 16s 177ms/step - loss: 2.3771 - acc: 0.2243 - val_loss: 2.6591 - val_acc: 0.1746\n",
            "Epoch 217/250\n",
            "89/89 [==============================] - 16s 177ms/step - loss: 2.3625 - acc: 0.2186 - val_loss: 2.6485 - val_acc: 0.1789\n",
            "Epoch 218/250\n",
            "89/89 [==============================] - 18s 197ms/step - loss: 2.3946 - acc: 0.2250 - val_loss: 2.6575 - val_acc: 0.1810\n",
            "Epoch 219/250\n",
            "89/89 [==============================] - 16s 175ms/step - loss: 2.3702 - acc: 0.2143 - val_loss: 2.6478 - val_acc: 0.1767\n",
            "Epoch 220/250\n",
            "89/89 [==============================] - 16s 177ms/step - loss: 2.3703 - acc: 0.2307 - val_loss: 2.6316 - val_acc: 0.1789\n",
            "Epoch 221/250\n",
            "89/89 [==============================] - 17s 179ms/step - loss: 2.3501 - acc: 0.2278 - val_loss: 2.6380 - val_acc: 0.1746\n",
            "Epoch 222/250\n",
            "89/89 [==============================] - 16s 177ms/step - loss: 2.3517 - acc: 0.2250 - val_loss: 2.6512 - val_acc: 0.1703\n",
            "Epoch 223/250\n",
            "89/89 [==============================] - 17s 179ms/step - loss: 2.3452 - acc: 0.2236 - val_loss: 2.6485 - val_acc: 0.1746\n",
            "Epoch 224/250\n",
            "89/89 [==============================] - 17s 179ms/step - loss: 2.3124 - acc: 0.2314 - val_loss: 2.6523 - val_acc: 0.1746\n",
            "Epoch 225/250\n",
            "89/89 [==============================] - 16s 177ms/step - loss: 2.3501 - acc: 0.2094 - val_loss: 2.6589 - val_acc: 0.1767\n",
            "Epoch 226/250\n",
            "89/89 [==============================] - 17s 181ms/step - loss: 2.3687 - acc: 0.2136 - val_loss: 2.6298 - val_acc: 0.1767\n",
            "Epoch 227/250\n",
            "89/89 [==============================] - 17s 183ms/step - loss: 2.3531 - acc: 0.2335 - val_loss: 2.6420 - val_acc: 0.1767\n",
            "Epoch 228/250\n",
            "89/89 [==============================] - 17s 185ms/step - loss: 2.3871 - acc: 0.2264 - val_loss: 2.6459 - val_acc: 0.1767\n",
            "Epoch 229/250\n",
            "89/89 [==============================] - 17s 179ms/step - loss: 2.3605 - acc: 0.2264 - val_loss: 2.6275 - val_acc: 0.1724\n",
            "Epoch 230/250\n",
            "89/89 [==============================] - 17s 181ms/step - loss: 2.3472 - acc: 0.2292 - val_loss: 2.6557 - val_acc: 0.1724\n",
            "Epoch 231/250\n",
            "89/89 [==============================] - 17s 181ms/step - loss: 2.3634 - acc: 0.2221 - val_loss: 2.6577 - val_acc: 0.1832\n",
            "Epoch 232/250\n",
            "89/89 [==============================] - 18s 200ms/step - loss: 2.3703 - acc: 0.2179 - val_loss: 2.6550 - val_acc: 0.1832\n",
            "Epoch 233/250\n",
            "89/89 [==============================] - 16s 177ms/step - loss: 2.3661 - acc: 0.2264 - val_loss: 2.6496 - val_acc: 0.1681\n",
            "Epoch 234/250\n",
            "89/89 [==============================] - 17s 178ms/step - loss: 2.3525 - acc: 0.2200 - val_loss: 2.6478 - val_acc: 0.1810\n",
            "Epoch 235/250\n",
            "89/89 [==============================] - 16s 175ms/step - loss: 2.3385 - acc: 0.2399 - val_loss: 2.6507 - val_acc: 0.1638\n",
            "Epoch 236/250\n",
            "89/89 [==============================] - 16s 178ms/step - loss: 2.3291 - acc: 0.2172 - val_loss: 2.6335 - val_acc: 0.1746\n",
            "Epoch 237/250\n",
            "89/89 [==============================] - 16s 175ms/step - loss: 2.3704 - acc: 0.2150 - val_loss: 2.6512 - val_acc: 0.1724\n",
            "Epoch 238/250\n",
            "89/89 [==============================] - 16s 176ms/step - loss: 2.3694 - acc: 0.2406 - val_loss: 2.6564 - val_acc: 0.1746\n",
            "Epoch 239/250\n",
            "89/89 [==============================] - 16s 177ms/step - loss: 2.3319 - acc: 0.2300 - val_loss: 2.6667 - val_acc: 0.1767\n",
            "Epoch 240/250\n",
            "89/89 [==============================] - 16s 175ms/step - loss: 2.3358 - acc: 0.2349 - val_loss: 2.6460 - val_acc: 0.1789\n",
            "Epoch 241/250\n",
            "89/89 [==============================] - 16s 177ms/step - loss: 2.3461 - acc: 0.2335 - val_loss: 2.6643 - val_acc: 0.1789\n",
            "Epoch 242/250\n",
            "89/89 [==============================] - 17s 179ms/step - loss: 2.3313 - acc: 0.2207 - val_loss: 2.6495 - val_acc: 0.1746\n",
            "Epoch 243/250\n",
            "89/89 [==============================] - 17s 179ms/step - loss: 2.3899 - acc: 0.2058 - val_loss: 2.6596 - val_acc: 0.1767\n",
            "Epoch 244/250\n",
            "89/89 [==============================] - 17s 179ms/step - loss: 2.3779 - acc: 0.2198 - val_loss: 2.6616 - val_acc: 0.1767\n",
            "Epoch 245/250\n",
            "89/89 [==============================] - 16s 176ms/step - loss: 2.3183 - acc: 0.2229 - val_loss: 2.6633 - val_acc: 0.1767\n",
            "Epoch 246/250\n",
            "89/89 [==============================] - 16s 178ms/step - loss: 2.3574 - acc: 0.2236 - val_loss: 2.6594 - val_acc: 0.1810\n",
            "Epoch 247/250\n",
            "89/89 [==============================] - 16s 179ms/step - loss: 2.3262 - acc: 0.2441 - val_loss: 2.6519 - val_acc: 0.1724\n",
            "Epoch 248/250\n",
            "89/89 [==============================] - 16s 176ms/step - loss: 2.3710 - acc: 0.2271 - val_loss: 2.6771 - val_acc: 0.1703\n",
            "Epoch 249/250\n",
            "89/89 [==============================] - 16s 177ms/step - loss: 2.3268 - acc: 0.2307 - val_loss: 2.6774 - val_acc: 0.1724\n",
            "Epoch 250/250\n",
            "89/89 [==============================] - 16s 183ms/step - loss: 2.3448 - acc: 0.2207 - val_loss: 2.6625 - val_acc: 0.1746\n"
          ]
        }
      ]
    },
    {
      "cell_type": "code",
      "source": [
        "acc = history.history['acc']\n",
        "val_acc = history.history['val_acc']\n",
        "loss = history.history['loss']\n",
        "val_loss = history.history['val_loss']\n",
        "\n",
        "epochs_x = range(len(acc))\n",
        "\n",
        "plt.plot(epochs_x, acc, 'co', label='Training acc')\n",
        "plt.plot(epochs_x, val_acc, 'k', label='Validation acc')\n",
        "plt.title('Training and validation accuracy')\n",
        "plt.legend()\n",
        "\n",
        "plt.figure()\n",
        "\n",
        "plt.plot(epochs_x, loss, 'co', label='Training loss')\n",
        "plt.plot(epochs_x, val_loss, 'k', label='Validation loss')\n",
        "plt.title('Training and validation loss')\n",
        "plt.legend()\n",
        "\n",
        "plt.show()"
      ],
      "metadata": {
        "id": "kwylTJpTP5XI",
        "colab": {
          "base_uri": "https://localhost:8080/",
          "height": 545
        },
        "outputId": "6260c2b6-bd4e-4b5e-a057-3513a32d6adb"
      },
      "execution_count": 13,
      "outputs": [
        {
          "output_type": "display_data",
          "data": {
            "text/plain": [
              "<Figure size 432x288 with 1 Axes>"
            ],
            "image/png": "[encoded data removed]"
          },
          "metadata": {
            "needs_background": "light"
          }
        },
        {
          "output_type": "display_data",
          "data": {
            "text/plain": [
              "<Figure size 432x288 with 1 Axes>"
            ],
            "image/png": "[encoded data removed]"
          },
          "metadata": {
            "needs_background": "light"
          }
        }
      ]
    },
    {
      "cell_type": "markdown",
      "source": [
        "#Download the model"
      ],
      "metadata": {
        "id": "lD-vKaoHQAFd"
      }
    },
    {
      "cell_type": "code",
      "source": [
        "os.makedirs('/content/drive/My Drive/cut_panoramic/Model', exist_ok=True)\n",
        "model.save('/content/drive/My Drive/cut_panoramic/Model/22_รอบที่2_Flimpano_Male125_250.h5')"
      ],
      "metadata": {
        "id": "74dL7-HLP_Sh"
      },
      "execution_count": 14,
      "outputs": []
    },
    {
      "cell_type": "code",
      "source": [
        "# from google.colab import files\n",
        "# files.download('/content/drive/My Drive/cut_panoramic/Model/2.2_รอบที่2_Flimpano_Male125_250.h5')"
      ],
      "metadata": {
        "id": "qcPW-brHQDpc",
        "colab": {
          "base_uri": "https://localhost:8080/",
          "height": 17
        },
        "outputId": "6b3fd75c-2e61-4741-a452-8db534fc50c5"
      },
      "execution_count": null,
      "outputs": [
        {
          "output_type": "display_data",
          "data": {
            "text/plain": [
              "<IPython.core.display.Javascript object>"
            ],
            "application/javascript": [
              "\n",
              "    async function download(id, filename, size) {\n",
              "      if (!google.colab.kernel.accessAllowed) {\n",
              "        return;\n",
              "      }\n",
              "      const div = document.createElement('div');\n",
              "      const label = document.createElement('label');\n",
              "      label.textContent = `Downloading \"${filename}\": `;\n",
              "      div.appendChild(label);\n",
              "      const progress = document.createElement('progress');\n",
              "      progress.max = size;\n",
              "      div.appendChild(progress);\n",
              "      document.body.appendChild(div);\n",
              "\n",
              "      const buffers = [];\n",
              "      let downloaded = 0;\n",
              "\n",
              "      const channel = await google.colab.kernel.comms.open(id);\n",
              "      // Send a message to notify the kernel that we're ready.\n",
              "      channel.send({})\n",
              "\n",
              "      for await (const message of channel.messages) {\n",
              "        // Send a message to notify the kernel that we're ready.\n",
              "        channel.send({})\n",
              "        if (message.buffers) {\n",
              "          for (const buffer of message.buffers) {\n",
              "            buffers.push(buffer);\n",
              "            downloaded += buffer.byteLength;\n",
              "            progress.value = downloaded;\n",
              "          }\n",
              "        }\n",
              "      }\n",
              "      const blob = new Blob(buffers, {type: 'application/binary'});\n",
              "      const a = document.createElement('a');\n",
              "      a.href = window.URL.createObjectURL(blob);\n",
              "      a.download = filename;\n",
              "      div.appendChild(a);\n",
              "      a.click();\n",
              "      div.remove();\n",
              "    }\n",
              "  "
            ]
          },
          "metadata": {}
        },
        {
          "output_type": "display_data",
          "data": {
            "text/plain": [
              "<IPython.core.display.Javascript object>"
            ],
            "application/javascript": [
              "download(\"download_0acac997-7549-4b63-8c46-8b48d08ab24d\", \"2.2_\\u0e23\\u0e2d\\u0e1a\\u0e17\\u0e35\\u0e482_Flimpano_Male125_250.h5\", 16778384)"
            ]
          },
          "metadata": {}
        }
      ]
    }
  ]
}