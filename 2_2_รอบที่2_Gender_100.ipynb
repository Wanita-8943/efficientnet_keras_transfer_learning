{
  "nbformat": 4,
  "nbformat_minor": 0,
  "metadata": {
    "colab": {
      "provenance": [],
      "include_colab_link": true
    },
    "kernelspec": {
      "name": "python3",
      "display_name": "Python 3"
    },
    "language_info": {
      "name": "python"
    }
  },
  "cells": [
    {
      "cell_type": "markdown",
      "metadata": {
        "id": "view-in-github",
        "colab_type": "text"
      },
      "source": [
        "<a href=\"https://colab.research.google.com/github/Wanita-8943/efficientnet_keras_transfer_learning/blob/master/2_2_%E0%B8%A3%E0%B8%AD%E0%B8%9A%E0%B8%97%E0%B8%B5%E0%B9%882_Gender_100.ipynb\" target=\"_parent\"><img src=\"https://colab.research.google.com/assets/colab-badge.svg\" alt=\"Open In Colab\"/></a>"
      ]
    },
    {
      "cell_type": "code",
      "execution_count": 1,
      "metadata": {
        "id": "KKSs7cyoPHcD"
      },
      "outputs": [],
      "source": [
        "import pandas as pd\n",
        "import shutil"
      ]
    },
    {
      "cell_type": "code",
      "source": [
        "from google.colab import drive\n",
        "drive.mount('/content/drive')"
      ],
      "metadata": {
        "colab": {
          "base_uri": "https://localhost:8080/"
        },
        "id": "Klm1B91QlvKd",
        "outputId": "4e7bdbe6-981a-44d6-d87c-c98b52b2342d"
      },
      "execution_count": 2,
      "outputs": [
        {
          "output_type": "stream",
          "name": "stdout",
          "text": [
            "Mounted at /content/drive\n"
          ]
        }
      ]
    },
    {
      "cell_type": "code",
      "source": [
        "from tensorflow.keras import models\n",
        "from tensorflow.keras import layers\n",
        "from tensorflow.keras import optimizers\n",
        "import os\n",
        "import glob\n",
        "import shutil\n",
        "import sys\n",
        "import numpy as np\n",
        "from skimage.io import imread\n",
        "import matplotlib.pyplot as plt\n",
        "from IPython.display import Image\n",
        "%matplotlib inline"
      ],
      "metadata": {
        "id": "1pX9g1HxPM2f"
      },
      "execution_count": 3,
      "outputs": []
    },
    {
      "cell_type": "code",
      "source": [
        "batch_size = 16\n",
        "width = 150\n",
        "height = 150\n",
        "epochs = 100\n",
        "NUM_TRAIN = 2850\n",
        "NUM_TEST = 950\n",
        "dropout_rate = 0.2\n",
        "input_shape = (height, width, 3)"
      ],
      "metadata": {
        "id": "eSFtvGyvPM6O"
      },
      "execution_count": 4,
      "outputs": []
    },
    {
      "cell_type": "code",
      "source": [
        "#ดึงข้อมูลใน Github มาใช้\n",
        "import os\n",
        "%cd /content\n",
        "if not os.path.isdir(\"efficientnet_keras_transfer_learning\"):\n",
        " !git clone https://github.com/Wanita-8943/efficientnet_keras_transfer_learning\n",
        "%cd efficientnet_keras_transfer_learning/"
      ],
      "metadata": {
        "colab": {
          "base_uri": "https://localhost:8080/"
        },
        "id": "lb4K4CsMPNAW",
        "outputId": "f0721f93-70a7-42f1-8ec8-f1e85a681e2b"
      },
      "execution_count": 5,
      "outputs": [
        {
          "output_type": "stream",
          "name": "stdout",
          "text": [
            "/content\n",
            "Cloning into 'efficientnet_keras_transfer_learning'...\n",
            "remote: Enumerating objects: 594, done.\u001b[K\n",
            "remote: Counting objects: 100% (410/410), done.\u001b[K\n",
            "remote: Compressing objects: 100% (211/211), done.\u001b[K\n",
            "remote: Total 594 (delta 280), reused 267 (delta 199), pack-reused 184\u001b[K\n",
            "Receiving objects: 100% (594/594), 10.96 MiB | 20.53 MiB/s, done.\n",
            "Resolving deltas: 100% (353/353), done.\n",
            "/content/efficientnet_keras_transfer_learning\n"
          ]
        }
      ]
    },
    {
      "cell_type": "code",
      "source": [
        "# Options: EfficientNetB0, EfficientNetB1, EfficientNetB2, EfficientNetB3\n",
        "# Higher the number, the more complex the model is.\n",
        "from efficientnet import EfficientNetB0 as Net\n",
        "from efficientnet import center_crop_and_resize, preprocess_input"
      ],
      "metadata": {
        "id": "eyBg0dLKPND3"
      },
      "execution_count": 6,
      "outputs": []
    },
    {
      "cell_type": "code",
      "source": [
        "base_dir = '/content/drive/MyDrive/TVT_Gender'\n",
        "os.makedirs(base_dir, exist_ok=True)\n",
        "\n",
        "# Directories for our training,\n",
        "# validation and test splits\n",
        "train_dir = os.path.join(base_dir, 'train')\n",
        "os.makedirs(train_dir, exist_ok=True)\n",
        "validation_dir = os.path.join(base_dir, 'validation')\n",
        "os.makedirs(validation_dir, exist_ok=True)\n",
        "test_dir = os.path.join(base_dir, 'test')\n",
        "os.makedirs(test_dir, exist_ok=True)"
      ],
      "metadata": {
        "id": "Jwpq_-KvPef8"
      },
      "execution_count": 7,
      "outputs": []
    },
    {
      "cell_type": "markdown",
      "source": [
        "#load model"
      ],
      "metadata": {
        "id": "od-ZSNm5PoGy"
      }
    },
    {
      "cell_type": "code",
      "source": [
        "import sys\n",
        "sys.path.append('/content/drive/MyDrive/cut_panoramic/Model/1.1_รอบแรก_Gender_100.h5')\n",
        "\n",
        "from efficientnet.layers import Swish, DropConnect\n",
        "from efficientnet.model import ConvKernalInitializer\n",
        "from tensorflow.keras.utils import get_custom_objects\n",
        "\n",
        "get_custom_objects().update({\n",
        "    'ConvKernalInitializer': ConvKernalInitializer,\n",
        "    'Swish': Swish,\n",
        "    'DropConnect':DropConnect\n",
        "})"
      ],
      "metadata": {
        "id": "n5iPL5MNPkhE"
      },
      "execution_count": 8,
      "outputs": []
    },
    {
      "cell_type": "code",
      "source": [
        "#load model \n",
        "from tensorflow.keras.models import load_model\n",
        "model = load_model('/content/drive/MyDrive/cut_panoramic/Model/1.1_รอบแรก_Gender_100.h5')\n",
        "height = width = model.input_shape[1]"
      ],
      "metadata": {
        "id": "plYz49xMPkly"
      },
      "execution_count": 9,
      "outputs": []
    },
    {
      "cell_type": "code",
      "source": [
        "model.summary()"
      ],
      "metadata": {
        "colab": {
          "base_uri": "https://localhost:8080/"
        },
        "id": "z6IOPBflFbvc",
        "outputId": "44f0eaa5-6e7c-474a-f813-b91ad546e598"
      },
      "execution_count": 10,
      "outputs": [
        {
          "output_type": "stream",
          "name": "stdout",
          "text": [
            "Model: \"sequential\"\n",
            "_________________________________________________________________\n",
            " Layer (type)                Output Shape              Param #   \n",
            "=================================================================\n",
            " efficientnet-b0 (Functional  (None, 5, 5, 1280)       4049564   \n",
            " )                                                               \n",
            "                                                                 \n",
            " gap (GlobalMaxPooling2D)    (None, 1280)              0         \n",
            "                                                                 \n",
            " dropout_out (Dropout)       (None, 1280)              0         \n",
            "                                                                 \n",
            " fc_out (Dense)              (None, 2)                 2562      \n",
            "                                                                 \n",
            "=================================================================\n",
            "Total params: 4,052,126\n",
            "Trainable params: 2,562\n",
            "Non-trainable params: 4,049,564\n",
            "_________________________________________________________________\n"
          ]
        }
      ]
    },
    {
      "cell_type": "code",
      "source": [
        "# Train ด้วย ImageDataGenerator ของ Keras ซึ่งจะเพิ่มข้อมูลเสริมระหว่างการฝึกเพื่อลดโอกาสเกิด overfitting\n",
        "#overfitting เกิดจากข้อมูลที่ซับซ้อนกันเกินไป\n",
        "from tensorflow.keras.preprocessing.image import ImageDataGenerator\n",
        "\n",
        "train_datagen = ImageDataGenerator(\n",
        "      rescale=1./255, #โมเดลส่วนใหญ่ต้องใช้ RGB ในช่วง 0–1\n",
        "      rotation_range=40,\n",
        "      width_shift_range=0.2,\n",
        "      height_shift_range=0.2,\n",
        "      shear_range=0.2,\n",
        "      zoom_range=0.2,\n",
        "      horizontal_flip=True,\n",
        "      fill_mode='nearest')\n",
        "\n",
        "# Note that the validation data should not be augmented!\n",
        "test_datagen = ImageDataGenerator(rescale=1./255)\n",
        "\n",
        "train_generator = train_datagen.flow_from_directory(\n",
        "        # This is the target directory #ไดเรกเป้าหมาย\n",
        "        train_dir,\n",
        "        # รูปภาพทั้งหมดจะถูกปรับขนาดตามความสูงและความกว้างของเป้าหมาย\n",
        "        target_size=(height, width),\n",
        "        batch_size=batch_size,\n",
        "        # Since we use categorical_crossentropy loss, we need categorical labels\n",
        "        #เนื่องจากเราใช้ categorical_crossentropy loss เราจึงต้องมีป้ายกำกับตามหมวดหมู่\n",
        "        class_mode='categorical')\n",
        "\n",
        "validation_generator = test_datagen.flow_from_directory( #การดึงภาพจาก Directory มาเข้าโมเดล \n",
        "        validation_dir,\n",
        "        target_size=(height, width),\n",
        "        batch_size=batch_size,\n",
        "        class_mode='categorical')"
      ],
      "metadata": {
        "colab": {
          "base_uri": "https://localhost:8080/"
        },
        "id": "KBMZbdr2Pgw4",
        "outputId": "a8799503-a2b9-4c74-c15b-202c6a536031"
      },
      "execution_count": 11,
      "outputs": [
        {
          "output_type": "stream",
          "name": "stdout",
          "text": [
            "Found 2850 images belonging to 2 classes.\n",
            "Found 950 images belonging to 2 classes.\n"
          ]
        }
      ]
    },
    {
      "cell_type": "code",
      "source": [
        "history = model.fit_generator(\n",
        "      train_generator,\n",
        "      steps_per_epoch= NUM_TRAIN //batch_size,\n",
        "      epochs=epochs,\n",
        "      validation_data=validation_generator,\n",
        "      validation_steps= NUM_TEST //batch_size,\n",
        "      verbose=1,\n",
        "      use_multiprocessing=True,\n",
        "      workers=4)"
      ],
      "metadata": {
        "colab": {
          "base_uri": "https://localhost:8080/"
        },
        "id": "C9Cf1dwyP1PD",
        "outputId": "73733d9b-1624-4fe9-ff88-48940d2b0f5f"
      },
      "execution_count": 12,
      "outputs": [
        {
          "output_type": "stream",
          "name": "stderr",
          "text": [
            "<ipython-input-12-caa7b37242a8>:1: UserWarning: `Model.fit_generator` is deprecated and will be removed in a future version. Please use `Model.fit`, which supports generators.\n",
            "  history = model.fit_generator(\n"
          ]
        },
        {
          "output_type": "stream",
          "name": "stdout",
          "text": [
            "Epoch 1/100\n",
            "178/178 [==============================] - 188s 942ms/step - loss: 0.7074 - acc: 0.6104 - val_loss: 0.5895 - val_acc: 0.6970\n",
            "Epoch 2/100\n",
            "178/178 [==============================] - 94s 522ms/step - loss: 0.6922 - acc: 0.6136 - val_loss: 0.5948 - val_acc: 0.6928\n",
            "Epoch 3/100\n",
            "178/178 [==============================] - 95s 525ms/step - loss: 0.6927 - acc: 0.6203 - val_loss: 0.5894 - val_acc: 0.6864\n",
            "Epoch 4/100\n",
            "178/178 [==============================] - 101s 560ms/step - loss: 0.7047 - acc: 0.6140 - val_loss: 0.5968 - val_acc: 0.6886\n",
            "Epoch 5/100\n",
            "178/178 [==============================] - 100s 559ms/step - loss: 0.6959 - acc: 0.6157 - val_loss: 0.6073 - val_acc: 0.6790\n",
            "Epoch 6/100\n",
            "178/178 [==============================] - 103s 571ms/step - loss: 0.6912 - acc: 0.6277 - val_loss: 0.6000 - val_acc: 0.6875\n",
            "Epoch 7/100\n",
            "178/178 [==============================] - 101s 560ms/step - loss: 0.6832 - acc: 0.6316 - val_loss: 0.6087 - val_acc: 0.6769\n",
            "Epoch 8/100\n",
            "178/178 [==============================] - 106s 589ms/step - loss: 0.6864 - acc: 0.6182 - val_loss: 0.5939 - val_acc: 0.6949\n",
            "Epoch 9/100\n",
            "178/178 [==============================] - 108s 600ms/step - loss: 0.6889 - acc: 0.6168 - val_loss: 0.6132 - val_acc: 0.6748\n",
            "Epoch 10/100\n",
            "178/178 [==============================] - 105s 582ms/step - loss: 0.6993 - acc: 0.6108 - val_loss: 0.5892 - val_acc: 0.6907\n",
            "Epoch 11/100\n",
            "178/178 [==============================] - 106s 589ms/step - loss: 0.7063 - acc: 0.6168 - val_loss: 0.5907 - val_acc: 0.6896\n",
            "Epoch 12/100\n",
            "178/178 [==============================] - 105s 583ms/step - loss: 0.6779 - acc: 0.6344 - val_loss: 0.5874 - val_acc: 0.6949\n",
            "Epoch 13/100\n",
            "178/178 [==============================] - 105s 580ms/step - loss: 0.6782 - acc: 0.6260 - val_loss: 0.5908 - val_acc: 0.6928\n",
            "Epoch 14/100\n",
            "178/178 [==============================] - 109s 605ms/step - loss: 0.6781 - acc: 0.6256 - val_loss: 0.6052 - val_acc: 0.6822\n",
            "Epoch 15/100\n",
            "178/178 [==============================] - 105s 585ms/step - loss: 0.6778 - acc: 0.6373 - val_loss: 0.5965 - val_acc: 0.6864\n",
            "Epoch 16/100\n",
            "178/178 [==============================] - 104s 576ms/step - loss: 0.6757 - acc: 0.6284 - val_loss: 0.6039 - val_acc: 0.6822\n",
            "Epoch 17/100\n",
            "178/178 [==============================] - 107s 593ms/step - loss: 0.6997 - acc: 0.6171 - val_loss: 0.6036 - val_acc: 0.6801\n",
            "Epoch 18/100\n",
            "178/178 [==============================] - 107s 592ms/step - loss: 0.6738 - acc: 0.6387 - val_loss: 0.5886 - val_acc: 0.6960\n",
            "Epoch 19/100\n",
            "178/178 [==============================] - 106s 587ms/step - loss: 0.6718 - acc: 0.6306 - val_loss: 0.6226 - val_acc: 0.6600\n",
            "Epoch 20/100\n",
            "178/178 [==============================] - 107s 595ms/step - loss: 0.6702 - acc: 0.6320 - val_loss: 0.6213 - val_acc: 0.6589\n",
            "Epoch 21/100\n",
            "178/178 [==============================] - 108s 603ms/step - loss: 0.6942 - acc: 0.6221 - val_loss: 0.6104 - val_acc: 0.6706\n",
            "Epoch 22/100\n",
            "178/178 [==============================] - 110s 612ms/step - loss: 0.6674 - acc: 0.6186 - val_loss: 0.5945 - val_acc: 0.6896\n",
            "Epoch 23/100\n",
            "178/178 [==============================] - 109s 603ms/step - loss: 0.6746 - acc: 0.6291 - val_loss: 0.5909 - val_acc: 0.6928\n",
            "Epoch 24/100\n",
            "178/178 [==============================] - 109s 603ms/step - loss: 0.6922 - acc: 0.6196 - val_loss: 0.5901 - val_acc: 0.6907\n",
            "Epoch 25/100\n",
            "178/178 [==============================] - 106s 587ms/step - loss: 0.6701 - acc: 0.6242 - val_loss: 0.5900 - val_acc: 0.6917\n",
            "Epoch 26/100\n",
            "178/178 [==============================] - 108s 599ms/step - loss: 0.6834 - acc: 0.6147 - val_loss: 0.5860 - val_acc: 0.6949\n",
            "Epoch 27/100\n",
            "178/178 [==============================] - 105s 587ms/step - loss: 0.6632 - acc: 0.6422 - val_loss: 0.5820 - val_acc: 0.6960\n",
            "Epoch 28/100\n",
            "178/178 [==============================] - 109s 605ms/step - loss: 0.6680 - acc: 0.6284 - val_loss: 0.6103 - val_acc: 0.6674\n",
            "Epoch 29/100\n",
            "178/178 [==============================] - 107s 594ms/step - loss: 0.6819 - acc: 0.6228 - val_loss: 0.6098 - val_acc: 0.6716\n",
            "Epoch 30/100\n",
            "178/178 [==============================] - 106s 588ms/step - loss: 0.6675 - acc: 0.6443 - val_loss: 0.5999 - val_acc: 0.6833\n",
            "Epoch 31/100\n",
            "178/178 [==============================] - 105s 586ms/step - loss: 0.6625 - acc: 0.6401 - val_loss: 0.5863 - val_acc: 0.6939\n",
            "Epoch 32/100\n",
            "178/178 [==============================] - 105s 583ms/step - loss: 0.6657 - acc: 0.6316 - val_loss: 0.5986 - val_acc: 0.6843\n",
            "Epoch 33/100\n",
            "178/178 [==============================] - 107s 594ms/step - loss: 0.6794 - acc: 0.6376 - val_loss: 0.5815 - val_acc: 0.6992\n",
            "Epoch 34/100\n",
            "178/178 [==============================] - 107s 597ms/step - loss: 0.6428 - acc: 0.6493 - val_loss: 0.5831 - val_acc: 0.6970\n",
            "Epoch 35/100\n",
            "178/178 [==============================] - 107s 596ms/step - loss: 0.6675 - acc: 0.6369 - val_loss: 0.5846 - val_acc: 0.6981\n",
            "Epoch 36/100\n",
            "178/178 [==============================] - 106s 591ms/step - loss: 0.6660 - acc: 0.6341 - val_loss: 0.5860 - val_acc: 0.6917\n",
            "Epoch 37/100\n",
            "178/178 [==============================] - 107s 591ms/step - loss: 0.6513 - acc: 0.6489 - val_loss: 0.5894 - val_acc: 0.6875\n",
            "Epoch 38/100\n",
            "178/178 [==============================] - 107s 594ms/step - loss: 0.6651 - acc: 0.6478 - val_loss: 0.5916 - val_acc: 0.6843\n",
            "Epoch 39/100\n",
            "178/178 [==============================] - 120s 667ms/step - loss: 0.6640 - acc: 0.6337 - val_loss: 0.5935 - val_acc: 0.6790\n",
            "Epoch 40/100\n",
            "178/178 [==============================] - 108s 600ms/step - loss: 0.6726 - acc: 0.6277 - val_loss: 0.5781 - val_acc: 0.6992\n",
            "Epoch 41/100\n",
            "178/178 [==============================] - 105s 584ms/step - loss: 0.6637 - acc: 0.6390 - val_loss: 0.6022 - val_acc: 0.6706\n",
            "Epoch 42/100\n",
            "178/178 [==============================] - 107s 597ms/step - loss: 0.6702 - acc: 0.6224 - val_loss: 0.5939 - val_acc: 0.6758\n",
            "Epoch 43/100\n",
            "178/178 [==============================] - 107s 597ms/step - loss: 0.6661 - acc: 0.6284 - val_loss: 0.5805 - val_acc: 0.6949\n",
            "Epoch 44/100\n",
            "178/178 [==============================] - 107s 595ms/step - loss: 0.6842 - acc: 0.6136 - val_loss: 0.5853 - val_acc: 0.6886\n",
            "Epoch 45/100\n",
            "178/178 [==============================] - 106s 589ms/step - loss: 0.6690 - acc: 0.6337 - val_loss: 0.5837 - val_acc: 0.6875\n",
            "Epoch 46/100\n",
            "178/178 [==============================] - 105s 584ms/step - loss: 0.6561 - acc: 0.6401 - val_loss: 0.5851 - val_acc: 0.6843\n",
            "Epoch 47/100\n",
            "178/178 [==============================] - 107s 593ms/step - loss: 0.6674 - acc: 0.6341 - val_loss: 0.5780 - val_acc: 0.6960\n",
            "Epoch 48/100\n",
            "178/178 [==============================] - 103s 576ms/step - loss: 0.6483 - acc: 0.6397 - val_loss: 0.5921 - val_acc: 0.6780\n",
            "Epoch 49/100\n",
            "178/178 [==============================] - 111s 614ms/step - loss: 0.6483 - acc: 0.6517 - val_loss: 0.6195 - val_acc: 0.6631\n",
            "Epoch 50/100\n",
            "178/178 [==============================] - 107s 593ms/step - loss: 0.6521 - acc: 0.6408 - val_loss: 0.5851 - val_acc: 0.6864\n",
            "Epoch 51/100\n",
            "178/178 [==============================] - 109s 607ms/step - loss: 0.6531 - acc: 0.6493 - val_loss: 0.5759 - val_acc: 0.6939\n",
            "Epoch 52/100\n",
            "178/178 [==============================] - 105s 581ms/step - loss: 0.6435 - acc: 0.6422 - val_loss: 0.5790 - val_acc: 0.6917\n",
            "Epoch 53/100\n",
            "178/178 [==============================] - 106s 590ms/step - loss: 0.6505 - acc: 0.6415 - val_loss: 0.5835 - val_acc: 0.6875\n",
            "Epoch 54/100\n",
            "178/178 [==============================] - 106s 588ms/step - loss: 0.6308 - acc: 0.6567 - val_loss: 0.5946 - val_acc: 0.6843\n",
            "Epoch 55/100\n",
            "178/178 [==============================] - 106s 587ms/step - loss: 0.6715 - acc: 0.6228 - val_loss: 0.5755 - val_acc: 0.6970\n",
            "Epoch 56/100\n",
            "178/178 [==============================] - 109s 604ms/step - loss: 0.6437 - acc: 0.6397 - val_loss: 0.5797 - val_acc: 0.6917\n",
            "Epoch 57/100\n",
            "178/178 [==============================] - 105s 585ms/step - loss: 0.6462 - acc: 0.6503 - val_loss: 0.5831 - val_acc: 0.6875\n",
            "Epoch 58/100\n",
            "178/178 [==============================] - 105s 584ms/step - loss: 0.6517 - acc: 0.6468 - val_loss: 0.5893 - val_acc: 0.6886\n",
            "Epoch 59/100\n",
            "178/178 [==============================] - 105s 581ms/step - loss: 0.6420 - acc: 0.6447 - val_loss: 0.5778 - val_acc: 0.6928\n",
            "Epoch 60/100\n",
            "178/178 [==============================] - 105s 586ms/step - loss: 0.6546 - acc: 0.6457 - val_loss: 0.5736 - val_acc: 0.6939\n",
            "Epoch 61/100\n",
            "178/178 [==============================] - 106s 591ms/step - loss: 0.6462 - acc: 0.6496 - val_loss: 0.5816 - val_acc: 0.6896\n",
            "Epoch 62/100\n",
            "178/178 [==============================] - 106s 591ms/step - loss: 0.6455 - acc: 0.6503 - val_loss: 0.5728 - val_acc: 0.6970\n",
            "Epoch 63/100\n",
            "178/178 [==============================] - 110s 609ms/step - loss: 0.6456 - acc: 0.6461 - val_loss: 0.5802 - val_acc: 0.6875\n",
            "Epoch 64/100\n",
            "178/178 [==============================] - 106s 591ms/step - loss: 0.6497 - acc: 0.6450 - val_loss: 0.5754 - val_acc: 0.6917\n",
            "Epoch 65/100\n",
            "178/178 [==============================] - 105s 585ms/step - loss: 0.6587 - acc: 0.6383 - val_loss: 0.5882 - val_acc: 0.6886\n",
            "Epoch 66/100\n",
            "178/178 [==============================] - 106s 590ms/step - loss: 0.6397 - acc: 0.6426 - val_loss: 0.5895 - val_acc: 0.6822\n",
            "Epoch 67/100\n",
            "178/178 [==============================] - 106s 589ms/step - loss: 0.6521 - acc: 0.6362 - val_loss: 0.5891 - val_acc: 0.6811\n",
            "Epoch 68/100\n",
            "178/178 [==============================] - 105s 584ms/step - loss: 0.6557 - acc: 0.6478 - val_loss: 0.5926 - val_acc: 0.6833\n",
            "Epoch 69/100\n",
            "178/178 [==============================] - 106s 589ms/step - loss: 0.6594 - acc: 0.6376 - val_loss: 0.5799 - val_acc: 0.6875\n",
            "Epoch 70/100\n",
            "178/178 [==============================] - 108s 600ms/step - loss: 0.6495 - acc: 0.6376 - val_loss: 0.5905 - val_acc: 0.6843\n",
            "Epoch 71/100\n",
            "178/178 [==============================] - 107s 593ms/step - loss: 0.6416 - acc: 0.6496 - val_loss: 0.5979 - val_acc: 0.6790\n",
            "Epoch 72/100\n",
            "178/178 [==============================] - 105s 582ms/step - loss: 0.6515 - acc: 0.6418 - val_loss: 0.6043 - val_acc: 0.6695\n",
            "Epoch 73/100\n",
            "178/178 [==============================] - 104s 580ms/step - loss: 0.6306 - acc: 0.6676 - val_loss: 0.5850 - val_acc: 0.6833\n",
            "Epoch 74/100\n",
            "178/178 [==============================] - 104s 579ms/step - loss: 0.6381 - acc: 0.6514 - val_loss: 0.5709 - val_acc: 0.7002\n",
            "Epoch 75/100\n",
            "178/178 [==============================] - 109s 602ms/step - loss: 0.6335 - acc: 0.6570 - val_loss: 0.5910 - val_acc: 0.6822\n",
            "Epoch 76/100\n",
            "178/178 [==============================] - 110s 611ms/step - loss: 0.6318 - acc: 0.6567 - val_loss: 0.5941 - val_acc: 0.6801\n",
            "Epoch 77/100\n",
            "178/178 [==============================] - 106s 591ms/step - loss: 0.6362 - acc: 0.6517 - val_loss: 0.5898 - val_acc: 0.6790\n",
            "Epoch 78/100\n",
            "178/178 [==============================] - 102s 566ms/step - loss: 0.6302 - acc: 0.6553 - val_loss: 0.5666 - val_acc: 0.7044\n",
            "Epoch 79/100\n",
            "178/178 [==============================] - 104s 575ms/step - loss: 0.6270 - acc: 0.6598 - val_loss: 0.5711 - val_acc: 0.6960\n",
            "Epoch 80/100\n",
            "178/178 [==============================] - 102s 565ms/step - loss: 0.6193 - acc: 0.6588 - val_loss: 0.5790 - val_acc: 0.6907\n",
            "Epoch 81/100\n",
            "178/178 [==============================] - 105s 582ms/step - loss: 0.6459 - acc: 0.6316 - val_loss: 0.5859 - val_acc: 0.6864\n",
            "Epoch 82/100\n",
            "178/178 [==============================] - 107s 596ms/step - loss: 0.6360 - acc: 0.6598 - val_loss: 0.5781 - val_acc: 0.6949\n",
            "Epoch 83/100\n",
            "178/178 [==============================] - 104s 580ms/step - loss: 0.6259 - acc: 0.6616 - val_loss: 0.5760 - val_acc: 0.6960\n",
            "Epoch 84/100\n",
            "178/178 [==============================] - 105s 584ms/step - loss: 0.6430 - acc: 0.6514 - val_loss: 0.5902 - val_acc: 0.6801\n",
            "Epoch 85/100\n",
            "178/178 [==============================] - 107s 593ms/step - loss: 0.6388 - acc: 0.6535 - val_loss: 0.5737 - val_acc: 0.6992\n",
            "Epoch 86/100\n",
            "178/178 [==============================] - 105s 580ms/step - loss: 0.6180 - acc: 0.6616 - val_loss: 0.6015 - val_acc: 0.6748\n",
            "Epoch 87/100\n",
            "178/178 [==============================] - 104s 575ms/step - loss: 0.6314 - acc: 0.6507 - val_loss: 0.5960 - val_acc: 0.6801\n",
            "Epoch 88/100\n",
            "178/178 [==============================] - 103s 569ms/step - loss: 0.6302 - acc: 0.6560 - val_loss: 0.5758 - val_acc: 0.6896\n",
            "Epoch 89/100\n",
            "178/178 [==============================] - 106s 590ms/step - loss: 0.6286 - acc: 0.6574 - val_loss: 0.6178 - val_acc: 0.6589\n",
            "Epoch 90/100\n",
            "178/178 [==============================] - 107s 593ms/step - loss: 0.6357 - acc: 0.6556 - val_loss: 0.5835 - val_acc: 0.6833\n",
            "Epoch 91/100\n",
            "178/178 [==============================] - 104s 576ms/step - loss: 0.6428 - acc: 0.6461 - val_loss: 0.5945 - val_acc: 0.6780\n",
            "Epoch 92/100\n",
            "178/178 [==============================] - 105s 581ms/step - loss: 0.6373 - acc: 0.6408 - val_loss: 0.5801 - val_acc: 0.6875\n",
            "Epoch 93/100\n",
            "178/178 [==============================] - 102s 565ms/step - loss: 0.6333 - acc: 0.6598 - val_loss: 0.5642 - val_acc: 0.7087\n",
            "Epoch 94/100\n",
            "178/178 [==============================] - 100s 556ms/step - loss: 0.6251 - acc: 0.6563 - val_loss: 0.5622 - val_acc: 0.7087\n",
            "Epoch 95/100\n",
            "178/178 [==============================] - 102s 564ms/step - loss: 0.6287 - acc: 0.6461 - val_loss: 0.5742 - val_acc: 0.6960\n",
            "Epoch 96/100\n",
            "178/178 [==============================] - 105s 583ms/step - loss: 0.6282 - acc: 0.6528 - val_loss: 0.5588 - val_acc: 0.7172\n",
            "Epoch 97/100\n",
            "178/178 [==============================] - 103s 571ms/step - loss: 0.6246 - acc: 0.6581 - val_loss: 0.5775 - val_acc: 0.6917\n",
            "Epoch 98/100\n",
            "178/178 [==============================] - 103s 570ms/step - loss: 0.6306 - acc: 0.6507 - val_loss: 0.5731 - val_acc: 0.6992\n",
            "Epoch 99/100\n",
            "178/178 [==============================] - 102s 569ms/step - loss: 0.6344 - acc: 0.6570 - val_loss: 0.5611 - val_acc: 0.7140\n",
            "Epoch 100/100\n",
            "178/178 [==============================] - 102s 567ms/step - loss: 0.6319 - acc: 0.6486 - val_loss: 0.5656 - val_acc: 0.7055\n"
          ]
        }
      ]
    },
    {
      "cell_type": "code",
      "source": [
        "acc = history.history['acc']\n",
        "val_acc = history.history['val_acc']\n",
        "loss = history.history['loss']\n",
        "val_loss = history.history['val_loss']\n",
        "\n",
        "epochs_x = range(len(acc))\n",
        "\n",
        "plt.plot(epochs_x, acc, 'go', label='Training acc')\n",
        "plt.plot(epochs_x, val_acc, 'k', label='Validation acc')\n",
        "plt.title('Training and validation accuracy')\n",
        "plt.legend()\n",
        "\n",
        "plt.figure()\n",
        "\n",
        "plt.plot(epochs_x, loss, 'go', label='Training loss')\n",
        "plt.plot(epochs_x, val_loss, 'k', label='Validation loss')\n",
        "plt.title('Training and validation loss')\n",
        "plt.legend()\n",
        "\n",
        "plt.show()"
      ],
      "metadata": {
        "id": "kwylTJpTP5XI",
        "colab": {
          "base_uri": "https://localhost:8080/",
          "height": 545
        },
        "outputId": "5a759e47-d169-4b55-a2d4-be507b6870fc"
      },
      "execution_count": 13,
      "outputs": [
        {
          "output_type": "display_data",
          "data": {
            "text/plain": [
              "<Figure size 432x288 with 1 Axes>"
            ],
            "image/png": "[encoded data removed]"
          },
          "metadata": {
            "needs_background": "light"
          }
        },
        {
          "output_type": "display_data",
          "data": {
            "text/plain": [
              "<Figure size 432x288 with 1 Axes>"
            ],
            "image/png": "[encoded data removed]"
          },
          "metadata": {
            "needs_background": "light"
          }
        }
      ]
    },
    {
      "cell_type": "markdown",
      "source": [
        "#Download the model"
      ],
      "metadata": {
        "id": "lD-vKaoHQAFd"
      }
    },
    {
      "cell_type": "code",
      "source": [
        "os.makedirs('/content/drive/My Drive/cut_panoramic/Model', exist_ok=True)\n",
        "model.save('/content/drive/My Drive/cut_panoramic/Model/2.2_รอบที่2_Gender_100.h5')"
      ],
      "metadata": {
        "id": "74dL7-HLP_Sh"
      },
      "execution_count": 14,
      "outputs": []
    },
    {
      "cell_type": "code",
      "source": [
        "from google.colab import files\n",
        "files.download('/content/drive/My Drive/cut_panoramic/Model/2.2_รอบที่2_Gender_100.h5')"
      ],
      "metadata": {
        "id": "qcPW-brHQDpc",
        "colab": {
          "base_uri": "https://localhost:8080/",
          "height": 17
        },
        "outputId": "799d4d21-f5c4-439c-de58-32fd7dfc0bab"
      },
      "execution_count": 15,
      "outputs": [
        {
          "output_type": "display_data",
          "data": {
            "text/plain": [
              "<IPython.core.display.Javascript object>"
            ],
            "application/javascript": [
              "\n",
              "    async function download(id, filename, size) {\n",
              "      if (!google.colab.kernel.accessAllowed) {\n",
              "        return;\n",
              "      }\n",
              "      const div = document.createElement('div');\n",
              "      const label = document.createElement('label');\n",
              "      label.textContent = `Downloading \"${filename}\": `;\n",
              "      div.appendChild(label);\n",
              "      const progress = document.createElement('progress');\n",
              "      progress.max = size;\n",
              "      div.appendChild(progress);\n",
              "      document.body.appendChild(div);\n",
              "\n",
              "      const buffers = [];\n",
              "      let downloaded = 0;\n",
              "\n",
              "      const channel = await google.colab.kernel.comms.open(id);\n",
              "      // Send a message to notify the kernel that we're ready.\n",
              "      channel.send({})\n",
              "\n",
              "      for await (const message of channel.messages) {\n",
              "        // Send a message to notify the kernel that we're ready.\n",
              "        channel.send({})\n",
              "        if (message.buffers) {\n",
              "          for (const buffer of message.buffers) {\n",
              "            buffers.push(buffer);\n",
              "            downloaded += buffer.byteLength;\n",
              "            progress.value = downloaded;\n",
              "          }\n",
              "        }\n",
              "      }\n",
              "      const blob = new Blob(buffers, {type: 'application/binary'});\n",
              "      const a = document.createElement('a');\n",
              "      a.href = window.URL.createObjectURL(blob);\n",
              "      a.download = filename;\n",
              "      div.appendChild(a);\n",
              "      a.click();\n",
              "      div.remove();\n",
              "    }\n",
              "  "
            ]
          },
          "metadata": {}
        },
        {
          "output_type": "display_data",
          "data": {
            "text/plain": [
              "<IPython.core.display.Javascript object>"
            ],
            "application/javascript": [
              "download(\"download_83d1ecf2-b81e-4f38-8341-65e3fcf72930\", \"2.2_\\u0e23\\u0e2d\\u0e1a\\u0e17\\u0e35\\u0e482_Gender_100.h5\", 16604304)"
            ]
          },
          "metadata": {}
        }
      ]
    },
    {
      "cell_type": "code",
      "source": [],
      "metadata": {
        "id": "r5WoXVo8mVpF"
      },
      "execution_count": 15,
      "outputs": []
    }
  ]
}