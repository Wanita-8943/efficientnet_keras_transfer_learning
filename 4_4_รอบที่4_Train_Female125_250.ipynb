{
  "nbformat": 4,
  "nbformat_minor": 0,
  "metadata": {
    "colab": {
      "provenance": [],
      "include_colab_link": true
    },
    "kernelspec": {
      "name": "python3",
      "display_name": "Python 3"
    },
    "language_info": {
      "name": "python"
    }
  },
  "cells": [
    {
      "cell_type": "markdown",
      "metadata": {
        "id": "view-in-github",
        "colab_type": "text"
      },
      "source": [
        "<a href=\"https://colab.research.google.com/github/Wanita-8943/efficientnet_keras_transfer_learning/blob/master/4_4_%E0%B8%A3%E0%B8%AD%E0%B8%9A%E0%B8%97%E0%B8%B5%E0%B9%884_Train_Female125_250.ipynb\" target=\"_parent\"><img src=\"https://colab.research.google.com/assets/colab-badge.svg\" alt=\"Open In Colab\"/></a>"
      ]
    },
    {
      "cell_type": "code",
      "execution_count": 1,
      "metadata": {
        "id": "KKSs7cyoPHcD"
      },
      "outputs": [],
      "source": [
        "import pandas as pd\n",
        "import shutil"
      ]
    },
    {
      "cell_type": "code",
      "source": [
        "from google.colab import drive\n",
        "drive.mount('/content/drive')"
      ],
      "metadata": {
        "colab": {
          "base_uri": "https://localhost:8080/"
        },
        "id": "7LoeZxmVPMxp",
        "outputId": "2197ae45-c32d-4f1b-9f13-57421c6d3343"
      },
      "execution_count": 2,
      "outputs": [
        {
          "output_type": "stream",
          "name": "stdout",
          "text": [
            "Mounted at /content/drive\n"
          ]
        }
      ]
    },
    {
      "cell_type": "code",
      "source": [
        "from tensorflow.keras import models\n",
        "from tensorflow.keras import layers\n",
        "from tensorflow.keras import optimizers\n",
        "import os\n",
        "import glob\n",
        "import shutil\n",
        "import sys\n",
        "import numpy as np\n",
        "from skimage.io import imread\n",
        "import matplotlib.pyplot as plt\n",
        "from IPython.display import Image\n",
        "%matplotlib inline"
      ],
      "metadata": {
        "id": "1pX9g1HxPM2f"
      },
      "execution_count": 3,
      "outputs": []
    },
    {
      "cell_type": "code",
      "source": [
        "batch_size = 16\n",
        "width = 150\n",
        "height = 150\n",
        "epochs = 250\n",
        "NUM_TRAIN = 1425\n",
        "NUM_TEST = 473\n",
        "dropout_rate = 0.2\n",
        "input_shape = (height, width, 3)"
      ],
      "metadata": {
        "id": "eSFtvGyvPM6O"
      },
      "execution_count": 4,
      "outputs": []
    },
    {
      "cell_type": "code",
      "source": [
        "#ดึงข้อมูลใน Github มาใช้\n",
        "import os\n",
        "%cd /content\n",
        "if not os.path.isdir(\"efficientnet_keras_transfer_learning\"):\n",
        " !git clone https://github.com/Wanita-8943/efficientnet_keras_transfer_learning\n",
        "%cd efficientnet_keras_transfer_learning/"
      ],
      "metadata": {
        "colab": {
          "base_uri": "https://localhost:8080/"
        },
        "id": "lb4K4CsMPNAW",
        "outputId": "33e9dd2b-7774-4c8b-d402-483085384759"
      },
      "execution_count": 5,
      "outputs": [
        {
          "output_type": "stream",
          "name": "stdout",
          "text": [
            "/content\n",
            "Cloning into 'efficientnet_keras_transfer_learning'...\n",
            "remote: Enumerating objects: 581, done.\u001b[K\n",
            "remote: Counting objects: 100% (397/397), done.\u001b[K\n",
            "remote: Compressing objects: 100% (198/198), done.\u001b[K\n",
            "remote: Total 581 (delta 275), reused 266 (delta 199), pack-reused 184\u001b[K\n",
            "Receiving objects: 100% (581/581), 10.76 MiB | 17.82 MiB/s, done.\n",
            "Resolving deltas: 100% (348/348), done.\n",
            "/content/efficientnet_keras_transfer_learning\n"
          ]
        }
      ]
    },
    {
      "cell_type": "code",
      "source": [
        "# Options: EfficientNetB0, EfficientNetB1, EfficientNetB2, EfficientNetB3\n",
        "# Higher the number, the more complex the model is.\n",
        "from efficientnet import EfficientNetB0 as Net\n",
        "from efficientnet import center_crop_and_resize, preprocess_input"
      ],
      "metadata": {
        "id": "eyBg0dLKPND3"
      },
      "execution_count": 6,
      "outputs": []
    },
    {
      "cell_type": "code",
      "source": [
        "base_dir = '/content/drive/MyDrive/TVT_Female125'\n",
        "os.makedirs(base_dir, exist_ok=True)\n",
        "\n",
        "# Directories for our training,\n",
        "# validation and test splits\n",
        "train_dir = os.path.join(base_dir, 'train')\n",
        "os.makedirs(train_dir, exist_ok=True)\n",
        "validation_dir = os.path.join(base_dir, 'validation')\n",
        "os.makedirs(validation_dir, exist_ok=True)\n",
        "test_dir = os.path.join(base_dir, 'test')\n",
        "os.makedirs(test_dir, exist_ok=True)"
      ],
      "metadata": {
        "id": "Jwpq_-KvPef8"
      },
      "execution_count": 7,
      "outputs": []
    },
    {
      "cell_type": "markdown",
      "source": [
        "#load model"
      ],
      "metadata": {
        "id": "od-ZSNm5PoGy"
      }
    },
    {
      "cell_type": "code",
      "source": [
        "import sys\n",
        "sys.path.append('/content/drive/MyDrive/cut_panoramic/Model/3.3_รอบที่3_Flimpano_Female125_250.h5')\n",
        "\n",
        "from efficientnet.layers import Swish, DropConnect\n",
        "from efficientnet.model import ConvKernalInitializer\n",
        "from tensorflow.keras.utils import get_custom_objects\n",
        "\n",
        "get_custom_objects().update({\n",
        "    'ConvKernalInitializer': ConvKernalInitializer,\n",
        "    'Swish': Swish,\n",
        "    'DropConnect':DropConnect\n",
        "})"
      ],
      "metadata": {
        "id": "n5iPL5MNPkhE"
      },
      "execution_count": 8,
      "outputs": []
    },
    {
      "cell_type": "code",
      "source": [
        "#load model \n",
        "from tensorflow.keras.models import load_model\n",
        "model = load_model('/content/drive/MyDrive/cut_panoramic/Model/3.3_รอบที่3_Flimpano_Female125_250.h5')\n",
        "height = width = model.input_shape[1]"
      ],
      "metadata": {
        "id": "plYz49xMPkly"
      },
      "execution_count": 9,
      "outputs": []
    },
    {
      "cell_type": "code",
      "source": [
        "model.summary()"
      ],
      "metadata": {
        "colab": {
          "base_uri": "https://localhost:8080/"
        },
        "id": "z6IOPBflFbvc",
        "outputId": "50b58096-8ae4-404f-e3d4-0e62e715ad1c"
      },
      "execution_count": 10,
      "outputs": [
        {
          "output_type": "stream",
          "name": "stdout",
          "text": [
            "Model: \"sequential_2\"\n",
            "_________________________________________________________________\n",
            " Layer (type)                Output Shape              Param #   \n",
            "=================================================================\n",
            " efficientnet-b0 (Functional  (None, 5, 5, 1280)       4049564   \n",
            " )                                                               \n",
            "                                                                 \n",
            " gap (GlobalMaxPooling2D)    (None, 1280)              0         \n",
            "                                                                 \n",
            " dropout_out (Dropout)       (None, 1280)              0         \n",
            "                                                                 \n",
            " fc_out (Dense)              (None, 19)                24339     \n",
            "                                                                 \n",
            "=================================================================\n",
            "Total params: 4,073,903\n",
            "Trainable params: 24,339\n",
            "Non-trainable params: 4,049,564\n",
            "_________________________________________________________________\n"
          ]
        }
      ]
    },
    {
      "cell_type": "code",
      "source": [
        "# Train ด้วย ImageDataGenerator ของ Keras ซึ่งจะเพิ่มข้อมูลเสริมระหว่างการฝึกเพื่อลดโอกาสเกิด overfitting\n",
        "#overfitting เกิดจากข้อมูลที่ซับซ้อนกันเกินไป\n",
        "from tensorflow.keras.preprocessing.image import ImageDataGenerator\n",
        "\n",
        "train_datagen = ImageDataGenerator(\n",
        "      rescale=1./255, #โมเดลส่วนใหญ่ต้องใช้ RGB ในช่วง 0–1\n",
        "      rotation_range=40,\n",
        "      width_shift_range=0.2,\n",
        "      height_shift_range=0.2,\n",
        "      shear_range=0.2,\n",
        "      zoom_range=0.2,\n",
        "      horizontal_flip=True,\n",
        "      fill_mode='nearest')\n",
        "\n",
        "# Note that the validation data should not be augmented!\n",
        "test_datagen = ImageDataGenerator(rescale=1./255)\n",
        "\n",
        "train_generator = train_datagen.flow_from_directory(\n",
        "        # This is the target directory #ไดเรกเป้าหมาย\n",
        "        train_dir,\n",
        "        # รูปภาพทั้งหมดจะถูกปรับขนาดตามความสูงและความกว้างของเป้าหมาย\n",
        "        target_size=(height, width),\n",
        "        batch_size=batch_size,\n",
        "        # Since we use categorical_crossentropy loss, we need categorical labels\n",
        "        #เนื่องจากเราใช้ categorical_crossentropy loss เราจึงต้องมีป้ายกำกับตามหมวดหมู่\n",
        "        class_mode='categorical')\n",
        "\n",
        "validation_generator = test_datagen.flow_from_directory( #การดึงภาพจาก Directory มาเข้าโมเดล \n",
        "        validation_dir,\n",
        "        target_size=(height, width),\n",
        "        batch_size=batch_size,\n",
        "        class_mode='categorical')"
      ],
      "metadata": {
        "colab": {
          "base_uri": "https://localhost:8080/"
        },
        "id": "KBMZbdr2Pgw4",
        "outputId": "0f699dd1-aaf1-48d0-9736-6b454767bda1"
      },
      "execution_count": 11,
      "outputs": [
        {
          "output_type": "stream",
          "name": "stdout",
          "text": [
            "Found 1425 images belonging to 19 classes.\n",
            "Found 475 images belonging to 19 classes.\n"
          ]
        }
      ]
    },
    {
      "cell_type": "code",
      "source": [
        "history = model.fit_generator(\n",
        "      train_generator,\n",
        "      steps_per_epoch= NUM_TRAIN //batch_size,\n",
        "      epochs=epochs,\n",
        "      validation_data=validation_generator,\n",
        "      validation_steps= NUM_TEST //batch_size,\n",
        "      verbose=1,\n",
        "      use_multiprocessing=True,\n",
        "      workers=4)"
      ],
      "metadata": {
        "colab": {
          "base_uri": "https://localhost:8080/"
        },
        "id": "C9Cf1dwyP1PD",
        "outputId": "3f035857-8c38-40db-d7bc-35169bb86371"
      },
      "execution_count": 12,
      "outputs": [
        {
          "output_type": "stream",
          "name": "stderr",
          "text": [
            "<ipython-input-12-caa7b37242a8>:1: UserWarning: `Model.fit_generator` is deprecated and will be removed in a future version. Please use `Model.fit`, which supports generators.\n",
            "  history = model.fit_generator(\n"
          ]
        },
        {
          "output_type": "stream",
          "name": "stdout",
          "text": [
            "Epoch 1/250\n",
            "89/89 [==============================] - 342s 4s/step - loss: 2.2531 - acc: 0.2548 - val_loss: 2.7265 - val_acc: 0.1810\n",
            "Epoch 2/250\n",
            "89/89 [==============================] - 70s 769ms/step - loss: 2.2710 - acc: 0.2541 - val_loss: 2.7320 - val_acc: 0.1767\n",
            "Epoch 3/250\n",
            "89/89 [==============================] - 76s 820ms/step - loss: 2.2855 - acc: 0.2583 - val_loss: 2.7191 - val_acc: 0.1832\n",
            "Epoch 4/250\n",
            "89/89 [==============================] - 72s 791ms/step - loss: 2.2320 - acc: 0.2569 - val_loss: 2.7206 - val_acc: 0.1789\n",
            "Epoch 5/250\n",
            "89/89 [==============================] - 74s 808ms/step - loss: 2.2529 - acc: 0.2427 - val_loss: 2.7485 - val_acc: 0.1875\n",
            "Epoch 6/250\n",
            "89/89 [==============================] - 72s 784ms/step - loss: 2.2695 - acc: 0.2583 - val_loss: 2.7008 - val_acc: 0.1789\n",
            "Epoch 7/250\n",
            "89/89 [==============================] - 74s 809ms/step - loss: 2.2621 - acc: 0.2477 - val_loss: 2.7453 - val_acc: 0.1767\n",
            "Epoch 8/250\n",
            "89/89 [==============================] - 72s 787ms/step - loss: 2.2836 - acc: 0.2420 - val_loss: 2.7257 - val_acc: 0.1853\n",
            "Epoch 9/250\n",
            "89/89 [==============================] - 74s 803ms/step - loss: 2.2817 - acc: 0.2484 - val_loss: 2.7142 - val_acc: 0.1853\n",
            "Epoch 10/250\n",
            "89/89 [==============================] - 76s 834ms/step - loss: 2.1780 - acc: 0.2789 - val_loss: 2.7221 - val_acc: 0.1767\n",
            "Epoch 11/250\n",
            "89/89 [==============================] - 75s 819ms/step - loss: 2.2834 - acc: 0.2548 - val_loss: 2.7215 - val_acc: 0.1724\n",
            "Epoch 12/250\n",
            "89/89 [==============================] - 72s 794ms/step - loss: 2.2706 - acc: 0.2555 - val_loss: 2.7356 - val_acc: 0.1767\n",
            "Epoch 13/250\n",
            "89/89 [==============================] - 74s 815ms/step - loss: 2.3062 - acc: 0.2264 - val_loss: 2.7332 - val_acc: 0.1724\n",
            "Epoch 14/250\n",
            "89/89 [==============================] - 73s 798ms/step - loss: 2.2978 - acc: 0.2342 - val_loss: 2.7220 - val_acc: 0.1703\n",
            "Epoch 15/250\n",
            "89/89 [==============================] - 74s 811ms/step - loss: 2.2184 - acc: 0.2626 - val_loss: 2.7345 - val_acc: 0.1767\n",
            "Epoch 16/250\n",
            "89/89 [==============================] - 72s 785ms/step - loss: 2.2579 - acc: 0.2484 - val_loss: 2.7194 - val_acc: 0.1789\n",
            "Epoch 17/250\n",
            "89/89 [==============================] - 74s 812ms/step - loss: 2.2114 - acc: 0.2612 - val_loss: 2.7388 - val_acc: 0.1746\n",
            "Epoch 18/250\n",
            "89/89 [==============================] - 71s 779ms/step - loss: 2.2931 - acc: 0.2491 - val_loss: 2.7094 - val_acc: 0.1767\n",
            "Epoch 19/250\n",
            "89/89 [==============================] - 72s 787ms/step - loss: 2.2513 - acc: 0.2569 - val_loss: 2.7249 - val_acc: 0.1724\n",
            "Epoch 20/250\n",
            "89/89 [==============================] - 74s 809ms/step - loss: 2.2845 - acc: 0.2378 - val_loss: 2.7031 - val_acc: 0.1853\n",
            "Epoch 21/250\n",
            "89/89 [==============================] - 72s 786ms/step - loss: 2.2600 - acc: 0.2406 - val_loss: 2.7387 - val_acc: 0.1789\n",
            "Epoch 22/250\n",
            "89/89 [==============================] - 74s 810ms/step - loss: 2.2375 - acc: 0.2747 - val_loss: 2.7179 - val_acc: 0.1789\n",
            "Epoch 23/250\n",
            "89/89 [==============================] - 72s 784ms/step - loss: 2.2350 - acc: 0.2576 - val_loss: 2.7415 - val_acc: 0.1767\n",
            "Epoch 24/250\n",
            "89/89 [==============================] - 73s 804ms/step - loss: 2.2828 - acc: 0.2654 - val_loss: 2.7037 - val_acc: 0.1746\n",
            "Epoch 25/250\n",
            "89/89 [==============================] - 72s 790ms/step - loss: 2.2332 - acc: 0.2562 - val_loss: 2.7044 - val_acc: 0.1746\n",
            "Epoch 26/250\n",
            "89/89 [==============================] - 74s 808ms/step - loss: 2.2499 - acc: 0.2456 - val_loss: 2.7423 - val_acc: 0.1767\n",
            "Epoch 27/250\n",
            "89/89 [==============================] - 72s 786ms/step - loss: 2.2762 - acc: 0.2534 - val_loss: 2.7352 - val_acc: 0.1789\n",
            "Epoch 28/250\n",
            "89/89 [==============================] - 74s 808ms/step - loss: 2.2522 - acc: 0.2562 - val_loss: 2.7096 - val_acc: 0.1810\n",
            "Epoch 29/250\n",
            "89/89 [==============================] - 72s 784ms/step - loss: 2.2814 - acc: 0.2697 - val_loss: 2.7356 - val_acc: 0.1724\n",
            "Epoch 30/250\n",
            "89/89 [==============================] - 74s 814ms/step - loss: 2.2560 - acc: 0.2584 - val_loss: 2.7130 - val_acc: 0.1789\n",
            "Epoch 31/250\n",
            "89/89 [==============================] - 72s 786ms/step - loss: 2.2493 - acc: 0.2562 - val_loss: 2.7262 - val_acc: 0.1724\n",
            "Epoch 32/250\n",
            "89/89 [==============================] - 74s 814ms/step - loss: 2.2708 - acc: 0.2555 - val_loss: 2.7094 - val_acc: 0.1897\n",
            "Epoch 33/250\n",
            "89/89 [==============================] - 75s 822ms/step - loss: 2.2317 - acc: 0.2740 - val_loss: 2.6971 - val_acc: 0.1789\n",
            "Epoch 34/250\n",
            "89/89 [==============================] - 72s 785ms/step - loss: 2.2741 - acc: 0.2598 - val_loss: 2.7002 - val_acc: 0.1897\n",
            "Epoch 35/250\n",
            "89/89 [==============================] - 74s 807ms/step - loss: 2.2635 - acc: 0.2363 - val_loss: 2.7332 - val_acc: 0.1853\n",
            "Epoch 36/250\n",
            "89/89 [==============================] - 72s 785ms/step - loss: 2.2601 - acc: 0.2520 - val_loss: 2.7300 - val_acc: 0.1789\n",
            "Epoch 37/250\n",
            "89/89 [==============================] - 74s 811ms/step - loss: 2.2369 - acc: 0.2512 - val_loss: 2.7056 - val_acc: 0.1724\n",
            "Epoch 38/250\n",
            "89/89 [==============================] - 72s 789ms/step - loss: 2.2047 - acc: 0.2725 - val_loss: 2.7197 - val_acc: 0.1897\n",
            "Epoch 39/250\n",
            "89/89 [==============================] - 74s 814ms/step - loss: 2.2721 - acc: 0.2520 - val_loss: 2.7006 - val_acc: 0.1832\n",
            "Epoch 40/250\n",
            "89/89 [==============================] - 73s 796ms/step - loss: 2.2653 - acc: 0.2505 - val_loss: 2.6904 - val_acc: 0.1810\n",
            "Epoch 41/250\n",
            "89/89 [==============================] - 75s 818ms/step - loss: 2.2255 - acc: 0.2590 - val_loss: 2.7094 - val_acc: 0.1746\n",
            "Epoch 42/250\n",
            "89/89 [==============================] - 72s 792ms/step - loss: 2.2320 - acc: 0.2470 - val_loss: 2.6901 - val_acc: 0.1810\n",
            "Epoch 43/250\n",
            "89/89 [==============================] - 74s 820ms/step - loss: 2.2982 - acc: 0.2285 - val_loss: 2.6822 - val_acc: 0.1853\n",
            "Epoch 44/250\n",
            "89/89 [==============================] - 72s 790ms/step - loss: 2.2638 - acc: 0.2434 - val_loss: 2.6913 - val_acc: 0.1832\n",
            "Epoch 45/250\n",
            "89/89 [==============================] - 74s 813ms/step - loss: 2.2674 - acc: 0.2527 - val_loss: 2.7001 - val_acc: 0.1789\n",
            "Epoch 46/250\n",
            "89/89 [==============================] - 73s 800ms/step - loss: 2.2089 - acc: 0.2605 - val_loss: 2.7289 - val_acc: 0.1810\n",
            "Epoch 47/250\n",
            "89/89 [==============================] - 73s 799ms/step - loss: 2.2839 - acc: 0.2463 - val_loss: 2.7259 - val_acc: 0.1746\n",
            "Epoch 48/250\n",
            "89/89 [==============================] - 76s 835ms/step - loss: 2.2404 - acc: 0.2569 - val_loss: 2.7293 - val_acc: 0.1746\n",
            "Epoch 49/250\n",
            "89/89 [==============================] - 72s 789ms/step - loss: 2.2802 - acc: 0.2434 - val_loss: 2.7256 - val_acc: 0.1789\n",
            "Epoch 50/250\n",
            "89/89 [==============================] - 74s 815ms/step - loss: 2.2985 - acc: 0.2456 - val_loss: 2.7195 - val_acc: 0.1746\n",
            "Epoch 51/250\n",
            "89/89 [==============================] - 72s 791ms/step - loss: 2.2604 - acc: 0.2583 - val_loss: 2.7156 - val_acc: 0.1853\n",
            "Epoch 52/250\n",
            "89/89 [==============================] - 74s 815ms/step - loss: 2.2313 - acc: 0.2598 - val_loss: 2.7236 - val_acc: 0.1853\n",
            "Epoch 53/250\n",
            "89/89 [==============================] - 73s 799ms/step - loss: 2.2916 - acc: 0.2342 - val_loss: 2.7324 - val_acc: 0.1789\n",
            "Epoch 54/250\n",
            "89/89 [==============================] - 75s 826ms/step - loss: 2.2209 - acc: 0.2576 - val_loss: 2.7204 - val_acc: 0.1832\n",
            "Epoch 55/250\n",
            "89/89 [==============================] - 73s 799ms/step - loss: 2.2526 - acc: 0.2456 - val_loss: 2.7234 - val_acc: 0.1810\n",
            "Epoch 56/250\n",
            "89/89 [==============================] - 72s 793ms/step - loss: 2.2301 - acc: 0.2456 - val_loss: 2.7341 - val_acc: 0.1875\n",
            "Epoch 57/250\n",
            "89/89 [==============================] - 75s 823ms/step - loss: 2.2105 - acc: 0.2690 - val_loss: 2.7020 - val_acc: 0.1832\n",
            "Epoch 58/250\n",
            "89/89 [==============================] - 73s 796ms/step - loss: 2.2182 - acc: 0.2654 - val_loss: 2.7286 - val_acc: 0.1853\n",
            "Epoch 59/250\n",
            "89/89 [==============================] - 75s 820ms/step - loss: 2.2587 - acc: 0.2505 - val_loss: 2.7032 - val_acc: 0.1875\n",
            "Epoch 60/250\n",
            "89/89 [==============================] - 73s 800ms/step - loss: 2.2575 - acc: 0.2619 - val_loss: 2.7140 - val_acc: 0.1940\n",
            "Epoch 61/250\n",
            "89/89 [==============================] - 74s 819ms/step - loss: 2.2536 - acc: 0.2505 - val_loss: 2.6967 - val_acc: 0.1853\n",
            "Epoch 62/250\n",
            "89/89 [==============================] - 73s 799ms/step - loss: 2.2303 - acc: 0.2598 - val_loss: 2.7017 - val_acc: 0.1918\n",
            "Epoch 63/250\n",
            "89/89 [==============================] - 73s 791ms/step - loss: 2.2213 - acc: 0.2718 - val_loss: 2.6963 - val_acc: 0.1897\n",
            "Epoch 64/250\n",
            "89/89 [==============================] - 74s 812ms/step - loss: 2.2750 - acc: 0.2420 - val_loss: 2.7079 - val_acc: 0.1918\n",
            "Epoch 65/250\n",
            "89/89 [==============================] - 72s 793ms/step - loss: 2.2084 - acc: 0.2690 - val_loss: 2.7113 - val_acc: 0.1875\n",
            "Epoch 66/250\n",
            "89/89 [==============================] - 74s 812ms/step - loss: 2.2659 - acc: 0.2527 - val_loss: 2.6967 - val_acc: 0.1832\n",
            "Epoch 67/250\n",
            "89/89 [==============================] - 72s 788ms/step - loss: 2.2315 - acc: 0.2590 - val_loss: 2.7025 - val_acc: 0.1875\n",
            "Epoch 68/250\n",
            "89/89 [==============================] - 74s 811ms/step - loss: 2.2658 - acc: 0.2583 - val_loss: 2.7156 - val_acc: 0.1853\n",
            "Epoch 69/250\n",
            "89/89 [==============================] - 73s 809ms/step - loss: 2.1939 - acc: 0.2803 - val_loss: 2.7393 - val_acc: 0.1961\n",
            "Epoch 70/250\n",
            "89/89 [==============================] - 72s 794ms/step - loss: 2.2360 - acc: 0.2690 - val_loss: 2.7480 - val_acc: 0.1897\n",
            "Epoch 71/250\n",
            "89/89 [==============================] - 74s 814ms/step - loss: 2.2041 - acc: 0.2654 - val_loss: 2.7362 - val_acc: 0.1983\n",
            "Epoch 72/250\n",
            "89/89 [==============================] - 72s 790ms/step - loss: 2.2576 - acc: 0.2590 - val_loss: 2.7153 - val_acc: 0.1853\n",
            "Epoch 73/250\n",
            "89/89 [==============================] - 74s 816ms/step - loss: 2.2740 - acc: 0.2562 - val_loss: 2.7233 - val_acc: 0.1853\n",
            "Epoch 74/250\n",
            "89/89 [==============================] - 72s 792ms/step - loss: 2.2581 - acc: 0.2534 - val_loss: 2.7228 - val_acc: 0.1746\n",
            "Epoch 75/250\n",
            "89/89 [==============================] - 72s 791ms/step - loss: 2.2282 - acc: 0.2640 - val_loss: 2.7339 - val_acc: 0.1789\n",
            "Epoch 76/250\n",
            "89/89 [==============================] - 74s 812ms/step - loss: 2.2859 - acc: 0.2470 - val_loss: 2.7342 - val_acc: 0.1832\n",
            "Epoch 77/250\n",
            "89/89 [==============================] - 72s 796ms/step - loss: 2.2287 - acc: 0.2711 - val_loss: 2.6973 - val_acc: 0.1810\n",
            "Epoch 78/250\n",
            "89/89 [==============================] - 74s 816ms/step - loss: 2.2450 - acc: 0.2569 - val_loss: 2.6763 - val_acc: 0.1875\n",
            "Epoch 79/250\n",
            "89/89 [==============================] - 72s 792ms/step - loss: 2.2438 - acc: 0.2576 - val_loss: 2.7026 - val_acc: 0.1918\n",
            "Epoch 80/250\n",
            "89/89 [==============================] - 74s 820ms/step - loss: 2.1753 - acc: 0.2732 - val_loss: 2.7013 - val_acc: 0.1940\n",
            "Epoch 81/250\n",
            "89/89 [==============================] - 72s 789ms/step - loss: 2.2029 - acc: 0.2619 - val_loss: 2.7099 - val_acc: 0.1918\n",
            "Epoch 82/250\n",
            "89/89 [==============================] - 74s 810ms/step - loss: 2.2065 - acc: 0.2661 - val_loss: 2.7228 - val_acc: 0.1853\n",
            "Epoch 83/250\n",
            "89/89 [==============================] - 74s 813ms/step - loss: 2.2476 - acc: 0.2555 - val_loss: 2.7043 - val_acc: 0.1918\n",
            "Epoch 84/250\n",
            "89/89 [==============================] - 72s 790ms/step - loss: 2.2351 - acc: 0.2633 - val_loss: 2.7086 - val_acc: 0.1789\n",
            "Epoch 85/250\n",
            "89/89 [==============================] - 74s 813ms/step - loss: 2.2092 - acc: 0.2612 - val_loss: 2.7129 - val_acc: 0.1897\n",
            "Epoch 86/250\n",
            "89/89 [==============================] - 72s 791ms/step - loss: 2.1995 - acc: 0.2747 - val_loss: 2.7198 - val_acc: 0.1853\n",
            "Epoch 87/250\n",
            "89/89 [==============================] - 74s 815ms/step - loss: 2.2351 - acc: 0.2590 - val_loss: 2.7038 - val_acc: 0.1983\n",
            "Epoch 88/250\n",
            "89/89 [==============================] - 74s 810ms/step - loss: 2.1944 - acc: 0.2605 - val_loss: 2.7054 - val_acc: 0.1918\n",
            "Epoch 89/250\n",
            "89/89 [==============================] - 72s 792ms/step - loss: 2.2318 - acc: 0.2654 - val_loss: 2.7045 - val_acc: 0.1961\n",
            "Epoch 90/250\n",
            "89/89 [==============================] - 74s 810ms/step - loss: 2.2101 - acc: 0.2661 - val_loss: 2.7347 - val_acc: 0.1961\n",
            "Epoch 91/250\n",
            "89/89 [==============================] - 74s 816ms/step - loss: 2.2000 - acc: 0.2711 - val_loss: 2.7184 - val_acc: 0.1832\n",
            "Epoch 92/250\n",
            "89/89 [==============================] - 74s 817ms/step - loss: 2.2406 - acc: 0.2541 - val_loss: 2.7151 - val_acc: 0.1810\n",
            "Epoch 93/250\n",
            "89/89 [==============================] - 75s 822ms/step - loss: 2.1968 - acc: 0.2661 - val_loss: 2.7428 - val_acc: 0.1875\n",
            "Epoch 94/250\n",
            "89/89 [==============================] - 76s 838ms/step - loss: 2.2894 - acc: 0.2520 - val_loss: 2.7631 - val_acc: 0.1832\n",
            "Epoch 95/250\n",
            "89/89 [==============================] - 74s 814ms/step - loss: 2.2169 - acc: 0.2647 - val_loss: 2.7175 - val_acc: 0.1875\n",
            "Epoch 96/250\n",
            "89/89 [==============================] - 74s 815ms/step - loss: 2.2490 - acc: 0.2484 - val_loss: 2.7546 - val_acc: 0.1853\n",
            "Epoch 97/250\n",
            "89/89 [==============================] - 74s 815ms/step - loss: 2.2234 - acc: 0.2505 - val_loss: 2.7612 - val_acc: 0.1918\n",
            "Epoch 98/250\n",
            "89/89 [==============================] - 74s 815ms/step - loss: 2.2129 - acc: 0.2683 - val_loss: 2.7187 - val_acc: 0.1789\n",
            "Epoch 99/250\n",
            "89/89 [==============================] - 75s 811ms/step - loss: 2.2122 - acc: 0.2754 - val_loss: 2.7193 - val_acc: 0.1746\n",
            "Epoch 100/250\n",
            "89/89 [==============================] - 74s 817ms/step - loss: 2.2436 - acc: 0.2661 - val_loss: 2.7199 - val_acc: 0.1897\n",
            "Epoch 101/250\n",
            "89/89 [==============================] - 75s 823ms/step - loss: 2.2198 - acc: 0.2676 - val_loss: 2.7300 - val_acc: 0.1832\n",
            "Epoch 102/250\n",
            "89/89 [==============================] - 74s 817ms/step - loss: 2.2194 - acc: 0.2654 - val_loss: 2.7486 - val_acc: 0.1853\n",
            "Epoch 103/250\n",
            "89/89 [==============================] - 75s 820ms/step - loss: 2.2481 - acc: 0.2598 - val_loss: 2.7573 - val_acc: 0.1767\n",
            "Epoch 104/250\n",
            "89/89 [==============================] - 74s 815ms/step - loss: 2.2447 - acc: 0.2555 - val_loss: 2.7313 - val_acc: 0.1767\n",
            "Epoch 105/250\n",
            "89/89 [==============================] - 79s 864ms/step - loss: 2.2347 - acc: 0.2555 - val_loss: 2.7403 - val_acc: 0.1746\n",
            "Epoch 106/250\n",
            "89/89 [==============================] - 74s 815ms/step - loss: 2.2425 - acc: 0.2548 - val_loss: 2.7212 - val_acc: 0.1875\n",
            "Epoch 107/250\n",
            "89/89 [==============================] - 75s 826ms/step - loss: 2.2374 - acc: 0.2569 - val_loss: 2.7610 - val_acc: 0.1746\n",
            "Epoch 108/250\n",
            "89/89 [==============================] - 77s 829ms/step - loss: 2.2978 - acc: 0.2505 - val_loss: 2.7193 - val_acc: 0.1810\n",
            "Epoch 109/250\n",
            "89/89 [==============================] - 75s 819ms/step - loss: 2.2539 - acc: 0.2477 - val_loss: 2.7498 - val_acc: 0.1789\n",
            "Epoch 110/250\n",
            "89/89 [==============================] - 75s 824ms/step - loss: 2.2535 - acc: 0.2569 - val_loss: 2.7169 - val_acc: 0.1789\n",
            "Epoch 111/250\n",
            "89/89 [==============================] - 75s 826ms/step - loss: 2.2264 - acc: 0.2569 - val_loss: 2.7274 - val_acc: 0.1724\n",
            "Epoch 112/250\n",
            "89/89 [==============================] - 76s 832ms/step - loss: 2.2374 - acc: 0.2718 - val_loss: 2.7399 - val_acc: 0.1767\n",
            "Epoch 113/250\n",
            "89/89 [==============================] - 75s 828ms/step - loss: 2.2184 - acc: 0.2697 - val_loss: 2.7168 - val_acc: 0.1767\n",
            "Epoch 114/250\n",
            "89/89 [==============================] - 76s 831ms/step - loss: 2.2792 - acc: 0.2505 - val_loss: 2.7272 - val_acc: 0.1767\n",
            "Epoch 115/250\n",
            "89/89 [==============================] - 76s 830ms/step - loss: 2.1840 - acc: 0.2761 - val_loss: 2.7426 - val_acc: 0.1724\n",
            "Epoch 116/250\n",
            "89/89 [==============================] - 77s 847ms/step - loss: 2.2349 - acc: 0.2434 - val_loss: 2.7464 - val_acc: 0.1703\n",
            "Epoch 117/250\n",
            "89/89 [==============================] - 75s 828ms/step - loss: 2.2295 - acc: 0.2406 - val_loss: 2.7060 - val_acc: 0.1746\n",
            "Epoch 118/250\n",
            "89/89 [==============================] - 76s 835ms/step - loss: 2.1768 - acc: 0.2718 - val_loss: 2.7174 - val_acc: 0.1789\n",
            "Epoch 119/250\n",
            "89/89 [==============================] - 78s 856ms/step - loss: 2.1995 - acc: 0.2669 - val_loss: 2.7587 - val_acc: 0.1810\n",
            "Epoch 120/250\n",
            "89/89 [==============================] - 76s 833ms/step - loss: 2.1796 - acc: 0.2669 - val_loss: 2.7483 - val_acc: 0.1681\n",
            "Epoch 121/250\n",
            "89/89 [==============================] - 75s 824ms/step - loss: 2.2487 - acc: 0.2569 - val_loss: 2.7342 - val_acc: 0.1767\n",
            "Epoch 122/250\n",
            "89/89 [==============================] - 75s 823ms/step - loss: 2.1725 - acc: 0.2704 - val_loss: 2.7215 - val_acc: 0.1746\n",
            "Epoch 123/250\n",
            "89/89 [==============================] - 73s 799ms/step - loss: 2.2439 - acc: 0.2576 - val_loss: 2.7167 - val_acc: 0.1746\n",
            "Epoch 124/250\n",
            "89/89 [==============================] - 75s 820ms/step - loss: 2.1991 - acc: 0.2598 - val_loss: 2.7491 - val_acc: 0.1789\n",
            "Epoch 125/250\n",
            "89/89 [==============================] - 75s 821ms/step - loss: 2.2500 - acc: 0.2562 - val_loss: 2.7441 - val_acc: 0.1789\n",
            "Epoch 126/250\n",
            "89/89 [==============================] - 75s 814ms/step - loss: 2.2728 - acc: 0.2555 - val_loss: 2.7550 - val_acc: 0.1789\n",
            "Epoch 127/250\n",
            "89/89 [==============================] - 77s 848ms/step - loss: 2.2033 - acc: 0.2619 - val_loss: 2.7482 - val_acc: 0.1789\n",
            "Epoch 128/250\n",
            "89/89 [==============================] - 75s 822ms/step - loss: 2.2383 - acc: 0.2761 - val_loss: 2.7541 - val_acc: 0.1746\n",
            "Epoch 129/250\n",
            "89/89 [==============================] - 75s 828ms/step - loss: 2.2027 - acc: 0.2676 - val_loss: 2.7619 - val_acc: 0.1724\n",
            "Epoch 130/250\n",
            "89/89 [==============================] - 78s 855ms/step - loss: 2.2296 - acc: 0.2683 - val_loss: 2.7346 - val_acc: 0.1853\n",
            "Epoch 131/250\n",
            "89/89 [==============================] - 75s 826ms/step - loss: 2.2525 - acc: 0.2697 - val_loss: 2.7206 - val_acc: 0.1897\n",
            "Epoch 132/250\n",
            "89/89 [==============================] - 75s 823ms/step - loss: 2.2541 - acc: 0.2484 - val_loss: 2.7066 - val_acc: 0.1918\n",
            "Epoch 133/250\n",
            "89/89 [==============================] - 78s 853ms/step - loss: 2.2017 - acc: 0.2740 - val_loss: 2.7672 - val_acc: 0.1789\n",
            "Epoch 134/250\n",
            "89/89 [==============================] - 76s 828ms/step - loss: 2.2708 - acc: 0.2484 - val_loss: 2.7524 - val_acc: 0.1853\n",
            "Epoch 135/250\n",
            "89/89 [==============================] - 76s 832ms/step - loss: 2.1810 - acc: 0.2747 - val_loss: 2.7488 - val_acc: 0.1767\n",
            "Epoch 136/250\n",
            "89/89 [==============================] - 78s 854ms/step - loss: 2.1925 - acc: 0.2605 - val_loss: 2.7423 - val_acc: 0.1789\n",
            "Epoch 137/250\n",
            "89/89 [==============================] - 75s 826ms/step - loss: 2.2108 - acc: 0.2548 - val_loss: 2.7346 - val_acc: 0.1746\n",
            "Epoch 138/250\n",
            "89/89 [==============================] - 76s 831ms/step - loss: 2.2465 - acc: 0.2434 - val_loss: 2.7315 - val_acc: 0.1767\n",
            "Epoch 139/250\n",
            "89/89 [==============================] - 78s 861ms/step - loss: 2.2143 - acc: 0.2811 - val_loss: 2.7189 - val_acc: 0.1767\n",
            "Epoch 140/250\n",
            "89/89 [==============================] - 74s 810ms/step - loss: 2.2189 - acc: 0.2633 - val_loss: 2.7117 - val_acc: 0.1789\n",
            "Epoch 141/250\n",
            "89/89 [==============================] - 76s 830ms/step - loss: 2.1855 - acc: 0.2732 - val_loss: 2.7413 - val_acc: 0.1767\n",
            "Epoch 142/250\n",
            "89/89 [==============================] - 78s 851ms/step - loss: 2.2385 - acc: 0.2548 - val_loss: 2.7379 - val_acc: 0.1875\n",
            "Epoch 143/250\n",
            "89/89 [==============================] - 73s 800ms/step - loss: 2.2168 - acc: 0.2761 - val_loss: 2.7381 - val_acc: 0.1789\n",
            "Epoch 144/250\n",
            "89/89 [==============================] - 77s 829ms/step - loss: 2.2262 - acc: 0.2747 - val_loss: 2.7227 - val_acc: 0.1746\n",
            "Epoch 145/250\n",
            "89/89 [==============================] - 77s 847ms/step - loss: 2.2139 - acc: 0.2760 - val_loss: 2.7364 - val_acc: 0.1810\n",
            "Epoch 146/250\n",
            "89/89 [==============================] - 73s 805ms/step - loss: 2.2120 - acc: 0.2527 - val_loss: 2.7401 - val_acc: 0.1853\n",
            "Epoch 147/250\n",
            "89/89 [==============================] - 77s 852ms/step - loss: 2.2008 - acc: 0.2633 - val_loss: 2.7361 - val_acc: 0.1767\n",
            "Epoch 148/250\n",
            "89/89 [==============================] - 75s 827ms/step - loss: 2.2331 - acc: 0.2576 - val_loss: 2.7237 - val_acc: 0.1767\n",
            "Epoch 149/250\n",
            "89/89 [==============================] - 76s 837ms/step - loss: 2.1811 - acc: 0.2747 - val_loss: 2.7293 - val_acc: 0.1810\n",
            "Epoch 150/250\n",
            "89/89 [==============================] - 82s 897ms/step - loss: 2.2150 - acc: 0.2590 - val_loss: 2.7346 - val_acc: 0.1767\n",
            "Epoch 151/250\n",
            "89/89 [==============================] - 76s 833ms/step - loss: 2.1954 - acc: 0.2690 - val_loss: 2.7186 - val_acc: 0.1789\n",
            "Epoch 152/250\n",
            "89/89 [==============================] - 76s 835ms/step - loss: 2.2313 - acc: 0.2555 - val_loss: 2.7532 - val_acc: 0.1767\n",
            "Epoch 153/250\n",
            "89/89 [==============================] - 79s 864ms/step - loss: 2.1887 - acc: 0.2732 - val_loss: 2.7361 - val_acc: 0.1832\n",
            "Epoch 154/250\n",
            "89/89 [==============================] - 74s 814ms/step - loss: 2.2328 - acc: 0.2541 - val_loss: 2.7447 - val_acc: 0.1767\n",
            "Epoch 155/250\n",
            "89/89 [==============================] - 76s 831ms/step - loss: 2.2166 - acc: 0.2676 - val_loss: 2.7565 - val_acc: 0.1724\n",
            "Epoch 156/250\n",
            "89/89 [==============================] - 78s 854ms/step - loss: 2.2113 - acc: 0.2583 - val_loss: 2.7322 - val_acc: 0.1767\n",
            "Epoch 157/250\n",
            "89/89 [==============================] - 74s 809ms/step - loss: 2.2242 - acc: 0.2562 - val_loss: 2.7296 - val_acc: 0.1897\n",
            "Epoch 158/250\n",
            "89/89 [==============================] - 78s 852ms/step - loss: 2.1968 - acc: 0.2832 - val_loss: 2.7392 - val_acc: 0.1810\n",
            "Epoch 159/250\n",
            "89/89 [==============================] - 78s 887ms/step - loss: 2.2040 - acc: 0.2754 - val_loss: 2.7092 - val_acc: 0.1789\n",
            "Epoch 160/250\n",
            "89/89 [==============================] - 74s 812ms/step - loss: 2.2094 - acc: 0.2661 - val_loss: 2.7358 - val_acc: 0.1767\n",
            "Epoch 161/250\n",
            "89/89 [==============================] - 78s 855ms/step - loss: 2.1837 - acc: 0.2697 - val_loss: 2.7248 - val_acc: 0.1853\n",
            "Epoch 162/250\n",
            "89/89 [==============================] - 74s 815ms/step - loss: 2.1991 - acc: 0.2676 - val_loss: 2.7030 - val_acc: 0.1897\n",
            "Epoch 163/250\n",
            "89/89 [==============================] - 78s 849ms/step - loss: 2.1859 - acc: 0.2732 - val_loss: 2.7415 - val_acc: 0.1918\n",
            "Epoch 164/250\n",
            "89/89 [==============================] - 78s 855ms/step - loss: 2.2063 - acc: 0.2640 - val_loss: 2.7373 - val_acc: 0.1832\n",
            "Epoch 165/250\n",
            "89/89 [==============================] - 74s 810ms/step - loss: 2.1528 - acc: 0.2881 - val_loss: 2.7237 - val_acc: 0.1897\n",
            "Epoch 166/250\n",
            "89/89 [==============================] - 78s 852ms/step - loss: 2.2207 - acc: 0.2470 - val_loss: 2.7378 - val_acc: 0.1832\n",
            "Epoch 167/250\n",
            "89/89 [==============================] - 73s 805ms/step - loss: 2.2393 - acc: 0.2413 - val_loss: 2.7494 - val_acc: 0.1810\n",
            "Epoch 168/250\n",
            "89/89 [==============================] - 78s 861ms/step - loss: 2.2000 - acc: 0.2590 - val_loss: 2.7238 - val_acc: 0.1789\n",
            "Epoch 169/250\n",
            "89/89 [==============================] - 74s 809ms/step - loss: 2.1923 - acc: 0.2569 - val_loss: 2.7381 - val_acc: 0.1789\n",
            "Epoch 170/250\n",
            "89/89 [==============================] - 73s 803ms/step - loss: 2.2360 - acc: 0.2576 - val_loss: 2.7057 - val_acc: 0.1875\n",
            "Epoch 171/250\n",
            "89/89 [==============================] - 73s 808ms/step - loss: 2.1785 - acc: 0.2754 - val_loss: 2.7206 - val_acc: 0.1875\n",
            "Epoch 172/250\n",
            "89/89 [==============================] - 73s 806ms/step - loss: 2.2153 - acc: 0.2541 - val_loss: 2.7026 - val_acc: 0.1940\n",
            "Epoch 173/250\n",
            "89/89 [==============================] - 78s 856ms/step - loss: 2.2283 - acc: 0.2633 - val_loss: 2.7433 - val_acc: 0.1810\n",
            "Epoch 174/250\n",
            "89/89 [==============================] - 74s 818ms/step - loss: 2.2703 - acc: 0.2441 - val_loss: 2.7303 - val_acc: 0.1853\n",
            "Epoch 175/250\n",
            "89/89 [==============================] - 79s 868ms/step - loss: 2.2386 - acc: 0.2590 - val_loss: 2.7450 - val_acc: 0.1875\n",
            "Epoch 176/250\n",
            "89/89 [==============================] - 74s 813ms/step - loss: 2.2062 - acc: 0.2782 - val_loss: 2.7120 - val_acc: 0.1853\n",
            "Epoch 177/250\n",
            "89/89 [==============================] - 79s 863ms/step - loss: 2.2183 - acc: 0.2541 - val_loss: 2.7307 - val_acc: 0.1789\n",
            "Epoch 178/250\n",
            "89/89 [==============================] - 79s 889ms/step - loss: 2.2108 - acc: 0.2690 - val_loss: 2.7527 - val_acc: 0.1789\n",
            "Epoch 179/250\n",
            "89/89 [==============================] - 74s 813ms/step - loss: 2.1875 - acc: 0.2512 - val_loss: 2.7733 - val_acc: 0.1810\n",
            "Epoch 180/250\n",
            "89/89 [==============================] - 77s 839ms/step - loss: 2.2668 - acc: 0.2697 - val_loss: 2.7549 - val_acc: 0.1810\n",
            "Epoch 181/250\n",
            "89/89 [==============================] - 75s 819ms/step - loss: 2.2126 - acc: 0.2740 - val_loss: 2.7719 - val_acc: 0.1746\n",
            "Epoch 182/250\n",
            "89/89 [==============================] - 78s 861ms/step - loss: 2.1976 - acc: 0.2732 - val_loss: 2.7551 - val_acc: 0.1832\n",
            "Epoch 183/250\n",
            "89/89 [==============================] - 74s 809ms/step - loss: 2.2032 - acc: 0.2569 - val_loss: 2.7494 - val_acc: 0.1875\n",
            "Epoch 184/250\n",
            "89/89 [==============================] - 77s 852ms/step - loss: 2.2185 - acc: 0.2768 - val_loss: 2.7445 - val_acc: 0.1875\n",
            "Epoch 185/250\n",
            "89/89 [==============================] - 74s 808ms/step - loss: 2.1953 - acc: 0.2732 - val_loss: 2.7295 - val_acc: 0.1853\n",
            "Epoch 186/250\n",
            "89/89 [==============================] - 78s 842ms/step - loss: 2.1847 - acc: 0.2789 - val_loss: 2.7139 - val_acc: 0.1918\n",
            "Epoch 187/250\n",
            "89/89 [==============================] - 77s 850ms/step - loss: 2.2403 - acc: 0.2605 - val_loss: 2.7374 - val_acc: 0.1875\n",
            "Epoch 188/250\n",
            "89/89 [==============================] - 73s 805ms/step - loss: 2.2259 - acc: 0.2619 - val_loss: 2.7351 - val_acc: 0.1853\n",
            "Epoch 189/250\n",
            "89/89 [==============================] - 78s 860ms/step - loss: 2.1505 - acc: 0.2825 - val_loss: 2.7592 - val_acc: 0.1832\n",
            "Epoch 190/250\n",
            "89/89 [==============================] - 73s 803ms/step - loss: 2.1600 - acc: 0.2796 - val_loss: 2.7332 - val_acc: 0.1789\n",
            "Epoch 191/250\n",
            "89/89 [==============================] - 78s 855ms/step - loss: 2.2108 - acc: 0.2690 - val_loss: 2.7436 - val_acc: 0.1767\n",
            "Epoch 192/250\n",
            "89/89 [==============================] - 73s 804ms/step - loss: 2.1965 - acc: 0.2683 - val_loss: 2.7169 - val_acc: 0.1940\n",
            "Epoch 193/250\n",
            "89/89 [==============================] - 78s 854ms/step - loss: 2.2181 - acc: 0.2555 - val_loss: 2.7577 - val_acc: 0.1853\n",
            "Epoch 194/250\n",
            "89/89 [==============================] - 73s 800ms/step - loss: 2.2100 - acc: 0.2690 - val_loss: 2.7596 - val_acc: 0.1918\n",
            "Epoch 195/250\n",
            "89/89 [==============================] - 77s 846ms/step - loss: 2.1808 - acc: 0.2782 - val_loss: 2.7679 - val_acc: 0.1832\n",
            "Epoch 196/250\n",
            "89/89 [==============================] - 73s 802ms/step - loss: 2.2094 - acc: 0.2661 - val_loss: 2.7647 - val_acc: 0.1853\n",
            "Epoch 197/250\n",
            "89/89 [==============================] - 77s 844ms/step - loss: 2.1998 - acc: 0.2633 - val_loss: 2.7348 - val_acc: 0.1897\n",
            "Epoch 198/250\n",
            "89/89 [==============================] - 73s 801ms/step - loss: 2.2284 - acc: 0.2732 - val_loss: 2.7655 - val_acc: 0.1810\n",
            "Epoch 199/250\n",
            "89/89 [==============================] - 78s 856ms/step - loss: 2.2216 - acc: 0.2669 - val_loss: 2.7438 - val_acc: 0.1875\n",
            "Epoch 200/250\n",
            "89/89 [==============================] - 73s 804ms/step - loss: 2.1676 - acc: 0.2732 - val_loss: 2.7424 - val_acc: 0.1832\n",
            "Epoch 201/250\n",
            "89/89 [==============================] - 73s 800ms/step - loss: 2.2192 - acc: 0.2626 - val_loss: 2.7544 - val_acc: 0.1832\n",
            "Epoch 202/250\n",
            "89/89 [==============================] - 79s 873ms/step - loss: 2.1675 - acc: 0.2910 - val_loss: 2.7159 - val_acc: 0.1897\n",
            "Epoch 203/250\n",
            "89/89 [==============================] - 75s 822ms/step - loss: 2.2064 - acc: 0.2697 - val_loss: 2.7601 - val_acc: 0.1853\n",
            "Epoch 204/250\n",
            "89/89 [==============================] - 80s 875ms/step - loss: 2.1902 - acc: 0.2619 - val_loss: 2.7511 - val_acc: 0.1853\n",
            "Epoch 205/250\n",
            "89/89 [==============================] - 74s 811ms/step - loss: 2.2176 - acc: 0.2512 - val_loss: 2.7397 - val_acc: 0.1810\n",
            "Epoch 206/250\n",
            "89/89 [==============================] - 78s 860ms/step - loss: 2.2565 - acc: 0.2569 - val_loss: 2.7524 - val_acc: 0.1853\n",
            "Epoch 207/250\n",
            "89/89 [==============================] - 74s 811ms/step - loss: 2.1967 - acc: 0.2718 - val_loss: 2.7590 - val_acc: 0.1897\n",
            "Epoch 208/250\n",
            "89/89 [==============================] - 75s 826ms/step - loss: 2.2174 - acc: 0.2669 - val_loss: 2.7624 - val_acc: 0.1789\n",
            "Epoch 209/250\n",
            "89/89 [==============================] - 76s 803ms/step - loss: 2.1867 - acc: 0.2718 - val_loss: 2.7297 - val_acc: 0.1810\n",
            "Epoch 210/250\n",
            "89/89 [==============================] - 74s 806ms/step - loss: 2.1598 - acc: 0.2846 - val_loss: 2.7439 - val_acc: 0.1897\n",
            "Epoch 211/250\n",
            "89/89 [==============================] - 79s 864ms/step - loss: 2.2220 - acc: 0.2520 - val_loss: 2.7133 - val_acc: 0.1875\n",
            "Epoch 212/250\n",
            "89/89 [==============================] - 73s 807ms/step - loss: 2.1896 - acc: 0.2711 - val_loss: 2.7515 - val_acc: 0.1853\n",
            "Epoch 213/250\n",
            "89/89 [==============================] - 78s 854ms/step - loss: 2.1993 - acc: 0.2654 - val_loss: 2.7563 - val_acc: 0.1897\n",
            "Epoch 214/250\n",
            "89/89 [==============================] - 73s 804ms/step - loss: 2.1728 - acc: 0.2789 - val_loss: 2.7618 - val_acc: 0.1832\n",
            "Epoch 215/250\n",
            "89/89 [==============================] - 73s 805ms/step - loss: 2.2132 - acc: 0.2555 - val_loss: 2.7467 - val_acc: 0.1810\n",
            "Epoch 216/250\n",
            "89/89 [==============================] - 73s 804ms/step - loss: 2.1806 - acc: 0.2732 - val_loss: 2.7412 - val_acc: 0.1832\n",
            "Epoch 217/250\n",
            "89/89 [==============================] - 73s 803ms/step - loss: 2.2049 - acc: 0.2754 - val_loss: 2.7538 - val_acc: 0.1810\n",
            "Epoch 218/250\n",
            "89/89 [==============================] - 78s 862ms/step - loss: 2.1577 - acc: 0.2725 - val_loss: 2.7472 - val_acc: 0.1832\n",
            "Epoch 219/250\n",
            "89/89 [==============================] - 74s 809ms/step - loss: 2.1882 - acc: 0.2697 - val_loss: 2.7677 - val_acc: 0.1767\n",
            "Epoch 220/250\n",
            "89/89 [==============================] - 78s 856ms/step - loss: 2.2407 - acc: 0.2619 - val_loss: 2.7291 - val_acc: 0.1853\n",
            "Epoch 221/250\n",
            "89/89 [==============================] - 73s 805ms/step - loss: 2.1947 - acc: 0.2711 - val_loss: 2.7481 - val_acc: 0.1853\n",
            "Epoch 222/250\n",
            "89/89 [==============================] - 78s 854ms/step - loss: 2.1701 - acc: 0.2740 - val_loss: 2.7319 - val_acc: 0.1789\n",
            "Epoch 223/250\n",
            "89/89 [==============================] - 73s 795ms/step - loss: 2.1974 - acc: 0.2676 - val_loss: 2.7308 - val_acc: 0.1789\n",
            "Epoch 224/250\n",
            "89/89 [==============================] - 73s 796ms/step - loss: 2.2117 - acc: 0.2747 - val_loss: 2.7202 - val_acc: 0.1810\n",
            "Epoch 225/250\n",
            "89/89 [==============================] - 77s 848ms/step - loss: 2.1655 - acc: 0.2811 - val_loss: 2.7239 - val_acc: 0.1789\n",
            "Epoch 226/250\n",
            "89/89 [==============================] - 73s 800ms/step - loss: 2.1898 - acc: 0.2718 - val_loss: 2.7267 - val_acc: 0.1853\n",
            "Epoch 227/250\n",
            "89/89 [==============================] - 77s 848ms/step - loss: 2.2348 - acc: 0.2583 - val_loss: 2.7262 - val_acc: 0.1875\n",
            "Epoch 228/250\n",
            "89/89 [==============================] - 73s 801ms/step - loss: 2.2166 - acc: 0.2661 - val_loss: 2.7521 - val_acc: 0.1875\n",
            "Epoch 229/250\n",
            "89/89 [==============================] - 78s 856ms/step - loss: 2.2343 - acc: 0.2598 - val_loss: 2.7283 - val_acc: 0.1810\n",
            "Epoch 230/250\n",
            "89/89 [==============================] - 73s 803ms/step - loss: 2.1679 - acc: 0.2704 - val_loss: 2.7687 - val_acc: 0.1746\n",
            "Epoch 231/250\n",
            "89/89 [==============================] - 72s 793ms/step - loss: 2.2102 - acc: 0.2619 - val_loss: 2.7499 - val_acc: 0.1724\n",
            "Epoch 232/250\n",
            "89/89 [==============================] - 73s 795ms/step - loss: 2.1958 - acc: 0.2661 - val_loss: 2.7611 - val_acc: 0.1832\n",
            "Epoch 233/250\n",
            "89/89 [==============================] - 73s 796ms/step - loss: 2.1721 - acc: 0.2796 - val_loss: 2.7884 - val_acc: 0.1767\n",
            "Epoch 234/250\n",
            "89/89 [==============================] - 77s 848ms/step - loss: 2.2266 - acc: 0.2555 - val_loss: 2.7752 - val_acc: 0.1810\n",
            "Epoch 235/250\n",
            "89/89 [==============================] - 73s 796ms/step - loss: 2.2105 - acc: 0.2520 - val_loss: 2.7625 - val_acc: 0.1853\n",
            "Epoch 236/250\n",
            "89/89 [==============================] - 77s 849ms/step - loss: 2.2113 - acc: 0.2598 - val_loss: 2.7448 - val_acc: 0.1897\n",
            "Epoch 237/250\n",
            "89/89 [==============================] - 73s 796ms/step - loss: 2.1807 - acc: 0.2775 - val_loss: 2.7346 - val_acc: 0.1853\n",
            "Epoch 238/250\n",
            "89/89 [==============================] - 77s 848ms/step - loss: 2.2619 - acc: 0.2711 - val_loss: 2.7376 - val_acc: 0.1832\n",
            "Epoch 239/250\n",
            "89/89 [==============================] - 73s 800ms/step - loss: 2.1804 - acc: 0.2704 - val_loss: 2.7542 - val_acc: 0.1810\n",
            "Epoch 240/250\n",
            "89/89 [==============================] - 77s 850ms/step - loss: 2.2024 - acc: 0.2761 - val_loss: 2.7520 - val_acc: 0.1961\n",
            "Epoch 241/250\n",
            "89/89 [==============================] - 75s 816ms/step - loss: 2.1809 - acc: 0.2860 - val_loss: 2.7719 - val_acc: 0.1875\n",
            "Epoch 242/250\n",
            "89/89 [==============================] - 74s 809ms/step - loss: 2.1836 - acc: 0.2654 - val_loss: 2.7513 - val_acc: 0.1897\n",
            "Epoch 243/250\n",
            "89/89 [==============================] - 78s 862ms/step - loss: 2.1924 - acc: 0.2633 - val_loss: 2.7621 - val_acc: 0.1789\n",
            "Epoch 244/250\n",
            "89/89 [==============================] - 74s 817ms/step - loss: 2.1781 - acc: 0.2470 - val_loss: 2.7656 - val_acc: 0.1853\n",
            "Epoch 245/250\n",
            "89/89 [==============================] - 79s 871ms/step - loss: 2.1805 - acc: 0.2640 - val_loss: 2.7512 - val_acc: 0.1897\n",
            "Epoch 246/250\n",
            "89/89 [==============================] - 75s 822ms/step - loss: 2.1930 - acc: 0.2725 - val_loss: 2.7551 - val_acc: 0.1875\n",
            "Epoch 247/250\n",
            "89/89 [==============================] - 79s 865ms/step - loss: 2.1994 - acc: 0.2598 - val_loss: 2.7685 - val_acc: 0.1853\n",
            "Epoch 248/250\n",
            "89/89 [==============================] - 75s 823ms/step - loss: 2.2005 - acc: 0.2640 - val_loss: 2.7648 - val_acc: 0.1918\n",
            "Epoch 249/250\n",
            "89/89 [==============================] - 74s 816ms/step - loss: 2.1934 - acc: 0.2576 - val_loss: 2.7652 - val_acc: 0.1810\n",
            "Epoch 250/250\n",
            "89/89 [==============================] - 74s 815ms/step - loss: 2.1503 - acc: 0.2825 - val_loss: 2.7558 - val_acc: 0.1940\n"
          ]
        }
      ]
    },
    {
      "cell_type": "code",
      "source": [
        "acc = history.history['acc']\n",
        "val_acc = history.history['val_acc']\n",
        "loss = history.history['loss']\n",
        "val_loss = history.history['val_loss']\n",
        "\n",
        "epochs_x = range(len(acc))\n",
        "\n",
        "plt.plot(epochs_x, acc, 'mo', label='Training acc')\n",
        "plt.plot(epochs_x, val_acc, 'k', label='Validation acc')\n",
        "plt.title('Training and validation accuracy')\n",
        "plt.legend()\n",
        "\n",
        "plt.figure()\n",
        "\n",
        "plt.plot(epochs_x, loss, 'mo', label='Training loss')\n",
        "plt.plot(epochs_x, val_loss, 'k', label='Validation loss')\n",
        "plt.title('Training and validation loss')\n",
        "plt.legend()\n",
        "\n",
        "plt.show()"
      ],
      "metadata": {
        "id": "kwylTJpTP5XI",
        "colab": {
          "base_uri": "https://localhost:8080/",
          "height": 545
        },
        "outputId": "39664d3b-06bc-4f8d-9627-03227b3f2cb2"
      },
      "execution_count": 13,
      "outputs": [
        {
          "output_type": "display_data",
          "data": {
            "text/plain": [
              "<Figure size 432x288 with 1 Axes>"
            ],
            "image/png": "[encoded data removed]"
          },
          "metadata": {
            "needs_background": "light"
          }
        },
        {
          "output_type": "display_data",
          "data": {
            "text/plain": [
              "<Figure size 432x288 with 1 Axes>"
            ],
            "image/png": "[encoded data removed]"
          },
          "metadata": {
            "needs_background": "light"
          }
        }
      ]
    },
    {
      "cell_type": "markdown",
      "source": [
        "#Download the model"
      ],
      "metadata": {
        "id": "lD-vKaoHQAFd"
      }
    },
    {
      "cell_type": "code",
      "source": [
        "os.makedirs('/content/drive/My Drive/cut_panoramic/Model', exist_ok=True)\n",
        "model.save('/content/drive/My Drive/cut_panoramic/Model/4.4_รอบที่4_Flimpano_Female125_250.h5')"
      ],
      "metadata": {
        "id": "74dL7-HLP_Sh"
      },
      "execution_count": 14,
      "outputs": []
    },
    {
      "cell_type": "code",
      "source": [
        "from google.colab import files\n",
        "files.download('/content/drive/My Drive/cut_panoramic/Model/4.4_รอบที่4_Flimpano_Female125_250.h5')"
      ],
      "metadata": {
        "id": "qcPW-brHQDpc",
        "colab": {
          "base_uri": "https://localhost:8080/",
          "height": 17
        },
        "outputId": "dc62b905-f218-4e52-8d92-b1453d107dc6"
      },
      "execution_count": 15,
      "outputs": [
        {
          "output_type": "display_data",
          "data": {
            "text/plain": [
              "<IPython.core.display.Javascript object>"
            ],
            "application/javascript": [
              "\n",
              "    async function download(id, filename, size) {\n",
              "      if (!google.colab.kernel.accessAllowed) {\n",
              "        return;\n",
              "      }\n",
              "      const div = document.createElement('div');\n",
              "      const label = document.createElement('label');\n",
              "      label.textContent = `Downloading \"${filename}\": `;\n",
              "      div.appendChild(label);\n",
              "      const progress = document.createElement('progress');\n",
              "      progress.max = size;\n",
              "      div.appendChild(progress);\n",
              "      document.body.appendChild(div);\n",
              "\n",
              "      const buffers = [];\n",
              "      let downloaded = 0;\n",
              "\n",
              "      const channel = await google.colab.kernel.comms.open(id);\n",
              "      // Send a message to notify the kernel that we're ready.\n",
              "      channel.send({})\n",
              "\n",
              "      for await (const message of channel.messages) {\n",
              "        // Send a message to notify the kernel that we're ready.\n",
              "        channel.send({})\n",
              "        if (message.buffers) {\n",
              "          for (const buffer of message.buffers) {\n",
              "            buffers.push(buffer);\n",
              "            downloaded += buffer.byteLength;\n",
              "            progress.value = downloaded;\n",
              "          }\n",
              "        }\n",
              "      }\n",
              "      const blob = new Blob(buffers, {type: 'application/binary'});\n",
              "      const a = document.createElement('a');\n",
              "      a.href = window.URL.createObjectURL(blob);\n",
              "      a.download = filename;\n",
              "      div.appendChild(a);\n",
              "      a.click();\n",
              "      div.remove();\n",
              "    }\n",
              "  "
            ]
          },
          "metadata": {}
        },
        {
          "output_type": "display_data",
          "data": {
            "text/plain": [
              "<IPython.core.display.Javascript object>"
            ],
            "application/javascript": [
              "download(\"download_df5021aa-b4a9-4024-a6b0-d987a5768e4d\", \"4.4_\\u0e23\\u0e2d\\u0e1a\\u0e17\\u0e35\\u0e484_Flimpano_Female125_250.h5\", 16779000)"
            ]
          },
          "metadata": {}
        }
      ]
    }
  ]
}