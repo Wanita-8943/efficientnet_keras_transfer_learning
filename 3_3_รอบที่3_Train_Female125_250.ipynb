{
  "nbformat": 4,
  "nbformat_minor": 0,
  "metadata": {
    "colab": {
      "provenance": [],
      "include_colab_link": true
    },
    "kernelspec": {
      "name": "python3",
      "display_name": "Python 3"
    },
    "language_info": {
      "name": "python"
    }
  },
  "cells": [
    {
      "cell_type": "markdown",
      "metadata": {
        "id": "view-in-github",
        "colab_type": "text"
      },
      "source": [
        "<a href=\"https://colab.research.google.com/github/Wanita-8943/efficientnet_keras_transfer_learning/blob/master/3_3_%E0%B8%A3%E0%B8%AD%E0%B8%9A%E0%B8%97%E0%B8%B5%E0%B9%883_Train_Female125_250.ipynb\" target=\"_parent\"><img src=\"https://colab.research.google.com/assets/colab-badge.svg\" alt=\"Open In Colab\"/></a>"
      ]
    },
    {
      "cell_type": "code",
      "execution_count": 13,
      "metadata": {
        "id": "KKSs7cyoPHcD"
      },
      "outputs": [],
      "source": [
        "import pandas as pd\n",
        "import shutil"
      ]
    },
    {
      "cell_type": "code",
      "source": [
        "from google.colab import drive\n",
        "drive.mount('/content/drive')"
      ],
      "metadata": {
        "colab": {
          "base_uri": "https://localhost:8080/"
        },
        "id": "7LoeZxmVPMxp",
        "outputId": "43c455d7-e463-4e4c-d910-4be3d5e6946d"
      },
      "execution_count": 14,
      "outputs": [
        {
          "output_type": "stream",
          "name": "stdout",
          "text": [
            "Drive already mounted at /content/drive; to attempt to forcibly remount, call drive.mount(\"/content/drive\", force_remount=True).\n"
          ]
        }
      ]
    },
    {
      "cell_type": "code",
      "source": [
        "from tensorflow.keras import models\n",
        "from tensorflow.keras import layers\n",
        "from tensorflow.keras import optimizers\n",
        "import os\n",
        "import glob\n",
        "import shutil\n",
        "import sys\n",
        "import numpy as np\n",
        "from skimage.io import imread\n",
        "import matplotlib.pyplot as plt\n",
        "from IPython.display import Image\n",
        "%matplotlib inline"
      ],
      "metadata": {
        "id": "1pX9g1HxPM2f"
      },
      "execution_count": 15,
      "outputs": []
    },
    {
      "cell_type": "code",
      "source": [
        "batch_size = 16\n",
        "width = 150\n",
        "height = 150\n",
        "epochs = 250\n",
        "NUM_TRAIN = 1425\n",
        "NUM_TEST = 473\n",
        "dropout_rate = 0.2\n",
        "input_shape = (height, width, 3)"
      ],
      "metadata": {
        "id": "eSFtvGyvPM6O"
      },
      "execution_count": 16,
      "outputs": []
    },
    {
      "cell_type": "code",
      "source": [
        "#ดึงข้อมูลใน Github มาใช้\n",
        "import os\n",
        "%cd /content\n",
        "if not os.path.isdir(\"efficientnet_keras_transfer_learning\"):\n",
        " !git clone https://github.com/Wanita-8943/efficientnet_keras_transfer_learning\n",
        "%cd efficientnet_keras_transfer_learning/"
      ],
      "metadata": {
        "colab": {
          "base_uri": "https://localhost:8080/"
        },
        "id": "lb4K4CsMPNAW",
        "outputId": "9de981c7-0ccc-412d-a423-fbc42dff9480"
      },
      "execution_count": 17,
      "outputs": [
        {
          "output_type": "stream",
          "name": "stdout",
          "text": [
            "/content\n",
            "/content/efficientnet_keras_transfer_learning\n"
          ]
        }
      ]
    },
    {
      "cell_type": "code",
      "source": [
        "# Options: EfficientNetB0, EfficientNetB1, EfficientNetB2, EfficientNetB3\n",
        "# Higher the number, the more complex the model is.\n",
        "from efficientnet import EfficientNetB0 as Net\n",
        "from efficientnet import center_crop_and_resize, preprocess_input"
      ],
      "metadata": {
        "id": "eyBg0dLKPND3"
      },
      "execution_count": 18,
      "outputs": []
    },
    {
      "cell_type": "code",
      "source": [
        "base_dir = '/content/drive/MyDrive/TVT_Female125'\n",
        "os.makedirs(base_dir, exist_ok=True)\n",
        "\n",
        "# Directories for our training,\n",
        "# validation and test splits\n",
        "train_dir = os.path.join(base_dir, 'train')\n",
        "os.makedirs(train_dir, exist_ok=True)\n",
        "validation_dir = os.path.join(base_dir, 'validation')\n",
        "os.makedirs(validation_dir, exist_ok=True)\n",
        "test_dir = os.path.join(base_dir, 'test')\n",
        "os.makedirs(test_dir, exist_ok=True)"
      ],
      "metadata": {
        "id": "Jwpq_-KvPef8"
      },
      "execution_count": 19,
      "outputs": []
    },
    {
      "cell_type": "markdown",
      "source": [
        "#load model"
      ],
      "metadata": {
        "id": "od-ZSNm5PoGy"
      }
    },
    {
      "cell_type": "code",
      "source": [
        "import sys\n",
        "sys.path.append('/content/drive/MyDrive/cut_panoramic/Model/2.2_รอบที่2_Flimpano_Female125_250.h5')\n",
        "\n",
        "from efficientnet.layers import Swish, DropConnect\n",
        "from efficientnet.model import ConvKernalInitializer\n",
        "from tensorflow.keras.utils import get_custom_objects\n",
        "\n",
        "get_custom_objects().update({\n",
        "    'ConvKernalInitializer': ConvKernalInitializer,\n",
        "    'Swish': Swish,\n",
        "    'DropConnect':DropConnect\n",
        "})"
      ],
      "metadata": {
        "id": "n5iPL5MNPkhE"
      },
      "execution_count": 20,
      "outputs": []
    },
    {
      "cell_type": "code",
      "source": [
        "#load model \n",
        "from tensorflow.keras.models import load_model\n",
        "model = load_model('/content/drive/MyDrive/cut_panoramic/Model/2.2_รอบที่2_Flimpano_Female125_250.h5')\n",
        "height = width = model.input_shape[1]"
      ],
      "metadata": {
        "id": "plYz49xMPkly"
      },
      "execution_count": 21,
      "outputs": []
    },
    {
      "cell_type": "code",
      "source": [
        "model.summary()"
      ],
      "metadata": {
        "colab": {
          "base_uri": "https://localhost:8080/"
        },
        "id": "z6IOPBflFbvc",
        "outputId": "743aa016-e6f8-4a50-ba70-6d920138dfff"
      },
      "execution_count": 22,
      "outputs": [
        {
          "output_type": "stream",
          "name": "stdout",
          "text": [
            "Model: \"sequential_2\"\n",
            "_________________________________________________________________\n",
            " Layer (type)                Output Shape              Param #   \n",
            "=================================================================\n",
            " efficientnet-b0 (Functional  (None, 5, 5, 1280)       4049564   \n",
            " )                                                               \n",
            "                                                                 \n",
            " gap (GlobalMaxPooling2D)    (None, 1280)              0         \n",
            "                                                                 \n",
            " dropout_out (Dropout)       (None, 1280)              0         \n",
            "                                                                 \n",
            " fc_out (Dense)              (None, 19)                24339     \n",
            "                                                                 \n",
            "=================================================================\n",
            "Total params: 4,073,903\n",
            "Trainable params: 24,339\n",
            "Non-trainable params: 4,049,564\n",
            "_________________________________________________________________\n"
          ]
        }
      ]
    },
    {
      "cell_type": "code",
      "source": [
        "# Train ด้วย ImageDataGenerator ของ Keras ซึ่งจะเพิ่มข้อมูลเสริมระหว่างการฝึกเพื่อลดโอกาสเกิด overfitting\n",
        "#overfitting เกิดจากข้อมูลที่ซับซ้อนกันเกินไป\n",
        "from tensorflow.keras.preprocessing.image import ImageDataGenerator\n",
        "\n",
        "train_datagen = ImageDataGenerator(\n",
        "      rescale=1./255, #โมเดลส่วนใหญ่ต้องใช้ RGB ในช่วง 0–1\n",
        "      rotation_range=40,\n",
        "      width_shift_range=0.2,\n",
        "      height_shift_range=0.2,\n",
        "      shear_range=0.2,\n",
        "      zoom_range=0.2,\n",
        "      horizontal_flip=True,\n",
        "      fill_mode='nearest')\n",
        "\n",
        "# Note that the validation data should not be augmented!\n",
        "test_datagen = ImageDataGenerator(rescale=1./255)\n",
        "\n",
        "train_generator = train_datagen.flow_from_directory(\n",
        "        # This is the target directory #ไดเรกเป้าหมาย\n",
        "        train_dir,\n",
        "        # รูปภาพทั้งหมดจะถูกปรับขนาดตามความสูงและความกว้างของเป้าหมาย\n",
        "        target_size=(height, width),\n",
        "        batch_size=batch_size,\n",
        "        # Since we use categorical_crossentropy loss, we need categorical labels\n",
        "        #เนื่องจากเราใช้ categorical_crossentropy loss เราจึงต้องมีป้ายกำกับตามหมวดหมู่\n",
        "        class_mode='categorical')\n",
        "\n",
        "validation_generator = test_datagen.flow_from_directory( #การดึงภาพจาก Directory มาเข้าโมเดล \n",
        "        validation_dir,\n",
        "        target_size=(height, width),\n",
        "        batch_size=batch_size,\n",
        "        class_mode='categorical')"
      ],
      "metadata": {
        "colab": {
          "base_uri": "https://localhost:8080/"
        },
        "id": "KBMZbdr2Pgw4",
        "outputId": "9eb05cc0-0319-44e2-9fa3-adccb8ff10aa"
      },
      "execution_count": 23,
      "outputs": [
        {
          "output_type": "stream",
          "name": "stdout",
          "text": [
            "Found 1425 images belonging to 19 classes.\n",
            "Found 475 images belonging to 19 classes.\n"
          ]
        }
      ]
    },
    {
      "cell_type": "code",
      "source": [
        "history = model.fit_generator(\n",
        "      train_generator,\n",
        "      steps_per_epoch= NUM_TRAIN //batch_size,\n",
        "      epochs=epochs,\n",
        "      validation_data=validation_generator,\n",
        "      validation_steps= NUM_TEST //batch_size,\n",
        "      verbose=1,\n",
        "      use_multiprocessing=True,\n",
        "      workers=4)"
      ],
      "metadata": {
        "colab": {
          "base_uri": "https://localhost:8080/"
        },
        "id": "C9Cf1dwyP1PD",
        "outputId": "986e95d9-505c-47a0-93a2-d71d483a71dd"
      },
      "execution_count": 24,
      "outputs": [
        {
          "output_type": "stream",
          "name": "stderr",
          "text": [
            "<ipython-input-24-caa7b37242a8>:1: UserWarning: `Model.fit_generator` is deprecated and will be removed in a future version. Please use `Model.fit`, which supports generators.\n",
            "  history = model.fit_generator(\n"
          ]
        },
        {
          "output_type": "stream",
          "name": "stdout",
          "text": [
            "Epoch 1/250\n",
            "89/89 [==============================] - 57s 602ms/step - loss: 2.3950 - acc: 0.2179 - val_loss: 2.7469 - val_acc: 0.1940\n",
            "Epoch 2/250\n",
            "89/89 [==============================] - 51s 563ms/step - loss: 2.4095 - acc: 0.2385 - val_loss: 2.7450 - val_acc: 0.1853\n",
            "Epoch 3/250\n",
            "89/89 [==============================] - 50s 554ms/step - loss: 2.4176 - acc: 0.2300 - val_loss: 2.7522 - val_acc: 0.1897\n",
            "Epoch 4/250\n",
            "89/89 [==============================] - 51s 562ms/step - loss: 2.4153 - acc: 0.2023 - val_loss: 2.7262 - val_acc: 0.1918\n",
            "Epoch 5/250\n",
            "89/89 [==============================] - 52s 575ms/step - loss: 2.3809 - acc: 0.2214 - val_loss: 2.7472 - val_acc: 0.1875\n",
            "Epoch 6/250\n",
            "89/89 [==============================] - 51s 559ms/step - loss: 2.4019 - acc: 0.2264 - val_loss: 2.7386 - val_acc: 0.1875\n",
            "Epoch 7/250\n",
            "89/89 [==============================] - 51s 562ms/step - loss: 2.3939 - acc: 0.2150 - val_loss: 2.7184 - val_acc: 0.1853\n",
            "Epoch 8/250\n",
            "89/89 [==============================] - 53s 580ms/step - loss: 2.3583 - acc: 0.2271 - val_loss: 2.7008 - val_acc: 0.1875\n",
            "Epoch 9/250\n",
            "89/89 [==============================] - 51s 562ms/step - loss: 2.4101 - acc: 0.2079 - val_loss: 2.7368 - val_acc: 0.1853\n",
            "Epoch 10/250\n",
            "89/89 [==============================] - 53s 580ms/step - loss: 2.3971 - acc: 0.2236 - val_loss: 2.7053 - val_acc: 0.1918\n",
            "Epoch 11/250\n",
            "89/89 [==============================] - 54s 588ms/step - loss: 2.3916 - acc: 0.2079 - val_loss: 2.7208 - val_acc: 0.1810\n",
            "Epoch 12/250\n",
            "89/89 [==============================] - 52s 573ms/step - loss: 2.3742 - acc: 0.2328 - val_loss: 2.7352 - val_acc: 0.1832\n",
            "Epoch 13/250\n",
            "89/89 [==============================] - 52s 572ms/step - loss: 2.4043 - acc: 0.2300 - val_loss: 2.7546 - val_acc: 0.1853\n",
            "Epoch 14/250\n",
            "89/89 [==============================] - 54s 593ms/step - loss: 2.4176 - acc: 0.2186 - val_loss: 2.7128 - val_acc: 0.1875\n",
            "Epoch 15/250\n",
            "89/89 [==============================] - 53s 578ms/step - loss: 2.3829 - acc: 0.2165 - val_loss: 2.7209 - val_acc: 0.1918\n",
            "Epoch 16/250\n",
            "89/89 [==============================] - 53s 578ms/step - loss: 2.3960 - acc: 0.2094 - val_loss: 2.7170 - val_acc: 0.1853\n",
            "Epoch 17/250\n",
            "89/89 [==============================] - 56s 612ms/step - loss: 2.4209 - acc: 0.2065 - val_loss: 2.7077 - val_acc: 0.1897\n",
            "Epoch 18/250\n",
            "89/89 [==============================] - 53s 584ms/step - loss: 2.3959 - acc: 0.2335 - val_loss: 2.7156 - val_acc: 0.1832\n",
            "Epoch 19/250\n",
            "89/89 [==============================] - 52s 576ms/step - loss: 2.3750 - acc: 0.2243 - val_loss: 2.7491 - val_acc: 0.1810\n",
            "Epoch 20/250\n",
            "89/89 [==============================] - 53s 586ms/step - loss: 2.3647 - acc: 0.2328 - val_loss: 2.7192 - val_acc: 0.1767\n",
            "Epoch 21/250\n",
            "89/89 [==============================] - 54s 599ms/step - loss: 2.3273 - acc: 0.2378 - val_loss: 2.7235 - val_acc: 0.1853\n",
            "Epoch 22/250\n",
            "89/89 [==============================] - 53s 583ms/step - loss: 2.3913 - acc: 0.2207 - val_loss: 2.7168 - val_acc: 0.1875\n",
            "Epoch 23/250\n",
            "89/89 [==============================] - 53s 579ms/step - loss: 2.3521 - acc: 0.2285 - val_loss: 2.7511 - val_acc: 0.1853\n",
            "Epoch 24/250\n",
            "89/89 [==============================] - 53s 578ms/step - loss: 2.3859 - acc: 0.2328 - val_loss: 2.7402 - val_acc: 0.1940\n",
            "Epoch 25/250\n",
            "89/89 [==============================] - 55s 604ms/step - loss: 2.3696 - acc: 0.2236 - val_loss: 2.7061 - val_acc: 0.1875\n",
            "Epoch 26/250\n",
            "89/89 [==============================] - 53s 581ms/step - loss: 2.4065 - acc: 0.2207 - val_loss: 2.7255 - val_acc: 0.1810\n",
            "Epoch 27/250\n",
            "89/89 [==============================] - 53s 586ms/step - loss: 2.3870 - acc: 0.2285 - val_loss: 2.7504 - val_acc: 0.1875\n",
            "Epoch 28/250\n",
            "89/89 [==============================] - 53s 584ms/step - loss: 2.4222 - acc: 0.2200 - val_loss: 2.7427 - val_acc: 0.1810\n",
            "Epoch 29/250\n",
            "89/89 [==============================] - 55s 605ms/step - loss: 2.4126 - acc: 0.2285 - val_loss: 2.7334 - val_acc: 0.1853\n",
            "Epoch 30/250\n",
            "89/89 [==============================] - 53s 583ms/step - loss: 2.3801 - acc: 0.2378 - val_loss: 2.7126 - val_acc: 0.1875\n",
            "Epoch 31/250\n",
            "89/89 [==============================] - 53s 585ms/step - loss: 2.4041 - acc: 0.2292 - val_loss: 2.7325 - val_acc: 0.1853\n",
            "Epoch 32/250\n",
            "89/89 [==============================] - 54s 590ms/step - loss: 2.3969 - acc: 0.2314 - val_loss: 2.7419 - val_acc: 0.1832\n",
            "Epoch 33/250\n",
            "89/89 [==============================] - 54s 589ms/step - loss: 2.3891 - acc: 0.2356 - val_loss: 2.7333 - val_acc: 0.1832\n",
            "Epoch 34/250\n",
            "89/89 [==============================] - 53s 581ms/step - loss: 2.4194 - acc: 0.2101 - val_loss: 2.7399 - val_acc: 0.1832\n",
            "Epoch 35/250\n",
            "89/89 [==============================] - 53s 587ms/step - loss: 2.3970 - acc: 0.2363 - val_loss: 2.7291 - val_acc: 0.1918\n",
            "Epoch 36/250\n",
            "89/89 [==============================] - 54s 589ms/step - loss: 2.3642 - acc: 0.2356 - val_loss: 2.7296 - val_acc: 0.1853\n",
            "Epoch 37/250\n",
            "89/89 [==============================] - 55s 603ms/step - loss: 2.3525 - acc: 0.2314 - val_loss: 2.7293 - val_acc: 0.1853\n",
            "Epoch 38/250\n",
            "89/89 [==============================] - 54s 592ms/step - loss: 2.3339 - acc: 0.2413 - val_loss: 2.7271 - val_acc: 0.1810\n",
            "Epoch 39/250\n",
            "89/89 [==============================] - 54s 588ms/step - loss: 2.3089 - acc: 0.2406 - val_loss: 2.7307 - val_acc: 0.1832\n",
            "Epoch 40/250\n",
            "89/89 [==============================] - 54s 590ms/step - loss: 2.3698 - acc: 0.2285 - val_loss: 2.7081 - val_acc: 0.1853\n",
            "Epoch 41/250\n",
            "89/89 [==============================] - 53s 587ms/step - loss: 2.3668 - acc: 0.2321 - val_loss: 2.7194 - val_acc: 0.1832\n",
            "Epoch 42/250\n",
            "89/89 [==============================] - 54s 590ms/step - loss: 2.4064 - acc: 0.2193 - val_loss: 2.7117 - val_acc: 0.1832\n",
            "Epoch 43/250\n",
            "89/89 [==============================] - 53s 584ms/step - loss: 2.3645 - acc: 0.2307 - val_loss: 2.7147 - val_acc: 0.1853\n",
            "Epoch 44/250\n",
            "89/89 [==============================] - 55s 602ms/step - loss: 2.3473 - acc: 0.2321 - val_loss: 2.7255 - val_acc: 0.1767\n",
            "Epoch 45/250\n",
            "89/89 [==============================] - 53s 584ms/step - loss: 2.3799 - acc: 0.2285 - val_loss: 2.7100 - val_acc: 0.1789\n",
            "Epoch 46/250\n",
            "89/89 [==============================] - 53s 583ms/step - loss: 2.3914 - acc: 0.2150 - val_loss: 2.7286 - val_acc: 0.1853\n",
            "Epoch 47/250\n",
            "89/89 [==============================] - 54s 589ms/step - loss: 2.3748 - acc: 0.2328 - val_loss: 2.7037 - val_acc: 0.1897\n",
            "Epoch 48/250\n",
            "89/89 [==============================] - 56s 612ms/step - loss: 2.3528 - acc: 0.2221 - val_loss: 2.7234 - val_acc: 0.1875\n",
            "Epoch 49/250\n",
            "89/89 [==============================] - 54s 594ms/step - loss: 2.3905 - acc: 0.2321 - val_loss: 2.7028 - val_acc: 0.1853\n",
            "Epoch 50/250\n",
            "89/89 [==============================] - 53s 587ms/step - loss: 2.3312 - acc: 0.2356 - val_loss: 2.6869 - val_acc: 0.1897\n",
            "Epoch 51/250\n",
            "89/89 [==============================] - 54s 591ms/step - loss: 2.4137 - acc: 0.2229 - val_loss: 2.7065 - val_acc: 0.1875\n",
            "Epoch 52/250\n",
            "89/89 [==============================] - 55s 605ms/step - loss: 2.3808 - acc: 0.2250 - val_loss: 2.7098 - val_acc: 0.1983\n",
            "Epoch 53/250\n",
            "89/89 [==============================] - 53s 588ms/step - loss: 2.3560 - acc: 0.2158 - val_loss: 2.6751 - val_acc: 0.1940\n",
            "Epoch 54/250\n",
            "89/89 [==============================] - 54s 592ms/step - loss: 2.3392 - acc: 0.2314 - val_loss: 2.7129 - val_acc: 0.1832\n",
            "Epoch 55/250\n",
            "89/89 [==============================] - 54s 595ms/step - loss: 2.3709 - acc: 0.2385 - val_loss: 2.6991 - val_acc: 0.1918\n",
            "Epoch 56/250\n",
            "89/89 [==============================] - 54s 589ms/step - loss: 2.3707 - acc: 0.2477 - val_loss: 2.7265 - val_acc: 0.1897\n",
            "Epoch 57/250\n",
            "89/89 [==============================] - 53s 586ms/step - loss: 2.3395 - acc: 0.2307 - val_loss: 2.7112 - val_acc: 0.1853\n",
            "Epoch 58/250\n",
            "89/89 [==============================] - 54s 598ms/step - loss: 2.3531 - acc: 0.2184 - val_loss: 2.7138 - val_acc: 0.1918\n",
            "Epoch 59/250\n",
            "89/89 [==============================] - 53s 585ms/step - loss: 2.3484 - acc: 0.2314 - val_loss: 2.7219 - val_acc: 0.1918\n",
            "Epoch 60/250\n",
            "89/89 [==============================] - 54s 590ms/step - loss: 2.3864 - acc: 0.2250 - val_loss: 2.7451 - val_acc: 0.1810\n",
            "Epoch 61/250\n",
            "89/89 [==============================] - 53s 585ms/step - loss: 2.3793 - acc: 0.2158 - val_loss: 2.7431 - val_acc: 0.1875\n",
            "Epoch 62/250\n",
            "89/89 [==============================] - 54s 593ms/step - loss: 2.3450 - acc: 0.2307 - val_loss: 2.6999 - val_acc: 0.1918\n",
            "Epoch 63/250\n",
            "89/89 [==============================] - 54s 594ms/step - loss: 2.3282 - acc: 0.2243 - val_loss: 2.7141 - val_acc: 0.1897\n",
            "Epoch 64/250\n",
            "89/89 [==============================] - 54s 593ms/step - loss: 2.3859 - acc: 0.2207 - val_loss: 2.6708 - val_acc: 0.1940\n",
            "Epoch 65/250\n",
            "89/89 [==============================] - 54s 590ms/step - loss: 2.3380 - acc: 0.2278 - val_loss: 2.7177 - val_acc: 0.1897\n",
            "Epoch 66/250\n",
            "89/89 [==============================] - 57s 628ms/step - loss: 2.4078 - acc: 0.2257 - val_loss: 2.6949 - val_acc: 0.1961\n",
            "Epoch 67/250\n",
            "89/89 [==============================] - 53s 585ms/step - loss: 2.3596 - acc: 0.2257 - val_loss: 2.6856 - val_acc: 0.1918\n",
            "Epoch 68/250\n",
            "89/89 [==============================] - 54s 589ms/step - loss: 2.4026 - acc: 0.2115 - val_loss: 2.6742 - val_acc: 0.1983\n",
            "Epoch 69/250\n",
            "89/89 [==============================] - 54s 588ms/step - loss: 2.3745 - acc: 0.2229 - val_loss: 2.7197 - val_acc: 0.1940\n",
            "Epoch 70/250\n",
            "89/89 [==============================] - 54s 592ms/step - loss: 2.3490 - acc: 0.2271 - val_loss: 2.7024 - val_acc: 0.1853\n",
            "Epoch 71/250\n",
            "89/89 [==============================] - 54s 596ms/step - loss: 2.3515 - acc: 0.2342 - val_loss: 2.6985 - val_acc: 0.1875\n",
            "Epoch 72/250\n",
            "89/89 [==============================] - 54s 596ms/step - loss: 2.3759 - acc: 0.2221 - val_loss: 2.6997 - val_acc: 0.1810\n",
            "Epoch 73/250\n",
            "89/89 [==============================] - 54s 591ms/step - loss: 2.3679 - acc: 0.2413 - val_loss: 2.7041 - val_acc: 0.1897\n",
            "Epoch 74/250\n",
            "89/89 [==============================] - 53s 585ms/step - loss: 2.3623 - acc: 0.2349 - val_loss: 2.6837 - val_acc: 0.1940\n",
            "Epoch 75/250\n",
            "89/89 [==============================] - 53s 584ms/step - loss: 2.3465 - acc: 0.2349 - val_loss: 2.6972 - val_acc: 0.1832\n",
            "Epoch 76/250\n",
            "89/89 [==============================] - 54s 591ms/step - loss: 2.3559 - acc: 0.2314 - val_loss: 2.7216 - val_acc: 0.1897\n",
            "Epoch 77/250\n",
            "89/89 [==============================] - 54s 588ms/step - loss: 2.2965 - acc: 0.2399 - val_loss: 2.6975 - val_acc: 0.1940\n",
            "Epoch 78/250\n",
            "89/89 [==============================] - 53s 581ms/step - loss: 2.3544 - acc: 0.2278 - val_loss: 2.6843 - val_acc: 0.2047\n",
            "Epoch 79/250\n",
            "89/89 [==============================] - 53s 584ms/step - loss: 2.3888 - acc: 0.2243 - val_loss: 2.7082 - val_acc: 0.2004\n",
            "Epoch 80/250\n",
            "89/89 [==============================] - 54s 590ms/step - loss: 2.3372 - acc: 0.2342 - val_loss: 2.6901 - val_acc: 0.1918\n",
            "Epoch 81/250\n",
            "89/89 [==============================] - 54s 588ms/step - loss: 2.3195 - acc: 0.2484 - val_loss: 2.7142 - val_acc: 0.1789\n",
            "Epoch 82/250\n",
            "89/89 [==============================] - 53s 586ms/step - loss: 2.3702 - acc: 0.2122 - val_loss: 2.7152 - val_acc: 0.1940\n",
            "Epoch 83/250\n",
            "89/89 [==============================] - 53s 584ms/step - loss: 2.3437 - acc: 0.2165 - val_loss: 2.7191 - val_acc: 0.1918\n",
            "Epoch 84/250\n",
            "89/89 [==============================] - 53s 584ms/step - loss: 2.3692 - acc: 0.2314 - val_loss: 2.7075 - val_acc: 0.1940\n",
            "Epoch 85/250\n",
            "89/89 [==============================] - 54s 593ms/step - loss: 2.3654 - acc: 0.2413 - val_loss: 2.7136 - val_acc: 0.1918\n",
            "Epoch 86/250\n",
            "89/89 [==============================] - 53s 584ms/step - loss: 2.3412 - acc: 0.2392 - val_loss: 2.7089 - val_acc: 0.1918\n",
            "Epoch 87/250\n",
            "89/89 [==============================] - 53s 585ms/step - loss: 2.3729 - acc: 0.2094 - val_loss: 2.7202 - val_acc: 0.1940\n",
            "Epoch 88/250\n",
            "89/89 [==============================] - 54s 593ms/step - loss: 2.3344 - acc: 0.2307 - val_loss: 2.7305 - val_acc: 0.1918\n",
            "Epoch 89/250\n",
            "89/89 [==============================] - 54s 588ms/step - loss: 2.3580 - acc: 0.2342 - val_loss: 2.7210 - val_acc: 0.1853\n",
            "Epoch 90/250\n",
            "89/89 [==============================] - 53s 586ms/step - loss: 2.3298 - acc: 0.2207 - val_loss: 2.7103 - val_acc: 0.1940\n",
            "Epoch 91/250\n",
            "89/89 [==============================] - 55s 603ms/step - loss: 2.3597 - acc: 0.2271 - val_loss: 2.7018 - val_acc: 0.1875\n",
            "Epoch 92/250\n",
            "89/89 [==============================] - 53s 580ms/step - loss: 2.3251 - acc: 0.2548 - val_loss: 2.7111 - val_acc: 0.1897\n",
            "Epoch 93/250\n",
            "89/89 [==============================] - 53s 586ms/step - loss: 2.3887 - acc: 0.2115 - val_loss: 2.7060 - val_acc: 0.1875\n",
            "Epoch 94/250\n",
            "89/89 [==============================] - 54s 597ms/step - loss: 2.3296 - acc: 0.2434 - val_loss: 2.7339 - val_acc: 0.1832\n",
            "Epoch 95/250\n",
            "89/89 [==============================] - 53s 580ms/step - loss: 2.3239 - acc: 0.2413 - val_loss: 2.7005 - val_acc: 0.1961\n",
            "Epoch 96/250\n",
            "89/89 [==============================] - 53s 584ms/step - loss: 2.3556 - acc: 0.2328 - val_loss: 2.7038 - val_acc: 0.1853\n",
            "Epoch 97/250\n",
            "89/89 [==============================] - 55s 604ms/step - loss: 2.3533 - acc: 0.2243 - val_loss: 2.7328 - val_acc: 0.1832\n",
            "Epoch 98/250\n",
            "89/89 [==============================] - 53s 584ms/step - loss: 2.2891 - acc: 0.2363 - val_loss: 2.7073 - val_acc: 0.1832\n",
            "Epoch 99/250\n",
            "89/89 [==============================] - 53s 583ms/step - loss: 2.3511 - acc: 0.2349 - val_loss: 2.7178 - val_acc: 0.1853\n",
            "Epoch 100/250\n",
            "89/89 [==============================] - 55s 603ms/step - loss: 2.3021 - acc: 0.2434 - val_loss: 2.7201 - val_acc: 0.1853\n",
            "Epoch 101/250\n",
            "89/89 [==============================] - 53s 584ms/step - loss: 2.3484 - acc: 0.2321 - val_loss: 2.7236 - val_acc: 0.1875\n",
            "Epoch 102/250\n",
            "89/89 [==============================] - 54s 588ms/step - loss: 2.3581 - acc: 0.2292 - val_loss: 2.7118 - val_acc: 0.1853\n",
            "Epoch 103/250\n",
            "89/89 [==============================] - 53s 586ms/step - loss: 2.3334 - acc: 0.2314 - val_loss: 2.7356 - val_acc: 0.1875\n",
            "Epoch 104/250\n",
            "89/89 [==============================] - 54s 589ms/step - loss: 2.3810 - acc: 0.2250 - val_loss: 2.7150 - val_acc: 0.1897\n",
            "Epoch 105/250\n",
            "89/89 [==============================] - 54s 589ms/step - loss: 2.3485 - acc: 0.2207 - val_loss: 2.7304 - val_acc: 0.1853\n",
            "Epoch 106/250\n",
            "89/89 [==============================] - 54s 589ms/step - loss: 2.3558 - acc: 0.2434 - val_loss: 2.7106 - val_acc: 0.1897\n",
            "Epoch 107/250\n",
            "89/89 [==============================] - 54s 588ms/step - loss: 2.3721 - acc: 0.2406 - val_loss: 2.7164 - val_acc: 0.1853\n",
            "Epoch 108/250\n",
            "89/89 [==============================] - 54s 592ms/step - loss: 2.3305 - acc: 0.2342 - val_loss: 2.7180 - val_acc: 0.1832\n",
            "Epoch 109/250\n",
            "89/89 [==============================] - 55s 602ms/step - loss: 2.3962 - acc: 0.2200 - val_loss: 2.7219 - val_acc: 0.1832\n",
            "Epoch 110/250\n",
            "89/89 [==============================] - 54s 590ms/step - loss: 2.2555 - acc: 0.2619 - val_loss: 2.7210 - val_acc: 0.1875\n",
            "Epoch 111/250\n",
            "89/89 [==============================] - 54s 594ms/step - loss: 2.3245 - acc: 0.2363 - val_loss: 2.7429 - val_acc: 0.1832\n",
            "Epoch 112/250\n",
            "89/89 [==============================] - 55s 607ms/step - loss: 2.3612 - acc: 0.2328 - val_loss: 2.7236 - val_acc: 0.1853\n",
            "Epoch 113/250\n",
            "89/89 [==============================] - 54s 593ms/step - loss: 2.3216 - acc: 0.2243 - val_loss: 2.7190 - val_acc: 0.1875\n",
            "Epoch 114/250\n",
            "89/89 [==============================] - 54s 588ms/step - loss: 2.3361 - acc: 0.2363 - val_loss: 2.7159 - val_acc: 0.1853\n",
            "Epoch 115/250\n",
            "89/89 [==============================] - 55s 622ms/step - loss: 2.3534 - acc: 0.2186 - val_loss: 2.7514 - val_acc: 0.1810\n",
            "Epoch 116/250\n",
            "89/89 [==============================] - 54s 589ms/step - loss: 2.3132 - acc: 0.2399 - val_loss: 2.7204 - val_acc: 0.1918\n",
            "Epoch 117/250\n",
            "89/89 [==============================] - 55s 605ms/step - loss: 2.3567 - acc: 0.2285 - val_loss: 2.7314 - val_acc: 0.1897\n",
            "Epoch 118/250\n",
            "89/89 [==============================] - 54s 589ms/step - loss: 2.3696 - acc: 0.2427 - val_loss: 2.7072 - val_acc: 0.1875\n",
            "Epoch 119/250\n",
            "89/89 [==============================] - 54s 614ms/step - loss: 2.3606 - acc: 0.2434 - val_loss: 2.7194 - val_acc: 0.1875\n",
            "Epoch 120/250\n",
            "89/89 [==============================] - 55s 604ms/step - loss: 2.3223 - acc: 0.2356 - val_loss: 2.7408 - val_acc: 0.1875\n",
            "Epoch 121/250\n",
            "89/89 [==============================] - 54s 591ms/step - loss: 2.2970 - acc: 0.2413 - val_loss: 2.7191 - val_acc: 0.1853\n",
            "Epoch 122/250\n",
            "89/89 [==============================] - 54s 593ms/step - loss: 2.3684 - acc: 0.2271 - val_loss: 2.7257 - val_acc: 0.1961\n",
            "Epoch 123/250\n",
            "89/89 [==============================] - 54s 591ms/step - loss: 2.3244 - acc: 0.2292 - val_loss: 2.7264 - val_acc: 0.1897\n",
            "Epoch 124/250\n",
            "89/89 [==============================] - 54s 594ms/step - loss: 2.3320 - acc: 0.2434 - val_loss: 2.7116 - val_acc: 0.1853\n",
            "Epoch 125/250\n",
            "89/89 [==============================] - 55s 608ms/step - loss: 2.3612 - acc: 0.2285 - val_loss: 2.7197 - val_acc: 0.1918\n",
            "Epoch 126/250\n",
            "89/89 [==============================] - 54s 593ms/step - loss: 2.3365 - acc: 0.2328 - val_loss: 2.7626 - val_acc: 0.1832\n",
            "Epoch 127/250\n",
            "89/89 [==============================] - 54s 595ms/step - loss: 2.3568 - acc: 0.2198 - val_loss: 2.7503 - val_acc: 0.1918\n",
            "Epoch 128/250\n",
            "89/89 [==============================] - 54s 591ms/step - loss: 2.3240 - acc: 0.2356 - val_loss: 2.7230 - val_acc: 0.1940\n",
            "Epoch 129/250\n",
            "89/89 [==============================] - 54s 595ms/step - loss: 2.3350 - acc: 0.2356 - val_loss: 2.7477 - val_acc: 0.1832\n",
            "Epoch 130/250\n",
            "89/89 [==============================] - 55s 608ms/step - loss: 2.3049 - acc: 0.2463 - val_loss: 2.7271 - val_acc: 0.1875\n",
            "Epoch 131/250\n",
            "89/89 [==============================] - 54s 591ms/step - loss: 2.3009 - acc: 0.2441 - val_loss: 2.7206 - val_acc: 0.1853\n",
            "Epoch 132/250\n",
            "89/89 [==============================] - 54s 591ms/step - loss: 2.3069 - acc: 0.2456 - val_loss: 2.7120 - val_acc: 0.1961\n",
            "Epoch 133/250\n",
            "89/89 [==============================] - 54s 589ms/step - loss: 2.3500 - acc: 0.2477 - val_loss: 2.7280 - val_acc: 0.1789\n",
            "Epoch 134/250\n",
            "89/89 [==============================] - 54s 588ms/step - loss: 2.2874 - acc: 0.2534 - val_loss: 2.7487 - val_acc: 0.1853\n",
            "Epoch 135/250\n",
            "89/89 [==============================] - 55s 605ms/step - loss: 2.2900 - acc: 0.2512 - val_loss: 2.7219 - val_acc: 0.1940\n",
            "Epoch 136/250\n",
            "89/89 [==============================] - 53s 588ms/step - loss: 2.3607 - acc: 0.2285 - val_loss: 2.7530 - val_acc: 0.1961\n",
            "Epoch 137/250\n",
            "89/89 [==============================] - 55s 600ms/step - loss: 2.3466 - acc: 0.2491 - val_loss: 2.7472 - val_acc: 0.1875\n",
            "Epoch 138/250\n",
            "89/89 [==============================] - 54s 590ms/step - loss: 2.3313 - acc: 0.2520 - val_loss: 2.7330 - val_acc: 0.1853\n",
            "Epoch 139/250\n",
            "89/89 [==============================] - 53s 582ms/step - loss: 2.3425 - acc: 0.2257 - val_loss: 2.7441 - val_acc: 0.1875\n",
            "Epoch 140/250\n",
            "89/89 [==============================] - 54s 590ms/step - loss: 2.3149 - acc: 0.2413 - val_loss: 2.7492 - val_acc: 0.1853\n",
            "Epoch 141/250\n",
            "89/89 [==============================] - 54s 590ms/step - loss: 2.3233 - acc: 0.2285 - val_loss: 2.7420 - val_acc: 0.1853\n",
            "Epoch 142/250\n",
            "89/89 [==============================] - 55s 606ms/step - loss: 2.3151 - acc: 0.2370 - val_loss: 2.7503 - val_acc: 0.1897\n",
            "Epoch 143/250\n",
            "89/89 [==============================] - 53s 586ms/step - loss: 2.3314 - acc: 0.2477 - val_loss: 2.7262 - val_acc: 0.1918\n",
            "Epoch 144/250\n",
            "89/89 [==============================] - 58s 636ms/step - loss: 2.2885 - acc: 0.2449 - val_loss: 2.7333 - val_acc: 0.1940\n",
            "Epoch 145/250\n",
            "89/89 [==============================] - 54s 588ms/step - loss: 2.3158 - acc: 0.2399 - val_loss: 2.7453 - val_acc: 0.1853\n",
            "Epoch 146/250\n",
            "89/89 [==============================] - 54s 593ms/step - loss: 2.2989 - acc: 0.2413 - val_loss: 2.7676 - val_acc: 0.1789\n",
            "Epoch 147/250\n",
            "89/89 [==============================] - 53s 586ms/step - loss: 2.3413 - acc: 0.2449 - val_loss: 2.7573 - val_acc: 0.1918\n",
            "Epoch 148/250\n",
            "89/89 [==============================] - 54s 592ms/step - loss: 2.3530 - acc: 0.2356 - val_loss: 2.7675 - val_acc: 0.1746\n",
            "Epoch 149/250\n",
            "89/89 [==============================] - 55s 603ms/step - loss: 2.2969 - acc: 0.2569 - val_loss: 2.7222 - val_acc: 0.1897\n",
            "Epoch 150/250\n",
            "89/89 [==============================] - 53s 585ms/step - loss: 2.3214 - acc: 0.2342 - val_loss: 2.7270 - val_acc: 0.1897\n",
            "Epoch 151/250\n",
            "89/89 [==============================] - 55s 607ms/step - loss: 2.3954 - acc: 0.2143 - val_loss: 2.7452 - val_acc: 0.1832\n",
            "Epoch 152/250\n",
            "89/89 [==============================] - 54s 591ms/step - loss: 2.2523 - acc: 0.2562 - val_loss: 2.7297 - val_acc: 0.1853\n",
            "Epoch 153/250\n",
            "89/89 [==============================] - 53s 589ms/step - loss: 2.2992 - acc: 0.2406 - val_loss: 2.7110 - val_acc: 0.1832\n",
            "Epoch 154/250\n",
            "89/89 [==============================] - 54s 590ms/step - loss: 2.2952 - acc: 0.2399 - val_loss: 2.7128 - val_acc: 0.1853\n",
            "Epoch 155/250\n",
            "89/89 [==============================] - 54s 590ms/step - loss: 2.3036 - acc: 0.2520 - val_loss: 2.7350 - val_acc: 0.1746\n",
            "Epoch 156/250\n",
            "89/89 [==============================] - 53s 587ms/step - loss: 2.3418 - acc: 0.2335 - val_loss: 2.7440 - val_acc: 0.1832\n",
            "Epoch 157/250\n",
            "89/89 [==============================] - 53s 588ms/step - loss: 2.3250 - acc: 0.2268 - val_loss: 2.7484 - val_acc: 0.1789\n",
            "Epoch 158/250\n",
            "89/89 [==============================] - 55s 606ms/step - loss: 2.3068 - acc: 0.2413 - val_loss: 2.7423 - val_acc: 0.1832\n",
            "Epoch 159/250\n",
            "89/89 [==============================] - 54s 591ms/step - loss: 2.3119 - acc: 0.2307 - val_loss: 2.7299 - val_acc: 0.1875\n",
            "Epoch 160/250\n",
            "89/89 [==============================] - 54s 588ms/step - loss: 2.3281 - acc: 0.2349 - val_loss: 2.7627 - val_acc: 0.1767\n",
            "Epoch 161/250\n",
            "89/89 [==============================] - 53s 588ms/step - loss: 2.3029 - acc: 0.2527 - val_loss: 2.7463 - val_acc: 0.1832\n",
            "Epoch 162/250\n",
            "89/89 [==============================] - 53s 588ms/step - loss: 2.3215 - acc: 0.2441 - val_loss: 2.7194 - val_acc: 0.1983\n",
            "Epoch 163/250\n",
            "89/89 [==============================] - 54s 589ms/step - loss: 2.2241 - acc: 0.2576 - val_loss: 2.7213 - val_acc: 0.1832\n",
            "Epoch 164/250\n",
            "89/89 [==============================] - 55s 606ms/step - loss: 2.2969 - acc: 0.2463 - val_loss: 2.7375 - val_acc: 0.1853\n",
            "Epoch 165/250\n",
            "89/89 [==============================] - 54s 589ms/step - loss: 2.3488 - acc: 0.2129 - val_loss: 2.7248 - val_acc: 0.1853\n",
            "Epoch 166/250\n",
            "89/89 [==============================] - 55s 601ms/step - loss: 2.3354 - acc: 0.2236 - val_loss: 2.7429 - val_acc: 0.1853\n",
            "Epoch 167/250\n",
            "89/89 [==============================] - 53s 585ms/step - loss: 2.3148 - acc: 0.2314 - val_loss: 2.7402 - val_acc: 0.1810\n",
            "Epoch 168/250\n",
            "89/89 [==============================] - 53s 582ms/step - loss: 2.2819 - acc: 0.2413 - val_loss: 2.7371 - val_acc: 0.1853\n",
            "Epoch 169/250\n",
            "89/89 [==============================] - 53s 587ms/step - loss: 2.2735 - acc: 0.2590 - val_loss: 2.7228 - val_acc: 0.1832\n",
            "Epoch 170/250\n",
            "89/89 [==============================] - 54s 587ms/step - loss: 2.3130 - acc: 0.2477 - val_loss: 2.7228 - val_acc: 0.1810\n",
            "Epoch 171/250\n",
            "89/89 [==============================] - 53s 588ms/step - loss: 2.2917 - acc: 0.2512 - val_loss: 2.7413 - val_acc: 0.1832\n",
            "Epoch 172/250\n",
            "89/89 [==============================] - 53s 586ms/step - loss: 2.2743 - acc: 0.2520 - val_loss: 2.7416 - val_acc: 0.1810\n",
            "Epoch 173/250\n",
            "89/89 [==============================] - 55s 608ms/step - loss: 2.2508 - acc: 0.2690 - val_loss: 2.7487 - val_acc: 0.1810\n",
            "Epoch 174/250\n",
            "89/89 [==============================] - 54s 590ms/step - loss: 2.3714 - acc: 0.2236 - val_loss: 2.7164 - val_acc: 0.1940\n",
            "Epoch 175/250\n",
            "89/89 [==============================] - 55s 601ms/step - loss: 2.2924 - acc: 0.2534 - val_loss: 2.7068 - val_acc: 0.1875\n",
            "Epoch 176/250\n",
            "89/89 [==============================] - 54s 588ms/step - loss: 2.2871 - acc: 0.2463 - val_loss: 2.7227 - val_acc: 0.1875\n",
            "Epoch 177/250\n",
            "89/89 [==============================] - 55s 601ms/step - loss: 2.3025 - acc: 0.2527 - val_loss: 2.7121 - val_acc: 0.1853\n",
            "Epoch 178/250\n",
            "89/89 [==============================] - 54s 589ms/step - loss: 2.2569 - acc: 0.2470 - val_loss: 2.7226 - val_acc: 0.1940\n",
            "Epoch 179/250\n",
            "89/89 [==============================] - 55s 600ms/step - loss: 2.3163 - acc: 0.2314 - val_loss: 2.7385 - val_acc: 0.1810\n",
            "Epoch 180/250\n",
            "89/89 [==============================] - 54s 610ms/step - loss: 2.2789 - acc: 0.2512 - val_loss: 2.7383 - val_acc: 0.1853\n",
            "Epoch 181/250\n",
            "89/89 [==============================] - 54s 590ms/step - loss: 2.3094 - acc: 0.2420 - val_loss: 2.7189 - val_acc: 0.1746\n",
            "Epoch 182/250\n",
            "89/89 [==============================] - 53s 588ms/step - loss: 2.2651 - acc: 0.2385 - val_loss: 2.7343 - val_acc: 0.1832\n",
            "Epoch 183/250\n",
            "89/89 [==============================] - 54s 590ms/step - loss: 2.3020 - acc: 0.2399 - val_loss: 2.7207 - val_acc: 0.1746\n",
            "Epoch 184/250\n",
            "89/89 [==============================] - 54s 591ms/step - loss: 2.3184 - acc: 0.2392 - val_loss: 2.7279 - val_acc: 0.1897\n",
            "Epoch 185/250\n",
            "89/89 [==============================] - 53s 582ms/step - loss: 2.2969 - acc: 0.2328 - val_loss: 2.7466 - val_acc: 0.1659\n",
            "Epoch 186/250\n",
            "89/89 [==============================] - 56s 613ms/step - loss: 2.2848 - acc: 0.2335 - val_loss: 2.7178 - val_acc: 0.1875\n",
            "Epoch 187/250\n",
            "89/89 [==============================] - 54s 593ms/step - loss: 2.2783 - acc: 0.2605 - val_loss: 2.7168 - val_acc: 0.1810\n",
            "Epoch 188/250\n",
            "89/89 [==============================] - 56s 616ms/step - loss: 2.2875 - acc: 0.2527 - val_loss: 2.7306 - val_acc: 0.1789\n",
            "Epoch 189/250\n",
            "89/89 [==============================] - 54s 588ms/step - loss: 2.2983 - acc: 0.2541 - val_loss: 2.7010 - val_acc: 0.1810\n",
            "Epoch 190/250\n",
            "89/89 [==============================] - 54s 597ms/step - loss: 2.3091 - acc: 0.2441 - val_loss: 2.7408 - val_acc: 0.1832\n",
            "Epoch 191/250\n",
            "89/89 [==============================] - 55s 609ms/step - loss: 2.3080 - acc: 0.2257 - val_loss: 2.7050 - val_acc: 0.1810\n",
            "Epoch 192/250\n",
            "89/89 [==============================] - 54s 595ms/step - loss: 2.2610 - acc: 0.2647 - val_loss: 2.7088 - val_acc: 0.1724\n",
            "Epoch 193/250\n",
            "89/89 [==============================] - 56s 616ms/step - loss: 2.2844 - acc: 0.2427 - val_loss: 2.6916 - val_acc: 0.1810\n",
            "Epoch 194/250\n",
            "89/89 [==============================] - 54s 595ms/step - loss: 2.2829 - acc: 0.2463 - val_loss: 2.7127 - val_acc: 0.1810\n",
            "Epoch 195/250\n",
            "89/89 [==============================] - 56s 614ms/step - loss: 2.3088 - acc: 0.2512 - val_loss: 2.7342 - val_acc: 0.1875\n",
            "Epoch 196/250\n",
            "89/89 [==============================] - 55s 599ms/step - loss: 2.2823 - acc: 0.2512 - val_loss: 2.7046 - val_acc: 0.1875\n",
            "Epoch 197/250\n",
            "89/89 [==============================] - 56s 619ms/step - loss: 2.3100 - acc: 0.2441 - val_loss: 2.7115 - val_acc: 0.1832\n",
            "Epoch 198/250\n",
            "89/89 [==============================] - 54s 595ms/step - loss: 2.2723 - acc: 0.2363 - val_loss: 2.7317 - val_acc: 0.1832\n",
            "Epoch 199/250\n",
            "89/89 [==============================] - 55s 609ms/step - loss: 2.3392 - acc: 0.2349 - val_loss: 2.7152 - val_acc: 0.1810\n",
            "Epoch 200/250\n",
            "89/89 [==============================] - 55s 600ms/step - loss: 2.3110 - acc: 0.2314 - val_loss: 2.6945 - val_acc: 0.1875\n",
            "Epoch 201/250\n",
            "89/89 [==============================] - 54s 594ms/step - loss: 2.3026 - acc: 0.2349 - val_loss: 2.7204 - val_acc: 0.1853\n",
            "Epoch 202/250\n",
            "89/89 [==============================] - 54s 597ms/step - loss: 2.2228 - acc: 0.2654 - val_loss: 2.7137 - val_acc: 0.1875\n",
            "Epoch 203/250\n",
            "89/89 [==============================] - 55s 603ms/step - loss: 2.2727 - acc: 0.2470 - val_loss: 2.7341 - val_acc: 0.1810\n",
            "Epoch 204/250\n",
            "89/89 [==============================] - 55s 600ms/step - loss: 2.2807 - acc: 0.2477 - val_loss: 2.7384 - val_acc: 0.1703\n",
            "Epoch 205/250\n",
            "89/89 [==============================] - 55s 602ms/step - loss: 2.2900 - acc: 0.2449 - val_loss: 2.7102 - val_acc: 0.1767\n",
            "Epoch 206/250\n",
            "89/89 [==============================] - 56s 615ms/step - loss: 2.2971 - acc: 0.2385 - val_loss: 2.6940 - val_acc: 0.1875\n",
            "Epoch 207/250\n",
            "89/89 [==============================] - 55s 601ms/step - loss: 2.2613 - acc: 0.2555 - val_loss: 2.7243 - val_acc: 0.1789\n",
            "Epoch 208/250\n",
            "89/89 [==============================] - 57s 622ms/step - loss: 2.2966 - acc: 0.2590 - val_loss: 2.6952 - val_acc: 0.1832\n",
            "Epoch 209/250\n",
            "89/89 [==============================] - 54s 600ms/step - loss: 2.3050 - acc: 0.2427 - val_loss: 2.7174 - val_acc: 0.1724\n",
            "Epoch 210/250\n",
            "89/89 [==============================] - 55s 605ms/step - loss: 2.3206 - acc: 0.2477 - val_loss: 2.7311 - val_acc: 0.1767\n",
            "Epoch 211/250\n",
            "89/89 [==============================] - 56s 618ms/step - loss: 2.2661 - acc: 0.2605 - val_loss: 2.7178 - val_acc: 0.1810\n",
            "Epoch 212/250\n",
            "89/89 [==============================] - 54s 593ms/step - loss: 2.2793 - acc: 0.2534 - val_loss: 2.7063 - val_acc: 0.1832\n",
            "Epoch 213/250\n",
            "89/89 [==============================] - 56s 620ms/step - loss: 2.3053 - acc: 0.2392 - val_loss: 2.7286 - val_acc: 0.1853\n",
            "Epoch 214/250\n",
            "89/89 [==============================] - 54s 598ms/step - loss: 2.2953 - acc: 0.2449 - val_loss: 2.7135 - val_acc: 0.1832\n",
            "Epoch 215/250\n",
            "89/89 [==============================] - 54s 594ms/step - loss: 2.3287 - acc: 0.2321 - val_loss: 2.7185 - val_acc: 0.1875\n",
            "Epoch 216/250\n",
            "89/89 [==============================] - 54s 595ms/step - loss: 2.2395 - acc: 0.2456 - val_loss: 2.7402 - val_acc: 0.1940\n",
            "Epoch 217/250\n",
            "89/89 [==============================] - 55s 602ms/step - loss: 2.2722 - acc: 0.2420 - val_loss: 2.7369 - val_acc: 0.1724\n",
            "Epoch 218/250\n",
            "89/89 [==============================] - 54s 591ms/step - loss: 2.3006 - acc: 0.2484 - val_loss: 2.7323 - val_acc: 0.1789\n",
            "Epoch 219/250\n",
            "89/89 [==============================] - 54s 596ms/step - loss: 2.2977 - acc: 0.2470 - val_loss: 2.7342 - val_acc: 0.1724\n",
            "Epoch 220/250\n",
            "89/89 [==============================] - 54s 610ms/step - loss: 2.3021 - acc: 0.2349 - val_loss: 2.7339 - val_acc: 0.1767\n",
            "Epoch 221/250\n",
            "89/89 [==============================] - 54s 596ms/step - loss: 2.2820 - acc: 0.2477 - val_loss: 2.7241 - val_acc: 0.1810\n",
            "Epoch 222/250\n",
            "89/89 [==============================] - 56s 611ms/step - loss: 2.3123 - acc: 0.2427 - val_loss: 2.7137 - val_acc: 0.1897\n",
            "Epoch 223/250\n",
            "89/89 [==============================] - 54s 592ms/step - loss: 2.3028 - acc: 0.2505 - val_loss: 2.7198 - val_acc: 0.1832\n",
            "Epoch 224/250\n",
            "89/89 [==============================] - 55s 609ms/step - loss: 2.2353 - acc: 0.2661 - val_loss: 2.7435 - val_acc: 0.1789\n",
            "Epoch 225/250\n",
            "89/89 [==============================] - 54s 599ms/step - loss: 2.2862 - acc: 0.2399 - val_loss: 2.7379 - val_acc: 0.1853\n",
            "Epoch 226/250\n",
            "89/89 [==============================] - 54s 595ms/step - loss: 2.3008 - acc: 0.2420 - val_loss: 2.7246 - val_acc: 0.1875\n",
            "Epoch 227/250\n",
            "89/89 [==============================] - 55s 607ms/step - loss: 2.3094 - acc: 0.2392 - val_loss: 2.7375 - val_acc: 0.1810\n",
            "Epoch 228/250\n",
            "89/89 [==============================] - 54s 594ms/step - loss: 2.2773 - acc: 0.2484 - val_loss: 2.7234 - val_acc: 0.1875\n",
            "Epoch 229/250\n",
            "89/89 [==============================] - 55s 609ms/step - loss: 2.2605 - acc: 0.2704 - val_loss: 2.7415 - val_acc: 0.1767\n",
            "Epoch 230/250\n",
            "89/89 [==============================] - 55s 602ms/step - loss: 2.2553 - acc: 0.2470 - val_loss: 2.7469 - val_acc: 0.1703\n",
            "Epoch 231/250\n",
            "89/89 [==============================] - 56s 615ms/step - loss: 2.2964 - acc: 0.2498 - val_loss: 2.7426 - val_acc: 0.1832\n",
            "Epoch 232/250\n",
            "89/89 [==============================] - 55s 603ms/step - loss: 2.2375 - acc: 0.2512 - val_loss: 2.7316 - val_acc: 0.1703\n",
            "Epoch 233/250\n",
            "89/89 [==============================] - 55s 604ms/step - loss: 2.3082 - acc: 0.2399 - val_loss: 2.7336 - val_acc: 0.1767\n",
            "Epoch 234/250\n",
            "89/89 [==============================] - 56s 614ms/step - loss: 2.2809 - acc: 0.2470 - val_loss: 2.7334 - val_acc: 0.1724\n",
            "Epoch 235/250\n",
            "89/89 [==============================] - 55s 605ms/step - loss: 2.3202 - acc: 0.2470 - val_loss: 2.7305 - val_acc: 0.1767\n",
            "Epoch 236/250\n",
            "89/89 [==============================] - 56s 618ms/step - loss: 2.2716 - acc: 0.2427 - val_loss: 2.7094 - val_acc: 0.1681\n",
            "Epoch 237/250\n",
            "89/89 [==============================] - 55s 600ms/step - loss: 2.2845 - acc: 0.2527 - val_loss: 2.7226 - val_acc: 0.1832\n",
            "Epoch 238/250\n",
            "89/89 [==============================] - 56s 620ms/step - loss: 2.2967 - acc: 0.2342 - val_loss: 2.7385 - val_acc: 0.1746\n",
            "Epoch 239/250\n",
            "89/89 [==============================] - 54s 599ms/step - loss: 2.3029 - acc: 0.2307 - val_loss: 2.7065 - val_acc: 0.1853\n",
            "Epoch 240/250\n",
            "89/89 [==============================] - 54s 595ms/step - loss: 2.2475 - acc: 0.2619 - val_loss: 2.6979 - val_acc: 0.1918\n",
            "Epoch 241/250\n",
            "89/89 [==============================] - 53s 584ms/step - loss: 2.2682 - acc: 0.2484 - val_loss: 2.7048 - val_acc: 0.1832\n",
            "Epoch 242/250\n",
            "89/89 [==============================] - 54s 596ms/step - loss: 2.2897 - acc: 0.2463 - val_loss: 2.6950 - val_acc: 0.1897\n",
            "Epoch 243/250\n",
            "89/89 [==============================] - 56s 619ms/step - loss: 2.2529 - acc: 0.2640 - val_loss: 2.6829 - val_acc: 0.1853\n",
            "Epoch 244/250\n",
            "89/89 [==============================] - 54s 590ms/step - loss: 2.2490 - acc: 0.2562 - val_loss: 2.7125 - val_acc: 0.1746\n",
            "Epoch 245/250\n",
            "89/89 [==============================] - 55s 605ms/step - loss: 2.2912 - acc: 0.2456 - val_loss: 2.7198 - val_acc: 0.1832\n",
            "Epoch 246/250\n",
            "89/89 [==============================] - 54s 595ms/step - loss: 2.1967 - acc: 0.2669 - val_loss: 2.7407 - val_acc: 0.1746\n",
            "Epoch 247/250\n",
            "89/89 [==============================] - 55s 609ms/step - loss: 2.3211 - acc: 0.2555 - val_loss: 2.7263 - val_acc: 0.1832\n",
            "Epoch 248/250\n",
            "89/89 [==============================] - 54s 597ms/step - loss: 2.2756 - acc: 0.2477 - val_loss: 2.7373 - val_acc: 0.1746\n",
            "Epoch 249/250\n",
            "89/89 [==============================] - 56s 613ms/step - loss: 2.2899 - acc: 0.2498 - val_loss: 2.7328 - val_acc: 0.1767\n",
            "Epoch 250/250\n",
            "89/89 [==============================] - 54s 595ms/step - loss: 2.2576 - acc: 0.2512 - val_loss: 2.7241 - val_acc: 0.1789\n"
          ]
        }
      ]
    },
    {
      "cell_type": "code",
      "source": [
        "acc = history.history['acc']\n",
        "val_acc = history.history['val_acc']\n",
        "loss = history.history['loss']\n",
        "val_loss = history.history['val_loss']\n",
        "\n",
        "epochs_x = range(len(acc))\n",
        "\n",
        "plt.plot(epochs_x, acc, 'mo', label='Training acc')\n",
        "plt.plot(epochs_x, val_acc, 'k', label='Validation acc')\n",
        "plt.title('Training and validation accuracy')\n",
        "plt.legend()\n",
        "\n",
        "plt.figure()\n",
        "\n",
        "plt.plot(epochs_x, loss, 'mo', label='Training loss')\n",
        "plt.plot(epochs_x, val_loss, 'k', label='Validation loss')\n",
        "plt.title('Training and validation loss')\n",
        "plt.legend()\n",
        "\n",
        "plt.show()"
      ],
      "metadata": {
        "id": "kwylTJpTP5XI",
        "colab": {
          "base_uri": "https://localhost:8080/",
          "height": 545
        },
        "outputId": "ff776337-3da0-4c99-b21b-72b36d8f1859"
      },
      "execution_count": 25,
      "outputs": [
        {
          "output_type": "display_data",
          "data": {
            "text/plain": [
              "<Figure size 432x288 with 1 Axes>"
            ],
            "image/png": "[encoded data removed]"
          },
          "metadata": {
            "needs_background": "light"
          }
        },
        {
          "output_type": "display_data",
          "data": {
            "text/plain": [
              "<Figure size 432x288 with 1 Axes>"
            ],
            "image/png": "[encoded data removed]"
          },
          "metadata": {
            "needs_background": "light"
          }
        }
      ]
    },
    {
      "cell_type": "markdown",
      "source": [
        "#Download the model"
      ],
      "metadata": {
        "id": "lD-vKaoHQAFd"
      }
    },
    {
      "cell_type": "code",
      "source": [
        "os.makedirs('/content/drive/My Drive/cut_panoramic/Model', exist_ok=True)\n",
        "model.save('/content/drive/My Drive/cut_panoramic/Model/3.3_รอบที่3_Flimpano_Female125_250.h5')"
      ],
      "metadata": {
        "id": "74dL7-HLP_Sh"
      },
      "execution_count": 26,
      "outputs": []
    },
    {
      "cell_type": "code",
      "source": [
        "from google.colab import files\n",
        "files.download('/content/drive/My Drive/cut_panoramic/Model/3.3_รอบที่3_Flimpano_Female125_250.h5')"
      ],
      "metadata": {
        "id": "qcPW-brHQDpc",
        "colab": {
          "base_uri": "https://localhost:8080/",
          "height": 17
        },
        "outputId": "4876044b-09fb-43f2-c41a-4f32bdcefb69"
      },
      "execution_count": 27,
      "outputs": [
        {
          "output_type": "display_data",
          "data": {
            "text/plain": [
              "<IPython.core.display.Javascript object>"
            ],
            "application/javascript": [
              "\n",
              "    async function download(id, filename, size) {\n",
              "      if (!google.colab.kernel.accessAllowed) {\n",
              "        return;\n",
              "      }\n",
              "      const div = document.createElement('div');\n",
              "      const label = document.createElement('label');\n",
              "      label.textContent = `Downloading \"${filename}\": `;\n",
              "      div.appendChild(label);\n",
              "      const progress = document.createElement('progress');\n",
              "      progress.max = size;\n",
              "      div.appendChild(progress);\n",
              "      document.body.appendChild(div);\n",
              "\n",
              "      const buffers = [];\n",
              "      let downloaded = 0;\n",
              "\n",
              "      const channel = await google.colab.kernel.comms.open(id);\n",
              "      // Send a message to notify the kernel that we're ready.\n",
              "      channel.send({})\n",
              "\n",
              "      for await (const message of channel.messages) {\n",
              "        // Send a message to notify the kernel that we're ready.\n",
              "        channel.send({})\n",
              "        if (message.buffers) {\n",
              "          for (const buffer of message.buffers) {\n",
              "            buffers.push(buffer);\n",
              "            downloaded += buffer.byteLength;\n",
              "            progress.value = downloaded;\n",
              "          }\n",
              "        }\n",
              "      }\n",
              "      const blob = new Blob(buffers, {type: 'application/binary'});\n",
              "      const a = document.createElement('a');\n",
              "      a.href = window.URL.createObjectURL(blob);\n",
              "      a.download = filename;\n",
              "      div.appendChild(a);\n",
              "      a.click();\n",
              "      div.remove();\n",
              "    }\n",
              "  "
            ]
          },
          "metadata": {}
        },
        {
          "output_type": "display_data",
          "data": {
            "text/plain": [
              "<IPython.core.display.Javascript object>"
            ],
            "application/javascript": [
              "download(\"download_60d2d6db-3f7a-4752-8e75-1fba1de4dc5a\", \"3.3_\\u0e23\\u0e2d\\u0e1a\\u0e17\\u0e35\\u0e483_Flimpano_Female125_250.h5\", 16779000)"
            ]
          },
          "metadata": {}
        }
      ]
    }
  ]
}