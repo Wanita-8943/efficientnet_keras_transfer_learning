{
  "nbformat": 4,
  "nbformat_minor": 0,
  "metadata": {
    "colab": {
      "provenance": [],
      "include_colab_link": true
    },
    "kernelspec": {
      "name": "python3",
      "display_name": "Python 3"
    },
    "language_info": {
      "name": "python"
    }
  },
  "cells": [
    {
      "cell_type": "markdown",
      "metadata": {
        "id": "view-in-github",
        "colab_type": "text"
      },
      "source": [
        "<a href=\"https://colab.research.google.com/github/Wanita-8943/efficientnet_keras_transfer_learning/blob/master/4_4_%E0%B8%A3%E0%B8%AD%E0%B8%9A%E0%B8%97%E0%B8%B5%E0%B9%884_Train_Male125_250.ipynb\" target=\"_parent\"><img src=\"https://colab.research.google.com/assets/colab-badge.svg\" alt=\"Open In Colab\"/></a>"
      ]
    },
    {
      "cell_type": "code",
      "execution_count": 1,
      "metadata": {
        "id": "KKSs7cyoPHcD"
      },
      "outputs": [],
      "source": [
        "import pandas as pd\n",
        "import shutil"
      ]
    },
    {
      "cell_type": "code",
      "source": [
        "from google.colab import drive\n",
        "drive.mount('/content/drive')"
      ],
      "metadata": {
        "colab": {
          "base_uri": "https://localhost:8080/"
        },
        "id": "7LoeZxmVPMxp",
        "outputId": "72e83c69-a036-4f04-b7bc-f1862662316a"
      },
      "execution_count": 2,
      "outputs": [
        {
          "output_type": "stream",
          "name": "stdout",
          "text": [
            "Mounted at /content/drive\n"
          ]
        }
      ]
    },
    {
      "cell_type": "code",
      "source": [
        "from tensorflow.keras import models\n",
        "from tensorflow.keras import layers\n",
        "from tensorflow.keras import optimizers\n",
        "import os\n",
        "import glob\n",
        "import shutil\n",
        "import sys\n",
        "import numpy as np\n",
        "from skimage.io import imread\n",
        "import matplotlib.pyplot as plt\n",
        "from IPython.display import Image\n",
        "%matplotlib inline"
      ],
      "metadata": {
        "id": "1pX9g1HxPM2f"
      },
      "execution_count": 3,
      "outputs": []
    },
    {
      "cell_type": "code",
      "source": [
        "batch_size = 16\n",
        "width = 150\n",
        "height = 150\n",
        "epochs = 250\n",
        "NUM_TRAIN = 1425\n",
        "NUM_TEST = 473\n",
        "dropout_rate = 0.2\n",
        "input_shape = (height, width, 3)"
      ],
      "metadata": {
        "id": "eSFtvGyvPM6O"
      },
      "execution_count": 4,
      "outputs": []
    },
    {
      "cell_type": "code",
      "source": [
        "#ดึงข้อมูลใน Github มาใช้\n",
        "import os\n",
        "%cd /content\n",
        "if not os.path.isdir(\"efficientnet_keras_transfer_learning\"):\n",
        " !git clone https://github.com/Wanita-8943/efficientnet_keras_transfer_learning\n",
        "%cd efficientnet_keras_transfer_learning/"
      ],
      "metadata": {
        "colab": {
          "base_uri": "https://localhost:8080/"
        },
        "id": "lb4K4CsMPNAW",
        "outputId": "6c724451-5d6a-4ac0-9e55-98b44949a14b"
      },
      "execution_count": 5,
      "outputs": [
        {
          "output_type": "stream",
          "name": "stdout",
          "text": [
            "/content\n",
            "Cloning into 'efficientnet_keras_transfer_learning'...\n",
            "remote: Enumerating objects: 591, done.\u001b[K\n",
            "remote: Counting objects: 100% (407/407), done.\u001b[K\n",
            "remote: Compressing objects: 100% (208/208), done.\u001b[K\n",
            "remote: Total 591 (delta 280), reused 266 (delta 199), pack-reused 184\u001b[K\n",
            "Receiving objects: 100% (591/591), 10.91 MiB | 18.99 MiB/s, done.\n",
            "Resolving deltas: 100% (353/353), done.\n",
            "/content/efficientnet_keras_transfer_learning\n"
          ]
        }
      ]
    },
    {
      "cell_type": "code",
      "source": [
        "# Options: EfficientNetB0, EfficientNetB1, EfficientNetB2, EfficientNetB3\n",
        "# Higher the number, the more complex the model is.\n",
        "from efficientnet import EfficientNetB0 as Net\n",
        "from efficientnet import center_crop_and_resize, preprocess_input"
      ],
      "metadata": {
        "id": "eyBg0dLKPND3"
      },
      "execution_count": 6,
      "outputs": []
    },
    {
      "cell_type": "code",
      "source": [
        "base_dir = '/content/drive/MyDrive/TVT_Male125'\n",
        "os.makedirs(base_dir, exist_ok=True)\n",
        "\n",
        "# Directories for our training,\n",
        "# validation and test splits\n",
        "train_dir = os.path.join(base_dir, 'train')\n",
        "os.makedirs(train_dir, exist_ok=True)\n",
        "validation_dir = os.path.join(base_dir, 'validation')\n",
        "os.makedirs(validation_dir, exist_ok=True)\n",
        "test_dir = os.path.join(base_dir, 'test')\n",
        "os.makedirs(test_dir, exist_ok=True)"
      ],
      "metadata": {
        "id": "Jwpq_-KvPef8"
      },
      "execution_count": 7,
      "outputs": []
    },
    {
      "cell_type": "markdown",
      "source": [
        "#load model"
      ],
      "metadata": {
        "id": "od-ZSNm5PoGy"
      }
    },
    {
      "cell_type": "code",
      "source": [
        "import sys\n",
        "sys.path.append('/content/drive/MyDrive/cut_panoramic/Model/3.3_รอบที่3_Flimpano_Male125_250.h5')\n",
        "\n",
        "from efficientnet.layers import Swish, DropConnect\n",
        "from efficientnet.model import ConvKernalInitializer\n",
        "from tensorflow.keras.utils import get_custom_objects\n",
        "\n",
        "get_custom_objects().update({\n",
        "    'ConvKernalInitializer': ConvKernalInitializer,\n",
        "    'Swish': Swish,\n",
        "    'DropConnect':DropConnect\n",
        "})"
      ],
      "metadata": {
        "id": "n5iPL5MNPkhE"
      },
      "execution_count": 8,
      "outputs": []
    },
    {
      "cell_type": "code",
      "source": [
        "#load model \n",
        "from tensorflow.keras.models import load_model\n",
        "model = load_model('/content/drive/MyDrive/cut_panoramic/Model/3.3_รอบที่3_Flimpano_Male125_250.h5')\n",
        "height = width = model.input_shape[1]"
      ],
      "metadata": {
        "id": "plYz49xMPkly"
      },
      "execution_count": 9,
      "outputs": []
    },
    {
      "cell_type": "code",
      "source": [
        "model.summary()"
      ],
      "metadata": {
        "colab": {
          "base_uri": "https://localhost:8080/"
        },
        "id": "z6IOPBflFbvc",
        "outputId": "452646c6-530f-46a5-fd02-98cb473e87a9"
      },
      "execution_count": 10,
      "outputs": [
        {
          "output_type": "stream",
          "name": "stdout",
          "text": [
            "Model: \"sequential\"\n",
            "_________________________________________________________________\n",
            " Layer (type)                Output Shape              Param #   \n",
            "=================================================================\n",
            " efficientnet-b0 (Functional  (None, 5, 5, 1280)       4049564   \n",
            " )                                                               \n",
            "                                                                 \n",
            " gap (GlobalMaxPooling2D)    (None, 1280)              0         \n",
            "                                                                 \n",
            " dropout_out (Dropout)       (None, 1280)              0         \n",
            "                                                                 \n",
            " fc_out (Dense)              (None, 19)                24339     \n",
            "                                                                 \n",
            "=================================================================\n",
            "Total params: 4,073,903\n",
            "Trainable params: 24,339\n",
            "Non-trainable params: 4,049,564\n",
            "_________________________________________________________________\n"
          ]
        }
      ]
    },
    {
      "cell_type": "code",
      "source": [
        "# Train ด้วย ImageDataGenerator ของ Keras ซึ่งจะเพิ่มข้อมูลเสริมระหว่างการฝึกเพื่อลดโอกาสเกิด overfitting\n",
        "#overfitting เกิดจากข้อมูลที่ซับซ้อนกันเกินไป\n",
        "from tensorflow.keras.preprocessing.image import ImageDataGenerator\n",
        "\n",
        "train_datagen = ImageDataGenerator(\n",
        "      rescale=1./255, #โมเดลส่วนใหญ่ต้องใช้ RGB ในช่วง 0–1\n",
        "      rotation_range=40,\n",
        "      width_shift_range=0.2,\n",
        "      height_shift_range=0.2,\n",
        "      shear_range=0.2,\n",
        "      zoom_range=0.2,\n",
        "      horizontal_flip=True,\n",
        "      fill_mode='nearest')\n",
        "\n",
        "# Note that the validation data should not be augmented!\n",
        "test_datagen = ImageDataGenerator(rescale=1./255)\n",
        "\n",
        "train_generator = train_datagen.flow_from_directory(\n",
        "        # This is the target directory #ไดเรกเป้าหมาย\n",
        "        train_dir,\n",
        "        # รูปภาพทั้งหมดจะถูกปรับขนาดตามความสูงและความกว้างของเป้าหมาย\n",
        "        target_size=(height, width),\n",
        "        batch_size=batch_size,\n",
        "        # Since we use categorical_crossentropy loss, we need categorical labels\n",
        "        #เนื่องจากเราใช้ categorical_crossentropy loss เราจึงต้องมีป้ายกำกับตามหมวดหมู่\n",
        "        class_mode='categorical')\n",
        "\n",
        "validation_generator = test_datagen.flow_from_directory( #การดึงภาพจาก Directory มาเข้าโมเดล \n",
        "        validation_dir,\n",
        "        target_size=(height, width),\n",
        "        batch_size=batch_size,\n",
        "        class_mode='categorical')"
      ],
      "metadata": {
        "colab": {
          "base_uri": "https://localhost:8080/"
        },
        "id": "KBMZbdr2Pgw4",
        "outputId": "be935368-8db9-431b-f96b-d1fe8808fad5"
      },
      "execution_count": 11,
      "outputs": [
        {
          "output_type": "stream",
          "name": "stdout",
          "text": [
            "Found 1425 images belonging to 19 classes.\n",
            "Found 475 images belonging to 19 classes.\n"
          ]
        }
      ]
    },
    {
      "cell_type": "code",
      "source": [
        "history = model.fit_generator(\n",
        "      train_generator,\n",
        "      steps_per_epoch= NUM_TRAIN //batch_size,\n",
        "      epochs=epochs,\n",
        "      validation_data=validation_generator,\n",
        "      validation_steps= NUM_TEST //batch_size,\n",
        "      verbose=1,\n",
        "      use_multiprocessing=True,\n",
        "      workers=4)"
      ],
      "metadata": {
        "colab": {
          "base_uri": "https://localhost:8080/"
        },
        "id": "C9Cf1dwyP1PD",
        "outputId": "8397e2cc-d6be-42f0-a41c-b266d7b291ae"
      },
      "execution_count": 12,
      "outputs": [
        {
          "output_type": "stream",
          "name": "stderr",
          "text": [
            "<ipython-input-12-caa7b37242a8>:1: UserWarning: `Model.fit_generator` is deprecated and will be removed in a future version. Please use `Model.fit`, which supports generators.\n",
            "  history = model.fit_generator(\n"
          ]
        },
        {
          "output_type": "stream",
          "name": "stdout",
          "text": [
            "Epoch 1/250\n",
            "89/89 [==============================] - 162s 2s/step - loss: 2.1966 - acc: 0.2676 - val_loss: 2.7656 - val_acc: 0.1444\n",
            "Epoch 2/250\n",
            "89/89 [==============================] - 62s 685ms/step - loss: 2.2300 - acc: 0.2406 - val_loss: 2.7860 - val_acc: 0.1422\n",
            "Epoch 3/250\n",
            "89/89 [==============================] - 66s 731ms/step - loss: 2.2476 - acc: 0.2385 - val_loss: 2.7910 - val_acc: 0.1358\n",
            "Epoch 4/250\n",
            "89/89 [==============================] - 62s 680ms/step - loss: 2.2666 - acc: 0.2562 - val_loss: 2.7620 - val_acc: 0.1422\n",
            "Epoch 5/250\n",
            "89/89 [==============================] - 68s 749ms/step - loss: 2.2434 - acc: 0.2612 - val_loss: 2.7733 - val_acc: 0.1444\n",
            "Epoch 6/250\n",
            "89/89 [==============================] - 64s 699ms/step - loss: 2.2098 - acc: 0.2520 - val_loss: 2.7704 - val_acc: 0.1444\n",
            "Epoch 7/250\n",
            "89/89 [==============================] - 63s 693ms/step - loss: 2.2034 - acc: 0.2669 - val_loss: 2.7744 - val_acc: 0.1401\n",
            "Epoch 8/250\n",
            "89/89 [==============================] - 68s 743ms/step - loss: 2.2277 - acc: 0.2590 - val_loss: 2.7697 - val_acc: 0.1401\n",
            "Epoch 9/250\n",
            "89/89 [==============================] - 63s 697ms/step - loss: 2.1949 - acc: 0.2583 - val_loss: 2.7785 - val_acc: 0.1401\n",
            "Epoch 10/250\n",
            "89/89 [==============================] - 68s 745ms/step - loss: 2.2425 - acc: 0.2690 - val_loss: 2.7588 - val_acc: 0.1487\n",
            "Epoch 11/250\n",
            "89/89 [==============================] - 64s 697ms/step - loss: 2.1774 - acc: 0.2832 - val_loss: 2.8066 - val_acc: 0.1315\n",
            "Epoch 12/250\n",
            "89/89 [==============================] - 68s 745ms/step - loss: 2.1945 - acc: 0.2647 - val_loss: 2.7808 - val_acc: 0.1401\n",
            "Epoch 13/250\n",
            "89/89 [==============================] - 67s 737ms/step - loss: 2.2408 - acc: 0.2363 - val_loss: 2.7891 - val_acc: 0.1401\n",
            "Epoch 14/250\n",
            "89/89 [==============================] - 64s 699ms/step - loss: 2.1961 - acc: 0.2512 - val_loss: 2.7764 - val_acc: 0.1401\n",
            "Epoch 15/250\n",
            "89/89 [==============================] - 64s 703ms/step - loss: 2.2211 - acc: 0.2491 - val_loss: 2.7465 - val_acc: 0.1422\n",
            "Epoch 16/250\n",
            "89/89 [==============================] - 64s 700ms/step - loss: 2.2250 - acc: 0.2605 - val_loss: 2.7402 - val_acc: 0.1466\n",
            "Epoch 17/250\n",
            "89/89 [==============================] - 68s 748ms/step - loss: 2.1553 - acc: 0.2789 - val_loss: 2.7611 - val_acc: 0.1466\n",
            "Epoch 18/250\n",
            "89/89 [==============================] - 64s 699ms/step - loss: 2.1668 - acc: 0.2562 - val_loss: 2.7661 - val_acc: 0.1444\n",
            "Epoch 19/250\n",
            "89/89 [==============================] - 66s 724ms/step - loss: 2.1637 - acc: 0.2732 - val_loss: 2.7713 - val_acc: 0.1401\n",
            "Epoch 20/250\n",
            "89/89 [==============================] - 64s 700ms/step - loss: 2.2372 - acc: 0.2477 - val_loss: 2.8044 - val_acc: 0.1336\n",
            "Epoch 21/250\n",
            "89/89 [==============================] - 69s 755ms/step - loss: 2.2365 - acc: 0.2520 - val_loss: 2.7311 - val_acc: 0.1444\n",
            "Epoch 22/250\n",
            "89/89 [==============================] - 64s 697ms/step - loss: 2.1845 - acc: 0.2690 - val_loss: 2.7800 - val_acc: 0.1466\n",
            "Epoch 23/250\n",
            "89/89 [==============================] - 64s 697ms/step - loss: 2.1604 - acc: 0.2690 - val_loss: 2.7971 - val_acc: 0.1466\n",
            "Epoch 24/250\n",
            "89/89 [==============================] - 66s 723ms/step - loss: 2.2011 - acc: 0.2562 - val_loss: 2.7679 - val_acc: 0.1466\n",
            "Epoch 25/250\n",
            "89/89 [==============================] - 64s 701ms/step - loss: 2.1999 - acc: 0.2683 - val_loss: 2.7711 - val_acc: 0.1487\n",
            "Epoch 26/250\n",
            "89/89 [==============================] - 66s 726ms/step - loss: 2.2400 - acc: 0.2441 - val_loss: 2.7728 - val_acc: 0.1466\n",
            "Epoch 27/250\n",
            "89/89 [==============================] - 66s 719ms/step - loss: 2.2192 - acc: 0.2470 - val_loss: 2.7626 - val_acc: 0.1444\n",
            "Epoch 28/250\n",
            "89/89 [==============================] - 63s 694ms/step - loss: 2.2306 - acc: 0.2427 - val_loss: 2.7566 - val_acc: 0.1422\n",
            "Epoch 29/250\n",
            "89/89 [==============================] - 66s 718ms/step - loss: 2.2067 - acc: 0.2555 - val_loss: 2.7786 - val_acc: 0.1466\n",
            "Epoch 30/250\n",
            "89/89 [==============================] - 64s 699ms/step - loss: 2.2180 - acc: 0.2548 - val_loss: 2.7740 - val_acc: 0.1466\n",
            "Epoch 31/250\n",
            "89/89 [==============================] - 64s 698ms/step - loss: 2.1997 - acc: 0.2626 - val_loss: 2.7787 - val_acc: 0.1422\n",
            "Epoch 32/250\n",
            "89/89 [==============================] - 66s 722ms/step - loss: 2.2225 - acc: 0.2406 - val_loss: 2.7924 - val_acc: 0.1466\n",
            "Epoch 33/250\n",
            "89/89 [==============================] - 64s 696ms/step - loss: 2.2056 - acc: 0.2527 - val_loss: 2.7782 - val_acc: 0.1487\n",
            "Epoch 34/250\n",
            "89/89 [==============================] - 64s 699ms/step - loss: 2.2403 - acc: 0.2619 - val_loss: 2.7689 - val_acc: 0.1466\n",
            "Epoch 35/250\n",
            "89/89 [==============================] - 66s 723ms/step - loss: 2.1655 - acc: 0.2555 - val_loss: 2.7795 - val_acc: 0.1444\n",
            "Epoch 36/250\n",
            "89/89 [==============================] - 64s 700ms/step - loss: 2.1990 - acc: 0.2498 - val_loss: 2.7907 - val_acc: 0.1444\n",
            "Epoch 37/250\n",
            "89/89 [==============================] - 64s 696ms/step - loss: 2.2117 - acc: 0.2647 - val_loss: 2.7435 - val_acc: 0.1509\n",
            "Epoch 38/250\n",
            "89/89 [==============================] - 66s 722ms/step - loss: 2.2268 - acc: 0.2569 - val_loss: 2.7627 - val_acc: 0.1466\n",
            "Epoch 39/250\n",
            "89/89 [==============================] - 64s 700ms/step - loss: 2.2085 - acc: 0.2505 - val_loss: 2.7725 - val_acc: 0.1444\n",
            "Epoch 40/250\n",
            "89/89 [==============================] - 64s 703ms/step - loss: 2.2267 - acc: 0.2406 - val_loss: 2.7646 - val_acc: 0.1444\n",
            "Epoch 41/250\n",
            "89/89 [==============================] - 66s 720ms/step - loss: 2.2407 - acc: 0.2569 - val_loss: 2.7541 - val_acc: 0.1466\n",
            "Epoch 42/250\n",
            "89/89 [==============================] - 64s 698ms/step - loss: 2.1852 - acc: 0.2598 - val_loss: 2.7723 - val_acc: 0.1422\n",
            "Epoch 43/250\n",
            "89/89 [==============================] - 65s 715ms/step - loss: 2.1751 - acc: 0.2669 - val_loss: 2.7585 - val_acc: 0.1530\n",
            "Epoch 44/250\n",
            "89/89 [==============================] - 66s 727ms/step - loss: 2.1972 - acc: 0.2640 - val_loss: 2.7782 - val_acc: 0.1422\n",
            "Epoch 45/250\n",
            "89/89 [==============================] - 64s 702ms/step - loss: 2.1977 - acc: 0.2548 - val_loss: 2.7870 - val_acc: 0.1379\n",
            "Epoch 46/250\n",
            "89/89 [==============================] - 66s 724ms/step - loss: 2.2360 - acc: 0.2512 - val_loss: 2.7612 - val_acc: 0.1466\n",
            "Epoch 47/250\n",
            "89/89 [==============================] - 66s 723ms/step - loss: 2.1685 - acc: 0.2548 - val_loss: 2.7801 - val_acc: 0.1444\n",
            "Epoch 48/250\n",
            "89/89 [==============================] - 64s 699ms/step - loss: 2.2137 - acc: 0.2548 - val_loss: 2.7975 - val_acc: 0.1530\n",
            "Epoch 49/250\n",
            "89/89 [==============================] - 66s 725ms/step - loss: 2.1977 - acc: 0.2562 - val_loss: 2.7834 - val_acc: 0.1422\n",
            "Epoch 50/250\n",
            "89/89 [==============================] - 66s 720ms/step - loss: 2.1780 - acc: 0.2548 - val_loss: 2.7615 - val_acc: 0.1379\n",
            "Epoch 51/250\n",
            "89/89 [==============================] - 63s 693ms/step - loss: 2.1638 - acc: 0.2881 - val_loss: 2.7643 - val_acc: 0.1444\n",
            "Epoch 52/250\n",
            "89/89 [==============================] - 66s 721ms/step - loss: 2.1850 - acc: 0.2690 - val_loss: 2.7583 - val_acc: 0.1444\n",
            "Epoch 53/250\n",
            "89/89 [==============================] - 66s 723ms/step - loss: 2.2129 - acc: 0.2420 - val_loss: 2.8136 - val_acc: 0.1401\n",
            "Epoch 54/250\n",
            "89/89 [==============================] - 64s 698ms/step - loss: 2.2171 - acc: 0.2576 - val_loss: 2.7960 - val_acc: 0.1444\n",
            "Epoch 55/250\n",
            "89/89 [==============================] - 66s 718ms/step - loss: 2.1999 - acc: 0.2456 - val_loss: 2.7978 - val_acc: 0.1422\n",
            "Epoch 56/250\n",
            "89/89 [==============================] - 64s 698ms/step - loss: 2.2399 - acc: 0.2257 - val_loss: 2.7737 - val_acc: 0.1466\n",
            "Epoch 57/250\n",
            "89/89 [==============================] - 64s 702ms/step - loss: 2.1415 - acc: 0.2690 - val_loss: 2.7765 - val_acc: 0.1444\n",
            "Epoch 58/250\n",
            "89/89 [==============================] - 66s 719ms/step - loss: 2.2232 - acc: 0.2484 - val_loss: 2.7847 - val_acc: 0.1401\n",
            "Epoch 59/250\n",
            "89/89 [==============================] - 64s 695ms/step - loss: 2.1931 - acc: 0.2470 - val_loss: 2.7776 - val_acc: 0.1444\n",
            "Epoch 60/250\n",
            "89/89 [==============================] - 66s 703ms/step - loss: 2.1734 - acc: 0.2562 - val_loss: 2.7797 - val_acc: 0.1466\n",
            "Epoch 61/250\n",
            "89/89 [==============================] - 66s 723ms/step - loss: 2.1949 - acc: 0.2576 - val_loss: 2.7845 - val_acc: 0.1487\n",
            "Epoch 62/250\n",
            "89/89 [==============================] - 64s 702ms/step - loss: 2.1576 - acc: 0.2569 - val_loss: 2.7508 - val_acc: 0.1487\n",
            "Epoch 63/250\n",
            "89/89 [==============================] - 66s 721ms/step - loss: 2.2223 - acc: 0.2406 - val_loss: 2.7719 - val_acc: 0.1422\n",
            "Epoch 64/250\n",
            "89/89 [==============================] - 66s 721ms/step - loss: 2.2225 - acc: 0.2647 - val_loss: 2.7825 - val_acc: 0.1487\n",
            "Epoch 65/250\n",
            "89/89 [==============================] - 64s 701ms/step - loss: 2.2004 - acc: 0.2605 - val_loss: 2.7747 - val_acc: 0.1552\n",
            "Epoch 66/250\n",
            "89/89 [==============================] - 66s 721ms/step - loss: 2.1413 - acc: 0.2747 - val_loss: 2.8010 - val_acc: 0.1530\n",
            "Epoch 67/250\n",
            "89/89 [==============================] - 66s 722ms/step - loss: 2.1450 - acc: 0.2789 - val_loss: 2.7888 - val_acc: 0.1509\n",
            "Epoch 68/250\n",
            "89/89 [==============================] - 64s 698ms/step - loss: 2.2058 - acc: 0.2605 - val_loss: 2.7959 - val_acc: 0.1466\n",
            "Epoch 69/250\n",
            "89/89 [==============================] - 66s 722ms/step - loss: 2.2034 - acc: 0.2704 - val_loss: 2.7821 - val_acc: 0.1509\n",
            "Epoch 70/250\n",
            "89/89 [==============================] - 64s 694ms/step - loss: 2.1765 - acc: 0.2725 - val_loss: 2.7851 - val_acc: 0.1530\n",
            "Epoch 71/250\n",
            "89/89 [==============================] - 66s 715ms/step - loss: 2.2035 - acc: 0.2555 - val_loss: 2.7930 - val_acc: 0.1509\n",
            "Epoch 72/250\n",
            "89/89 [==============================] - 65s 717ms/step - loss: 2.1854 - acc: 0.2775 - val_loss: 2.7861 - val_acc: 0.1530\n",
            "Epoch 73/250\n",
            "89/89 [==============================] - 64s 698ms/step - loss: 2.1974 - acc: 0.2626 - val_loss: 2.7796 - val_acc: 0.1444\n",
            "Epoch 74/250\n",
            "89/89 [==============================] - 66s 721ms/step - loss: 2.1937 - acc: 0.2534 - val_loss: 2.8203 - val_acc: 0.1422\n",
            "Epoch 75/250\n",
            "89/89 [==============================] - 64s 696ms/step - loss: 2.2216 - acc: 0.2484 - val_loss: 2.8092 - val_acc: 0.1552\n",
            "Epoch 76/250\n",
            "89/89 [==============================] - 66s 720ms/step - loss: 2.1464 - acc: 0.2683 - val_loss: 2.7772 - val_acc: 0.1509\n",
            "Epoch 77/250\n",
            "89/89 [==============================] - 66s 742ms/step - loss: 2.1726 - acc: 0.2711 - val_loss: 2.7758 - val_acc: 0.1509\n",
            "Epoch 78/250\n",
            "89/89 [==============================] - 64s 697ms/step - loss: 2.1404 - acc: 0.2789 - val_loss: 2.8079 - val_acc: 0.1401\n",
            "Epoch 79/250\n",
            "89/89 [==============================] - 66s 724ms/step - loss: 2.1904 - acc: 0.2569 - val_loss: 2.8036 - val_acc: 0.1487\n",
            "Epoch 80/250\n",
            "89/89 [==============================] - 64s 702ms/step - loss: 2.1419 - acc: 0.2562 - val_loss: 2.8033 - val_acc: 0.1336\n",
            "Epoch 81/250\n",
            "89/89 [==============================] - 64s 698ms/step - loss: 2.1658 - acc: 0.2626 - val_loss: 2.8081 - val_acc: 0.1422\n",
            "Epoch 82/250\n",
            "89/89 [==============================] - 66s 720ms/step - loss: 2.2118 - acc: 0.2434 - val_loss: 2.7631 - val_acc: 0.1530\n",
            "Epoch 83/250\n",
            "89/89 [==============================] - 64s 702ms/step - loss: 2.2237 - acc: 0.2399 - val_loss: 2.7508 - val_acc: 0.1616\n",
            "Epoch 84/250\n",
            "89/89 [==============================] - 66s 718ms/step - loss: 2.1815 - acc: 0.2420 - val_loss: 2.7832 - val_acc: 0.1466\n",
            "Epoch 85/250\n",
            "89/89 [==============================] - 66s 719ms/step - loss: 2.1643 - acc: 0.2498 - val_loss: 2.7735 - val_acc: 0.1530\n",
            "Epoch 86/250\n",
            "89/89 [==============================] - 64s 697ms/step - loss: 2.1925 - acc: 0.2434 - val_loss: 2.7782 - val_acc: 0.1444\n",
            "Epoch 87/250\n",
            "89/89 [==============================] - 66s 720ms/step - loss: 2.2154 - acc: 0.2520 - val_loss: 2.7660 - val_acc: 0.1422\n",
            "Epoch 88/250\n",
            "89/89 [==============================] - 63s 695ms/step - loss: 2.1414 - acc: 0.2654 - val_loss: 2.7669 - val_acc: 0.1530\n",
            "Epoch 89/250\n",
            "89/89 [==============================] - 64s 700ms/step - loss: 2.1984 - acc: 0.2598 - val_loss: 2.8012 - val_acc: 0.1401\n",
            "Epoch 90/250\n",
            "89/89 [==============================] - 66s 719ms/step - loss: 2.2061 - acc: 0.2477 - val_loss: 2.7823 - val_acc: 0.1466\n",
            "Epoch 91/250\n",
            "89/89 [==============================] - 64s 699ms/step - loss: 2.1771 - acc: 0.2633 - val_loss: 2.8167 - val_acc: 0.1379\n",
            "Epoch 92/250\n",
            "89/89 [==============================] - 66s 720ms/step - loss: 2.2027 - acc: 0.2640 - val_loss: 2.8160 - val_acc: 0.1401\n",
            "Epoch 93/250\n",
            "89/89 [==============================] - 64s 700ms/step - loss: 2.1964 - acc: 0.2548 - val_loss: 2.8199 - val_acc: 0.1379\n",
            "Epoch 94/250\n",
            "89/89 [==============================] - 64s 698ms/step - loss: 2.1631 - acc: 0.2576 - val_loss: 2.8046 - val_acc: 0.1401\n",
            "Epoch 95/250\n",
            "89/89 [==============================] - 66s 726ms/step - loss: 2.2496 - acc: 0.2590 - val_loss: 2.8021 - val_acc: 0.1379\n",
            "Epoch 96/250\n",
            "89/89 [==============================] - 64s 699ms/step - loss: 2.1856 - acc: 0.2619 - val_loss: 2.7932 - val_acc: 0.1466\n",
            "Epoch 97/250\n",
            "89/89 [==============================] - 66s 722ms/step - loss: 2.1716 - acc: 0.2789 - val_loss: 2.8001 - val_acc: 0.1509\n",
            "Epoch 98/250\n",
            "89/89 [==============================] - 66s 723ms/step - loss: 2.1893 - acc: 0.2676 - val_loss: 2.7986 - val_acc: 0.1509\n",
            "Epoch 99/250\n",
            "89/89 [==============================] - 64s 698ms/step - loss: 2.1713 - acc: 0.2782 - val_loss: 2.8003 - val_acc: 0.1509\n",
            "Epoch 100/250\n",
            "89/89 [==============================] - 66s 722ms/step - loss: 2.1818 - acc: 0.2534 - val_loss: 2.7972 - val_acc: 0.1422\n",
            "Epoch 101/250\n",
            "89/89 [==============================] - 64s 703ms/step - loss: 2.1758 - acc: 0.2619 - val_loss: 2.8102 - val_acc: 0.1444\n",
            "Epoch 102/250\n",
            "89/89 [==============================] - 66s 727ms/step - loss: 2.2416 - acc: 0.2456 - val_loss: 2.8086 - val_acc: 0.1422\n",
            "Epoch 103/250\n",
            "89/89 [==============================] - 64s 702ms/step - loss: 2.2204 - acc: 0.2590 - val_loss: 2.8102 - val_acc: 0.1444\n",
            "Epoch 104/250\n",
            "89/89 [==============================] - 65s 708ms/step - loss: 2.1658 - acc: 0.2520 - val_loss: 2.8183 - val_acc: 0.1379\n",
            "Epoch 105/250\n",
            "89/89 [==============================] - 67s 731ms/step - loss: 2.1999 - acc: 0.2633 - val_loss: 2.8185 - val_acc: 0.1444\n",
            "Epoch 106/250\n",
            "89/89 [==============================] - 64s 702ms/step - loss: 2.1898 - acc: 0.2754 - val_loss: 2.8009 - val_acc: 0.1509\n",
            "Epoch 107/250\n",
            "89/89 [==============================] - 66s 724ms/step - loss: 2.1263 - acc: 0.2811 - val_loss: 2.7843 - val_acc: 0.1509\n",
            "Epoch 108/250\n",
            "89/89 [==============================] - 64s 705ms/step - loss: 2.2163 - acc: 0.2612 - val_loss: 2.7957 - val_acc: 0.1530\n",
            "Epoch 109/250\n",
            "89/89 [==============================] - 67s 737ms/step - loss: 2.1734 - acc: 0.2527 - val_loss: 2.7992 - val_acc: 0.1552\n",
            "Epoch 110/250\n",
            "89/89 [==============================] - 65s 711ms/step - loss: 2.1882 - acc: 0.2619 - val_loss: 2.7734 - val_acc: 0.1573\n",
            "Epoch 111/250\n",
            "89/89 [==============================] - 67s 734ms/step - loss: 2.1835 - acc: 0.2612 - val_loss: 2.7756 - val_acc: 0.1509\n",
            "Epoch 112/250\n",
            "89/89 [==============================] - 65s 711ms/step - loss: 2.1709 - acc: 0.2654 - val_loss: 2.7781 - val_acc: 0.1638\n",
            "Epoch 113/250\n",
            "89/89 [==============================] - 65s 716ms/step - loss: 2.1866 - acc: 0.2647 - val_loss: 2.8193 - val_acc: 0.1509\n",
            "Epoch 114/250\n",
            "89/89 [==============================] - 67s 734ms/step - loss: 2.1770 - acc: 0.2782 - val_loss: 2.8007 - val_acc: 0.1444\n",
            "Epoch 115/250\n",
            "89/89 [==============================] - 66s 718ms/step - loss: 2.1696 - acc: 0.2718 - val_loss: 2.7985 - val_acc: 0.1466\n",
            "Epoch 116/250\n",
            "89/89 [==============================] - 67s 739ms/step - loss: 2.2048 - acc: 0.2541 - val_loss: 2.7846 - val_acc: 0.1509\n",
            "Epoch 117/250\n",
            "89/89 [==============================] - 65s 712ms/step - loss: 2.1603 - acc: 0.2981 - val_loss: 2.7812 - val_acc: 0.1530\n",
            "Epoch 118/250\n",
            "89/89 [==============================] - 65s 713ms/step - loss: 2.1782 - acc: 0.2441 - val_loss: 2.7857 - val_acc: 0.1509\n",
            "Epoch 119/250\n",
            "89/89 [==============================] - 69s 759ms/step - loss: 2.1899 - acc: 0.2427 - val_loss: 2.7823 - val_acc: 0.1638\n",
            "Epoch 120/250\n",
            "89/89 [==============================] - 69s 754ms/step - loss: 2.2175 - acc: 0.2463 - val_loss: 2.7696 - val_acc: 0.1616\n",
            "Epoch 121/250\n",
            "89/89 [==============================] - 70s 769ms/step - loss: 2.1272 - acc: 0.2789 - val_loss: 2.8056 - val_acc: 0.1573\n",
            "Epoch 122/250\n",
            "89/89 [==============================] - 70s 765ms/step - loss: 2.2129 - acc: 0.2456 - val_loss: 2.7945 - val_acc: 0.1530\n",
            "Epoch 123/250\n",
            "89/89 [==============================] - 70s 766ms/step - loss: 2.2095 - acc: 0.2541 - val_loss: 2.7570 - val_acc: 0.1595\n",
            "Epoch 124/250\n",
            "89/89 [==============================] - 70s 768ms/step - loss: 2.1773 - acc: 0.2640 - val_loss: 2.7652 - val_acc: 0.1530\n",
            "Epoch 125/250\n",
            "89/89 [==============================] - 71s 775ms/step - loss: 2.1348 - acc: 0.2846 - val_loss: 2.7691 - val_acc: 0.1444\n",
            "Epoch 126/250\n",
            "89/89 [==============================] - 70s 766ms/step - loss: 2.1778 - acc: 0.2803 - val_loss: 2.7888 - val_acc: 0.1444\n",
            "Epoch 127/250\n",
            "89/89 [==============================] - 66s 726ms/step - loss: 2.1163 - acc: 0.2917 - val_loss: 2.7923 - val_acc: 0.1509\n",
            "Epoch 128/250\n",
            "89/89 [==============================] - 69s 754ms/step - loss: 2.1527 - acc: 0.2732 - val_loss: 2.7746 - val_acc: 0.1444\n",
            "Epoch 129/250\n",
            "89/89 [==============================] - 67s 738ms/step - loss: 2.1303 - acc: 0.2811 - val_loss: 2.7683 - val_acc: 0.1595\n",
            "Epoch 130/250\n",
            "89/89 [==============================] - 67s 737ms/step - loss: 2.1611 - acc: 0.2775 - val_loss: 2.7917 - val_acc: 0.1487\n",
            "Epoch 131/250\n",
            "89/89 [==============================] - 70s 769ms/step - loss: 2.1464 - acc: 0.2740 - val_loss: 2.7760 - val_acc: 0.1487\n",
            "Epoch 132/250\n",
            "89/89 [==============================] - 66s 728ms/step - loss: 2.2160 - acc: 0.2676 - val_loss: 2.8049 - val_acc: 0.1573\n",
            "Epoch 133/250\n",
            "89/89 [==============================] - 68s 750ms/step - loss: 2.1263 - acc: 0.2874 - val_loss: 2.7827 - val_acc: 0.1530\n",
            "Epoch 134/250\n",
            "89/89 [==============================] - 67s 726ms/step - loss: 2.1413 - acc: 0.2825 - val_loss: 2.7733 - val_acc: 0.1573\n",
            "Epoch 135/250\n",
            "89/89 [==============================] - 71s 779ms/step - loss: 2.1969 - acc: 0.2619 - val_loss: 2.7641 - val_acc: 0.1466\n",
            "Epoch 136/250\n",
            "89/89 [==============================] - 67s 728ms/step - loss: 2.1746 - acc: 0.2775 - val_loss: 2.7902 - val_acc: 0.1444\n",
            "Epoch 137/250\n",
            "89/89 [==============================] - 68s 747ms/step - loss: 2.1515 - acc: 0.2697 - val_loss: 2.7597 - val_acc: 0.1509\n",
            "Epoch 138/250\n",
            "89/89 [==============================] - 66s 718ms/step - loss: 2.1468 - acc: 0.2860 - val_loss: 2.7842 - val_acc: 0.1487\n",
            "Epoch 139/250\n",
            "89/89 [==============================] - 69s 759ms/step - loss: 2.2053 - acc: 0.2548 - val_loss: 2.7990 - val_acc: 0.1444\n",
            "Epoch 140/250\n",
            "89/89 [==============================] - 68s 750ms/step - loss: 2.1923 - acc: 0.2747 - val_loss: 2.7962 - val_acc: 0.1422\n",
            "Epoch 141/250\n",
            "89/89 [==============================] - 74s 815ms/step - loss: 2.1834 - acc: 0.2782 - val_loss: 2.8269 - val_acc: 0.1336\n",
            "Epoch 142/250\n",
            "89/89 [==============================] - 76s 830ms/step - loss: 2.1680 - acc: 0.2846 - val_loss: 2.7896 - val_acc: 0.1358\n",
            "Epoch 143/250\n",
            "89/89 [==============================] - 71s 783ms/step - loss: 2.1491 - acc: 0.2832 - val_loss: 2.7979 - val_acc: 0.1466\n",
            "Epoch 144/250\n",
            "89/89 [==============================] - 71s 777ms/step - loss: 2.1790 - acc: 0.2498 - val_loss: 2.7753 - val_acc: 0.1444\n",
            "Epoch 145/250\n",
            "89/89 [==============================] - 65s 716ms/step - loss: 2.1567 - acc: 0.2683 - val_loss: 2.8371 - val_acc: 0.1315\n",
            "Epoch 146/250\n",
            "89/89 [==============================] - 69s 758ms/step - loss: 2.1807 - acc: 0.2534 - val_loss: 2.7905 - val_acc: 0.1444\n",
            "Epoch 147/250\n",
            "89/89 [==============================] - 67s 738ms/step - loss: 2.1620 - acc: 0.2690 - val_loss: 2.7980 - val_acc: 0.1422\n",
            "Epoch 148/250\n",
            "89/89 [==============================] - 65s 713ms/step - loss: 2.1706 - acc: 0.2669 - val_loss: 2.8033 - val_acc: 0.1379\n",
            "Epoch 149/250\n",
            "89/89 [==============================] - 67s 738ms/step - loss: 2.1624 - acc: 0.2661 - val_loss: 2.7750 - val_acc: 0.1530\n",
            "Epoch 150/250\n",
            "89/89 [==============================] - 65s 716ms/step - loss: 2.1639 - acc: 0.2591 - val_loss: 2.7938 - val_acc: 0.1466\n",
            "Epoch 151/250\n",
            "89/89 [==============================] - 67s 737ms/step - loss: 2.1717 - acc: 0.2697 - val_loss: 2.8024 - val_acc: 0.1466\n",
            "Epoch 152/250\n",
            "89/89 [==============================] - 65s 711ms/step - loss: 2.2062 - acc: 0.2548 - val_loss: 2.7844 - val_acc: 0.1444\n",
            "Epoch 153/250\n",
            "89/89 [==============================] - 65s 712ms/step - loss: 2.1705 - acc: 0.2796 - val_loss: 2.8167 - val_acc: 0.1401\n",
            "Epoch 154/250\n",
            "89/89 [==============================] - 67s 733ms/step - loss: 2.1657 - acc: 0.2775 - val_loss: 2.7930 - val_acc: 0.1422\n",
            "Epoch 155/250\n",
            "89/89 [==============================] - 65s 711ms/step - loss: 2.1653 - acc: 0.2619 - val_loss: 2.8138 - val_acc: 0.1358\n",
            "Epoch 156/250\n",
            "89/89 [==============================] - 67s 734ms/step - loss: 2.1641 - acc: 0.2598 - val_loss: 2.7835 - val_acc: 0.1466\n",
            "Epoch 157/250\n",
            "89/89 [==============================] - 67s 733ms/step - loss: 2.1478 - acc: 0.2669 - val_loss: 2.7970 - val_acc: 0.1466\n",
            "Epoch 158/250\n",
            "89/89 [==============================] - 65s 718ms/step - loss: 2.1505 - acc: 0.2740 - val_loss: 2.8030 - val_acc: 0.1487\n",
            "Epoch 159/250\n",
            "89/89 [==============================] - 68s 746ms/step - loss: 2.1641 - acc: 0.2676 - val_loss: 2.8198 - val_acc: 0.1444\n",
            "Epoch 160/250\n",
            "89/89 [==============================] - 67s 738ms/step - loss: 2.1710 - acc: 0.2761 - val_loss: 2.8051 - val_acc: 0.1509\n",
            "Epoch 161/250\n",
            "89/89 [==============================] - 70s 767ms/step - loss: 2.1261 - acc: 0.2839 - val_loss: 2.8117 - val_acc: 0.1466\n",
            "Epoch 162/250\n",
            "89/89 [==============================] - 68s 747ms/step - loss: 2.1461 - acc: 0.2896 - val_loss: 2.8217 - val_acc: 0.1444\n",
            "Epoch 163/250\n",
            "89/89 [==============================] - 68s 743ms/step - loss: 2.1962 - acc: 0.2449 - val_loss: 2.8268 - val_acc: 0.1422\n",
            "Epoch 164/250\n",
            "89/89 [==============================] - 69s 755ms/step - loss: 2.1828 - acc: 0.2534 - val_loss: 2.8166 - val_acc: 0.1509\n",
            "Epoch 165/250\n",
            "89/89 [==============================] - 67s 730ms/step - loss: 2.1921 - acc: 0.2654 - val_loss: 2.7962 - val_acc: 0.1422\n",
            "Epoch 166/250\n",
            "89/89 [==============================] - 69s 755ms/step - loss: 2.1457 - acc: 0.2612 - val_loss: 2.8002 - val_acc: 0.1487\n",
            "Epoch 167/250\n",
            "89/89 [==============================] - 67s 737ms/step - loss: 2.1771 - acc: 0.2661 - val_loss: 2.8193 - val_acc: 0.1487\n",
            "Epoch 168/250\n",
            "89/89 [==============================] - 68s 748ms/step - loss: 2.1798 - acc: 0.2811 - val_loss: 2.7947 - val_acc: 0.1487\n",
            "Epoch 169/250\n",
            "89/89 [==============================] - 66s 726ms/step - loss: 2.2028 - acc: 0.2640 - val_loss: 2.8000 - val_acc: 0.1530\n",
            "Epoch 170/250\n",
            "89/89 [==============================] - 66s 726ms/step - loss: 2.1481 - acc: 0.2803 - val_loss: 2.7974 - val_acc: 0.1466\n",
            "Epoch 171/250\n",
            "89/89 [==============================] - 68s 750ms/step - loss: 2.1369 - acc: 0.2803 - val_loss: 2.7811 - val_acc: 0.1595\n",
            "Epoch 172/250\n",
            "89/89 [==============================] - 66s 725ms/step - loss: 2.1941 - acc: 0.2534 - val_loss: 2.8024 - val_acc: 0.1530\n",
            "Epoch 173/250\n",
            "89/89 [==============================] - 69s 760ms/step - loss: 2.1643 - acc: 0.2598 - val_loss: 2.7981 - val_acc: 0.1530\n",
            "Epoch 174/250\n",
            "89/89 [==============================] - 68s 741ms/step - loss: 2.1620 - acc: 0.2732 - val_loss: 2.8178 - val_acc: 0.1509\n",
            "Epoch 175/250\n",
            "89/89 [==============================] - 67s 731ms/step - loss: 2.1813 - acc: 0.2832 - val_loss: 2.7962 - val_acc: 0.1401\n",
            "Epoch 176/250\n",
            "89/89 [==============================] - 72s 795ms/step - loss: 2.1671 - acc: 0.2640 - val_loss: 2.8052 - val_acc: 0.1530\n",
            "Epoch 177/250\n",
            "89/89 [==============================] - 66s 723ms/step - loss: 2.1519 - acc: 0.2931 - val_loss: 2.8049 - val_acc: 0.1466\n",
            "Epoch 178/250\n",
            "89/89 [==============================] - 68s 747ms/step - loss: 2.1517 - acc: 0.2704 - val_loss: 2.7906 - val_acc: 0.1509\n",
            "Epoch 179/250\n",
            "89/89 [==============================] - 66s 723ms/step - loss: 2.1391 - acc: 0.2669 - val_loss: 2.8114 - val_acc: 0.1552\n",
            "Epoch 180/250\n",
            "89/89 [==============================] - 68s 747ms/step - loss: 2.1605 - acc: 0.2789 - val_loss: 2.8028 - val_acc: 0.1530\n",
            "Epoch 181/250\n",
            "89/89 [==============================] - 67s 731ms/step - loss: 2.1413 - acc: 0.2669 - val_loss: 2.8114 - val_acc: 0.1509\n",
            "Epoch 182/250\n",
            "89/89 [==============================] - 67s 732ms/step - loss: 2.1755 - acc: 0.2569 - val_loss: 2.8172 - val_acc: 0.1530\n",
            "Epoch 183/250\n",
            "89/89 [==============================] - 68s 748ms/step - loss: 2.1622 - acc: 0.2697 - val_loss: 2.8042 - val_acc: 0.1466\n",
            "Epoch 184/250\n",
            "89/89 [==============================] - 67s 728ms/step - loss: 2.1955 - acc: 0.2505 - val_loss: 2.8174 - val_acc: 0.1487\n",
            "Epoch 185/250\n",
            "89/89 [==============================] - 68s 749ms/step - loss: 2.1811 - acc: 0.2775 - val_loss: 2.8246 - val_acc: 0.1487\n",
            "Epoch 186/250\n",
            "89/89 [==============================] - 67s 729ms/step - loss: 2.1169 - acc: 0.2818 - val_loss: 2.8066 - val_acc: 0.1466\n",
            "Epoch 187/250\n",
            "89/89 [==============================] - 69s 754ms/step - loss: 2.1768 - acc: 0.2555 - val_loss: 2.8153 - val_acc: 0.1509\n",
            "Epoch 188/250\n",
            "89/89 [==============================] - 66s 729ms/step - loss: 2.1666 - acc: 0.2740 - val_loss: 2.7923 - val_acc: 0.1552\n",
            "Epoch 189/250\n",
            "89/89 [==============================] - 68s 748ms/step - loss: 2.1420 - acc: 0.2640 - val_loss: 2.8263 - val_acc: 0.1509\n",
            "Epoch 190/250\n",
            "89/89 [==============================] - 68s 742ms/step - loss: 2.1879 - acc: 0.2612 - val_loss: 2.8181 - val_acc: 0.1466\n",
            "Epoch 191/250\n",
            "89/89 [==============================] - 67s 728ms/step - loss: 2.1915 - acc: 0.2505 - val_loss: 2.8164 - val_acc: 0.1487\n",
            "Epoch 192/250\n",
            "89/89 [==============================] - 69s 753ms/step - loss: 2.1918 - acc: 0.2704 - val_loss: 2.7784 - val_acc: 0.1573\n",
            "Epoch 193/250\n",
            "89/89 [==============================] - 67s 730ms/step - loss: 2.1288 - acc: 0.2910 - val_loss: 2.7891 - val_acc: 0.1444\n",
            "Epoch 194/250\n",
            "89/89 [==============================] - 69s 756ms/step - loss: 2.1543 - acc: 0.2633 - val_loss: 2.8012 - val_acc: 0.1466\n",
            "Epoch 195/250\n",
            "89/89 [==============================] - 67s 730ms/step - loss: 2.1530 - acc: 0.2633 - val_loss: 2.7950 - val_acc: 0.1422\n",
            "Epoch 196/250\n",
            "89/89 [==============================] - 69s 759ms/step - loss: 2.1187 - acc: 0.2811 - val_loss: 2.8064 - val_acc: 0.1444\n",
            "Epoch 197/250\n",
            "89/89 [==============================] - 67s 736ms/step - loss: 2.1157 - acc: 0.2718 - val_loss: 2.7928 - val_acc: 0.1487\n",
            "Epoch 198/250\n",
            "89/89 [==============================] - 68s 737ms/step - loss: 2.1809 - acc: 0.2555 - val_loss: 2.8012 - val_acc: 0.1487\n",
            "Epoch 199/250\n",
            "89/89 [==============================] - 70s 761ms/step - loss: 2.1697 - acc: 0.2449 - val_loss: 2.8054 - val_acc: 0.1466\n",
            "Epoch 200/250\n",
            "89/89 [==============================] - 67s 738ms/step - loss: 2.1279 - acc: 0.2605 - val_loss: 2.7972 - val_acc: 0.1509\n",
            "Epoch 201/250\n",
            "89/89 [==============================] - 70s 761ms/step - loss: 2.1087 - acc: 0.2803 - val_loss: 2.8282 - val_acc: 0.1422\n",
            "Epoch 202/250\n",
            "89/89 [==============================] - 67s 737ms/step - loss: 2.1169 - acc: 0.2747 - val_loss: 2.8167 - val_acc: 0.1466\n",
            "Epoch 203/250\n",
            "89/89 [==============================] - 69s 759ms/step - loss: 2.1490 - acc: 0.2590 - val_loss: 2.8070 - val_acc: 0.1466\n",
            "Epoch 204/250\n",
            "89/89 [==============================] - 67s 736ms/step - loss: 2.1519 - acc: 0.2676 - val_loss: 2.8412 - val_acc: 0.1379\n",
            "Epoch 205/250\n",
            "89/89 [==============================] - 69s 760ms/step - loss: 2.1103 - acc: 0.2917 - val_loss: 2.8353 - val_acc: 0.1487\n",
            "Epoch 206/250\n",
            "89/89 [==============================] - 67s 737ms/step - loss: 2.1662 - acc: 0.2619 - val_loss: 2.8157 - val_acc: 0.1487\n",
            "Epoch 207/250\n",
            "89/89 [==============================] - 70s 772ms/step - loss: 2.1584 - acc: 0.2740 - val_loss: 2.8288 - val_acc: 0.1530\n",
            "Epoch 208/250\n",
            "89/89 [==============================] - 68s 742ms/step - loss: 2.1256 - acc: 0.2952 - val_loss: 2.8310 - val_acc: 0.1487\n",
            "Epoch 209/250\n",
            "89/89 [==============================] - 67s 736ms/step - loss: 2.1726 - acc: 0.2704 - val_loss: 2.8085 - val_acc: 0.1444\n",
            "Epoch 210/250\n",
            "89/89 [==============================] - 69s 752ms/step - loss: 2.1428 - acc: 0.2718 - val_loss: 2.8169 - val_acc: 0.1487\n",
            "Epoch 211/250\n",
            "89/89 [==============================] - 67s 732ms/step - loss: 2.1697 - acc: 0.2740 - val_loss: 2.7922 - val_acc: 0.1487\n",
            "Epoch 212/250\n",
            "89/89 [==============================] - 69s 759ms/step - loss: 2.1277 - acc: 0.2917 - val_loss: 2.7929 - val_acc: 0.1466\n",
            "Epoch 213/250\n",
            "89/89 [==============================] - 67s 730ms/step - loss: 2.1267 - acc: 0.2917 - val_loss: 2.7923 - val_acc: 0.1552\n",
            "Epoch 214/250\n",
            "89/89 [==============================] - 69s 758ms/step - loss: 2.1605 - acc: 0.2385 - val_loss: 2.8113 - val_acc: 0.1487\n",
            "Epoch 215/250\n",
            "89/89 [==============================] - 67s 733ms/step - loss: 2.1861 - acc: 0.2803 - val_loss: 2.8225 - val_acc: 0.1466\n",
            "Epoch 216/250\n",
            "89/89 [==============================] - 69s 758ms/step - loss: 2.1711 - acc: 0.2669 - val_loss: 2.8189 - val_acc: 0.1530\n",
            "Epoch 217/250\n",
            "89/89 [==============================] - 67s 731ms/step - loss: 2.1530 - acc: 0.2605 - val_loss: 2.8187 - val_acc: 0.1379\n",
            "Epoch 218/250\n",
            "89/89 [==============================] - 69s 754ms/step - loss: 2.1159 - acc: 0.2881 - val_loss: 2.8178 - val_acc: 0.1401\n",
            "Epoch 219/250\n",
            "89/89 [==============================] - 67s 730ms/step - loss: 2.1552 - acc: 0.2768 - val_loss: 2.8004 - val_acc: 0.1573\n",
            "Epoch 220/250\n",
            "89/89 [==============================] - 67s 737ms/step - loss: 2.1366 - acc: 0.2889 - val_loss: 2.7962 - val_acc: 0.1487\n",
            "Epoch 221/250\n",
            "89/89 [==============================] - 69s 757ms/step - loss: 2.1466 - acc: 0.2740 - val_loss: 2.8056 - val_acc: 0.1379\n",
            "Epoch 222/250\n",
            "89/89 [==============================] - 67s 730ms/step - loss: 2.1236 - acc: 0.2576 - val_loss: 2.8465 - val_acc: 0.1487\n",
            "Epoch 223/250\n",
            "89/89 [==============================] - 68s 751ms/step - loss: 2.1614 - acc: 0.2704 - val_loss: 2.8439 - val_acc: 0.1487\n",
            "Epoch 224/250\n",
            "89/89 [==============================] - 66s 728ms/step - loss: 2.1504 - acc: 0.2676 - val_loss: 2.8173 - val_acc: 0.1530\n",
            "Epoch 225/250\n",
            "89/89 [==============================] - 68s 749ms/step - loss: 2.1122 - acc: 0.2910 - val_loss: 2.8304 - val_acc: 0.1487\n",
            "Epoch 226/250\n",
            "89/89 [==============================] - 67s 728ms/step - loss: 2.1076 - acc: 0.2889 - val_loss: 2.7958 - val_acc: 0.1509\n",
            "Epoch 227/250\n",
            "89/89 [==============================] - 68s 751ms/step - loss: 2.1418 - acc: 0.2846 - val_loss: 2.8060 - val_acc: 0.1422\n",
            "Epoch 228/250\n",
            "89/89 [==============================] - 67s 727ms/step - loss: 2.1039 - acc: 0.2910 - val_loss: 2.7962 - val_acc: 0.1401\n",
            "Epoch 229/250\n",
            "89/89 [==============================] - 69s 757ms/step - loss: 2.1275 - acc: 0.2754 - val_loss: 2.8095 - val_acc: 0.1444\n",
            "Epoch 230/250\n",
            "89/89 [==============================] - 66s 729ms/step - loss: 2.1356 - acc: 0.2903 - val_loss: 2.7978 - val_acc: 0.1422\n",
            "Epoch 231/250\n",
            "89/89 [==============================] - 67s 733ms/step - loss: 2.1081 - acc: 0.2881 - val_loss: 2.8107 - val_acc: 0.1422\n",
            "Epoch 232/250\n",
            "89/89 [==============================] - 69s 754ms/step - loss: 2.1331 - acc: 0.2690 - val_loss: 2.8103 - val_acc: 0.1509\n",
            "Epoch 233/250\n",
            "89/89 [==============================] - 67s 731ms/step - loss: 2.1584 - acc: 0.2654 - val_loss: 2.8273 - val_acc: 0.1379\n",
            "Epoch 234/250\n",
            "89/89 [==============================] - 69s 752ms/step - loss: 2.1580 - acc: 0.2626 - val_loss: 2.8388 - val_acc: 0.1466\n",
            "Epoch 235/250\n",
            "89/89 [==============================] - 66s 729ms/step - loss: 2.1312 - acc: 0.2867 - val_loss: 2.8223 - val_acc: 0.1530\n",
            "Epoch 236/250\n",
            "89/89 [==============================] - 69s 757ms/step - loss: 2.1216 - acc: 0.2718 - val_loss: 2.8167 - val_acc: 0.1487\n",
            "Epoch 237/250\n",
            "89/89 [==============================] - 67s 737ms/step - loss: 2.0833 - acc: 0.2853 - val_loss: 2.8346 - val_acc: 0.1530\n",
            "Epoch 238/250\n",
            "89/89 [==============================] - 69s 751ms/step - loss: 2.1325 - acc: 0.2874 - val_loss: 2.8231 - val_acc: 0.1487\n",
            "Epoch 239/250\n",
            "89/89 [==============================] - 67s 731ms/step - loss: 2.1487 - acc: 0.2711 - val_loss: 2.8201 - val_acc: 0.1552\n",
            "Epoch 240/250\n",
            "89/89 [==============================] - 69s 754ms/step - loss: 2.1282 - acc: 0.2676 - val_loss: 2.8167 - val_acc: 0.1487\n",
            "Epoch 241/250\n",
            "89/89 [==============================] - 66s 728ms/step - loss: 2.1271 - acc: 0.2811 - val_loss: 2.8295 - val_acc: 0.1509\n",
            "Epoch 242/250\n",
            "89/89 [==============================] - 68s 748ms/step - loss: 2.1592 - acc: 0.2505 - val_loss: 2.8257 - val_acc: 0.1509\n",
            "Epoch 243/250\n",
            "89/89 [==============================] - 66s 725ms/step - loss: 2.1007 - acc: 0.2903 - val_loss: 2.8270 - val_acc: 0.1487\n",
            "Epoch 244/250\n",
            "89/89 [==============================] - 66s 723ms/step - loss: 2.1667 - acc: 0.2505 - val_loss: 2.8019 - val_acc: 0.1509\n",
            "Epoch 245/250\n",
            "89/89 [==============================] - 67s 730ms/step - loss: 2.1597 - acc: 0.2775 - val_loss: 2.8435 - val_acc: 0.1444\n",
            "Epoch 246/250\n",
            "89/89 [==============================] - 67s 733ms/step - loss: 2.1413 - acc: 0.2825 - val_loss: 2.8256 - val_acc: 0.1509\n",
            "Epoch 247/250\n",
            "89/89 [==============================] - 68s 748ms/step - loss: 2.1132 - acc: 0.2704 - val_loss: 2.8123 - val_acc: 0.1358\n",
            "Epoch 248/250\n",
            "89/89 [==============================] - 66s 727ms/step - loss: 2.1289 - acc: 0.2661 - val_loss: 2.8310 - val_acc: 0.1530\n",
            "Epoch 249/250\n",
            "89/89 [==============================] - 69s 755ms/step - loss: 2.1356 - acc: 0.2711 - val_loss: 2.8346 - val_acc: 0.1444\n",
            "Epoch 250/250\n",
            "89/89 [==============================] - 66s 728ms/step - loss: 2.1493 - acc: 0.2768 - val_loss: 2.7812 - val_acc: 0.1422\n"
          ]
        }
      ]
    },
    {
      "cell_type": "code",
      "source": [
        "acc = history.history['acc']\n",
        "val_acc = history.history['val_acc']\n",
        "loss = history.history['loss']\n",
        "val_loss = history.history['val_loss']\n",
        "\n",
        "epochs_x = range(len(acc))\n",
        "\n",
        "plt.plot(epochs_x, acc, 'co', label='Training acc')\n",
        "plt.plot(epochs_x, val_acc, 'k', label='Validation acc')\n",
        "plt.title('Training and validation accuracy')\n",
        "plt.legend()\n",
        "\n",
        "plt.figure()\n",
        "\n",
        "plt.plot(epochs_x, loss, 'co', label='Training loss')\n",
        "plt.plot(epochs_x, val_loss, 'k', label='Validation loss')\n",
        "plt.title('Training and validation loss')\n",
        "plt.legend()\n",
        "\n",
        "plt.show()"
      ],
      "metadata": {
        "id": "kwylTJpTP5XI",
        "colab": {
          "base_uri": "https://localhost:8080/",
          "height": 545
        },
        "outputId": "32f263a2-ebf9-465d-b127-6b9123fa9e43"
      },
      "execution_count": 13,
      "outputs": [
        {
          "output_type": "display_data",
          "data": {
            "text/plain": [
              "<Figure size 432x288 with 1 Axes>"
            ],
            "image/png": "[encoded data removed]"
          },
          "metadata": {
            "needs_background": "light"
          }
        },
        {
          "output_type": "display_data",
          "data": {
            "text/plain": [
              "<Figure size 432x288 with 1 Axes>"
            ],
            "image/png": "[encoded data removed]"
          },
          "metadata": {
            "needs_background": "light"
          }
        }
      ]
    },
    {
      "cell_type": "markdown",
      "source": [
        "#Download the model"
      ],
      "metadata": {
        "id": "lD-vKaoHQAFd"
      }
    },
    {
      "cell_type": "code",
      "source": [
        "os.makedirs('/content/drive/My Drive/cut_panoramic/Model', exist_ok=True)\n",
        "model.save('/content/drive/My Drive/cut_panoramic/Model/4.4_รอบที่4_Flimpano_Male125_250.h5')"
      ],
      "metadata": {
        "id": "74dL7-HLP_Sh"
      },
      "execution_count": 14,
      "outputs": []
    },
    {
      "cell_type": "code",
      "source": [
        "from google.colab import files\n",
        "files.download('/content/drive/My Drive/cut_panoramic/Model/4.4_รอบที่4_Flimpano_Male125_250.h5')"
      ],
      "metadata": {
        "id": "qcPW-brHQDpc",
        "colab": {
          "base_uri": "https://localhost:8080/",
          "height": 17
        },
        "outputId": "2ab8b90d-44fc-40f4-ec52-ff59249e857b"
      },
      "execution_count": 15,
      "outputs": [
        {
          "output_type": "display_data",
          "data": {
            "text/plain": [
              "<IPython.core.display.Javascript object>"
            ],
            "application/javascript": [
              "\n",
              "    async function download(id, filename, size) {\n",
              "      if (!google.colab.kernel.accessAllowed) {\n",
              "        return;\n",
              "      }\n",
              "      const div = document.createElement('div');\n",
              "      const label = document.createElement('label');\n",
              "      label.textContent = `Downloading \"${filename}\": `;\n",
              "      div.appendChild(label);\n",
              "      const progress = document.createElement('progress');\n",
              "      progress.max = size;\n",
              "      div.appendChild(progress);\n",
              "      document.body.appendChild(div);\n",
              "\n",
              "      const buffers = [];\n",
              "      let downloaded = 0;\n",
              "\n",
              "      const channel = await google.colab.kernel.comms.open(id);\n",
              "      // Send a message to notify the kernel that we're ready.\n",
              "      channel.send({})\n",
              "\n",
              "      for await (const message of channel.messages) {\n",
              "        // Send a message to notify the kernel that we're ready.\n",
              "        channel.send({})\n",
              "        if (message.buffers) {\n",
              "          for (const buffer of message.buffers) {\n",
              "            buffers.push(buffer);\n",
              "            downloaded += buffer.byteLength;\n",
              "            progress.value = downloaded;\n",
              "          }\n",
              "        }\n",
              "      }\n",
              "      const blob = new Blob(buffers, {type: 'application/binary'});\n",
              "      const a = document.createElement('a');\n",
              "      a.href = window.URL.createObjectURL(blob);\n",
              "      a.download = filename;\n",
              "      div.appendChild(a);\n",
              "      a.click();\n",
              "      div.remove();\n",
              "    }\n",
              "  "
            ]
          },
          "metadata": {}
        },
        {
          "output_type": "display_data",
          "data": {
            "text/plain": [
              "<IPython.core.display.Javascript object>"
            ],
            "application/javascript": [
              "download(\"download_63efeb82-f56f-4caa-a1c0-164bf19196cc\", \"4.4_\\u0e23\\u0e2d\\u0e1a\\u0e17\\u0e35\\u0e484_Flimpano_Male125_250.h5\", 16778384)"
            ]
          },
          "metadata": {}
        }
      ]
    }
  ]
}