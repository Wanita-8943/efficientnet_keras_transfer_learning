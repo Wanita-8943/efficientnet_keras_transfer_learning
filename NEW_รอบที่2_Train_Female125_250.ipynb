{
  "nbformat": 4,
  "nbformat_minor": 0,
  "metadata": {
    "colab": {
      "provenance": [],
      "include_colab_link": true
    },
    "kernelspec": {
      "name": "python3",
      "display_name": "Python 3"
    },
    "language_info": {
      "name": "python"
    },
    "accelerator": "GPU",
    "gpuClass": "standard"
  },
  "cells": [
    {
      "cell_type": "markdown",
      "metadata": {
        "id": "view-in-github",
        "colab_type": "text"
      },
      "source": [
        "<a href=\"https://colab.research.google.com/github/Wanita-8943/efficientnet_keras_transfer_learning/blob/master/NEW_%E0%B8%A3%E0%B8%AD%E0%B8%9A%E0%B8%97%E0%B8%B5%E0%B9%882_Train_Female125_250.ipynb\" target=\"_parent\"><img src=\"https://colab.research.google.com/assets/colab-badge.svg\" alt=\"Open In Colab\"/></a>"
      ]
    },
    {
      "cell_type": "code",
      "execution_count": null,
      "metadata": {
        "id": "KKSs7cyoPHcD"
      },
      "outputs": [],
      "source": [
        "import pandas as pd\n",
        "import shutil"
      ]
    },
    {
      "cell_type": "code",
      "source": [
        "from google.colab import drive\n",
        "drive.mount('/content/drive')"
      ],
      "metadata": {
        "colab": {
          "base_uri": "https://localhost:8080/"
        },
        "id": "7LoeZxmVPMxp",
        "outputId": "3d740f88-e498-4e1b-cc2d-1e4df4b3b1fc"
      },
      "execution_count": null,
      "outputs": [
        {
          "output_type": "stream",
          "name": "stdout",
          "text": [
            "Mounted at /content/drive\n"
          ]
        }
      ]
    },
    {
      "cell_type": "code",
      "source": [
        "from tensorflow.keras import models\n",
        "from tensorflow.keras import layers\n",
        "from tensorflow.keras import optimizers\n",
        "import os\n",
        "import glob\n",
        "import shutil\n",
        "import sys\n",
        "import numpy as np\n",
        "from skimage.io import imread\n",
        "import matplotlib.pyplot as plt\n",
        "from IPython.display import Image\n",
        "%matplotlib inline"
      ],
      "metadata": {
        "id": "1pX9g1HxPM2f"
      },
      "execution_count": null,
      "outputs": []
    },
    {
      "cell_type": "code",
      "source": [
        "batch_size = 16\n",
        "width = 150\n",
        "height = 150\n",
        "epochs = 250\n",
        "NUM_TRAIN = 1425\n",
        "NUM_TEST = 475\n",
        "dropout_rate = 0.2\n",
        "input_shape = (height, width, 3)"
      ],
      "metadata": {
        "id": "eSFtvGyvPM6O"
      },
      "execution_count": null,
      "outputs": []
    },
    {
      "cell_type": "code",
      "source": [
        "#ดึงข้อมูลใน Github มาใช้\n",
        "import os\n",
        "%cd /content\n",
        "if not os.path.isdir(\"efficientnet_keras_transfer_learning\"):\n",
        " !git clone https://github.com/Wanita-8943/efficientnet_keras_transfer_learning\n",
        "%cd efficientnet_keras_transfer_learning/"
      ],
      "metadata": {
        "colab": {
          "base_uri": "https://localhost:8080/"
        },
        "id": "lb4K4CsMPNAW",
        "outputId": "323b7ba5-6372-4ab6-d36d-7081995239d4"
      },
      "execution_count": null,
      "outputs": [
        {
          "output_type": "stream",
          "name": "stdout",
          "text": [
            "/content\n",
            "Cloning into 'efficientnet_keras_transfer_learning'...\n",
            "remote: Enumerating objects: 711, done.\u001b[K\n",
            "remote: Counting objects: 100% (233/233), done.\u001b[K\n",
            "remote: Compressing objects: 100% (97/97), done.\u001b[K\n",
            "remote: Total 711 (delta 179), reused 161 (delta 136), pack-reused 478\u001b[K\n",
            "Receiving objects: 100% (711/711), 12.37 MiB | 12.46 MiB/s, done.\n",
            "Resolving deltas: 100% (419/419), done.\n",
            "/content/efficientnet_keras_transfer_learning\n"
          ]
        }
      ]
    },
    {
      "cell_type": "code",
      "source": [
        "# Options: EfficientNetB0, EfficientNetB1, EfficientNetB2, EfficientNetB3\n",
        "# Higher the number, the more complex the model is.\n",
        "from efficientnet import EfficientNetB0 as Net\n",
        "from efficientnet import center_crop_and_resize, preprocess_input"
      ],
      "metadata": {
        "id": "eyBg0dLKPND3"
      },
      "execution_count": null,
      "outputs": []
    },
    {
      "cell_type": "code",
      "source": [
        "base_dir = '/content/drive/MyDrive/TVT_Female125'\n",
        "os.makedirs(base_dir, exist_ok=True)\n",
        "\n",
        "# Directories for our training,\n",
        "# validation and test splits\n",
        "train_dir = os.path.join(base_dir, 'train')\n",
        "os.makedirs(train_dir, exist_ok=True)\n",
        "validation_dir = os.path.join(base_dir, 'validation')\n",
        "os.makedirs(validation_dir, exist_ok=True)\n",
        "test_dir = os.path.join(base_dir, 'test')\n",
        "os.makedirs(test_dir, exist_ok=True)"
      ],
      "metadata": {
        "id": "Jwpq_-KvPef8"
      },
      "execution_count": null,
      "outputs": []
    },
    {
      "cell_type": "markdown",
      "source": [
        "#load model"
      ],
      "metadata": {
        "id": "od-ZSNm5PoGy"
      }
    },
    {
      "cell_type": "code",
      "source": [
        "import sys\n",
        "sys.path.append('/content/drive/MyDrive/cut_panoramic/Model/11_รอบแรก_Flimpano_Female125_250.h5')\n",
        "\n",
        "from efficientnet.layers import Swish, DropConnect\n",
        "from efficientnet.model import ConvKernalInitializer\n",
        "from tensorflow.keras.utils import get_custom_objects\n",
        "\n",
        "get_custom_objects().update({\n",
        "    'ConvKernalInitializer': ConvKernalInitializer,\n",
        "    'Swish': Swish,\n",
        "    'DropConnect':DropConnect\n",
        "})"
      ],
      "metadata": {
        "id": "n5iPL5MNPkhE"
      },
      "execution_count": null,
      "outputs": []
    },
    {
      "cell_type": "code",
      "source": [
        "#load model \n",
        "from tensorflow.keras.models import load_model\n",
        "model = load_model('/content/drive/MyDrive/cut_panoramic/Model/11_รอบแรก_Flimpano_Female125_250.h5')\n",
        "height = width = model.input_shape[1]"
      ],
      "metadata": {
        "id": "plYz49xMPkly"
      },
      "execution_count": null,
      "outputs": []
    },
    {
      "cell_type": "code",
      "source": [
        "model.summary()"
      ],
      "metadata": {
        "colab": {
          "base_uri": "https://localhost:8080/"
        },
        "id": "z6IOPBflFbvc",
        "outputId": "dbd278ad-c993-4e30-d76e-b840b6d8ad10"
      },
      "execution_count": null,
      "outputs": [
        {
          "output_type": "stream",
          "name": "stdout",
          "text": [
            "Model: \"sequential_2\"\n",
            "_________________________________________________________________\n",
            " Layer (type)                Output Shape              Param #   \n",
            "=================================================================\n",
            " efficientnet-b0 (Functional  (None, 5, 5, 1280)       4049564   \n",
            " )                                                               \n",
            "                                                                 \n",
            " gap (GlobalMaxPooling2D)    (None, 1280)              0         \n",
            "                                                                 \n",
            " dropout_out (Dropout)       (None, 1280)              0         \n",
            "                                                                 \n",
            " fc_out (Dense)              (None, 19)                24339     \n",
            "                                                                 \n",
            "=================================================================\n",
            "Total params: 4,073,903\n",
            "Trainable params: 24,339\n",
            "Non-trainable params: 4,049,564\n",
            "_________________________________________________________________\n"
          ]
        }
      ]
    },
    {
      "cell_type": "code",
      "source": [
        "# Train ด้วย ImageDataGenerator ของ Keras ซึ่งจะเพิ่มข้อมูลเสริมระหว่างการฝึกเพื่อลดโอกาสเกิด overfitting\n",
        "#overfitting เกิดจากข้อมูลที่ซับซ้อนกันเกินไป\n",
        "from tensorflow.keras.preprocessing.image import ImageDataGenerator\n",
        "\n",
        "train_datagen = ImageDataGenerator(\n",
        "      rescale=1./255, #โมเดลส่วนใหญ่ต้องใช้ RGB ในช่วง 0–1\n",
        "      rotation_range=40,\n",
        "      width_shift_range=0.2,\n",
        "      height_shift_range=0.2,\n",
        "      shear_range=0.2,\n",
        "      zoom_range=0.2,\n",
        "      horizontal_flip=True,\n",
        "      fill_mode='nearest')\n",
        "\n",
        "# Note that the validation data should not be augmented!\n",
        "test_datagen = ImageDataGenerator(rescale=1./255)\n",
        "\n",
        "train_generator = train_datagen.flow_from_directory(\n",
        "        # This is the target directory #ไดเรกเป้าหมาย\n",
        "        train_dir,\n",
        "        # รูปภาพทั้งหมดจะถูกปรับขนาดตามความสูงและความกว้างของเป้าหมาย\n",
        "        target_size=(height, width),\n",
        "        batch_size=batch_size,\n",
        "        # Since we use categorical_crossentropy loss, we need categorical labels\n",
        "        #เนื่องจากเราใช้ categorical_crossentropy loss เราจึงต้องมีป้ายกำกับตามหมวดหมู่\n",
        "        class_mode='categorical')\n",
        "\n",
        "validation_generator = test_datagen.flow_from_directory( #การดึงภาพจาก Directory มาเข้าโมเดล \n",
        "        validation_dir,\n",
        "        target_size=(height, width),\n",
        "        batch_size=batch_size,\n",
        "        class_mode='categorical')"
      ],
      "metadata": {
        "colab": {
          "base_uri": "https://localhost:8080/"
        },
        "id": "KBMZbdr2Pgw4",
        "outputId": "c8804ea5-b82d-48eb-d4a5-420f2f2b71f3"
      },
      "execution_count": null,
      "outputs": [
        {
          "output_type": "stream",
          "name": "stdout",
          "text": [
            "Found 1425 images belonging to 19 classes.\n",
            "Found 475 images belonging to 19 classes.\n"
          ]
        }
      ]
    },
    {
      "cell_type": "code",
      "source": [
        "history = model.fit_generator(\n",
        "      train_generator,\n",
        "      steps_per_epoch= NUM_TRAIN //batch_size,\n",
        "      epochs=epochs,\n",
        "      validation_data=validation_generator,\n",
        "      validation_steps= NUM_TEST //batch_size,\n",
        "      verbose=1,\n",
        "      use_multiprocessing=True,\n",
        "      workers=4)"
      ],
      "metadata": {
        "colab": {
          "base_uri": "https://localhost:8080/"
        },
        "id": "C9Cf1dwyP1PD",
        "outputId": "93cd30a8-0104-4b74-ea16-42ca0c74bd73"
      },
      "execution_count": null,
      "outputs": [
        {
          "output_type": "stream",
          "name": "stderr",
          "text": [
            "<ipython-input-12-caa7b37242a8>:1: UserWarning: `Model.fit_generator` is deprecated and will be removed in a future version. Please use `Model.fit`, which supports generators.\n",
            "  history = model.fit_generator(\n"
          ]
        },
        {
          "output_type": "stream",
          "name": "stdout",
          "text": [
            "Epoch 1/250\n",
            "89/89 [==============================] - 195s 2s/step - loss: 2.6736 - acc: 0.1739 - val_loss: 2.7244 - val_acc: 0.1595\n",
            "Epoch 2/250\n",
            "89/89 [==============================] - 16s 177ms/step - loss: 2.6533 - acc: 0.1895 - val_loss: 2.7148 - val_acc: 0.1724\n",
            "Epoch 3/250\n",
            "89/89 [==============================] - 16s 176ms/step - loss: 2.6475 - acc: 0.1945 - val_loss: 2.6995 - val_acc: 0.1703\n",
            "Epoch 4/250\n",
            "89/89 [==============================] - 16s 174ms/step - loss: 2.6732 - acc: 0.1710 - val_loss: 2.7243 - val_acc: 0.1724\n",
            "Epoch 5/250\n",
            "89/89 [==============================] - 16s 174ms/step - loss: 2.6255 - acc: 0.1831 - val_loss: 2.7222 - val_acc: 0.1659\n",
            "Epoch 6/250\n",
            "89/89 [==============================] - 16s 174ms/step - loss: 2.6679 - acc: 0.1817 - val_loss: 2.7282 - val_acc: 0.1681\n",
            "Epoch 7/250\n",
            "89/89 [==============================] - 16s 174ms/step - loss: 2.6228 - acc: 0.1952 - val_loss: 2.7035 - val_acc: 0.1703\n",
            "Epoch 8/250\n",
            "89/89 [==============================] - 16s 172ms/step - loss: 2.5945 - acc: 0.1987 - val_loss: 2.6869 - val_acc: 0.1789\n",
            "Epoch 9/250\n",
            "89/89 [==============================] - 16s 173ms/step - loss: 2.6508 - acc: 0.1774 - val_loss: 2.7049 - val_acc: 0.1746\n",
            "Epoch 10/250\n",
            "89/89 [==============================] - 16s 173ms/step - loss: 2.6394 - acc: 0.1817 - val_loss: 2.7036 - val_acc: 0.1746\n",
            "Epoch 11/250\n",
            "89/89 [==============================] - 16s 175ms/step - loss: 2.6635 - acc: 0.1789 - val_loss: 2.7153 - val_acc: 0.1767\n",
            "Epoch 12/250\n",
            "89/89 [==============================] - 16s 174ms/step - loss: 2.6622 - acc: 0.1923 - val_loss: 2.6933 - val_acc: 0.1767\n",
            "Epoch 13/250\n",
            "89/89 [==============================] - 16s 174ms/step - loss: 2.6498 - acc: 0.1732 - val_loss: 2.6915 - val_acc: 0.1767\n",
            "Epoch 14/250\n",
            "89/89 [==============================] - 16s 174ms/step - loss: 2.6265 - acc: 0.1781 - val_loss: 2.7029 - val_acc: 0.1767\n",
            "Epoch 15/250\n",
            "89/89 [==============================] - 16s 174ms/step - loss: 2.5879 - acc: 0.2087 - val_loss: 2.7045 - val_acc: 0.1724\n",
            "Epoch 16/250\n",
            "89/89 [==============================] - 16s 175ms/step - loss: 2.7069 - acc: 0.1689 - val_loss: 2.7142 - val_acc: 0.1681\n",
            "Epoch 17/250\n",
            "89/89 [==============================] - 16s 174ms/step - loss: 2.6319 - acc: 0.2009 - val_loss: 2.6933 - val_acc: 0.1810\n",
            "Epoch 18/250\n",
            "89/89 [==============================] - 18s 199ms/step - loss: 2.6289 - acc: 0.1888 - val_loss: 2.6966 - val_acc: 0.1832\n",
            "Epoch 19/250\n",
            "89/89 [==============================] - 16s 173ms/step - loss: 2.6691 - acc: 0.1810 - val_loss: 2.6814 - val_acc: 0.1810\n",
            "Epoch 20/250\n",
            "89/89 [==============================] - 17s 180ms/step - loss: 2.6771 - acc: 0.1895 - val_loss: 2.6803 - val_acc: 0.1875\n",
            "Epoch 21/250\n",
            "89/89 [==============================] - 17s 182ms/step - loss: 2.6200 - acc: 0.1852 - val_loss: 2.6923 - val_acc: 0.1767\n",
            "Epoch 22/250\n",
            "89/89 [==============================] - 16s 178ms/step - loss: 2.6251 - acc: 0.1909 - val_loss: 2.6889 - val_acc: 0.1810\n",
            "Epoch 23/250\n",
            "89/89 [==============================] - 17s 179ms/step - loss: 2.6468 - acc: 0.1696 - val_loss: 2.6984 - val_acc: 0.1789\n",
            "Epoch 24/250\n",
            "89/89 [==============================] - 17s 180ms/step - loss: 2.6704 - acc: 0.1789 - val_loss: 2.6744 - val_acc: 0.1789\n",
            "Epoch 25/250\n",
            "89/89 [==============================] - 16s 177ms/step - loss: 2.6929 - acc: 0.1902 - val_loss: 2.7064 - val_acc: 0.1789\n",
            "Epoch 26/250\n",
            "89/89 [==============================] - 16s 178ms/step - loss: 2.6291 - acc: 0.1888 - val_loss: 2.7148 - val_acc: 0.1703\n",
            "Epoch 27/250\n",
            "89/89 [==============================] - 16s 175ms/step - loss: 2.6585 - acc: 0.1789 - val_loss: 2.7164 - val_acc: 0.1724\n",
            "Epoch 28/250\n",
            "89/89 [==============================] - 16s 177ms/step - loss: 2.6102 - acc: 0.1916 - val_loss: 2.6921 - val_acc: 0.1789\n",
            "Epoch 29/250\n",
            "89/89 [==============================] - 16s 176ms/step - loss: 2.5746 - acc: 0.2037 - val_loss: 2.7141 - val_acc: 0.1724\n",
            "Epoch 30/250\n",
            "89/89 [==============================] - 17s 178ms/step - loss: 2.6050 - acc: 0.1796 - val_loss: 2.7214 - val_acc: 0.1681\n",
            "Epoch 31/250\n",
            "89/89 [==============================] - 17s 180ms/step - loss: 2.6341 - acc: 0.1739 - val_loss: 2.7029 - val_acc: 0.1703\n",
            "Epoch 32/250\n",
            "89/89 [==============================] - 16s 178ms/step - loss: 2.6192 - acc: 0.1831 - val_loss: 2.7297 - val_acc: 0.1681\n",
            "Epoch 33/250\n",
            "89/89 [==============================] - 16s 177ms/step - loss: 2.6323 - acc: 0.1845 - val_loss: 2.7039 - val_acc: 0.1767\n",
            "Epoch 34/250\n",
            "89/89 [==============================] - 16s 177ms/step - loss: 2.6412 - acc: 0.1831 - val_loss: 2.6866 - val_acc: 0.1789\n",
            "Epoch 35/250\n",
            "89/89 [==============================] - 18s 201ms/step - loss: 2.5985 - acc: 0.2009 - val_loss: 2.6960 - val_acc: 0.1810\n",
            "Epoch 36/250\n",
            "89/89 [==============================] - 16s 177ms/step - loss: 2.6329 - acc: 0.1838 - val_loss: 2.7053 - val_acc: 0.1703\n",
            "Epoch 37/250\n",
            "89/89 [==============================] - 16s 174ms/step - loss: 2.6362 - acc: 0.1824 - val_loss: 2.7031 - val_acc: 0.1703\n",
            "Epoch 38/250\n",
            "89/89 [==============================] - 16s 175ms/step - loss: 2.6768 - acc: 0.1810 - val_loss: 2.7119 - val_acc: 0.1832\n",
            "Epoch 39/250\n",
            "89/89 [==============================] - 16s 177ms/step - loss: 2.5855 - acc: 0.1838 - val_loss: 2.7100 - val_acc: 0.1767\n",
            "Epoch 40/250\n",
            "89/89 [==============================] - 16s 174ms/step - loss: 2.5499 - acc: 0.2165 - val_loss: 2.7131 - val_acc: 0.1703\n",
            "Epoch 41/250\n",
            "89/89 [==============================] - 16s 177ms/step - loss: 2.5870 - acc: 0.1874 - val_loss: 2.7030 - val_acc: 0.1746\n",
            "Epoch 42/250\n",
            "89/89 [==============================] - 16s 175ms/step - loss: 2.6272 - acc: 0.1888 - val_loss: 2.6973 - val_acc: 0.1767\n",
            "Epoch 43/250\n",
            "89/89 [==============================] - 16s 177ms/step - loss: 2.5998 - acc: 0.1895 - val_loss: 2.6956 - val_acc: 0.1789\n",
            "Epoch 44/250\n",
            "89/89 [==============================] - 16s 176ms/step - loss: 2.6349 - acc: 0.1895 - val_loss: 2.6931 - val_acc: 0.1746\n",
            "Epoch 45/250\n",
            "89/89 [==============================] - 17s 180ms/step - loss: 2.6108 - acc: 0.2001 - val_loss: 2.7093 - val_acc: 0.1767\n",
            "Epoch 46/250\n",
            "89/89 [==============================] - 16s 179ms/step - loss: 2.5933 - acc: 0.2016 - val_loss: 2.7154 - val_acc: 0.1810\n",
            "Epoch 47/250\n",
            "89/89 [==============================] - 17s 180ms/step - loss: 2.5673 - acc: 0.1973 - val_loss: 2.6964 - val_acc: 0.1724\n",
            "Epoch 48/250\n",
            "89/89 [==============================] - 16s 178ms/step - loss: 2.5918 - acc: 0.1973 - val_loss: 2.7037 - val_acc: 0.1767\n",
            "Epoch 49/250\n",
            "89/89 [==============================] - 16s 176ms/step - loss: 2.5830 - acc: 0.1930 - val_loss: 2.7488 - val_acc: 0.1659\n",
            "Epoch 50/250\n",
            "89/89 [==============================] - 17s 180ms/step - loss: 2.6303 - acc: 0.1859 - val_loss: 2.7249 - val_acc: 0.1767\n",
            "Epoch 51/250\n",
            "89/89 [==============================] - 17s 179ms/step - loss: 2.6022 - acc: 0.2001 - val_loss: 2.7151 - val_acc: 0.1703\n",
            "Epoch 52/250\n",
            "89/89 [==============================] - 18s 196ms/step - loss: 2.6072 - acc: 0.1895 - val_loss: 2.6707 - val_acc: 0.1810\n",
            "Epoch 53/250\n",
            "89/89 [==============================] - 20s 223ms/step - loss: 2.5891 - acc: 0.1945 - val_loss: 2.6918 - val_acc: 0.1724\n",
            "Epoch 54/250\n",
            "89/89 [==============================] - 16s 177ms/step - loss: 2.5624 - acc: 0.1796 - val_loss: 2.7088 - val_acc: 0.1767\n",
            "Epoch 55/250\n",
            "89/89 [==============================] - 16s 177ms/step - loss: 2.5872 - acc: 0.2016 - val_loss: 2.7247 - val_acc: 0.1724\n",
            "Epoch 56/250\n",
            "89/89 [==============================] - 16s 178ms/step - loss: 2.6024 - acc: 0.2016 - val_loss: 2.7059 - val_acc: 0.1724\n",
            "Epoch 57/250\n",
            "89/89 [==============================] - 16s 178ms/step - loss: 2.6291 - acc: 0.1767 - val_loss: 2.7071 - val_acc: 0.1746\n",
            "Epoch 58/250\n",
            "89/89 [==============================] - 16s 175ms/step - loss: 2.5726 - acc: 0.2058 - val_loss: 2.6806 - val_acc: 0.1789\n",
            "Epoch 59/250\n",
            "89/89 [==============================] - 17s 186ms/step - loss: 2.5804 - acc: 0.2001 - val_loss: 2.6989 - val_acc: 0.1897\n",
            "Epoch 60/250\n",
            "89/89 [==============================] - 16s 176ms/step - loss: 2.5648 - acc: 0.1987 - val_loss: 2.6977 - val_acc: 0.1810\n",
            "Epoch 61/250\n",
            "89/89 [==============================] - 16s 175ms/step - loss: 2.5636 - acc: 0.1930 - val_loss: 2.6902 - val_acc: 0.1659\n",
            "Epoch 62/250\n",
            "89/89 [==============================] - 16s 175ms/step - loss: 2.6041 - acc: 0.2065 - val_loss: 2.6991 - val_acc: 0.1789\n",
            "Epoch 63/250\n",
            "89/89 [==============================] - 16s 173ms/step - loss: 2.5762 - acc: 0.1874 - val_loss: 2.7123 - val_acc: 0.1767\n",
            "Epoch 64/250\n",
            "89/89 [==============================] - 16s 178ms/step - loss: 2.5795 - acc: 0.1888 - val_loss: 2.7021 - val_acc: 0.1767\n",
            "Epoch 65/250\n",
            "89/89 [==============================] - 16s 178ms/step - loss: 2.5967 - acc: 0.1923 - val_loss: 2.7094 - val_acc: 0.1918\n",
            "Epoch 66/250\n",
            "89/89 [==============================] - 16s 176ms/step - loss: 2.5985 - acc: 0.1930 - val_loss: 2.6843 - val_acc: 0.1832\n",
            "Epoch 67/250\n",
            "89/89 [==============================] - 16s 176ms/step - loss: 2.5183 - acc: 0.2079 - val_loss: 2.6997 - val_acc: 0.1810\n",
            "Epoch 68/250\n",
            "89/89 [==============================] - 16s 177ms/step - loss: 2.5924 - acc: 0.1888 - val_loss: 2.7154 - val_acc: 0.1703\n",
            "Epoch 69/250\n",
            "89/89 [==============================] - 19s 202ms/step - loss: 2.5850 - acc: 0.1973 - val_loss: 2.7164 - val_acc: 0.1853\n",
            "Epoch 70/250\n",
            "89/89 [==============================] - 17s 186ms/step - loss: 2.6267 - acc: 0.1789 - val_loss: 2.7174 - val_acc: 0.1832\n",
            "Epoch 71/250\n",
            "89/89 [==============================] - 16s 179ms/step - loss: 2.5818 - acc: 0.1938 - val_loss: 2.7298 - val_acc: 0.1853\n",
            "Epoch 72/250\n",
            "89/89 [==============================] - 16s 176ms/step - loss: 2.5712 - acc: 0.1966 - val_loss: 2.7162 - val_acc: 0.1832\n",
            "Epoch 73/250\n",
            "89/89 [==============================] - 16s 177ms/step - loss: 2.6414 - acc: 0.1838 - val_loss: 2.7504 - val_acc: 0.1746\n",
            "Epoch 74/250\n",
            "89/89 [==============================] - 16s 177ms/step - loss: 2.5770 - acc: 0.2023 - val_loss: 2.7143 - val_acc: 0.1832\n",
            "Epoch 75/250\n",
            "89/89 [==============================] - 16s 179ms/step - loss: 2.5410 - acc: 0.2058 - val_loss: 2.7267 - val_acc: 0.1746\n",
            "Epoch 76/250\n",
            "89/89 [==============================] - 16s 175ms/step - loss: 2.5651 - acc: 0.1902 - val_loss: 2.7292 - val_acc: 0.1810\n",
            "Epoch 77/250\n",
            "89/89 [==============================] - 16s 178ms/step - loss: 2.5863 - acc: 0.1845 - val_loss: 2.7085 - val_acc: 0.1810\n",
            "Epoch 78/250\n",
            "89/89 [==============================] - 16s 176ms/step - loss: 2.5528 - acc: 0.1987 - val_loss: 2.7207 - val_acc: 0.1810\n",
            "Epoch 79/250\n",
            "89/89 [==============================] - 17s 179ms/step - loss: 2.5455 - acc: 0.2037 - val_loss: 2.7182 - val_acc: 0.1810\n",
            "Epoch 80/250\n",
            "89/89 [==============================] - 16s 177ms/step - loss: 2.5791 - acc: 0.1966 - val_loss: 2.7130 - val_acc: 0.1767\n",
            "Epoch 81/250\n",
            "89/89 [==============================] - 16s 176ms/step - loss: 2.5877 - acc: 0.1838 - val_loss: 2.7097 - val_acc: 0.1724\n",
            "Epoch 82/250\n",
            "89/89 [==============================] - 16s 178ms/step - loss: 2.5560 - acc: 0.2016 - val_loss: 2.7141 - val_acc: 0.1746\n",
            "Epoch 83/250\n",
            "89/89 [==============================] - 16s 175ms/step - loss: 2.5472 - acc: 0.2172 - val_loss: 2.7307 - val_acc: 0.1853\n",
            "Epoch 84/250\n",
            "89/89 [==============================] - 16s 178ms/step - loss: 2.5167 - acc: 0.1930 - val_loss: 2.7145 - val_acc: 0.1789\n",
            "Epoch 85/250\n",
            "89/89 [==============================] - 16s 177ms/step - loss: 2.5489 - acc: 0.2108 - val_loss: 2.6900 - val_acc: 0.1810\n",
            "Epoch 86/250\n",
            "89/89 [==============================] - 17s 179ms/step - loss: 2.5950 - acc: 0.2037 - val_loss: 2.7025 - val_acc: 0.1767\n",
            "Epoch 87/250\n",
            "89/89 [==============================] - 18s 199ms/step - loss: 2.5167 - acc: 0.2165 - val_loss: 2.7187 - val_acc: 0.1789\n",
            "Epoch 88/250\n",
            "89/89 [==============================] - 16s 178ms/step - loss: 2.4906 - acc: 0.2072 - val_loss: 2.7175 - val_acc: 0.1875\n",
            "Epoch 89/250\n",
            "89/89 [==============================] - 16s 178ms/step - loss: 2.5894 - acc: 0.1909 - val_loss: 2.6962 - val_acc: 0.1875\n",
            "Epoch 90/250\n",
            "89/89 [==============================] - 16s 176ms/step - loss: 2.5857 - acc: 0.1867 - val_loss: 2.7088 - val_acc: 0.1832\n",
            "Epoch 91/250\n",
            "89/89 [==============================] - 16s 178ms/step - loss: 2.5625 - acc: 0.2072 - val_loss: 2.6931 - val_acc: 0.1918\n",
            "Epoch 92/250\n",
            "89/89 [==============================] - 16s 176ms/step - loss: 2.5487 - acc: 0.2009 - val_loss: 2.6966 - val_acc: 0.1832\n",
            "Epoch 93/250\n",
            "89/89 [==============================] - 16s 177ms/step - loss: 2.5706 - acc: 0.1888 - val_loss: 2.6900 - val_acc: 0.1789\n",
            "Epoch 94/250\n",
            "89/89 [==============================] - 16s 177ms/step - loss: 2.5445 - acc: 0.1781 - val_loss: 2.7249 - val_acc: 0.1875\n",
            "Epoch 95/250\n",
            "89/89 [==============================] - 16s 178ms/step - loss: 2.5406 - acc: 0.2044 - val_loss: 2.7169 - val_acc: 0.1810\n",
            "Epoch 96/250\n",
            "89/89 [==============================] - 16s 176ms/step - loss: 2.5483 - acc: 0.1959 - val_loss: 2.7106 - val_acc: 0.1789\n",
            "Epoch 97/250\n",
            "89/89 [==============================] - 16s 177ms/step - loss: 2.5165 - acc: 0.2179 - val_loss: 2.6961 - val_acc: 0.1832\n",
            "Epoch 98/250\n",
            "89/89 [==============================] - 16s 175ms/step - loss: 2.5459 - acc: 0.1959 - val_loss: 2.7014 - val_acc: 0.1832\n",
            "Epoch 99/250\n",
            "89/89 [==============================] - 16s 176ms/step - loss: 2.5145 - acc: 0.2214 - val_loss: 2.7119 - val_acc: 0.1789\n",
            "Epoch 100/250\n",
            "89/89 [==============================] - 16s 177ms/step - loss: 2.5730 - acc: 0.1959 - val_loss: 2.6854 - val_acc: 0.1875\n",
            "Epoch 101/250\n",
            "89/89 [==============================] - 16s 175ms/step - loss: 2.5283 - acc: 0.1987 - val_loss: 2.6712 - val_acc: 0.1897\n",
            "Epoch 102/250\n",
            "89/89 [==============================] - 16s 177ms/step - loss: 2.5682 - acc: 0.1895 - val_loss: 2.7066 - val_acc: 0.1810\n",
            "Epoch 103/250\n",
            "89/89 [==============================] - 16s 178ms/step - loss: 2.5472 - acc: 0.1994 - val_loss: 2.7069 - val_acc: 0.1832\n",
            "Epoch 104/250\n",
            "89/89 [==============================] - 16s 178ms/step - loss: 2.5305 - acc: 0.1994 - val_loss: 2.6872 - val_acc: 0.1853\n",
            "Epoch 105/250\n",
            "89/89 [==============================] - 18s 198ms/step - loss: 2.5084 - acc: 0.1902 - val_loss: 2.6764 - val_acc: 0.1897\n",
            "Epoch 106/250\n",
            "89/89 [==============================] - 16s 177ms/step - loss: 2.5569 - acc: 0.1973 - val_loss: 2.6991 - val_acc: 0.1853\n",
            "Epoch 107/250\n",
            "89/89 [==============================] - 16s 178ms/step - loss: 2.4835 - acc: 0.1923 - val_loss: 2.6873 - val_acc: 0.1961\n",
            "Epoch 108/250\n",
            "89/89 [==============================] - 17s 180ms/step - loss: 2.5970 - acc: 0.1952 - val_loss: 2.7248 - val_acc: 0.1832\n",
            "Epoch 109/250\n",
            "89/89 [==============================] - 16s 178ms/step - loss: 2.5772 - acc: 0.2023 - val_loss: 2.7125 - val_acc: 0.1810\n",
            "Epoch 110/250\n",
            "89/89 [==============================] - 16s 177ms/step - loss: 2.4870 - acc: 0.2072 - val_loss: 2.7071 - val_acc: 0.1875\n",
            "Epoch 111/250\n",
            "89/89 [==============================] - 16s 176ms/step - loss: 2.5104 - acc: 0.2072 - val_loss: 2.7063 - val_acc: 0.1897\n",
            "Epoch 112/250\n",
            "89/89 [==============================] - 16s 177ms/step - loss: 2.4963 - acc: 0.2115 - val_loss: 2.7016 - val_acc: 0.1875\n",
            "Epoch 113/250\n",
            "89/89 [==============================] - 16s 178ms/step - loss: 2.5407 - acc: 0.2136 - val_loss: 2.6816 - val_acc: 0.1875\n",
            "Epoch 114/250\n",
            "89/89 [==============================] - 17s 179ms/step - loss: 2.4892 - acc: 0.1895 - val_loss: 2.7171 - val_acc: 0.1832\n",
            "Epoch 115/250\n",
            "89/89 [==============================] - 16s 177ms/step - loss: 2.5253 - acc: 0.1796 - val_loss: 2.6965 - val_acc: 0.1789\n",
            "Epoch 116/250\n",
            "89/89 [==============================] - 16s 176ms/step - loss: 2.5022 - acc: 0.2001 - val_loss: 2.6853 - val_acc: 0.1875\n",
            "Epoch 117/250\n",
            "89/89 [==============================] - 16s 177ms/step - loss: 2.4949 - acc: 0.2101 - val_loss: 2.7029 - val_acc: 0.1853\n",
            "Epoch 118/250\n",
            "89/89 [==============================] - 16s 178ms/step - loss: 2.5337 - acc: 0.2087 - val_loss: 2.7220 - val_acc: 0.1810\n",
            "Epoch 119/250\n",
            "89/89 [==============================] - 16s 178ms/step - loss: 2.5201 - acc: 0.2044 - val_loss: 2.7225 - val_acc: 0.1832\n",
            "Epoch 120/250\n",
            "89/89 [==============================] - 16s 175ms/step - loss: 2.4860 - acc: 0.2158 - val_loss: 2.7208 - val_acc: 0.1897\n",
            "Epoch 121/250\n",
            "89/89 [==============================] - 16s 179ms/step - loss: 2.5121 - acc: 0.2037 - val_loss: 2.7248 - val_acc: 0.1832\n",
            "Epoch 122/250\n",
            "89/89 [==============================] - 18s 195ms/step - loss: 2.5090 - acc: 0.1980 - val_loss: 2.7046 - val_acc: 0.1853\n",
            "Epoch 123/250\n",
            "89/89 [==============================] - 18s 199ms/step - loss: 2.5452 - acc: 0.1980 - val_loss: 2.6925 - val_acc: 0.1897\n",
            "Epoch 124/250\n",
            "89/89 [==============================] - 16s 178ms/step - loss: 2.4464 - acc: 0.2136 - val_loss: 2.7155 - val_acc: 0.1853\n",
            "Epoch 125/250\n",
            "89/89 [==============================] - 16s 177ms/step - loss: 2.4971 - acc: 0.1923 - val_loss: 2.7149 - val_acc: 0.1875\n",
            "Epoch 126/250\n",
            "89/89 [==============================] - 16s 177ms/step - loss: 2.5239 - acc: 0.2051 - val_loss: 2.7150 - val_acc: 0.1897\n",
            "Epoch 127/250\n",
            "89/89 [==============================] - 16s 176ms/step - loss: 2.5044 - acc: 0.2023 - val_loss: 2.7179 - val_acc: 0.1853\n",
            "Epoch 128/250\n",
            "89/89 [==============================] - 17s 180ms/step - loss: 2.5066 - acc: 0.2065 - val_loss: 2.6811 - val_acc: 0.1875\n",
            "Epoch 129/250\n",
            "89/89 [==============================] - 17s 182ms/step - loss: 2.5464 - acc: 0.1923 - val_loss: 2.6871 - val_acc: 0.1940\n",
            "Epoch 130/250\n",
            "89/89 [==============================] - 16s 177ms/step - loss: 2.4900 - acc: 0.2101 - val_loss: 2.6919 - val_acc: 0.1918\n",
            "Epoch 131/250\n",
            "89/89 [==============================] - 17s 179ms/step - loss: 2.4802 - acc: 0.2172 - val_loss: 2.7002 - val_acc: 0.1832\n",
            "Epoch 132/250\n",
            "89/89 [==============================] - 17s 188ms/step - loss: 2.5608 - acc: 0.2001 - val_loss: 2.6801 - val_acc: 0.1918\n",
            "Epoch 133/250\n",
            "89/89 [==============================] - 17s 184ms/step - loss: 2.4914 - acc: 0.2023 - val_loss: 2.6968 - val_acc: 0.1897\n",
            "Epoch 134/250\n",
            "89/89 [==============================] - 17s 180ms/step - loss: 2.4768 - acc: 0.2328 - val_loss: 2.6912 - val_acc: 0.1918\n",
            "Epoch 135/250\n",
            "89/89 [==============================] - 17s 182ms/step - loss: 2.5077 - acc: 0.2136 - val_loss: 2.6880 - val_acc: 0.1853\n",
            "Epoch 136/250\n",
            "89/89 [==============================] - 17s 183ms/step - loss: 2.4894 - acc: 0.2016 - val_loss: 2.6803 - val_acc: 0.1897\n",
            "Epoch 137/250\n",
            "89/89 [==============================] - 17s 182ms/step - loss: 2.5361 - acc: 0.1852 - val_loss: 2.6982 - val_acc: 0.1875\n",
            "Epoch 138/250\n",
            "89/89 [==============================] - 17s 187ms/step - loss: 2.5256 - acc: 0.1959 - val_loss: 2.6790 - val_acc: 0.1897\n",
            "Epoch 139/250\n",
            "89/89 [==============================] - 17s 181ms/step - loss: 2.4728 - acc: 0.2165 - val_loss: 2.7103 - val_acc: 0.1897\n",
            "Epoch 140/250\n",
            "89/89 [==============================] - 17s 181ms/step - loss: 2.5134 - acc: 0.2101 - val_loss: 2.7120 - val_acc: 0.1853\n",
            "Epoch 141/250\n",
            "89/89 [==============================] - 19s 206ms/step - loss: 2.4782 - acc: 0.2058 - val_loss: 2.6924 - val_acc: 0.1940\n",
            "Epoch 142/250\n",
            "89/89 [==============================] - 17s 182ms/step - loss: 2.5264 - acc: 0.2023 - val_loss: 2.6931 - val_acc: 0.1875\n",
            "Epoch 143/250\n",
            "89/89 [==============================] - 17s 179ms/step - loss: 2.5031 - acc: 0.2193 - val_loss: 2.6896 - val_acc: 0.1940\n",
            "Epoch 144/250\n",
            "89/89 [==============================] - 17s 178ms/step - loss: 2.5190 - acc: 0.2044 - val_loss: 2.6919 - val_acc: 0.1940\n",
            "Epoch 145/250\n",
            "89/89 [==============================] - 16s 176ms/step - loss: 2.4820 - acc: 0.2229 - val_loss: 2.6816 - val_acc: 0.1897\n",
            "Epoch 146/250\n",
            "89/89 [==============================] - 17s 180ms/step - loss: 2.5470 - acc: 0.1930 - val_loss: 2.6805 - val_acc: 0.1918\n",
            "Epoch 147/250\n",
            "89/89 [==============================] - 16s 178ms/step - loss: 2.5107 - acc: 0.1966 - val_loss: 2.6800 - val_acc: 0.1940\n",
            "Epoch 148/250\n",
            "89/89 [==============================] - 16s 177ms/step - loss: 2.4864 - acc: 0.2108 - val_loss: 2.6965 - val_acc: 0.1853\n",
            "Epoch 149/250\n",
            "89/89 [==============================] - 16s 178ms/step - loss: 2.4779 - acc: 0.2079 - val_loss: 2.7027 - val_acc: 0.1940\n",
            "Epoch 150/250\n",
            "89/89 [==============================] - 17s 181ms/step - loss: 2.4951 - acc: 0.2094 - val_loss: 2.6969 - val_acc: 0.1961\n",
            "Epoch 151/250\n",
            "89/89 [==============================] - 16s 177ms/step - loss: 2.4781 - acc: 0.1973 - val_loss: 2.7026 - val_acc: 0.1832\n",
            "Epoch 152/250\n",
            "89/89 [==============================] - 16s 176ms/step - loss: 2.5265 - acc: 0.1973 - val_loss: 2.6896 - val_acc: 0.1832\n",
            "Epoch 153/250\n",
            "89/89 [==============================] - 17s 180ms/step - loss: 2.4543 - acc: 0.2219 - val_loss: 2.7021 - val_acc: 0.1897\n",
            "Epoch 154/250\n",
            "89/89 [==============================] - 17s 181ms/step - loss: 2.4996 - acc: 0.2051 - val_loss: 2.6885 - val_acc: 0.1918\n",
            "Epoch 155/250\n",
            "89/89 [==============================] - 17s 180ms/step - loss: 2.4894 - acc: 0.2229 - val_loss: 2.6730 - val_acc: 0.2026\n",
            "Epoch 156/250\n",
            "89/89 [==============================] - 17s 178ms/step - loss: 2.4701 - acc: 0.1945 - val_loss: 2.6832 - val_acc: 0.1961\n",
            "Epoch 157/250\n",
            "89/89 [==============================] - 17s 179ms/step - loss: 2.4501 - acc: 0.2079 - val_loss: 2.6922 - val_acc: 0.1875\n",
            "Epoch 158/250\n",
            "89/89 [==============================] - 17s 179ms/step - loss: 2.4535 - acc: 0.2094 - val_loss: 2.6857 - val_acc: 0.1918\n",
            "Epoch 159/250\n",
            "89/89 [==============================] - 18s 198ms/step - loss: 2.4635 - acc: 0.2079 - val_loss: 2.6751 - val_acc: 0.1983\n",
            "Epoch 160/250\n",
            "89/89 [==============================] - 16s 179ms/step - loss: 2.4487 - acc: 0.2300 - val_loss: 2.7023 - val_acc: 0.1940\n",
            "Epoch 161/250\n",
            "89/89 [==============================] - 17s 182ms/step - loss: 2.4028 - acc: 0.2257 - val_loss: 2.7148 - val_acc: 0.1897\n",
            "Epoch 162/250\n",
            "89/89 [==============================] - 16s 176ms/step - loss: 2.3989 - acc: 0.2214 - val_loss: 2.6888 - val_acc: 0.1961\n",
            "Epoch 163/250\n",
            "89/89 [==============================] - 16s 177ms/step - loss: 2.4672 - acc: 0.2051 - val_loss: 2.7166 - val_acc: 0.1940\n",
            "Epoch 164/250\n",
            "89/89 [==============================] - 16s 177ms/step - loss: 2.4755 - acc: 0.2193 - val_loss: 2.6958 - val_acc: 0.1897\n",
            "Epoch 165/250\n",
            "89/89 [==============================] - 16s 177ms/step - loss: 2.4980 - acc: 0.1930 - val_loss: 2.7108 - val_acc: 0.1918\n",
            "Epoch 166/250\n",
            "89/89 [==============================] - 16s 178ms/step - loss: 2.4843 - acc: 0.2001 - val_loss: 2.6911 - val_acc: 0.1961\n",
            "Epoch 167/250\n",
            "89/89 [==============================] - 17s 180ms/step - loss: 2.4639 - acc: 0.2229 - val_loss: 2.6946 - val_acc: 0.1875\n",
            "Epoch 168/250\n",
            "89/89 [==============================] - 17s 183ms/step - loss: 2.4938 - acc: 0.2044 - val_loss: 2.6907 - val_acc: 0.1940\n",
            "Epoch 169/250\n",
            "89/89 [==============================] - 17s 180ms/step - loss: 2.4679 - acc: 0.2165 - val_loss: 2.6948 - val_acc: 0.1961\n",
            "Epoch 170/250\n",
            "89/89 [==============================] - 16s 177ms/step - loss: 2.5193 - acc: 0.1987 - val_loss: 2.6663 - val_acc: 0.1983\n",
            "Epoch 171/250\n",
            "89/89 [==============================] - 16s 178ms/step - loss: 2.4536 - acc: 0.2065 - val_loss: 2.6759 - val_acc: 0.1961\n",
            "Epoch 172/250\n",
            "89/89 [==============================] - 16s 178ms/step - loss: 2.4648 - acc: 0.2165 - val_loss: 2.6986 - val_acc: 0.1961\n",
            "Epoch 173/250\n",
            "89/89 [==============================] - 16s 177ms/step - loss: 2.4900 - acc: 0.2072 - val_loss: 2.7021 - val_acc: 0.1918\n",
            "Epoch 174/250\n",
            "89/89 [==============================] - 16s 177ms/step - loss: 2.4879 - acc: 0.2115 - val_loss: 2.7045 - val_acc: 0.1875\n",
            "Epoch 175/250\n",
            "89/89 [==============================] - 17s 179ms/step - loss: 2.4689 - acc: 0.2150 - val_loss: 2.6819 - val_acc: 0.1961\n",
            "Epoch 176/250\n",
            "89/89 [==============================] - 16s 178ms/step - loss: 2.4871 - acc: 0.2179 - val_loss: 2.6640 - val_acc: 0.1832\n",
            "Epoch 177/250\n",
            "89/89 [==============================] - 18s 199ms/step - loss: 2.4818 - acc: 0.2236 - val_loss: 2.6986 - val_acc: 0.1853\n",
            "Epoch 178/250\n",
            "89/89 [==============================] - 17s 184ms/step - loss: 2.4549 - acc: 0.2079 - val_loss: 2.6981 - val_acc: 0.1983\n",
            "Epoch 179/250\n",
            "89/89 [==============================] - 17s 182ms/step - loss: 2.4403 - acc: 0.2214 - val_loss: 2.6903 - val_acc: 0.1961\n",
            "Epoch 180/250\n",
            "89/89 [==============================] - 17s 181ms/step - loss: 2.4568 - acc: 0.2079 - val_loss: 2.7121 - val_acc: 0.1940\n",
            "Epoch 181/250\n",
            "89/89 [==============================] - 16s 177ms/step - loss: 2.4618 - acc: 0.2101 - val_loss: 2.7113 - val_acc: 0.1789\n",
            "Epoch 182/250\n",
            "89/89 [==============================] - 16s 177ms/step - loss: 2.4138 - acc: 0.2122 - val_loss: 2.7088 - val_acc: 0.1875\n",
            "Epoch 183/250\n",
            "89/89 [==============================] - 17s 179ms/step - loss: 2.4524 - acc: 0.2143 - val_loss: 2.6971 - val_acc: 0.1940\n",
            "Epoch 184/250\n",
            "89/89 [==============================] - 16s 177ms/step - loss: 2.4411 - acc: 0.2214 - val_loss: 2.6923 - val_acc: 0.1983\n",
            "Epoch 185/250\n",
            "89/89 [==============================] - 17s 178ms/step - loss: 2.4267 - acc: 0.2285 - val_loss: 2.6893 - val_acc: 0.1961\n",
            "Epoch 186/250\n",
            "89/89 [==============================] - 16s 177ms/step - loss: 2.4230 - acc: 0.2257 - val_loss: 2.6838 - val_acc: 0.1961\n",
            "Epoch 187/250\n",
            "89/89 [==============================] - 16s 177ms/step - loss: 2.4726 - acc: 0.2143 - val_loss: 2.7059 - val_acc: 0.1918\n",
            "Epoch 188/250\n",
            "89/89 [==============================] - 16s 175ms/step - loss: 2.4618 - acc: 0.2229 - val_loss: 2.6757 - val_acc: 0.1940\n",
            "Epoch 189/250\n",
            "89/89 [==============================] - 17s 179ms/step - loss: 2.4599 - acc: 0.2257 - val_loss: 2.6771 - val_acc: 0.1983\n",
            "Epoch 190/250\n",
            "89/89 [==============================] - 17s 178ms/step - loss: 2.4751 - acc: 0.2128 - val_loss: 2.6749 - val_acc: 0.1961\n",
            "Epoch 191/250\n",
            "89/89 [==============================] - 16s 176ms/step - loss: 2.4963 - acc: 0.2122 - val_loss: 2.6716 - val_acc: 0.1918\n",
            "Epoch 192/250\n",
            "89/89 [==============================] - 16s 176ms/step - loss: 2.4331 - acc: 0.2193 - val_loss: 2.6889 - val_acc: 0.1940\n",
            "Epoch 193/250\n",
            "89/89 [==============================] - 16s 178ms/step - loss: 2.4746 - acc: 0.2207 - val_loss: 2.7123 - val_acc: 0.1832\n",
            "Epoch 194/250\n",
            "89/89 [==============================] - 17s 179ms/step - loss: 2.4367 - acc: 0.2193 - val_loss: 2.7065 - val_acc: 0.1940\n",
            "Epoch 195/250\n",
            "89/89 [==============================] - 18s 198ms/step - loss: 2.4692 - acc: 0.2165 - val_loss: 2.7171 - val_acc: 0.1875\n",
            "Epoch 196/250\n",
            "89/89 [==============================] - 16s 177ms/step - loss: 2.4682 - acc: 0.2129 - val_loss: 2.7170 - val_acc: 0.1875\n",
            "Epoch 197/250\n",
            "89/89 [==============================] - 17s 180ms/step - loss: 2.4365 - acc: 0.2321 - val_loss: 2.7120 - val_acc: 0.1832\n",
            "Epoch 198/250\n",
            "89/89 [==============================] - 17s 178ms/step - loss: 2.4215 - acc: 0.2158 - val_loss: 2.7101 - val_acc: 0.1810\n",
            "Epoch 199/250\n",
            "89/89 [==============================] - 17s 179ms/step - loss: 2.4967 - acc: 0.2016 - val_loss: 2.7061 - val_acc: 0.1918\n",
            "Epoch 200/250\n",
            "89/89 [==============================] - 16s 177ms/step - loss: 2.4635 - acc: 0.2150 - val_loss: 2.7086 - val_acc: 0.1897\n",
            "Epoch 201/250\n",
            "89/89 [==============================] - 16s 179ms/step - loss: 2.4220 - acc: 0.1938 - val_loss: 2.7083 - val_acc: 0.1810\n",
            "Epoch 202/250\n",
            "89/89 [==============================] - 16s 176ms/step - loss: 2.4440 - acc: 0.2179 - val_loss: 2.7143 - val_acc: 0.1961\n",
            "Epoch 203/250\n",
            "89/89 [==============================] - 16s 177ms/step - loss: 2.4134 - acc: 0.2335 - val_loss: 2.7016 - val_acc: 0.1940\n",
            "Epoch 204/250\n",
            "89/89 [==============================] - 16s 177ms/step - loss: 2.4210 - acc: 0.2356 - val_loss: 2.6916 - val_acc: 0.1918\n",
            "Epoch 205/250\n",
            "89/89 [==============================] - 16s 177ms/step - loss: 2.4531 - acc: 0.2200 - val_loss: 2.6957 - val_acc: 0.1918\n",
            "Epoch 206/250\n",
            "89/89 [==============================] - 16s 176ms/step - loss: 2.3874 - acc: 0.2427 - val_loss: 2.7102 - val_acc: 0.1832\n",
            "Epoch 207/250\n",
            "89/89 [==============================] - 16s 177ms/step - loss: 2.3999 - acc: 0.2243 - val_loss: 2.6885 - val_acc: 0.1918\n",
            "Epoch 208/250\n",
            "89/89 [==============================] - 16s 178ms/step - loss: 2.4311 - acc: 0.2051 - val_loss: 2.6985 - val_acc: 0.1918\n",
            "Epoch 209/250\n",
            "89/89 [==============================] - 16s 176ms/step - loss: 2.4141 - acc: 0.2108 - val_loss: 2.6903 - val_acc: 0.1940\n",
            "Epoch 210/250\n",
            "89/89 [==============================] - 16s 177ms/step - loss: 2.4087 - acc: 0.2264 - val_loss: 2.6936 - val_acc: 0.1940\n",
            "Epoch 211/250\n",
            "89/89 [==============================] - 16s 177ms/step - loss: 2.4992 - acc: 0.2108 - val_loss: 2.7169 - val_acc: 0.1897\n",
            "Epoch 212/250\n",
            "89/89 [==============================] - 16s 179ms/step - loss: 2.4215 - acc: 0.2264 - val_loss: 2.6984 - val_acc: 0.1983\n",
            "Epoch 213/250\n",
            "89/89 [==============================] - 16s 178ms/step - loss: 2.4286 - acc: 0.2179 - val_loss: 2.6922 - val_acc: 0.1897\n",
            "Epoch 214/250\n",
            "89/89 [==============================] - 18s 199ms/step - loss: 2.4162 - acc: 0.2221 - val_loss: 2.7196 - val_acc: 0.1918\n",
            "Epoch 215/250\n",
            "89/89 [==============================] - 17s 179ms/step - loss: 2.4200 - acc: 0.2115 - val_loss: 2.6951 - val_acc: 0.1853\n",
            "Epoch 216/250\n",
            "89/89 [==============================] - 16s 179ms/step - loss: 2.4146 - acc: 0.2307 - val_loss: 2.6918 - val_acc: 0.1918\n",
            "Epoch 217/250\n",
            "89/89 [==============================] - 16s 178ms/step - loss: 2.3872 - acc: 0.2108 - val_loss: 2.7053 - val_acc: 0.1853\n",
            "Epoch 218/250\n",
            "89/89 [==============================] - 16s 176ms/step - loss: 2.3923 - acc: 0.2165 - val_loss: 2.7063 - val_acc: 0.1875\n",
            "Epoch 219/250\n",
            "89/89 [==============================] - 16s 178ms/step - loss: 2.4185 - acc: 0.2200 - val_loss: 2.6968 - val_acc: 0.1918\n",
            "Epoch 220/250\n",
            "89/89 [==============================] - 16s 174ms/step - loss: 2.4623 - acc: 0.2115 - val_loss: 2.6843 - val_acc: 0.1940\n",
            "Epoch 221/250\n",
            "89/89 [==============================] - 16s 179ms/step - loss: 2.4265 - acc: 0.2108 - val_loss: 2.6785 - val_acc: 0.1983\n",
            "Epoch 222/250\n",
            "89/89 [==============================] - 16s 176ms/step - loss: 2.4097 - acc: 0.2207 - val_loss: 2.6906 - val_acc: 0.1983\n",
            "Epoch 223/250\n",
            "89/89 [==============================] - 16s 178ms/step - loss: 2.4229 - acc: 0.2307 - val_loss: 2.6990 - val_acc: 0.1940\n",
            "Epoch 224/250\n",
            "89/89 [==============================] - 17s 179ms/step - loss: 2.4327 - acc: 0.2150 - val_loss: 2.7067 - val_acc: 0.1918\n",
            "Epoch 225/250\n",
            "89/89 [==============================] - 17s 183ms/step - loss: 2.4452 - acc: 0.2179 - val_loss: 2.7115 - val_acc: 0.1940\n",
            "Epoch 226/250\n",
            "89/89 [==============================] - 17s 180ms/step - loss: 2.4560 - acc: 0.2143 - val_loss: 2.6926 - val_acc: 0.1897\n",
            "Epoch 227/250\n",
            "89/89 [==============================] - 16s 177ms/step - loss: 2.4376 - acc: 0.2236 - val_loss: 2.6904 - val_acc: 0.1961\n",
            "Epoch 228/250\n",
            "89/89 [==============================] - 17s 178ms/step - loss: 2.4621 - acc: 0.2143 - val_loss: 2.6822 - val_acc: 0.2026\n",
            "Epoch 229/250\n",
            "89/89 [==============================] - 16s 176ms/step - loss: 2.4648 - acc: 0.2250 - val_loss: 2.7009 - val_acc: 0.1961\n",
            "Epoch 230/250\n",
            "89/89 [==============================] - 16s 178ms/step - loss: 2.3970 - acc: 0.2328 - val_loss: 2.6744 - val_acc: 0.2047\n",
            "Epoch 231/250\n",
            "89/89 [==============================] - 16s 175ms/step - loss: 2.4568 - acc: 0.2058 - val_loss: 2.6688 - val_acc: 0.1875\n",
            "Epoch 232/250\n",
            "89/89 [==============================] - 18s 200ms/step - loss: 2.3951 - acc: 0.2278 - val_loss: 2.6817 - val_acc: 0.1961\n",
            "Epoch 233/250\n",
            "89/89 [==============================] - 17s 180ms/step - loss: 2.4114 - acc: 0.2214 - val_loss: 2.6695 - val_acc: 0.2004\n",
            "Epoch 234/250\n",
            "89/89 [==============================] - 16s 177ms/step - loss: 2.3873 - acc: 0.2264 - val_loss: 2.6909 - val_acc: 0.1918\n",
            "Epoch 235/250\n",
            "89/89 [==============================] - 16s 179ms/step - loss: 2.4797 - acc: 0.2058 - val_loss: 2.6799 - val_acc: 0.1940\n",
            "Epoch 236/250\n",
            "89/89 [==============================] - 16s 176ms/step - loss: 2.4181 - acc: 0.2172 - val_loss: 2.6812 - val_acc: 0.1961\n",
            "Epoch 237/250\n",
            "89/89 [==============================] - 16s 176ms/step - loss: 2.4555 - acc: 0.2115 - val_loss: 2.6823 - val_acc: 0.1961\n",
            "Epoch 238/250\n",
            "89/89 [==============================] - 16s 177ms/step - loss: 2.4250 - acc: 0.2243 - val_loss: 2.6668 - val_acc: 0.2004\n",
            "Epoch 239/250\n",
            "89/89 [==============================] - 16s 177ms/step - loss: 2.4046 - acc: 0.2087 - val_loss: 2.6702 - val_acc: 0.1897\n",
            "Epoch 240/250\n",
            "89/89 [==============================] - 16s 178ms/step - loss: 2.4135 - acc: 0.2214 - val_loss: 2.6528 - val_acc: 0.2047\n",
            "Epoch 241/250\n",
            "89/89 [==============================] - 16s 178ms/step - loss: 2.4035 - acc: 0.2221 - val_loss: 2.6708 - val_acc: 0.1918\n",
            "Epoch 242/250\n",
            "89/89 [==============================] - 16s 176ms/step - loss: 2.3744 - acc: 0.2363 - val_loss: 2.6880 - val_acc: 0.1940\n",
            "Epoch 243/250\n",
            "89/89 [==============================] - 17s 179ms/step - loss: 2.3847 - acc: 0.2236 - val_loss: 2.6972 - val_acc: 0.1983\n",
            "Epoch 244/250\n",
            "89/89 [==============================] - 16s 177ms/step - loss: 2.4029 - acc: 0.2158 - val_loss: 2.7008 - val_acc: 0.1961\n",
            "Epoch 245/250\n",
            "89/89 [==============================] - 19s 201ms/step - loss: 2.4413 - acc: 0.2243 - val_loss: 2.7067 - val_acc: 0.1853\n",
            "Epoch 246/250\n",
            "89/89 [==============================] - 16s 178ms/step - loss: 2.3902 - acc: 0.2328 - val_loss: 2.6866 - val_acc: 0.1853\n",
            "Epoch 247/250\n",
            "89/89 [==============================] - 17s 179ms/step - loss: 2.3989 - acc: 0.2257 - val_loss: 2.6654 - val_acc: 0.1983\n",
            "Epoch 248/250\n",
            "89/89 [==============================] - 17s 180ms/step - loss: 2.4064 - acc: 0.2243 - val_loss: 2.7139 - val_acc: 0.1853\n",
            "Epoch 249/250\n",
            "89/89 [==============================] - 16s 177ms/step - loss: 2.3871 - acc: 0.2115 - val_loss: 2.6887 - val_acc: 0.1897\n",
            "Epoch 250/250\n",
            "89/89 [==============================] - 18s 199ms/step - loss: 2.3946 - acc: 0.2271 - val_loss: 2.7085 - val_acc: 0.1832\n"
          ]
        }
      ]
    },
    {
      "cell_type": "code",
      "source": [
        "acc = history.history['acc']\n",
        "val_acc = history.history['val_acc']\n",
        "loss = history.history['loss']\n",
        "val_loss = history.history['val_loss']\n",
        "\n",
        "epochs_x = range(len(acc))\n",
        "\n",
        "plt.plot(epochs_x, acc, 'mo', label='Training acc')\n",
        "plt.plot(epochs_x, val_acc, 'k', label='Validation acc')\n",
        "plt.title('Training and validation accuracy')\n",
        "plt.legend()\n",
        "\n",
        "plt.figure()\n",
        "\n",
        "plt.plot(epochs_x, loss, 'mo', label='Training loss')\n",
        "plt.plot(epochs_x, val_loss, 'k', label='Validation loss')\n",
        "plt.title('Training and validation loss')\n",
        "plt.legend()\n",
        "\n",
        "plt.show()"
      ],
      "metadata": {
        "id": "kwylTJpTP5XI",
        "colab": {
          "base_uri": "https://localhost:8080/",
          "height": 545
        },
        "outputId": "4fc976c8-5ce0-43a0-b1fe-0a1d8782ef6b"
      },
      "execution_count": null,
      "outputs": [
        {
          "output_type": "display_data",
          "data": {
            "text/plain": [
              "<Figure size 432x288 with 1 Axes>"
            ],
            "image/png": "[encoded data removed]"
          },
          "metadata": {
            "needs_background": "light"
          }
        },
        {
          "output_type": "display_data",
          "data": {
            "text/plain": [
              "<Figure size 432x288 with 1 Axes>"
            ],
            "image/png": "[encoded data removed]"
          },
          "metadata": {
            "needs_background": "light"
          }
        }
      ]
    },
    {
      "cell_type": "markdown",
      "source": [
        "#Download the model"
      ],
      "metadata": {
        "id": "lD-vKaoHQAFd"
      }
    },
    {
      "cell_type": "code",
      "source": [
        "os.makedirs('/content/drive/My Drive/cut_panoramic/Model', exist_ok=True)\n",
        "model.save('/content/drive/My Drive/cut_panoramic/Model/22_รอบที่2_Flimpano_Female125_250.h5')"
      ],
      "metadata": {
        "id": "74dL7-HLP_Sh"
      },
      "execution_count": null,
      "outputs": []
    },
    {
      "cell_type": "code",
      "source": [
        "from google.colab import files\n",
        "files.download('/content/drive/My Drive/cut_panoramic/Model/22_รอบที่2_Flimpano_Female125_250.h5')"
      ],
      "metadata": {
        "id": "qcPW-brHQDpc",
        "colab": {
          "base_uri": "https://localhost:8080/",
          "height": 17
        },
        "outputId": "dcd93961-d7d7-4f19-8da1-8f4fd692979b"
      },
      "execution_count": null,
      "outputs": [
        {
          "output_type": "display_data",
          "data": {
            "text/plain": [
              "<IPython.core.display.Javascript object>"
            ],
            "application/javascript": [
              "\n",
              "    async function download(id, filename, size) {\n",
              "      if (!google.colab.kernel.accessAllowed) {\n",
              "        return;\n",
              "      }\n",
              "      const div = document.createElement('div');\n",
              "      const label = document.createElement('label');\n",
              "      label.textContent = `Downloading \"${filename}\": `;\n",
              "      div.appendChild(label);\n",
              "      const progress = document.createElement('progress');\n",
              "      progress.max = size;\n",
              "      div.appendChild(progress);\n",
              "      document.body.appendChild(div);\n",
              "\n",
              "      const buffers = [];\n",
              "      let downloaded = 0;\n",
              "\n",
              "      const channel = await google.colab.kernel.comms.open(id);\n",
              "      // Send a message to notify the kernel that we're ready.\n",
              "      channel.send({})\n",
              "\n",
              "      for await (const message of channel.messages) {\n",
              "        // Send a message to notify the kernel that we're ready.\n",
              "        channel.send({})\n",
              "        if (message.buffers) {\n",
              "          for (const buffer of message.buffers) {\n",
              "            buffers.push(buffer);\n",
              "            downloaded += buffer.byteLength;\n",
              "            progress.value = downloaded;\n",
              "          }\n",
              "        }\n",
              "      }\n",
              "      const blob = new Blob(buffers, {type: 'application/binary'});\n",
              "      const a = document.createElement('a');\n",
              "      a.href = window.URL.createObjectURL(blob);\n",
              "      a.download = filename;\n",
              "      div.appendChild(a);\n",
              "      a.click();\n",
              "      div.remove();\n",
              "    }\n",
              "  "
            ]
          },
          "metadata": {}
        },
        {
          "output_type": "display_data",
          "data": {
            "text/plain": [
              "<IPython.core.display.Javascript object>"
            ],
            "application/javascript": [
              "download(\"download_d29b42f3-de60-4eb3-899b-58d10ce57554\", \"22_\\u0e23\\u0e2d\\u0e1a\\u0e17\\u0e35\\u0e482_Flimpano_Female125_250.h5\", 16779000)"
            ]
          },
          "metadata": {}
        }
      ]
    }
  ]
}