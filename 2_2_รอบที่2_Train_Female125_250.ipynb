{
  "nbformat": 4,
  "nbformat_minor": 0,
  "metadata": {
    "colab": {
      "provenance": [],
      "include_colab_link": true
    },
    "kernelspec": {
      "name": "python3",
      "display_name": "Python 3"
    },
    "language_info": {
      "name": "python"
    }
  },
  "cells": [
    {
      "cell_type": "markdown",
      "metadata": {
        "id": "view-in-github",
        "colab_type": "text"
      },
      "source": [
        "<a href=\"https://colab.research.google.com/github/Wanita-8943/efficientnet_keras_transfer_learning/blob/master/2_2_%E0%B8%A3%E0%B8%AD%E0%B8%9A%E0%B8%97%E0%B8%B5%E0%B9%882_Train_Female125_250.ipynb\" target=\"_parent\"><img src=\"https://colab.research.google.com/assets/colab-badge.svg\" alt=\"Open In Colab\"/></a>"
      ]
    },
    {
      "cell_type": "code",
      "execution_count": 1,
      "metadata": {
        "id": "KKSs7cyoPHcD"
      },
      "outputs": [],
      "source": [
        "import pandas as pd\n",
        "import shutil"
      ]
    },
    {
      "cell_type": "code",
      "source": [
        "from google.colab import drive\n",
        "drive.mount('/content/drive')"
      ],
      "metadata": {
        "colab": {
          "base_uri": "https://localhost:8080/"
        },
        "id": "7LoeZxmVPMxp",
        "outputId": "850b80e3-2d72-4244-8736-26beeee9203b"
      },
      "execution_count": 2,
      "outputs": [
        {
          "output_type": "stream",
          "name": "stdout",
          "text": [
            "Drive already mounted at /content/drive; to attempt to forcibly remount, call drive.mount(\"/content/drive\", force_remount=True).\n"
          ]
        }
      ]
    },
    {
      "cell_type": "code",
      "source": [
        "from tensorflow.keras import models\n",
        "from tensorflow.keras import layers\n",
        "from tensorflow.keras import optimizers\n",
        "import os\n",
        "import glob\n",
        "import shutil\n",
        "import sys\n",
        "import numpy as np\n",
        "from skimage.io import imread\n",
        "import matplotlib.pyplot as plt\n",
        "from IPython.display import Image\n",
        "%matplotlib inline"
      ],
      "metadata": {
        "id": "1pX9g1HxPM2f"
      },
      "execution_count": 3,
      "outputs": []
    },
    {
      "cell_type": "code",
      "source": [
        "batch_size = 16\n",
        "width = 150\n",
        "height = 150\n",
        "epochs = 250\n",
        "NUM_TRAIN = 1425\n",
        "NUM_TEST = 473\n",
        "dropout_rate = 0.2\n",
        "input_shape = (height, width, 3)"
      ],
      "metadata": {
        "id": "eSFtvGyvPM6O"
      },
      "execution_count": 4,
      "outputs": []
    },
    {
      "cell_type": "code",
      "source": [
        "#ดึงข้อมูลใน Github มาใช้\n",
        "import os\n",
        "%cd /content\n",
        "if not os.path.isdir(\"efficientnet_keras_transfer_learning\"):\n",
        " !git clone https://github.com/Wanita-8943/efficientnet_keras_transfer_learning\n",
        "%cd efficientnet_keras_transfer_learning/"
      ],
      "metadata": {
        "colab": {
          "base_uri": "https://localhost:8080/"
        },
        "id": "lb4K4CsMPNAW",
        "outputId": "4cde09ba-da84-4c57-f5ab-faebdaeefd3e"
      },
      "execution_count": 5,
      "outputs": [
        {
          "output_type": "stream",
          "name": "stdout",
          "text": [
            "/content\n",
            "/content/efficientnet_keras_transfer_learning\n"
          ]
        }
      ]
    },
    {
      "cell_type": "code",
      "source": [
        "# Options: EfficientNetB0, EfficientNetB1, EfficientNetB2, EfficientNetB3\n",
        "# Higher the number, the more complex the model is.\n",
        "from efficientnet import EfficientNetB0 as Net\n",
        "from efficientnet import center_crop_and_resize, preprocess_input"
      ],
      "metadata": {
        "id": "eyBg0dLKPND3"
      },
      "execution_count": 6,
      "outputs": []
    },
    {
      "cell_type": "code",
      "source": [
        "base_dir = '/content/drive/MyDrive/TVT_Female125'\n",
        "os.makedirs(base_dir, exist_ok=True)\n",
        "\n",
        "# Directories for our training,\n",
        "# validation and test splits\n",
        "train_dir = os.path.join(base_dir, 'train')\n",
        "os.makedirs(train_dir, exist_ok=True)\n",
        "validation_dir = os.path.join(base_dir, 'validation')\n",
        "os.makedirs(validation_dir, exist_ok=True)\n",
        "test_dir = os.path.join(base_dir, 'test')\n",
        "os.makedirs(test_dir, exist_ok=True)"
      ],
      "metadata": {
        "id": "Jwpq_-KvPef8"
      },
      "execution_count": 7,
      "outputs": []
    },
    {
      "cell_type": "markdown",
      "source": [
        "#load model"
      ],
      "metadata": {
        "id": "od-ZSNm5PoGy"
      }
    },
    {
      "cell_type": "code",
      "source": [
        "import sys\n",
        "sys.path.append('/content/drive/MyDrive/cut_panoramic/Model/11_รอบแรก_Flimpano_Female125_250.h5')\n",
        "\n",
        "from efficientnet.layers import Swish, DropConnect\n",
        "from efficientnet.model import ConvKernalInitializer\n",
        "from tensorflow.keras.utils import get_custom_objects\n",
        "\n",
        "get_custom_objects().update({\n",
        "    'ConvKernalInitializer': ConvKernalInitializer,\n",
        "    'Swish': Swish,\n",
        "    'DropConnect':DropConnect\n",
        "})"
      ],
      "metadata": {
        "id": "n5iPL5MNPkhE"
      },
      "execution_count": 8,
      "outputs": []
    },
    {
      "cell_type": "code",
      "source": [
        "#load model \n",
        "from tensorflow.keras.models import load_model\n",
        "model = load_model('/content/drive/MyDrive/cut_panoramic/Model/11_รอบแรก_Flimpano_Female125_250.h5')\n",
        "height = width = model.input_shape[1]"
      ],
      "metadata": {
        "id": "plYz49xMPkly"
      },
      "execution_count": 9,
      "outputs": []
    },
    {
      "cell_type": "code",
      "source": [
        "model.summary()"
      ],
      "metadata": {
        "colab": {
          "base_uri": "https://localhost:8080/"
        },
        "id": "z6IOPBflFbvc",
        "outputId": "63e8ab95-5e9e-47e1-f5fa-71414a5e410e"
      },
      "execution_count": 10,
      "outputs": [
        {
          "output_type": "stream",
          "name": "stdout",
          "text": [
            "Model: \"sequential_2\"\n",
            "_________________________________________________________________\n",
            " Layer (type)                Output Shape              Param #   \n",
            "=================================================================\n",
            " efficientnet-b0 (Functional  (None, 5, 5, 1280)       4049564   \n",
            " )                                                               \n",
            "                                                                 \n",
            " gap (GlobalMaxPooling2D)    (None, 1280)              0         \n",
            "                                                                 \n",
            " dropout_out (Dropout)       (None, 1280)              0         \n",
            "                                                                 \n",
            " fc_out (Dense)              (None, 19)                24339     \n",
            "                                                                 \n",
            "=================================================================\n",
            "Total params: 4,073,903\n",
            "Trainable params: 24,339\n",
            "Non-trainable params: 4,049,564\n",
            "_________________________________________________________________\n"
          ]
        }
      ]
    },
    {
      "cell_type": "code",
      "source": [
        "# Train ด้วย ImageDataGenerator ของ Keras ซึ่งจะเพิ่มข้อมูลเสริมระหว่างการฝึกเพื่อลดโอกาสเกิด overfitting\n",
        "#overfitting เกิดจากข้อมูลที่ซับซ้อนกันเกินไป\n",
        "from tensorflow.keras.preprocessing.image import ImageDataGenerator\n",
        "\n",
        "train_datagen = ImageDataGenerator(\n",
        "      rescale=1./255, #โมเดลส่วนใหญ่ต้องใช้ RGB ในช่วง 0–1\n",
        "      rotation_range=40,\n",
        "      width_shift_range=0.2,\n",
        "      height_shift_range=0.2,\n",
        "      shear_range=0.2,\n",
        "      zoom_range=0.2,\n",
        "      horizontal_flip=True,\n",
        "      fill_mode='nearest')\n",
        "\n",
        "# Note that the validation data should not be augmented!\n",
        "test_datagen = ImageDataGenerator(rescale=1./255)\n",
        "\n",
        "train_generator = train_datagen.flow_from_directory(\n",
        "        # This is the target directory #ไดเรกเป้าหมาย\n",
        "        train_dir,\n",
        "        # รูปภาพทั้งหมดจะถูกปรับขนาดตามความสูงและความกว้างของเป้าหมาย\n",
        "        target_size=(height, width),\n",
        "        batch_size=batch_size,\n",
        "        # Since we use categorical_crossentropy loss, we need categorical labels\n",
        "        #เนื่องจากเราใช้ categorical_crossentropy loss เราจึงต้องมีป้ายกำกับตามหมวดหมู่\n",
        "        class_mode='categorical')\n",
        "\n",
        "validation_generator = test_datagen.flow_from_directory( #การดึงภาพจาก Directory มาเข้าโมเดล \n",
        "        validation_dir,\n",
        "        target_size=(height, width),\n",
        "        batch_size=batch_size,\n",
        "        class_mode='categorical')"
      ],
      "metadata": {
        "colab": {
          "base_uri": "https://localhost:8080/"
        },
        "id": "KBMZbdr2Pgw4",
        "outputId": "71f59af2-3761-47ca-b6cf-e8f96c07c9a6"
      },
      "execution_count": 11,
      "outputs": [
        {
          "output_type": "stream",
          "name": "stdout",
          "text": [
            "Found 1425 images belonging to 19 classes.\n",
            "Found 475 images belonging to 19 classes.\n"
          ]
        }
      ]
    },
    {
      "cell_type": "code",
      "source": [
        "history = model.fit_generator(\n",
        "      train_generator,\n",
        "      steps_per_epoch= NUM_TRAIN //batch_size,\n",
        "      epochs=epochs,\n",
        "      validation_data=validation_generator,\n",
        "      validation_steps= NUM_TEST //batch_size,\n",
        "      verbose=1,\n",
        "      use_multiprocessing=True,\n",
        "      workers=4)"
      ],
      "metadata": {
        "colab": {
          "base_uri": "https://localhost:8080/"
        },
        "id": "C9Cf1dwyP1PD",
        "outputId": "e88e57fe-9b21-4c36-ae31-01979f5c6e7b"
      },
      "execution_count": 12,
      "outputs": [
        {
          "output_type": "stream",
          "name": "stderr",
          "text": [
            "<ipython-input-12-caa7b37242a8>:1: UserWarning: `Model.fit_generator` is deprecated and will be removed in a future version. Please use `Model.fit`, which supports generators.\n",
            "  history = model.fit_generator(\n"
          ]
        },
        {
          "output_type": "stream",
          "name": "stdout",
          "text": [
            "Epoch 1/250\n",
            "89/89 [==============================] - 82s 851ms/step - loss: 2.6954 - acc: 0.1796 - val_loss: 2.6944 - val_acc: 0.1724\n",
            "Epoch 2/250\n",
            "89/89 [==============================] - 74s 815ms/step - loss: 2.6647 - acc: 0.1895 - val_loss: 2.7014 - val_acc: 0.1746\n",
            "Epoch 3/250\n",
            "89/89 [==============================] - 76s 838ms/step - loss: 2.6447 - acc: 0.1867 - val_loss: 2.7084 - val_acc: 0.1703\n",
            "Epoch 4/250\n",
            "89/89 [==============================] - 73s 805ms/step - loss: 2.6769 - acc: 0.1781 - val_loss: 2.7249 - val_acc: 0.1616\n",
            "Epoch 5/250\n",
            "89/89 [==============================] - 73s 803ms/step - loss: 2.6769 - acc: 0.1888 - val_loss: 2.7061 - val_acc: 0.1681\n",
            "Epoch 6/250\n",
            "89/89 [==============================] - 73s 806ms/step - loss: 2.5982 - acc: 0.1796 - val_loss: 2.7041 - val_acc: 0.1681\n",
            "Epoch 7/250\n",
            "89/89 [==============================] - 74s 815ms/step - loss: 2.6255 - acc: 0.2023 - val_loss: 2.6899 - val_acc: 0.1703\n",
            "Epoch 8/250\n",
            "89/89 [==============================] - 77s 840ms/step - loss: 2.6938 - acc: 0.1859 - val_loss: 2.7155 - val_acc: 0.1681\n",
            "Epoch 9/250\n",
            "89/89 [==============================] - 74s 813ms/step - loss: 2.6981 - acc: 0.1824 - val_loss: 2.7099 - val_acc: 0.1724\n",
            "Epoch 10/250\n",
            "89/89 [==============================] - 77s 840ms/step - loss: 2.6788 - acc: 0.1867 - val_loss: 2.7149 - val_acc: 0.1724\n",
            "Epoch 11/250\n",
            "89/89 [==============================] - 74s 813ms/step - loss: 2.6049 - acc: 0.1952 - val_loss: 2.7074 - val_acc: 0.1724\n",
            "Epoch 12/250\n",
            "89/89 [==============================] - 77s 849ms/step - loss: 2.6253 - acc: 0.1973 - val_loss: 2.7257 - val_acc: 0.1659\n",
            "Epoch 13/250\n",
            "89/89 [==============================] - 75s 824ms/step - loss: 2.6157 - acc: 0.1945 - val_loss: 2.6910 - val_acc: 0.1703\n",
            "Epoch 14/250\n",
            "89/89 [==============================] - 76s 837ms/step - loss: 2.6373 - acc: 0.1810 - val_loss: 2.7283 - val_acc: 0.1638\n",
            "Epoch 15/250\n",
            "89/89 [==============================] - 74s 809ms/step - loss: 2.6428 - acc: 0.1916 - val_loss: 2.7128 - val_acc: 0.1681\n",
            "Epoch 16/250\n",
            "89/89 [==============================] - 73s 805ms/step - loss: 2.6528 - acc: 0.1874 - val_loss: 2.7028 - val_acc: 0.1724\n",
            "Epoch 17/250\n",
            "89/89 [==============================] - 75s 822ms/step - loss: 2.6354 - acc: 0.1874 - val_loss: 2.7285 - val_acc: 0.1659\n",
            "Epoch 18/250\n",
            "89/89 [==============================] - 73s 804ms/step - loss: 2.6042 - acc: 0.1945 - val_loss: 2.7169 - val_acc: 0.1659\n",
            "Epoch 19/250\n",
            "89/89 [==============================] - 76s 830ms/step - loss: 2.6129 - acc: 0.1959 - val_loss: 2.7303 - val_acc: 0.1659\n",
            "Epoch 20/250\n",
            "89/89 [==============================] - 73s 804ms/step - loss: 2.6281 - acc: 0.1888 - val_loss: 2.7290 - val_acc: 0.1703\n",
            "Epoch 21/250\n",
            "89/89 [==============================] - 76s 827ms/step - loss: 2.6622 - acc: 0.1874 - val_loss: 2.7224 - val_acc: 0.1681\n",
            "Epoch 22/250\n",
            "89/89 [==============================] - 74s 809ms/step - loss: 2.6506 - acc: 0.1831 - val_loss: 2.7292 - val_acc: 0.1724\n",
            "Epoch 23/250\n",
            "89/89 [==============================] - 76s 836ms/step - loss: 2.6265 - acc: 0.1987 - val_loss: 2.7511 - val_acc: 0.1724\n",
            "Epoch 24/250\n",
            "89/89 [==============================] - 74s 809ms/step - loss: 2.6151 - acc: 0.1703 - val_loss: 2.7566 - val_acc: 0.1638\n",
            "Epoch 25/250\n",
            "89/89 [==============================] - 74s 813ms/step - loss: 2.6300 - acc: 0.1817 - val_loss: 2.7219 - val_acc: 0.1724\n",
            "Epoch 26/250\n",
            "89/89 [==============================] - 76s 830ms/step - loss: 2.7027 - acc: 0.1810 - val_loss: 2.7334 - val_acc: 0.1810\n",
            "Epoch 27/250\n",
            "89/89 [==============================] - 80s 880ms/step - loss: 2.6247 - acc: 0.2044 - val_loss: 2.7294 - val_acc: 0.1875\n",
            "Epoch 28/250\n",
            "89/89 [==============================] - 76s 838ms/step - loss: 2.6444 - acc: 0.1668 - val_loss: 2.7190 - val_acc: 0.1746\n",
            "Epoch 29/250\n",
            "89/89 [==============================] - 75s 816ms/step - loss: 2.5954 - acc: 0.1930 - val_loss: 2.7117 - val_acc: 0.1724\n",
            "Epoch 30/250\n",
            "89/89 [==============================] - 76s 836ms/step - loss: 2.6702 - acc: 0.1767 - val_loss: 2.7112 - val_acc: 0.1789\n",
            "Epoch 31/250\n",
            "89/89 [==============================] - 75s 820ms/step - loss: 2.6229 - acc: 0.1817 - val_loss: 2.7199 - val_acc: 0.1638\n",
            "Epoch 32/250\n",
            "89/89 [==============================] - 74s 816ms/step - loss: 2.6091 - acc: 0.1859 - val_loss: 2.7403 - val_acc: 0.1595\n",
            "Epoch 33/250\n",
            "89/89 [==============================] - 76s 838ms/step - loss: 2.6383 - acc: 0.1817 - val_loss: 2.7109 - val_acc: 0.1681\n",
            "Epoch 34/250\n",
            "89/89 [==============================] - 74s 816ms/step - loss: 2.5890 - acc: 0.1874 - val_loss: 2.7125 - val_acc: 0.1703\n",
            "Epoch 35/250\n",
            "89/89 [==============================] - 77s 841ms/step - loss: 2.5926 - acc: 0.2030 - val_loss: 2.6974 - val_acc: 0.1746\n",
            "Epoch 36/250\n",
            "89/89 [==============================] - 74s 812ms/step - loss: 2.6197 - acc: 0.1874 - val_loss: 2.7299 - val_acc: 0.1659\n",
            "Epoch 37/250\n",
            "89/89 [==============================] - 76s 832ms/step - loss: 2.6261 - acc: 0.1888 - val_loss: 2.7075 - val_acc: 0.1767\n",
            "Epoch 38/250\n",
            "89/89 [==============================] - 73s 805ms/step - loss: 2.6086 - acc: 0.1852 - val_loss: 2.6948 - val_acc: 0.1746\n",
            "Epoch 39/250\n",
            "89/89 [==============================] - 74s 811ms/step - loss: 2.6205 - acc: 0.1746 - val_loss: 2.7108 - val_acc: 0.1681\n",
            "Epoch 40/250\n",
            "89/89 [==============================] - 74s 815ms/step - loss: 2.6441 - acc: 0.1895 - val_loss: 2.7232 - val_acc: 0.1703\n",
            "Epoch 41/250\n",
            "89/89 [==============================] - 75s 816ms/step - loss: 2.6173 - acc: 0.1945 - val_loss: 2.7130 - val_acc: 0.1810\n",
            "Epoch 42/250\n",
            "89/89 [==============================] - 77s 840ms/step - loss: 2.6457 - acc: 0.1859 - val_loss: 2.7135 - val_acc: 0.1724\n",
            "Epoch 43/250\n",
            "89/89 [==============================] - 74s 814ms/step - loss: 2.5857 - acc: 0.1916 - val_loss: 2.7157 - val_acc: 0.1746\n",
            "Epoch 44/250\n",
            "89/89 [==============================] - 77s 844ms/step - loss: 2.6193 - acc: 0.1952 - val_loss: 2.7130 - val_acc: 0.1810\n",
            "Epoch 45/250\n",
            "89/89 [==============================] - 74s 816ms/step - loss: 2.6208 - acc: 0.2094 - val_loss: 2.7167 - val_acc: 0.1746\n",
            "Epoch 46/250\n",
            "89/89 [==============================] - 77s 841ms/step - loss: 2.5823 - acc: 0.1952 - val_loss: 2.7341 - val_acc: 0.1681\n",
            "Epoch 47/250\n",
            "89/89 [==============================] - 75s 820ms/step - loss: 2.6015 - acc: 0.1923 - val_loss: 2.7175 - val_acc: 0.1767\n",
            "Epoch 48/250\n",
            "89/89 [==============================] - 74s 816ms/step - loss: 2.5550 - acc: 0.1923 - val_loss: 2.7207 - val_acc: 0.1681\n",
            "Epoch 49/250\n",
            "89/89 [==============================] - 77s 846ms/step - loss: 2.5833 - acc: 0.1980 - val_loss: 2.7306 - val_acc: 0.1573\n",
            "Epoch 50/250\n",
            "89/89 [==============================] - 75s 819ms/step - loss: 2.5890 - acc: 0.1859 - val_loss: 2.7076 - val_acc: 0.1767\n",
            "Epoch 51/250\n",
            "89/89 [==============================] - 77s 844ms/step - loss: 2.6026 - acc: 0.1895 - val_loss: 2.7326 - val_acc: 0.1724\n",
            "Epoch 52/250\n",
            "89/89 [==============================] - 75s 820ms/step - loss: 2.6187 - acc: 0.1895 - val_loss: 2.7315 - val_acc: 0.1724\n",
            "Epoch 53/250\n",
            "89/89 [==============================] - 77s 849ms/step - loss: 2.5549 - acc: 0.1909 - val_loss: 2.7347 - val_acc: 0.1789\n",
            "Epoch 54/250\n",
            "89/89 [==============================] - 75s 816ms/step - loss: 2.5840 - acc: 0.2115 - val_loss: 2.7069 - val_acc: 0.1853\n",
            "Epoch 55/250\n",
            "89/89 [==============================] - 74s 817ms/step - loss: 2.6347 - acc: 0.1874 - val_loss: 2.7298 - val_acc: 0.1767\n",
            "Epoch 56/250\n",
            "89/89 [==============================] - 77s 842ms/step - loss: 2.5922 - acc: 0.1881 - val_loss: 2.7204 - val_acc: 0.1810\n",
            "Epoch 57/250\n",
            "89/89 [==============================] - 74s 814ms/step - loss: 2.5847 - acc: 0.1909 - val_loss: 2.7347 - val_acc: 0.1789\n",
            "Epoch 58/250\n",
            "89/89 [==============================] - 77s 841ms/step - loss: 2.5945 - acc: 0.1994 - val_loss: 2.7473 - val_acc: 0.1703\n",
            "Epoch 59/250\n",
            "89/89 [==============================] - 75s 817ms/step - loss: 2.5599 - acc: 0.2122 - val_loss: 2.7235 - val_acc: 0.1853\n",
            "Epoch 60/250\n",
            "89/89 [==============================] - 77s 840ms/step - loss: 2.5999 - acc: 0.1916 - val_loss: 2.7414 - val_acc: 0.1789\n",
            "Epoch 61/250\n",
            "89/89 [==============================] - 74s 812ms/step - loss: 2.6093 - acc: 0.2094 - val_loss: 2.7444 - val_acc: 0.1810\n",
            "Epoch 62/250\n",
            "89/89 [==============================] - 74s 814ms/step - loss: 2.5550 - acc: 0.1959 - val_loss: 2.7164 - val_acc: 0.1746\n",
            "Epoch 63/250\n",
            "89/89 [==============================] - 77s 845ms/step - loss: 2.5799 - acc: 0.2087 - val_loss: 2.7409 - val_acc: 0.1724\n",
            "Epoch 64/250\n",
            "89/89 [==============================] - 75s 818ms/step - loss: 2.5767 - acc: 0.1881 - val_loss: 2.7214 - val_acc: 0.1789\n",
            "Epoch 65/250\n",
            "89/89 [==============================] - 77s 847ms/step - loss: 2.5591 - acc: 0.1994 - val_loss: 2.7113 - val_acc: 0.1832\n",
            "Epoch 66/250\n",
            "89/89 [==============================] - 75s 816ms/step - loss: 2.6061 - acc: 0.1803 - val_loss: 2.7144 - val_acc: 0.1897\n",
            "Epoch 67/250\n",
            "89/89 [==============================] - 77s 843ms/step - loss: 2.5873 - acc: 0.1909 - val_loss: 2.7347 - val_acc: 0.1832\n",
            "Epoch 68/250\n",
            "89/89 [==============================] - 74s 816ms/step - loss: 2.5685 - acc: 0.1852 - val_loss: 2.7073 - val_acc: 0.1703\n",
            "Epoch 69/250\n",
            "89/89 [==============================] - 77s 847ms/step - loss: 2.5867 - acc: 0.1859 - val_loss: 2.7300 - val_acc: 0.1724\n",
            "Epoch 70/250\n",
            "89/89 [==============================] - 75s 818ms/step - loss: 2.5607 - acc: 0.1909 - val_loss: 2.7123 - val_acc: 0.1832\n",
            "Epoch 71/250\n",
            "89/89 [==============================] - 74s 816ms/step - loss: 2.5251 - acc: 0.2072 - val_loss: 2.7140 - val_acc: 0.1789\n",
            "Epoch 72/250\n",
            "89/89 [==============================] - 76s 835ms/step - loss: 2.5477 - acc: 0.2101 - val_loss: 2.7111 - val_acc: 0.1832\n",
            "Epoch 73/250\n",
            "89/89 [==============================] - 74s 812ms/step - loss: 2.6163 - acc: 0.1767 - val_loss: 2.6941 - val_acc: 0.1810\n",
            "Epoch 74/250\n",
            "89/89 [==============================] - 80s 881ms/step - loss: 2.5442 - acc: 0.1945 - val_loss: 2.7080 - val_acc: 0.1789\n",
            "Epoch 75/250\n",
            "89/89 [==============================] - 74s 813ms/step - loss: 2.5544 - acc: 0.2136 - val_loss: 2.7244 - val_acc: 0.1789\n",
            "Epoch 76/250\n",
            "89/89 [==============================] - 77s 849ms/step - loss: 2.5824 - acc: 0.1959 - val_loss: 2.7086 - val_acc: 0.1853\n",
            "Epoch 77/250\n",
            "89/89 [==============================] - 75s 820ms/step - loss: 2.5930 - acc: 0.1973 - val_loss: 2.7259 - val_acc: 0.1810\n",
            "Epoch 78/250\n",
            "89/89 [==============================] - 81s 884ms/step - loss: 2.5306 - acc: 0.2016 - val_loss: 2.7177 - val_acc: 0.1746\n",
            "Epoch 79/250\n",
            "89/89 [==============================] - 76s 834ms/step - loss: 2.5870 - acc: 0.1994 - val_loss: 2.7089 - val_acc: 0.1853\n",
            "Epoch 80/250\n",
            "89/89 [==============================] - 76s 836ms/step - loss: 2.5093 - acc: 0.2079 - val_loss: 2.7225 - val_acc: 0.1875\n",
            "Epoch 81/250\n",
            "89/89 [==============================] - 78s 857ms/step - loss: 2.5954 - acc: 0.1966 - val_loss: 2.7114 - val_acc: 0.1853\n",
            "Epoch 82/250\n",
            "89/89 [==============================] - 76s 835ms/step - loss: 2.5828 - acc: 0.1845 - val_loss: 2.7414 - val_acc: 0.1767\n",
            "Epoch 83/250\n",
            "89/89 [==============================] - 77s 847ms/step - loss: 2.5965 - acc: 0.1980 - val_loss: 2.7216 - val_acc: 0.1746\n",
            "Epoch 84/250\n",
            "89/89 [==============================] - 75s 822ms/step - loss: 2.5559 - acc: 0.2009 - val_loss: 2.7496 - val_acc: 0.1724\n",
            "Epoch 85/250\n",
            "89/89 [==============================] - 78s 856ms/step - loss: 2.5613 - acc: 0.1916 - val_loss: 2.7227 - val_acc: 0.1810\n",
            "Epoch 86/250\n",
            "89/89 [==============================] - 76s 854ms/step - loss: 2.5714 - acc: 0.1973 - val_loss: 2.7074 - val_acc: 0.1810\n",
            "Epoch 87/250\n",
            "89/89 [==============================] - 78s 859ms/step - loss: 2.5951 - acc: 0.1753 - val_loss: 2.7212 - val_acc: 0.1875\n",
            "Epoch 88/250\n",
            "89/89 [==============================] - 76s 833ms/step - loss: 2.5608 - acc: 0.2051 - val_loss: 2.7197 - val_acc: 0.1810\n",
            "Epoch 89/250\n",
            "89/89 [==============================] - 76s 836ms/step - loss: 2.5040 - acc: 0.2101 - val_loss: 2.7332 - val_acc: 0.1789\n",
            "Epoch 90/250\n",
            "89/89 [==============================] - 78s 862ms/step - loss: 2.5536 - acc: 0.2108 - val_loss: 2.7178 - val_acc: 0.1789\n",
            "Epoch 91/250\n",
            "89/89 [==============================] - 77s 840ms/step - loss: 2.5547 - acc: 0.2037 - val_loss: 2.7224 - val_acc: 0.1746\n",
            "Epoch 92/250\n",
            "89/89 [==============================] - 78s 857ms/step - loss: 2.5316 - acc: 0.1980 - val_loss: 2.7156 - val_acc: 0.1875\n",
            "Epoch 93/250\n",
            "89/89 [==============================] - 76s 832ms/step - loss: 2.5573 - acc: 0.2058 - val_loss: 2.6922 - val_acc: 0.1832\n",
            "Epoch 94/250\n",
            "89/89 [==============================] - 78s 854ms/step - loss: 2.5168 - acc: 0.2072 - val_loss: 2.7280 - val_acc: 0.1746\n",
            "Epoch 95/250\n",
            "89/89 [==============================] - 76s 829ms/step - loss: 2.5432 - acc: 0.1831 - val_loss: 2.6914 - val_acc: 0.1746\n",
            "Epoch 96/250\n",
            "89/89 [==============================] - 76s 837ms/step - loss: 2.5028 - acc: 0.2072 - val_loss: 2.7008 - val_acc: 0.1810\n",
            "Epoch 97/250\n",
            "89/89 [==============================] - 76s 832ms/step - loss: 2.5721 - acc: 0.1938 - val_loss: 2.7004 - val_acc: 0.1875\n",
            "Epoch 98/250\n",
            "89/89 [==============================] - 76s 831ms/step - loss: 2.5337 - acc: 0.1994 - val_loss: 2.6823 - val_acc: 0.1918\n",
            "Epoch 99/250\n",
            "89/89 [==============================] - 78s 859ms/step - loss: 2.5312 - acc: 0.1909 - val_loss: 2.6984 - val_acc: 0.1918\n",
            "Epoch 100/250\n",
            "89/89 [==============================] - 76s 835ms/step - loss: 2.5210 - acc: 0.2101 - val_loss: 2.7116 - val_acc: 0.1832\n",
            "Epoch 101/250\n",
            "89/89 [==============================] - 79s 864ms/step - loss: 2.5346 - acc: 0.2115 - val_loss: 2.7111 - val_acc: 0.1853\n",
            "Epoch 102/250\n",
            "89/89 [==============================] - 76s 839ms/step - loss: 2.5801 - acc: 0.1895 - val_loss: 2.7092 - val_acc: 0.1897\n",
            "Epoch 103/250\n",
            "89/89 [==============================] - 79s 863ms/step - loss: 2.5049 - acc: 0.2087 - val_loss: 2.7140 - val_acc: 0.1918\n",
            "Epoch 104/250\n",
            "89/89 [==============================] - 76s 837ms/step - loss: 2.5387 - acc: 0.1973 - val_loss: 2.7062 - val_acc: 0.1897\n",
            "Epoch 105/250\n",
            "89/89 [==============================] - 78s 854ms/step - loss: 2.5261 - acc: 0.2065 - val_loss: 2.7382 - val_acc: 0.1789\n",
            "Epoch 106/250\n",
            "89/89 [==============================] - 75s 826ms/step - loss: 2.5510 - acc: 0.2009 - val_loss: 2.6809 - val_acc: 0.1940\n",
            "Epoch 107/250\n",
            "89/89 [==============================] - 78s 851ms/step - loss: 2.4887 - acc: 0.2072 - val_loss: 2.7044 - val_acc: 0.1875\n",
            "Epoch 108/250\n",
            "89/89 [==============================] - 76s 831ms/step - loss: 2.5036 - acc: 0.2016 - val_loss: 2.7069 - val_acc: 0.1832\n",
            "Epoch 109/250\n",
            "89/89 [==============================] - 76s 862ms/step - loss: 2.5428 - acc: 0.2072 - val_loss: 2.7016 - val_acc: 0.1789\n",
            "Epoch 110/250\n",
            "89/89 [==============================] - 79s 852ms/step - loss: 2.5677 - acc: 0.1881 - val_loss: 2.7056 - val_acc: 0.1767\n",
            "Epoch 111/250\n",
            "89/89 [==============================] - 76s 839ms/step - loss: 2.4980 - acc: 0.2044 - val_loss: 2.6985 - val_acc: 0.1875\n",
            "Epoch 112/250\n",
            "89/89 [==============================] - 79s 869ms/step - loss: 2.5084 - acc: 0.2101 - val_loss: 2.6958 - val_acc: 0.1853\n",
            "Epoch 113/250\n",
            "89/89 [==============================] - 76s 839ms/step - loss: 2.5862 - acc: 0.2051 - val_loss: 2.7231 - val_acc: 0.1832\n",
            "Epoch 114/250\n",
            "89/89 [==============================] - 79s 864ms/step - loss: 2.4662 - acc: 0.2200 - val_loss: 2.7031 - val_acc: 0.1853\n",
            "Epoch 115/250\n",
            "89/89 [==============================] - 77s 844ms/step - loss: 2.5090 - acc: 0.2051 - val_loss: 2.7128 - val_acc: 0.1810\n",
            "Epoch 116/250\n",
            "89/89 [==============================] - 78s 860ms/step - loss: 2.4760 - acc: 0.2129 - val_loss: 2.6799 - val_acc: 0.1832\n",
            "Epoch 117/250\n",
            "89/89 [==============================] - 76s 834ms/step - loss: 2.5324 - acc: 0.2058 - val_loss: 2.6994 - val_acc: 0.1767\n",
            "Epoch 118/250\n",
            "89/89 [==============================] - 79s 866ms/step - loss: 2.4889 - acc: 0.2101 - val_loss: 2.6897 - val_acc: 0.1875\n",
            "Epoch 119/250\n",
            "89/89 [==============================] - 76s 831ms/step - loss: 2.4639 - acc: 0.2158 - val_loss: 2.6848 - val_acc: 0.1875\n",
            "Epoch 120/250\n",
            "89/89 [==============================] - 78s 854ms/step - loss: 2.4611 - acc: 0.2200 - val_loss: 2.7058 - val_acc: 0.1810\n",
            "Epoch 121/250\n",
            "89/89 [==============================] - 76s 832ms/step - loss: 2.5027 - acc: 0.2122 - val_loss: 2.6958 - val_acc: 0.1897\n",
            "Epoch 122/250\n",
            "89/89 [==============================] - 79s 861ms/step - loss: 2.5442 - acc: 0.2030 - val_loss: 2.7204 - val_acc: 0.1832\n",
            "Epoch 123/250\n",
            "89/89 [==============================] - 77s 842ms/step - loss: 2.5154 - acc: 0.2023 - val_loss: 2.7216 - val_acc: 0.1918\n",
            "Epoch 124/250\n",
            "89/89 [==============================] - 76s 835ms/step - loss: 2.5331 - acc: 0.1867 - val_loss: 2.7122 - val_acc: 0.1940\n",
            "Epoch 125/250\n",
            "89/89 [==============================] - 79s 874ms/step - loss: 2.4704 - acc: 0.2115 - val_loss: 2.6962 - val_acc: 0.1875\n",
            "Epoch 126/250\n",
            "89/89 [==============================] - 77s 841ms/step - loss: 2.4919 - acc: 0.2008 - val_loss: 2.7088 - val_acc: 0.1875\n",
            "Epoch 127/250\n",
            "89/89 [==============================] - 79s 868ms/step - loss: 2.5594 - acc: 0.2037 - val_loss: 2.7010 - val_acc: 0.1810\n",
            "Epoch 128/250\n",
            "89/89 [==============================] - 77s 841ms/step - loss: 2.5491 - acc: 0.2023 - val_loss: 2.6888 - val_acc: 0.1875\n",
            "Epoch 129/250\n",
            "89/89 [==============================] - 78s 856ms/step - loss: 2.5018 - acc: 0.2058 - val_loss: 2.7119 - val_acc: 0.1853\n",
            "Epoch 130/250\n",
            "89/89 [==============================] - 76s 830ms/step - loss: 2.4935 - acc: 0.2143 - val_loss: 2.6871 - val_acc: 0.1918\n",
            "Epoch 131/250\n",
            "89/89 [==============================] - 79s 864ms/step - loss: 2.4867 - acc: 0.2065 - val_loss: 2.7150 - val_acc: 0.1810\n",
            "Epoch 132/250\n",
            "89/89 [==============================] - 76s 834ms/step - loss: 2.4867 - acc: 0.2001 - val_loss: 2.6999 - val_acc: 0.2004\n",
            "Epoch 133/250\n",
            "89/89 [==============================] - 79s 866ms/step - loss: 2.4644 - acc: 0.2158 - val_loss: 2.7171 - val_acc: 0.1789\n",
            "Epoch 134/250\n",
            "89/89 [==============================] - 76s 836ms/step - loss: 2.4994 - acc: 0.2072 - val_loss: 2.6884 - val_acc: 0.1832\n",
            "Epoch 135/250\n",
            "89/89 [==============================] - 79s 868ms/step - loss: 2.4952 - acc: 0.2044 - val_loss: 2.6980 - val_acc: 0.1767\n",
            "Epoch 136/250\n",
            "89/89 [==============================] - 76s 839ms/step - loss: 2.5276 - acc: 0.2122 - val_loss: 2.6879 - val_acc: 0.1875\n",
            "Epoch 137/250\n",
            "89/89 [==============================] - 79s 862ms/step - loss: 2.4871 - acc: 0.2186 - val_loss: 2.7123 - val_acc: 0.1746\n",
            "Epoch 138/250\n",
            "89/89 [==============================] - 76s 839ms/step - loss: 2.5031 - acc: 0.1923 - val_loss: 2.6884 - val_acc: 0.1918\n",
            "Epoch 139/250\n",
            "89/89 [==============================] - 79s 864ms/step - loss: 2.5063 - acc: 0.2108 - val_loss: 2.6822 - val_acc: 0.1940\n",
            "Epoch 140/250\n",
            "89/89 [==============================] - 76s 838ms/step - loss: 2.5188 - acc: 0.2101 - val_loss: 2.6851 - val_acc: 0.1875\n",
            "Epoch 141/250\n",
            "89/89 [==============================] - 79s 863ms/step - loss: 2.4672 - acc: 0.2115 - val_loss: 2.6974 - val_acc: 0.1875\n",
            "Epoch 142/250\n",
            "89/89 [==============================] - 76s 831ms/step - loss: 2.4967 - acc: 0.1966 - val_loss: 2.6835 - val_acc: 0.1897\n",
            "Epoch 143/250\n",
            "89/89 [==============================] - 79s 865ms/step - loss: 2.4094 - acc: 0.2143 - val_loss: 2.7055 - val_acc: 0.1940\n",
            "Epoch 144/250\n",
            "89/89 [==============================] - 76s 839ms/step - loss: 2.4820 - acc: 0.2058 - val_loss: 2.7204 - val_acc: 0.1853\n",
            "Epoch 145/250\n",
            "89/89 [==============================] - 82s 904ms/step - loss: 2.4592 - acc: 0.2236 - val_loss: 2.6970 - val_acc: 0.1832\n",
            "Epoch 146/250\n",
            "89/89 [==============================] - 80s 878ms/step - loss: 2.4858 - acc: 0.2094 - val_loss: 2.7066 - val_acc: 0.1897\n",
            "Epoch 147/250\n",
            "89/89 [==============================] - 77s 839ms/step - loss: 2.4358 - acc: 0.1980 - val_loss: 2.7005 - val_acc: 0.1897\n",
            "Epoch 148/250\n",
            "89/89 [==============================] - 78s 860ms/step - loss: 2.4869 - acc: 0.2030 - val_loss: 2.6980 - val_acc: 0.1961\n",
            "Epoch 149/250\n",
            "89/89 [==============================] - 77s 841ms/step - loss: 2.5103 - acc: 0.2037 - val_loss: 2.7082 - val_acc: 0.1875\n",
            "Epoch 150/250\n",
            "89/89 [==============================] - 77s 850ms/step - loss: 2.4925 - acc: 0.2122 - val_loss: 2.7161 - val_acc: 0.1897\n",
            "Epoch 151/250\n",
            "89/89 [==============================] - 79s 871ms/step - loss: 2.4720 - acc: 0.2058 - val_loss: 2.7158 - val_acc: 0.1875\n",
            "Epoch 152/250\n",
            "89/89 [==============================] - 76s 833ms/step - loss: 2.4932 - acc: 0.2079 - val_loss: 2.7297 - val_acc: 0.1746\n",
            "Epoch 153/250\n",
            "89/89 [==============================] - 78s 854ms/step - loss: 2.5037 - acc: 0.2186 - val_loss: 2.7503 - val_acc: 0.1789\n",
            "Epoch 154/250\n",
            "89/89 [==============================] - 77s 841ms/step - loss: 2.4413 - acc: 0.2101 - val_loss: 2.7186 - val_acc: 0.1918\n",
            "Epoch 155/250\n",
            "89/89 [==============================] - 79s 865ms/step - loss: 2.4953 - acc: 0.1980 - val_loss: 2.7187 - val_acc: 0.1875\n",
            "Epoch 156/250\n",
            "89/89 [==============================] - 77s 841ms/step - loss: 2.4687 - acc: 0.1945 - val_loss: 2.7148 - val_acc: 0.1897\n",
            "Epoch 157/250\n",
            "89/89 [==============================] - 79s 869ms/step - loss: 2.4889 - acc: 0.2172 - val_loss: 2.7443 - val_acc: 0.1832\n",
            "Epoch 158/250\n",
            "89/89 [==============================] - 77s 845ms/step - loss: 2.4636 - acc: 0.2229 - val_loss: 2.7193 - val_acc: 0.1918\n",
            "Epoch 159/250\n",
            "89/89 [==============================] - 80s 873ms/step - loss: 2.4297 - acc: 0.2233 - val_loss: 2.6996 - val_acc: 0.1897\n",
            "Epoch 160/250\n",
            "89/89 [==============================] - 77s 842ms/step - loss: 2.5059 - acc: 0.2079 - val_loss: 2.7035 - val_acc: 0.1983\n",
            "Epoch 161/250\n",
            "89/89 [==============================] - 79s 870ms/step - loss: 2.4489 - acc: 0.2314 - val_loss: 2.6993 - val_acc: 0.1853\n",
            "Epoch 162/250\n",
            "89/89 [==============================] - 77s 846ms/step - loss: 2.4834 - acc: 0.2101 - val_loss: 2.7005 - val_acc: 0.1897\n",
            "Epoch 163/250\n",
            "89/89 [==============================] - 78s 857ms/step - loss: 2.4599 - acc: 0.2193 - val_loss: 2.7075 - val_acc: 0.1853\n",
            "Epoch 164/250\n",
            "89/89 [==============================] - 76s 833ms/step - loss: 2.4672 - acc: 0.2207 - val_loss: 2.7069 - val_acc: 0.1810\n",
            "Epoch 165/250\n",
            "89/89 [==============================] - 77s 848ms/step - loss: 2.4724 - acc: 0.2165 - val_loss: 2.7061 - val_acc: 0.1832\n",
            "Epoch 166/250\n",
            "89/89 [==============================] - 77s 843ms/step - loss: 2.4831 - acc: 0.2172 - val_loss: 2.7307 - val_acc: 0.1810\n",
            "Epoch 167/250\n",
            "89/89 [==============================] - 77s 840ms/step - loss: 2.4983 - acc: 0.2072 - val_loss: 2.7033 - val_acc: 0.1961\n",
            "Epoch 168/250\n",
            "89/89 [==============================] - 79s 865ms/step - loss: 2.4246 - acc: 0.2314 - val_loss: 2.7102 - val_acc: 0.1918\n",
            "Epoch 169/250\n",
            "89/89 [==============================] - 77s 844ms/step - loss: 2.4824 - acc: 0.2072 - val_loss: 2.6934 - val_acc: 0.1897\n",
            "Epoch 170/250\n",
            "89/89 [==============================] - 79s 870ms/step - loss: 2.4893 - acc: 0.2037 - val_loss: 2.6993 - val_acc: 0.1832\n",
            "Epoch 171/250\n",
            "89/89 [==============================] - 77s 841ms/step - loss: 2.4294 - acc: 0.2030 - val_loss: 2.7260 - val_acc: 0.1853\n",
            "Epoch 172/250\n",
            "89/89 [==============================] - 79s 869ms/step - loss: 2.3806 - acc: 0.2243 - val_loss: 2.7183 - val_acc: 0.1897\n",
            "Epoch 173/250\n",
            "89/89 [==============================] - 76s 834ms/step - loss: 2.4375 - acc: 0.2143 - val_loss: 2.7223 - val_acc: 0.1918\n",
            "Epoch 174/250\n",
            "89/89 [==============================] - 79s 864ms/step - loss: 2.4809 - acc: 0.2179 - val_loss: 2.7060 - val_acc: 0.1918\n",
            "Epoch 175/250\n",
            "89/89 [==============================] - 76s 834ms/step - loss: 2.4525 - acc: 0.2121 - val_loss: 2.7089 - val_acc: 0.1832\n",
            "Epoch 176/250\n",
            "89/89 [==============================] - 79s 864ms/step - loss: 2.4657 - acc: 0.2001 - val_loss: 2.7231 - val_acc: 0.1897\n",
            "Epoch 177/250\n",
            "89/89 [==============================] - 77s 865ms/step - loss: 2.4164 - acc: 0.2314 - val_loss: 2.7056 - val_acc: 0.1897\n",
            "Epoch 178/250\n",
            "89/89 [==============================] - 79s 863ms/step - loss: 2.4722 - acc: 0.2158 - val_loss: 2.7153 - val_acc: 0.1832\n",
            "Epoch 179/250\n",
            "89/89 [==============================] - 77s 844ms/step - loss: 2.4561 - acc: 0.1959 - val_loss: 2.7271 - val_acc: 0.1853\n",
            "Epoch 180/250\n",
            "89/89 [==============================] - 77s 845ms/step - loss: 2.4598 - acc: 0.2087 - val_loss: 2.7271 - val_acc: 0.1961\n",
            "Epoch 181/250\n",
            "89/89 [==============================] - 80s 878ms/step - loss: 2.4533 - acc: 0.2023 - val_loss: 2.7474 - val_acc: 0.1875\n",
            "Epoch 182/250\n",
            "89/89 [==============================] - 77s 847ms/step - loss: 2.4873 - acc: 0.2079 - val_loss: 2.7183 - val_acc: 0.1897\n",
            "Epoch 183/250\n",
            "89/89 [==============================] - 79s 868ms/step - loss: 2.3899 - acc: 0.2285 - val_loss: 2.7273 - val_acc: 0.1918\n",
            "Epoch 184/250\n",
            "89/89 [==============================] - 77s 842ms/step - loss: 2.4429 - acc: 0.2236 - val_loss: 2.7065 - val_acc: 0.1918\n",
            "Epoch 185/250\n",
            "89/89 [==============================] - 79s 869ms/step - loss: 2.4526 - acc: 0.2143 - val_loss: 2.7127 - val_acc: 0.2004\n",
            "Epoch 186/250\n",
            "89/89 [==============================] - 76s 837ms/step - loss: 2.4172 - acc: 0.2058 - val_loss: 2.7100 - val_acc: 0.1940\n",
            "Epoch 187/250\n",
            "89/89 [==============================] - 79s 864ms/step - loss: 2.4503 - acc: 0.2221 - val_loss: 2.7360 - val_acc: 0.1875\n",
            "Epoch 188/250\n",
            "89/89 [==============================] - 77s 845ms/step - loss: 2.4831 - acc: 0.2065 - val_loss: 2.6783 - val_acc: 0.1940\n",
            "Epoch 189/250\n",
            "89/89 [==============================] - 79s 871ms/step - loss: 2.3792 - acc: 0.2321 - val_loss: 2.7028 - val_acc: 0.1918\n",
            "Epoch 190/250\n",
            "89/89 [==============================] - 77s 848ms/step - loss: 2.4168 - acc: 0.2207 - val_loss: 2.6847 - val_acc: 0.2004\n",
            "Epoch 191/250\n",
            "89/89 [==============================] - 77s 845ms/step - loss: 2.4428 - acc: 0.2072 - val_loss: 2.6873 - val_acc: 0.2004\n",
            "Epoch 192/250\n",
            "89/89 [==============================] - 78s 862ms/step - loss: 2.4476 - acc: 0.2165 - val_loss: 2.6806 - val_acc: 0.2047\n",
            "Epoch 193/250\n",
            "89/89 [==============================] - 77s 841ms/step - loss: 2.4705 - acc: 0.2051 - val_loss: 2.7360 - val_acc: 0.1832\n",
            "Epoch 194/250\n",
            "89/89 [==============================] - 79s 871ms/step - loss: 2.4633 - acc: 0.2016 - val_loss: 2.7363 - val_acc: 0.1940\n",
            "Epoch 195/250\n",
            "89/89 [==============================] - 77s 849ms/step - loss: 2.3972 - acc: 0.2363 - val_loss: 2.7057 - val_acc: 0.1940\n",
            "Epoch 196/250\n",
            "89/89 [==============================] - 78s 862ms/step - loss: 2.4614 - acc: 0.2136 - val_loss: 2.7065 - val_acc: 0.1897\n",
            "Epoch 197/250\n",
            "89/89 [==============================] - 76s 833ms/step - loss: 2.4285 - acc: 0.2243 - val_loss: 2.7047 - val_acc: 0.2004\n",
            "Epoch 198/250\n",
            "89/89 [==============================] - 79s 870ms/step - loss: 2.4501 - acc: 0.2200 - val_loss: 2.7027 - val_acc: 0.1918\n",
            "Epoch 199/250\n",
            "89/89 [==============================] - 76s 832ms/step - loss: 2.4464 - acc: 0.2058 - val_loss: 2.7226 - val_acc: 0.1853\n",
            "Epoch 200/250\n",
            "89/89 [==============================] - 77s 839ms/step - loss: 2.4471 - acc: 0.2143 - val_loss: 2.7350 - val_acc: 0.1940\n",
            "Epoch 201/250\n",
            "89/89 [==============================] - 79s 871ms/step - loss: 2.3966 - acc: 0.2243 - val_loss: 2.7201 - val_acc: 0.1918\n",
            "Epoch 202/250\n",
            "89/89 [==============================] - 77s 842ms/step - loss: 2.4087 - acc: 0.2150 - val_loss: 2.7346 - val_acc: 0.1897\n",
            "Epoch 203/250\n",
            "89/89 [==============================] - 79s 866ms/step - loss: 2.4698 - acc: 0.1994 - val_loss: 2.7277 - val_acc: 0.1853\n",
            "Epoch 204/250\n",
            "89/89 [==============================] - 77s 837ms/step - loss: 2.4406 - acc: 0.2101 - val_loss: 2.7142 - val_acc: 0.2026\n",
            "Epoch 205/250\n",
            "89/89 [==============================] - 79s 865ms/step - loss: 2.5080 - acc: 0.2016 - val_loss: 2.7237 - val_acc: 0.1918\n",
            "Epoch 206/250\n",
            "89/89 [==============================] - 76s 837ms/step - loss: 2.4423 - acc: 0.2307 - val_loss: 2.7329 - val_acc: 0.1961\n",
            "Epoch 207/250\n",
            "89/89 [==============================] - 76s 838ms/step - loss: 2.4314 - acc: 0.2193 - val_loss: 2.7318 - val_acc: 0.1897\n",
            "Epoch 208/250\n",
            "89/89 [==============================] - 78s 858ms/step - loss: 2.4275 - acc: 0.2200 - val_loss: 2.7221 - val_acc: 0.1875\n",
            "Epoch 209/250\n",
            "89/89 [==============================] - 76s 834ms/step - loss: 2.4423 - acc: 0.2094 - val_loss: 2.7201 - val_acc: 0.1875\n",
            "Epoch 210/250\n",
            "89/89 [==============================] - 78s 858ms/step - loss: 2.4397 - acc: 0.2193 - val_loss: 2.7031 - val_acc: 0.1918\n",
            "Epoch 211/250\n",
            "89/89 [==============================] - 76s 834ms/step - loss: 2.3819 - acc: 0.2399 - val_loss: 2.7172 - val_acc: 0.1897\n",
            "Epoch 212/250\n",
            "89/89 [==============================] - 78s 859ms/step - loss: 2.4539 - acc: 0.2236 - val_loss: 2.7254 - val_acc: 0.1961\n",
            "Epoch 213/250\n",
            "89/89 [==============================] - 77s 841ms/step - loss: 2.4291 - acc: 0.2271 - val_loss: 2.7145 - val_acc: 0.1897\n",
            "Epoch 214/250\n",
            "89/89 [==============================] - 77s 843ms/step - loss: 2.4160 - acc: 0.2229 - val_loss: 2.7203 - val_acc: 0.1897\n",
            "Epoch 215/250\n",
            "89/89 [==============================] - 79s 868ms/step - loss: 2.4012 - acc: 0.2229 - val_loss: 2.7146 - val_acc: 0.1940\n",
            "Epoch 216/250\n",
            "89/89 [==============================] - 77s 839ms/step - loss: 2.3747 - acc: 0.2250 - val_loss: 2.7114 - val_acc: 0.1918\n",
            "Epoch 217/250\n",
            "89/89 [==============================] - 79s 864ms/step - loss: 2.4523 - acc: 0.2179 - val_loss: 2.7204 - val_acc: 0.1918\n",
            "Epoch 218/250\n",
            "89/89 [==============================] - 76s 836ms/step - loss: 2.4252 - acc: 0.2016 - val_loss: 2.7097 - val_acc: 0.1897\n",
            "Epoch 219/250\n",
            "89/89 [==============================] - 79s 865ms/step - loss: 2.4175 - acc: 0.2165 - val_loss: 2.7479 - val_acc: 0.1853\n",
            "Epoch 220/250\n",
            "89/89 [==============================] - 76s 838ms/step - loss: 2.4708 - acc: 0.2065 - val_loss: 2.7260 - val_acc: 0.1897\n",
            "Epoch 221/250\n",
            "89/89 [==============================] - 76s 837ms/step - loss: 2.4068 - acc: 0.2342 - val_loss: 2.7342 - val_acc: 0.1853\n",
            "Epoch 222/250\n",
            "89/89 [==============================] - 79s 869ms/step - loss: 2.4762 - acc: 0.2044 - val_loss: 2.7229 - val_acc: 0.1897\n",
            "Epoch 223/250\n",
            "89/89 [==============================] - 77s 842ms/step - loss: 2.3995 - acc: 0.2200 - val_loss: 2.7351 - val_acc: 0.1961\n",
            "Epoch 224/250\n",
            "89/89 [==============================] - 79s 872ms/step - loss: 2.4399 - acc: 0.2101 - val_loss: 2.7374 - val_acc: 0.1853\n",
            "Epoch 225/250\n",
            "89/89 [==============================] - 77s 842ms/step - loss: 2.4089 - acc: 0.2150 - val_loss: 2.7592 - val_acc: 0.1918\n",
            "Epoch 226/250\n",
            "89/89 [==============================] - 77s 844ms/step - loss: 2.4386 - acc: 0.2108 - val_loss: 2.7428 - val_acc: 0.1918\n",
            "Epoch 227/250\n",
            "89/89 [==============================] - 79s 854ms/step - loss: 2.3513 - acc: 0.2441 - val_loss: 2.7623 - val_acc: 0.1918\n",
            "Epoch 228/250\n",
            "89/89 [==============================] - 76s 839ms/step - loss: 2.4516 - acc: 0.2150 - val_loss: 2.7770 - val_acc: 0.1875\n",
            "Epoch 229/250\n",
            "89/89 [==============================] - 79s 869ms/step - loss: 2.4139 - acc: 0.2200 - val_loss: 2.7647 - val_acc: 0.1897\n",
            "Epoch 230/250\n",
            "89/89 [==============================] - 77s 843ms/step - loss: 2.4015 - acc: 0.2158 - val_loss: 2.7522 - val_acc: 0.1897\n",
            "Epoch 231/250\n",
            "89/89 [==============================] - 78s 858ms/step - loss: 2.4180 - acc: 0.2349 - val_loss: 2.7631 - val_acc: 0.1918\n",
            "Epoch 232/250\n",
            "89/89 [==============================] - 76s 832ms/step - loss: 2.4352 - acc: 0.2136 - val_loss: 2.7354 - val_acc: 0.1961\n",
            "Epoch 233/250\n",
            "89/89 [==============================] - 76s 834ms/step - loss: 2.4240 - acc: 0.2129 - val_loss: 2.7305 - val_acc: 0.1897\n",
            "Epoch 234/250\n",
            "89/89 [==============================] - 78s 861ms/step - loss: 2.4104 - acc: 0.2250 - val_loss: 2.7453 - val_acc: 0.1875\n",
            "Epoch 235/250\n",
            "89/89 [==============================] - 77s 839ms/step - loss: 2.4035 - acc: 0.2129 - val_loss: 2.7057 - val_acc: 0.1940\n",
            "Epoch 236/250\n",
            "89/89 [==============================] - 79s 864ms/step - loss: 2.3512 - acc: 0.2449 - val_loss: 2.7303 - val_acc: 0.1961\n",
            "Epoch 237/250\n",
            "89/89 [==============================] - 76s 836ms/step - loss: 2.4420 - acc: 0.2115 - val_loss: 2.7501 - val_acc: 0.1918\n",
            "Epoch 238/250\n",
            "89/89 [==============================] - 76s 835ms/step - loss: 2.3803 - acc: 0.2044 - val_loss: 2.7508 - val_acc: 0.1875\n",
            "Epoch 239/250\n",
            "89/89 [==============================] - 79s 869ms/step - loss: 2.4314 - acc: 0.2136 - val_loss: 2.7238 - val_acc: 0.1983\n",
            "Epoch 240/250\n",
            "89/89 [==============================] - 76s 836ms/step - loss: 2.4243 - acc: 0.2200 - val_loss: 2.7575 - val_acc: 0.1853\n",
            "Epoch 241/250\n",
            "89/89 [==============================] - 79s 870ms/step - loss: 2.3982 - acc: 0.2292 - val_loss: 2.7345 - val_acc: 0.1853\n",
            "Epoch 242/250\n",
            "89/89 [==============================] - 76s 835ms/step - loss: 2.3631 - acc: 0.2484 - val_loss: 2.7309 - val_acc: 0.1897\n",
            "Epoch 243/250\n",
            "89/89 [==============================] - 76s 834ms/step - loss: 2.3992 - acc: 0.2257 - val_loss: 2.6979 - val_acc: 0.1897\n",
            "Epoch 244/250\n",
            "89/89 [==============================] - 79s 864ms/step - loss: 2.3692 - acc: 0.2456 - val_loss: 2.7339 - val_acc: 0.1875\n",
            "Epoch 245/250\n",
            "89/89 [==============================] - 76s 835ms/step - loss: 2.4821 - acc: 0.2108 - val_loss: 2.7176 - val_acc: 0.1940\n",
            "Epoch 246/250\n",
            "89/89 [==============================] - 80s 874ms/step - loss: 2.3843 - acc: 0.2434 - val_loss: 2.7210 - val_acc: 0.1961\n",
            "Epoch 247/250\n",
            "89/89 [==============================] - 78s 853ms/step - loss: 2.3970 - acc: 0.2257 - val_loss: 2.7374 - val_acc: 0.1961\n",
            "Epoch 248/250\n",
            "89/89 [==============================] - 77s 844ms/step - loss: 2.3859 - acc: 0.2385 - val_loss: 2.7316 - val_acc: 0.1810\n",
            "Epoch 249/250\n",
            "89/89 [==============================] - 79s 870ms/step - loss: 2.4358 - acc: 0.2378 - val_loss: 2.7749 - val_acc: 0.1810\n",
            "Epoch 250/250\n",
            "89/89 [==============================] - 77s 844ms/step - loss: 2.3981 - acc: 0.2250 - val_loss: 2.7462 - val_acc: 0.1789\n"
          ]
        }
      ]
    },
    {
      "cell_type": "code",
      "source": [
        "acc = history.history['acc']\n",
        "val_acc = history.history['val_acc']\n",
        "loss = history.history['loss']\n",
        "val_loss = history.history['val_loss']\n",
        "\n",
        "epochs_x = range(len(acc))\n",
        "\n",
        "plt.plot(epochs_x, acc, 'mo', label='Training acc')\n",
        "plt.plot(epochs_x, val_acc, 'k', label='Validation acc')\n",
        "plt.title('Training and validation accuracy')\n",
        "plt.legend()\n",
        "\n",
        "plt.figure()\n",
        "\n",
        "plt.plot(epochs_x, loss, 'mo', label='Training loss')\n",
        "plt.plot(epochs_x, val_loss, 'k', label='Validation loss')\n",
        "plt.title('Training and validation loss')\n",
        "plt.legend()\n",
        "\n",
        "plt.show()"
      ],
      "metadata": {
        "id": "kwylTJpTP5XI",
        "colab": {
          "base_uri": "https://localhost:8080/",
          "height": 545
        },
        "outputId": "982ba5b8-c4e8-4629-8315-86c9a115911d"
      },
      "execution_count": 13,
      "outputs": [
        {
          "output_type": "display_data",
          "data": {
            "text/plain": [
              "<Figure size 432x288 with 1 Axes>"
            ],
            "image/png": "[encoded data removed]"
          },
          "metadata": {
            "needs_background": "light"
          }
        },
        {
          "output_type": "display_data",
          "data": {
            "text/plain": [
              "<Figure size 432x288 with 1 Axes>"
            ],
            "image/png": "[encoded data removed]"
          },
          "metadata": {
            "needs_background": "light"
          }
        }
      ]
    },
    {
      "cell_type": "markdown",
      "source": [
        "#Download the model"
      ],
      "metadata": {
        "id": "lD-vKaoHQAFd"
      }
    },
    {
      "cell_type": "code",
      "source": [
        "os.makedirs('/content/drive/My Drive/cut_panoramic/Model', exist_ok=True)\n",
        "model.save('/content/drive/My Drive/cut_panoramic/Model/2.2_รอบที่2_Flimpano_Female125_250.h5')"
      ],
      "metadata": {
        "id": "74dL7-HLP_Sh"
      },
      "execution_count": 14,
      "outputs": []
    },
    {
      "cell_type": "code",
      "source": [
        "from google.colab import files\n",
        "files.download('/content/drive/My Drive/cut_panoramic/Model/2.2_รอบที่2_Flimpano_Female125_250.h5')"
      ],
      "metadata": {
        "id": "qcPW-brHQDpc",
        "colab": {
          "base_uri": "https://localhost:8080/",
          "height": 34
        },
        "outputId": "68f60aaa-9d25-4440-9b30-3c1178194cde"
      },
      "execution_count": 15,
      "outputs": [
        {
          "output_type": "display_data",
          "data": {
            "text/plain": [
              "<IPython.core.display.Javascript object>"
            ],
            "application/javascript": [
              "\n",
              "    async function download(id, filename, size) {\n",
              "      if (!google.colab.kernel.accessAllowed) {\n",
              "        return;\n",
              "      }\n",
              "      const div = document.createElement('div');\n",
              "      const label = document.createElement('label');\n",
              "      label.textContent = `Downloading \"${filename}\": `;\n",
              "      div.appendChild(label);\n",
              "      const progress = document.createElement('progress');\n",
              "      progress.max = size;\n",
              "      div.appendChild(progress);\n",
              "      document.body.appendChild(div);\n",
              "\n",
              "      const buffers = [];\n",
              "      let downloaded = 0;\n",
              "\n",
              "      const channel = await google.colab.kernel.comms.open(id);\n",
              "      // Send a message to notify the kernel that we're ready.\n",
              "      channel.send({})\n",
              "\n",
              "      for await (const message of channel.messages) {\n",
              "        // Send a message to notify the kernel that we're ready.\n",
              "        channel.send({})\n",
              "        if (message.buffers) {\n",
              "          for (const buffer of message.buffers) {\n",
              "            buffers.push(buffer);\n",
              "            downloaded += buffer.byteLength;\n",
              "            progress.value = downloaded;\n",
              "          }\n",
              "        }\n",
              "      }\n",
              "      const blob = new Blob(buffers, {type: 'application/binary'});\n",
              "      const a = document.createElement('a');\n",
              "      a.href = window.URL.createObjectURL(blob);\n",
              "      a.download = filename;\n",
              "      div.appendChild(a);\n",
              "      a.click();\n",
              "      div.remove();\n",
              "    }\n",
              "  "
            ]
          },
          "metadata": {}
        },
        {
          "output_type": "display_data",
          "data": {
            "text/plain": [
              "<IPython.core.display.Javascript object>"
            ],
            "application/javascript": [
              "download(\"download_28baaa0a-3256-40f8-b15a-cacf670e36df\", \"2.2_\\u0e23\\u0e2d\\u0e1a\\u0e17\\u0e35\\u0e482_Flimpano_Female125_250.h5\", 16779000)"
            ]
          },
          "metadata": {}
        }
      ]
    }
  ]
}